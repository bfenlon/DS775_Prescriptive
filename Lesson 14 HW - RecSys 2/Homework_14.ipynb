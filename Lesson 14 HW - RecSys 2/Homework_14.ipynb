{
 "cells": [
  {
   "cell_type": "code",
   "execution_count": 1,
   "metadata": {
    "code_folding": [
     0
    ]
   },
   "outputs": [],
   "source": [
    "# EXECUTE FIRST\n",
    "\n",
    "# computational imports\n",
    "import numpy as np\n",
    "import pandas as pd\n",
    "pd.set_option('display.html.use_mathjax', False)\n",
    "from sklearn.model_selection import train_test_split\n",
    "from sklearn.metrics import mean_squared_error\n",
    "from sklearn.metrics.pairwise import cosine_similarity\n",
    "from surprise import Reader, Dataset, KNNBasic, NormalPredictor,BaselineOnly,KNNWithMeans,KNNBaseline\n",
    "from surprise import SVD, SVDpp, NMF, SlopeOne, CoClustering\n",
    "from surprise.model_selection import cross_validate\n",
    "from surprise.model_selection import GridSearchCV\n",
    "from surprise import accuracy\n",
    "\n",
    "import random\n",
    "from ast import literal_eval\n",
    "from sklearn.feature_extraction.text import CountVectorizer\n",
    "\n",
    "from sklearn.feature_extraction.text import TfidfVectorizer\n",
    "from sklearn.metrics.pairwise import linear_kernel\n",
    "\n",
    "# plotting imports\n",
    "import matplotlib.pyplot as plt\n",
    "import seaborn as sns\n",
    "sns.set_style(\"darkgrid\")\n",
    "matplotlib.style.use('ggplot')\n",
    "\n",
    "# display imports\n",
    "from IPython.display import display, IFrame\n",
    "from IPython.core.display import HTML"
   ]
  },
  {
   "cell_type": "markdown",
   "metadata": {},
   "source": [
    "<font size=18>Lesson 14 Homework: Recommender Systems 2</font>"
   ]
  },
  {
   "cell_type": "markdown",
   "metadata": {},
   "source": [
    "# **Question 1** <font color=\"magenta\">(2 points)</font>\n",
    "\n",
    "Which of the following recommenders is based on the user/item ratings? (Check all that apply.)\n",
    "\n",
    "* SVD item-based collaborative filter\n",
    "* KNN user-based collaborative filter\n",
    "* Content recommender\n",
    "* Knowledge-based recommender\n",
    "* Chart\n",
    "\n",
    "# **Question 2** <font color=\"magenta\">(2 points)</font>\n",
    "\n",
    "Which Surprise algorithm reduces the size of the problem space through matrix factorization?\n",
    "\n",
    "* NormalPredictor\n",
    "* KNNBasic\n",
    "* KNNWithMeans\n",
    "* BaselineOnly\n",
    "* SVD\n",
    "* KNNWithZScores"
   ]
  },
  {
   "cell_type": "markdown",
   "metadata": {},
   "source": [
    "# Data Exploration\n",
    "(Note: This section is not included in the quiz and is ungraded.)"
   ]
  },
  {
   "cell_type": "markdown",
   "metadata": {},
   "source": [
    "The file **restaurant_ratings.csv** (found in the presentation download for this lesson) contains user ratings for various New York City restaurants. You can read a little more about the data at <a href=\"https://www.kaggle.com/popoandrew/restaurant-week-2018-in-nyc?select=restaurant_week_2018_final.csv\">Kaggle</a>. We have modified the data to generate user ratings that match the star columns in this file.\n",
    "\n",
    "Do the following:\n",
    "\n",
    "* read the data into a variable called \"ratings\"\n",
    "* display the first 5 lines of the data (get familiar with the data frame)\n",
    "* find the minimum restaurant rating\n",
    "* find the maximum restaurant rating\n",
    "* adjust the rating scale by shifting up 1 if 0 is included"
   ]
  },
  {
   "cell_type": "code",
   "execution_count": 2,
   "metadata": {},
   "outputs": [
    {
     "data": {
      "text/html": [
       "<div>\n",
       "<style scoped>\n",
       "    .dataframe tbody tr th:only-of-type {\n",
       "        vertical-align: middle;\n",
       "    }\n",
       "\n",
       "    .dataframe tbody tr th {\n",
       "        vertical-align: top;\n",
       "    }\n",
       "\n",
       "    .dataframe thead th {\n",
       "        text-align: right;\n",
       "    }\n",
       "</style>\n",
       "<table border=\"1\" class=\"dataframe tex2jax_ignore\">\n",
       "  <thead>\n",
       "    <tr style=\"text-align: right;\">\n",
       "      <th></th>\n",
       "      <th>userID</th>\n",
       "      <th>restID</th>\n",
       "      <th>rating</th>\n",
       "    </tr>\n",
       "  </thead>\n",
       "  <tbody>\n",
       "    <tr>\n",
       "      <th>0</th>\n",
       "      <td>1235</td>\n",
       "      <td>0</td>\n",
       "      <td>1</td>\n",
       "    </tr>\n",
       "    <tr>\n",
       "      <th>1</th>\n",
       "      <td>1466</td>\n",
       "      <td>0</td>\n",
       "      <td>1</td>\n",
       "    </tr>\n",
       "    <tr>\n",
       "      <th>2</th>\n",
       "      <td>1016</td>\n",
       "      <td>0</td>\n",
       "      <td>2</td>\n",
       "    </tr>\n",
       "    <tr>\n",
       "      <th>3</th>\n",
       "      <td>1353</td>\n",
       "      <td>0</td>\n",
       "      <td>2</td>\n",
       "    </tr>\n",
       "    <tr>\n",
       "      <th>4</th>\n",
       "      <td>1172</td>\n",
       "      <td>0</td>\n",
       "      <td>2</td>\n",
       "    </tr>\n",
       "  </tbody>\n",
       "</table>\n",
       "</div>"
      ],
      "text/plain": [
       "   userID  restID  rating\n",
       "0    1235       0       1\n",
       "1    1466       0       1\n",
       "2    1016       0       2\n",
       "3    1353       0       2\n",
       "4    1172       0       2"
      ]
     },
     "execution_count": 2,
     "metadata": {},
     "output_type": "execute_result"
    }
   ],
   "source": [
    "ratings = pd.read_csv('data/restaurant_ratings.csv')\n",
    "ratings.head(5)"
   ]
  },
  {
   "cell_type": "markdown",
   "metadata": {},
   "source": [
    "# **Question 3** <font color=\"magenta\">(2 points)</font>\n",
    "\n",
    "What is the minimum restaurant rating?\n",
    "\n"
   ]
  },
  {
   "cell_type": "code",
   "execution_count": 3,
   "metadata": {},
   "outputs": [
    {
     "data": {
      "text/plain": [
       "1"
      ]
     },
     "execution_count": 3,
     "metadata": {},
     "output_type": "execute_result"
    }
   ],
   "source": [
    "np.min(ratings.rating)"
   ]
  },
  {
   "cell_type": "markdown",
   "metadata": {},
   "source": [
    "# **Question 4** <font color=\"magenta\">(2 points)</font>\n",
    "\n",
    "What is the maximum restaurant rating?\n",
    "\n"
   ]
  },
  {
   "cell_type": "code",
   "execution_count": 4,
   "metadata": {},
   "outputs": [
    {
     "data": {
      "text/plain": [
       "5"
      ]
     },
     "execution_count": 4,
     "metadata": {},
     "output_type": "execute_result"
    }
   ],
   "source": [
    "np.max(ratings.rating)"
   ]
  },
  {
   "cell_type": "markdown",
   "metadata": {},
   "source": [
    "# **Question 5** <font color=\"magenta\">(2 points)</font>\n",
    "\n",
    "What is the mean restaurant rating for all restaurants (rounded to 2 significant digits)? \n",
    "\n"
   ]
  },
  {
   "cell_type": "code",
   "execution_count": 5,
   "metadata": {},
   "outputs": [
    {
     "data": {
      "text/plain": [
       "4.5"
      ]
     },
     "execution_count": 5,
     "metadata": {},
     "output_type": "execute_result"
    }
   ],
   "source": [
    "round(np.mean(ratings.rating), 2)"
   ]
  },
  {
   "cell_type": "markdown",
   "metadata": {},
   "source": [
    "# **Question 6** <font color=\"magenta\">(2 points)</font>\n",
    "\n",
    "What is the median of the restaurant rating scale? \n",
    "\n"
   ]
  },
  {
   "cell_type": "code",
   "execution_count": 6,
   "metadata": {},
   "outputs": [
    {
     "data": {
      "text/plain": [
       "3.0"
      ]
     },
     "execution_count": 6,
     "metadata": {},
     "output_type": "execute_result"
    }
   ],
   "source": [
    "np.median(np.arange(np.min(ratings.rating), (np.max(ratings.rating) + 1)))"
   ]
  },
  {
   "cell_type": "markdown",
   "metadata": {},
   "source": [
    "# Train/Test Split and Score Setup\n",
    "(Note: this section is not included in the quiz and is not graded.)\n",
    "\n",
    "We've provided code to you below for a scoring function and to split the data into train and test sets. Use the train and test set generated from this code to answer the next questions. You must not change this code if you want to get the correct answers."
   ]
  },
  {
   "cell_type": "code",
   "execution_count": 7,
   "metadata": {},
   "outputs": [],
   "source": [
    "#This section not included in quiz/solutions.\n",
    "\n",
    "#Function to compute the RMSE score obtained on the testing set by a model\n",
    "def score(cf_model, X_test, *args):\n",
    "    \n",
    "    #Construct a list of user-item tuples from the testing dataset\n",
    "    id_pairs = zip(X_test[X_test.columns[0]], X_test[X_test.columns[1]])\n",
    "    \n",
    "    #Predict the rating for every user-item tuple\n",
    "    y_pred = np.array([cf_model(user, item, *args) for (user, item) in id_pairs])\n",
    "    \n",
    "    #Extract the actual ratings given by the users in the test data\n",
    "    y_true = np.array(X_test[X_test.columns[2]])\n",
    "    \n",
    "    #Return the final RMSE score\n",
    "    return mean_squared_error(y_true, y_pred, squared=False)\n",
    "\n",
    "#Assign X as the original ratings dataframe and y as the user_id column of ratings.\n",
    "X = ratings.copy()\n",
    "y = ratings['userID']\n",
    "\n",
    "#Split into training and test datasets, stratified along user_id\n",
    "X_train, X_test, y_train, y_test = train_test_split(X, y, stratify = y, test_size = 0.20, random_state=14)"
   ]
  },
  {
   "cell_type": "markdown",
   "metadata": {},
   "source": [
    "# **Question 7** <font color=\"magenta\">(2 points)</font>\n",
    "\n",
    "Compute a baseline model that always returns the median of the rating scale (rounded to 2 significant digits). What is the RMSE on this model?\n"
   ]
  },
  {
   "cell_type": "code",
   "execution_count": 8,
   "metadata": {},
   "outputs": [
    {
     "data": {
      "text/plain": [
       "1.7121523055036252"
      ]
     },
     "execution_count": 8,
     "metadata": {},
     "output_type": "execute_result"
    }
   ],
   "source": [
    "def baseline(user_id, movie_id, scale_median, *args):\n",
    "    '''\n",
    "    Parameters:\n",
    "    user_id, movie_id, *args: None of which are used, but are included for consistency\n",
    "    scale_median: the median of the rating scale\n",
    "\n",
    "    Returns:\n",
    "    the median of the rating scale\n",
    "    '''\n",
    "    return round(scale_median, 2)\n",
    "\n",
    "score(baseline, X_test, 3)"
   ]
  },
  {
   "cell_type": "markdown",
   "metadata": {},
   "source": [
    "# **Question 8** Build a Weighted Mean User-Based Filter (manually graded) <font color=\"magenta\">(4 points)</font>\n",
    "\n",
    "From data in the file **restaurant_rating.csv**, build a ratings matrix from the data frame of users, restaurants, and ratings and build a user-based collaborative filtering model that weights mean rank using cosine similarity among users."
   ]
  },
  {
   "cell_type": "code",
   "execution_count": 9,
   "metadata": {},
   "outputs": [],
   "source": [
    "r_matrix = X_train.pivot_table(values='rating', index='userID', columns='restID')\n",
    "r_matrix_dummy = r_matrix.copy().fillna(0)\n",
    "cosine_sim = cosine_similarity(r_matrix_dummy, r_matrix_dummy)\n",
    "cosine_sim = pd.DataFrame(cosine_sim, index=r_matrix.index, columns=r_matrix.index)\n",
    "\n",
    "#User Based Collaborative Filter using Weighted Mean Ratings\n",
    "def cf_wmean(user_id, rest_id, ratings_matrix, c_sim_matrix, median_rating):\n",
    "\n",
    "\t#Check if restaurant ID exists in ratings matrix\n",
    "\tif rest_id in ratings_matrix:\n",
    "\t\t#Get the similarity scores for the user in question with every other user\n",
    "\t\tsim_scores = c_sim_matrix[user_id]\n",
    "\n",
    "\t\t#Get the user ratings for the restaurant in question\n",
    "\t\ti_ratings = ratings_matrix[rest_id]\n",
    "\n",
    "\t\t#Extract the indices containing NaN in the i_ratings series\n",
    "\t\tidx = i_ratings[i_ratings.isnull()].index\n",
    "\n",
    "\t\t#Drop the NaN values from the i_ratings Series\n",
    "\t\ti_ratings = i_ratings.dropna()\n",
    "\n",
    "\t\t#Drop the corresponding cosine scores from the sim_scores series\n",
    "\t\tsim_scores = sim_scores.drop(idx)\n",
    "\n",
    "\t\t#Compute the final weighted mean\n",
    "\t\tif sim_scores.sum()>0:\n",
    "\t\t\twmean_rating = np.dot(sim_scores, i_ratings)/ sim_scores.sum()\n",
    "\t\telse:  # user had zero cosine similarity with other users\n",
    "\t\t\twmean_rating = median_rating\n",
    "\n",
    "\telse:\n",
    "\t\t#Default to the median in the absence of any information\n",
    "\t\twmean_rating = median_rating\n",
    "\n",
    "\treturn wmean_rating"
   ]
  },
  {
   "cell_type": "markdown",
   "metadata": {},
   "source": [
    "# **Question 9** <font color=\"magenta\">2 points</font>\n",
    "\n",
    "What is the RMSE (rounded to 2 significant digits) of the Weighted Mean algorithm? \n",
    "\n",
    "\n",
    "\n",
    "\n"
   ]
  },
  {
   "cell_type": "code",
   "execution_count": 24,
   "metadata": {
    "scrolled": true
   },
   "outputs": [
    {
     "data": {
      "text/plain": [
       "0.83"
      ]
     },
     "execution_count": 24,
     "metadata": {},
     "output_type": "execute_result"
    }
   ],
   "source": [
    "round(score(cf_wmean, X_test, r_matrix, cosine_sim, 3), 2)"
   ]
  },
  {
   "cell_type": "markdown",
   "metadata": {},
   "source": [
    "# **Question 10** User-Based SVD - Hyperparameter tuning (Manually Graded) <font color=\"magenta\">(4 points)</font>\n",
    "From data in the file **restaurant_ratings.csv**, use the *surprise* library in Python to build an <a href=\"https://surprise.readthedocs.io/en/stable/matrix_factorization.html#surprise.prediction_algorithms.matrix_factorization.SVD\">SVD</a> user-based collaborative filtering model for the restaurant ratings. Use gridsearch to tune the hyperparameters, reserving 15% of the data to get an unbiased estimate of the accuracy. For the grid, use the following options:\n",
    "\n",
    "* 'n_epochs': [15, 20, 25] (The number of iterations of the Stochastic Gradient Descent minimization procedure.)\n",
    "* 'lr_all': [.005, .025, .001] (The learning rate.)\n",
    "* 'reg_all': [.01, .02, .05] (The penalty for complex models.)\n",
    "\n",
    "Additionally, use the following:\n",
    "\n",
    "* 3 folds for cross validation\n",
    "* a seed of 14\n",
    "\n",
    "\n",
    "Use the example from the lesson and be sure to set the seed in the appropriate place. **Note:** this code will take several minutes to run.\n",
    "\n",
    "\n"
   ]
  },
  {
   "cell_type": "code",
   "execution_count": 11,
   "metadata": {},
   "outputs": [
    {
     "data": {
      "text/plain": [
       "<surprise.prediction_algorithms.matrix_factorization.SVD at 0x7fda686cac70>"
      ]
     },
     "execution_count": 11,
     "metadata": {},
     "output_type": "execute_result"
    }
   ],
   "source": [
    "our_seed = 14\n",
    "\n",
    "#Define a Reader object\n",
    "#The Reader object helps in parsing the file or dataframe containing ratings\n",
    "reader = Reader(rating_scale=(1,5)) # defaults to (0,5)\n",
    "\n",
    "\n",
    "#Create the dataset to be used for building the filter\n",
    "data = Dataset.load_from_df(ratings, reader)\n",
    "\n",
    "#get the raw ratings\n",
    "raw_ratings = data.raw_ratings\n",
    "\n",
    "# shuffle ratings\n",
    "random.seed(our_seed)\n",
    "np.random.seed(our_seed)\n",
    "random.shuffle(raw_ratings)\n",
    "\n",
    "#A = 85% of the data, B = 15% of the data\n",
    "threshold = int(.85 * len(raw_ratings))\n",
    "A_raw_ratings = raw_ratings[:threshold]\n",
    "B_raw_ratings = raw_ratings[threshold:]\n",
    "\n",
    "data.raw_ratings = A_raw_ratings  # data is now the set A\n",
    "\n",
    "# Grid search\n",
    "param_grid = {'n_epochs': [15, 20, 25],\n",
    "\t\t\t  'lr_all': [.005, .025, .001],\n",
    "\t\t\t  'reg_all': [.01, .02, .05]}\n",
    "grid_search = GridSearchCV(SVD, param_grid, measures=['rmse'], cv=3)\n",
    "grid_search.fit(data)\n",
    "\n",
    "svd_algo = grid_search.best_estimator['rmse']\n",
    "\n",
    "\n",
    "# retrain on the whole set A\n",
    "trainset = data.build_full_trainset()\n",
    "svd_algo.fit(trainset)"
   ]
  },
  {
   "cell_type": "markdown",
   "metadata": {},
   "source": [
    "# **Question 11** <font color=\"magenta\">(2 points)</font>\n",
    "\n",
    "What is the **biased** accuracy (rounded to 2 significant digits) of the algorithm? \n",
    "\n",
    "\n",
    "\n"
   ]
  },
  {
   "cell_type": "code",
   "execution_count": 12,
   "metadata": {},
   "outputs": [
    {
     "name": "stdout",
     "output_type": "stream",
     "text": [
      "RMSE: 0.7954\n",
      "Biased accuracy on A = 0.7953634906508374\n"
     ]
    }
   ],
   "source": [
    "# Compute biased accuracy on A \n",
    "predictions = svd_algo.test(trainset.build_testset())\n",
    "print(f'Biased accuracy on A = {accuracy.rmse(predictions)}')"
   ]
  },
  {
   "cell_type": "markdown",
   "metadata": {},
   "source": [
    "# **Question 12** <font color=\"magenta\">(2 points)</font>\n",
    "\n",
    "What is the **unbiased** accuracy (rounded to 2 significant digits) of the algorithm? \n",
    "\n",
    "\n"
   ]
  },
  {
   "cell_type": "code",
   "execution_count": 13,
   "metadata": {},
   "outputs": [
    {
     "name": "stdout",
     "output_type": "stream",
     "text": [
      "RMSE: 0.8183\n",
      "Unbiased accuracy on B = 0.8183493127464762\n"
     ]
    }
   ],
   "source": [
    "# Compute unbiased accuracy on B\n",
    "testset = data.construct_testset(B_raw_ratings)  # testset is now the set B\n",
    "predictions = svd_algo.test(testset)\n",
    "print(f'Unbiased accuracy on B = {accuracy.rmse(predictions)}')"
   ]
  },
  {
   "cell_type": "markdown",
   "metadata": {},
   "source": [
    "# **Question 13** <font color=\"magenta\">(2 points)</font>\n",
    "\n",
    "What is the number of iterations of the stochastic gradient descent ('n_epochs') value chosen by the grid search? \n",
    "\n"
   ]
  },
  {
   "cell_type": "code",
   "execution_count": 14,
   "metadata": {},
   "outputs": [
    {
     "data": {
      "text/plain": [
       "20"
      ]
     },
     "execution_count": 14,
     "metadata": {},
     "output_type": "execute_result"
    }
   ],
   "source": [
    "grid_search.best_params['rmse']['n_epochs']"
   ]
  },
  {
   "cell_type": "markdown",
   "metadata": {},
   "source": [
    "# **Question 14** <font color=\"magenta\">(2 points)</font>\n",
    "\n",
    "What is the learning rate ('lr_all') chosen by the grid search? \n",
    "\n"
   ]
  },
  {
   "cell_type": "code",
   "execution_count": 15,
   "metadata": {},
   "outputs": [
    {
     "data": {
      "text/plain": [
       "0.001"
      ]
     },
     "execution_count": 15,
     "metadata": {},
     "output_type": "execute_result"
    }
   ],
   "source": [
    "grid_search.best_params['rmse']['lr_all']"
   ]
  },
  {
   "cell_type": "markdown",
   "metadata": {},
   "source": [
    "# **Question 15** <font color=\"magenta\">(2 points)</font>\n",
    "\n",
    "What is the regularization ('reg_all') chosen by the grid search? \n"
   ]
  },
  {
   "cell_type": "code",
   "execution_count": 16,
   "metadata": {},
   "outputs": [
    {
     "data": {
      "text/plain": [
       "0.05"
      ]
     },
     "execution_count": 16,
     "metadata": {},
     "output_type": "execute_result"
    }
   ],
   "source": [
    "grid_search.best_params['rmse']['reg_all']"
   ]
  },
  {
   "cell_type": "markdown",
   "metadata": {},
   "source": [
    "# **Question 16** <font color=\"magenta\">(2 points)</font>\n",
    "\n",
    "Now that we know what our best parameters should be, we need to train our SVD model on all the available data. Do the following:\n",
    "* set the seeds for reproducibility\n",
    "* reset the data.raw_ratings to all of the ratings OR reload the data from the dataframe\n",
    "* use the build_full_trainset() method to build a full trainset\n",
    "* set up an SVD algorithm using the best parameters\n",
    "* fit the data to the trainset\n",
    "* predict the estimated rating for user 1061 and restaurant 347\n",
    "\n",
    "What is the predicted estimated rating (rounded to 2 digits) for **user 1061** and **restaurant 347**?\n",
    "\n",
    "\n",
    "\n"
   ]
  },
  {
   "cell_type": "code",
   "execution_count": 17,
   "metadata": {},
   "outputs": [
    {
     "data": {
      "text/plain": [
       "4.59"
      ]
     },
     "execution_count": 17,
     "metadata": {},
     "output_type": "execute_result"
    }
   ],
   "source": [
    "#Add your code #set our seeds again\n",
    "random.seed(our_seed)\n",
    "np.random.seed(our_seed)\n",
    "\n",
    "#reset the data.raw_ratings to 100% of the data\n",
    "data.raw_ratings = raw_ratings\n",
    "\n",
    "#build a trainset\n",
    "trainset = data.build_full_trainset()\n",
    "\n",
    "#build the algorithm with our best parameters\n",
    "svd_algo = grid_search.best_estimator['rmse']\n",
    "\n",
    "#fit to the data\n",
    "svd_algo.fit(trainset)\n",
    "\n",
    "#predict user 1, movie 11\n",
    "round(svd_algo.predict(1061, 347).est, 2)"
   ]
  },
  {
   "cell_type": "markdown",
   "metadata": {},
   "source": [
    "# Hybrid Filter Setup \n",
    "(Note: This section is not included in the quiz/solutions.)\n",
    "\n",
    "From data in the files **restaurant_ratings.csv** and **restaurants.csv** build a recommender system that is a hybrid of a metadata content-based recommender and the SVD user-based collaborative filter that you just trained.  \n",
    "\n",
    "To set up your hybrid filter:\n",
    "\n",
    "* read in the restaurants.csv into a variable called rest\n",
    "* review the data in the dataframe (Note that we have pre-cleaned the data for you, including using TextBlob to extract just the relevant descriptors from the description. Not all restaurants have a description.)\n",
    "* make a soup from the following columns, which are all simple strings (**Hint: the soup for the first item in the geoplaces dataframe should be: 'Contemporary American Average_price rustic airy adorable classic most distinguished uncommon innovative American proud only world-class week.IMPORTANT special welcome'**):\n",
    "    - restaurant_type\n",
    "    - price_range\n",
    "    - ambiance\n",
    "    - descriptors\n",
    "* Instantiate a CountVectorizer with no stopwords. (We shouldn't have much in the way of stopwords, since it's all keywords.) \n",
    "* Use the provided fetchSimilarity function to get a countVectorizer similarity matrix using the soup column. (**Hint: the similarity at [0,2] should be 0.2849014411490949.**)\n"
   ]
  },
  {
   "cell_type": "code",
   "execution_count": 18,
   "metadata": {},
   "outputs": [],
   "source": [
    "# Not Included in Quiz/Solutions\n",
    "def fetchSimilarityMatrix(df, soupCol, vectorizer, vectorType='Tfidf'):\n",
    "\t'''\n",
    "\tParameters\n",
    "\tdf: the dataframe containing a soup column to tranform\n",
    "\tsoupCol: The string title of the soup column\n",
    "\tvectorizer: an initialized vectorizer, with all pre-processing you desire\n",
    "\tvectorType: 'Tfidf' or 'Count' - representing the type of vectorizer you used.\n",
    "\n",
    "\tReturns\n",
    "\tSparse Similarity Matrix\n",
    "\t'''\n",
    "\n",
    "\t# make sure the soup has no NaN\n",
    "\tdf[soupCol] = df[soupCol].fillna('')\n",
    "\tnmatrix = vectorizer.fit_transform(df[soupCol])\n",
    "\n",
    "\t#apply the appropriate vectorizer\n",
    "\tif(vectorType=='Tfidf'):\n",
    "\t\tprint('Using Linear Kernel (Tfidf)')\n",
    "\t\tsim = linear_kernel(nmatrix, nmatrix)\n",
    "\telse:\n",
    "\t\tprint('Using Cosine_similarity')\n",
    "\t\tsim = cosine_similarity(nmatrix, nmatrix)\n",
    "\treturn(sim)\n",
    "\n",
    "def content_recommender(df, seed, seedCol, sim_matrix,  topN=5): \n",
    "\t#get the indices based off the seedCol\n",
    "\tindices = pd.Series(df.index, index=df[seedCol]).drop_duplicates()\n",
    "\n",
    "\t# Obtain the index of the item that matches our seed\n",
    "\tidx = indices[seed]\n",
    "\n",
    "\t# Get the pairwise similarity scores of all items and convert to tuples\n",
    "\tsim_scores = list(enumerate(sim_matrix[idx]))\n",
    "\n",
    "\t#delete the item that was passed in\n",
    "\tdel sim_scores[idx]\n",
    "\n",
    "\t# Sort the items based on the similarity scores\n",
    "\tsim_scores = sorted(sim_scores, key=lambda x: x[1], reverse=True)\n",
    "\n",
    "\t# Get the scores of the top-n most similar items.\n",
    "\tsim_scores = sim_scores[:topN]\n",
    "\n",
    "\t# Get the item indices\n",
    "\tmovie_indices = [i[0] for i in sim_scores]\n",
    "\n",
    "\tsnip = df.iloc[movie_indices].copy()\n",
    "\tsnip['sim_score'] = [i[1] for i in sim_scores]\n",
    "\n",
    "\t# Return the topN most similar items\n",
    "\treturn snip"
   ]
  },
  {
   "cell_type": "markdown",
   "metadata": {},
   "source": [
    "# **Question 17** Use The Content Recommender <font color=\"magenta\">(2 points)</font>\n",
    "\n",
    "Using the provided content recommender function and the code you've prepared, get the top 5 recommendations for 'Tao Uptown'. (Hint: the top restaurant for 'Becco' should be 'Scampi'.)\n",
    "\n",
    "Which if these restaurants is the top recommendation?\n",
    "\n",
    "* Haru Sushi - Amsterdam Ave\n",
    "* Bistrot Leo\n",
    "* Rice & Gold\n",
    "* Zengo - NYC\n",
    "* **Restaurant Nippon**\n"
   ]
  },
  {
   "cell_type": "code",
   "execution_count": 19,
   "metadata": {},
   "outputs": [
    {
     "name": "stdout",
     "output_type": "stream",
     "text": [
      "Using Cosine_similarity\n"
     ]
    },
    {
     "data": {
      "text/html": [
       "<div>\n",
       "<style scoped>\n",
       "    .dataframe tbody tr th:only-of-type {\n",
       "        vertical-align: middle;\n",
       "    }\n",
       "\n",
       "    .dataframe tbody tr th {\n",
       "        vertical-align: top;\n",
       "    }\n",
       "\n",
       "    .dataframe thead th {\n",
       "        text-align: right;\n",
       "    }\n",
       "</style>\n",
       "<table border=\"1\" class=\"dataframe tex2jax_ignore\">\n",
       "  <thead>\n",
       "    <tr style=\"text-align: right;\">\n",
       "      <th></th>\n",
       "      <th>restID</th>\n",
       "      <th>name</th>\n",
       "      <th>price_range</th>\n",
       "      <th>restaurant_type</th>\n",
       "      <th>ambiance</th>\n",
       "      <th>descriptors</th>\n",
       "      <th>soup</th>\n",
       "      <th>sim_score</th>\n",
       "    </tr>\n",
       "  </thead>\n",
       "  <tbody>\n",
       "    <tr>\n",
       "      <th>216</th>\n",
       "      <td>216</td>\n",
       "      <td>Restaurant Nippon</td>\n",
       "      <td>Average_price</td>\n",
       "      <td>Japanese</td>\n",
       "      <td>cozy</td>\n",
       "      <td>first Japanese authentic nihachi own exclusive...</td>\n",
       "      <td>Japanese Average_price cozy first Japanese aut...</td>\n",
       "      <td>0.542326</td>\n",
       "    </tr>\n",
       "    <tr>\n",
       "      <th>187</th>\n",
       "      <td>187</td>\n",
       "      <td>MIFUNE New York</td>\n",
       "      <td>Average_price</td>\n",
       "      <td>Japanese</td>\n",
       "      <td>cozy classic</td>\n",
       "      <td>traditional Japanese supreme French innovative...</td>\n",
       "      <td>Japanese Average_price cozy classic traditiona...</td>\n",
       "      <td>0.521749</td>\n",
       "    </tr>\n",
       "    <tr>\n",
       "      <th>146</th>\n",
       "      <td>146</td>\n",
       "      <td>Haru Sushi - Amsterdam Ave</td>\n",
       "      <td>Average_price</td>\n",
       "      <td>Japanese</td>\n",
       "      <td>airy light-filled</td>\n",
       "      <td>modern Japanese wide traditional dull stylish ...</td>\n",
       "      <td>Japanese Average_price airy light-filled moder...</td>\n",
       "      <td>0.424264</td>\n",
       "    </tr>\n",
       "    <tr>\n",
       "      <th>191</th>\n",
       "      <td>191</td>\n",
       "      <td>Naoki Takahashi</td>\n",
       "      <td>Average_price</td>\n",
       "      <td>Japanese</td>\n",
       "      <td>classic welcoming</td>\n",
       "      <td>hidden seasonal multi-course Japanese Zen-like...</td>\n",
       "      <td>Japanese Average_price classic welcoming hidde...</td>\n",
       "      <td>0.414039</td>\n",
       "    </tr>\n",
       "    <tr>\n",
       "      <th>327</th>\n",
       "      <td>327</td>\n",
       "      <td>Bistrot Leo</td>\n",
       "      <td>Average_price</td>\n",
       "      <td>French</td>\n",
       "      <td>fashionable rustic bustling classic</td>\n",
       "      <td>former French original Italian</td>\n",
       "      <td>French Average_price fashionable rustic bustli...</td>\n",
       "      <td>0.372678</td>\n",
       "    </tr>\n",
       "  </tbody>\n",
       "</table>\n",
       "</div>"
      ],
      "text/plain": [
       "     restID                        name    price_range restaurant_type  \\\n",
       "216     216           Restaurant Nippon  Average_price        Japanese   \n",
       "187     187             MIFUNE New York  Average_price        Japanese   \n",
       "146     146  Haru Sushi - Amsterdam Ave  Average_price        Japanese   \n",
       "191     191             Naoki Takahashi  Average_price        Japanese   \n",
       "327     327                 Bistrot Leo  Average_price          French   \n",
       "\n",
       "                                ambiance  \\\n",
       "216                                 cozy   \n",
       "187                         cozy classic   \n",
       "146                    airy light-filled   \n",
       "191                    classic welcoming   \n",
       "327  fashionable rustic bustling classic   \n",
       "\n",
       "                                           descriptors  \\\n",
       "216  first Japanese authentic nihachi own exclusive...   \n",
       "187  traditional Japanese supreme French innovative...   \n",
       "146  modern Japanese wide traditional dull stylish ...   \n",
       "191  hidden seasonal multi-course Japanese Zen-like...   \n",
       "327                     former French original Italian   \n",
       "\n",
       "                                                  soup  sim_score  \n",
       "216  Japanese Average_price cozy first Japanese aut...   0.542326  \n",
       "187  Japanese Average_price cozy classic traditiona...   0.521749  \n",
       "146  Japanese Average_price airy light-filled moder...   0.424264  \n",
       "191  Japanese Average_price classic welcoming hidde...   0.414039  \n",
       "327  French Average_price fashionable rustic bustli...   0.372678  "
      ]
     },
     "execution_count": 19,
     "metadata": {},
     "output_type": "execute_result"
    }
   ],
   "source": [
    "rest = pd.read_csv('data/restaurants.csv')\n",
    "soup_cols = ['restaurant_type', 'price_range', 'ambiance', 'descriptors']\n",
    "rest[soup_cols] = rest[soup_cols].fillna('')\n",
    "rest['soup'] = rest[soup_cols].apply(lambda row: ' '.join(row.values.astype(str)), axis=1)\n",
    "\n",
    "count = CountVectorizer(lowercase=True, stop_words = None)\n",
    "sim = fetchSimilarityMatrix(rest, 'soup', count, 'Count')\n",
    "content_recommender(rest, 'Tao Uptown', 'name', sim)"
   ]
  },
  {
   "cell_type": "markdown",
   "metadata": {},
   "source": [
    "# **Question 18** - Build the Hybrid Function (manually graded) <font color=\"magenta\">(4 points)</font>\n",
    "\n",
    "Some times recommendation designers are less focused on recommending things that have the highest rating, and more focused on recommending things that will have an acceptable rating, but are very similar to items the user has previously liked. For the homework, we're going to build a hybrid recommender that predicts the ratings a single user would give to all of the restaurants, limits that rating to a specified minimum, and then returns the restaurants that are most similar (content-wise). We'll follow the example used in the lesson in which we will pre-fetch the content recommendations, and pass those pre-fetched recommendations into the hybrid function. \n",
    "\n",
    "The full list of parameters needed will be:\n",
    "* user: the userid for which we are making predictions\n",
    "* contentRecs: the dataframe that contains the content recommendations, with similarity scores (this is returned for you in the content_recommender function we provided)\n",
    "* algo: the trained algorithm to use for colaborative filtering\n",
    "* predCol: the column in your contentRecs that can be used for predictions\n",
    "* minRating: the minimum rating we'll accept (estimated ratings should be >= to this number)\n",
    "* N: the final number of recommendations to return\n",
    "\n",
    "Your function should return a dataframe that contains all of the information that was in your contentRecs plus the estimated rating for the \"N\" number of rows."
   ]
  },
  {
   "cell_type": "code",
   "execution_count": 20,
   "metadata": {},
   "outputs": [
    {
     "data": {
      "text/html": [
       "<div>\n",
       "<style scoped>\n",
       "    .dataframe tbody tr th:only-of-type {\n",
       "        vertical-align: middle;\n",
       "    }\n",
       "\n",
       "    .dataframe tbody tr th {\n",
       "        vertical-align: top;\n",
       "    }\n",
       "\n",
       "    .dataframe thead th {\n",
       "        text-align: right;\n",
       "    }\n",
       "</style>\n",
       "<table border=\"1\" class=\"dataframe tex2jax_ignore\">\n",
       "  <thead>\n",
       "    <tr style=\"text-align: right;\">\n",
       "      <th></th>\n",
       "      <th>restID</th>\n",
       "      <th>name</th>\n",
       "      <th>price_range</th>\n",
       "      <th>restaurant_type</th>\n",
       "      <th>ambiance</th>\n",
       "      <th>descriptors</th>\n",
       "      <th>soup</th>\n",
       "      <th>sim_score</th>\n",
       "      <th>colab_score</th>\n",
       "    </tr>\n",
       "  </thead>\n",
       "  <tbody>\n",
       "    <tr>\n",
       "      <th>178</th>\n",
       "      <td>178</td>\n",
       "      <td>Trattoria Italienne</td>\n",
       "      <td>Budget_price</td>\n",
       "      <td>Italian</td>\n",
       "      <td>charming quaint homey</td>\n",
       "      <td>classic inspired approachable great large</td>\n",
       "      <td>Italian Budget_price charming quaint homey cla...</td>\n",
       "      <td>0.134840</td>\n",
       "      <td>4.725505</td>\n",
       "    </tr>\n",
       "    <tr>\n",
       "      <th>80</th>\n",
       "      <td>80</td>\n",
       "      <td>The Clocktower</td>\n",
       "      <td>High_price</td>\n",
       "      <td>English</td>\n",
       "      <td>chic exclusive</td>\n",
       "      <td>new iconic contemporary British classic contem...</td>\n",
       "      <td>English High_price chic exclusive new iconic c...</td>\n",
       "      <td>0.110096</td>\n",
       "      <td>4.689234</td>\n",
       "    </tr>\n",
       "    <tr>\n",
       "      <th>289</th>\n",
       "      <td>289</td>\n",
       "      <td>Bâtard</td>\n",
       "      <td>High_price</td>\n",
       "      <td>Modern European</td>\n",
       "      <td>upscale elegant chic serene</td>\n",
       "      <td>legendary modern European Austrian diverse inv...</td>\n",
       "      <td>Modern European High_price upscale elegant chi...</td>\n",
       "      <td>0.170561</td>\n",
       "      <td>4.643945</td>\n",
       "    </tr>\n",
       "  </tbody>\n",
       "</table>\n",
       "</div>"
      ],
      "text/plain": [
       "     restID                 name   price_range  restaurant_type  \\\n",
       "178     178  Trattoria Italienne  Budget_price          Italian   \n",
       "80       80       The Clocktower    High_price          English   \n",
       "289     289               Bâtard    High_price  Modern European   \n",
       "\n",
       "                        ambiance  \\\n",
       "178        charming quaint homey   \n",
       "80                chic exclusive   \n",
       "289  upscale elegant chic serene   \n",
       "\n",
       "                                           descriptors  \\\n",
       "178          classic inspired approachable great large   \n",
       "80   new iconic contemporary British classic contem...   \n",
       "289  legendary modern European Austrian diverse inv...   \n",
       "\n",
       "                                                  soup  sim_score  colab_score  \n",
       "178  Italian Budget_price charming quaint homey cla...   0.134840     4.725505  \n",
       "80   English High_price chic exclusive new iconic c...   0.110096     4.689234  \n",
       "289  Modern European High_price upscale elegant chi...   0.170561     4.643945  "
      ]
     },
     "execution_count": 20,
     "metadata": {},
     "output_type": "execute_result"
    }
   ],
   "source": [
    "def hybrid_recommender(user, contentRecs, algo, predCol, minRating=3, N=5):\n",
    "\tcontentRecs['colab_score'] = contentRecs.apply(lambda row: algo.predict(user, row[predCol]).est, axis=1)\n",
    "\tcontentRecs = contentRecs[contentRecs['colab_score'] >= minRating]\n",
    "\treturn contentRecs.sort_values(by='colab_score', ascending=False).head(N)\n",
    "\n",
    "test = content_recommender(rest, 'Schilling', 'name', sim, 25)\n",
    "hybrid_recommender(1061, test, svd_algo, 'restID', 4.5, 3)"
   ]
  },
  {
   "cell_type": "markdown",
   "metadata": {},
   "source": [
    "# **Question 19** - Calling the Hybrid Function <font color=\"magenta\">(2 points)</font>\n",
    "\n",
    "Use your hybrid function to find recommendations for **user 1235** and restaurant '**Lido**'. \n",
    "* Remember, you will need to call your content_recommender function first to get the similarity scores. \n",
    "* Pass the top 25 restaurants with the highest sim_scores from the content recommender to the collaborative recommender.\n",
    "* Use the SVD algorithm you trained in Question 10 to predict ratings. \n",
    "* The minimum allowed rating is 4.5. \n",
    "* Return the top 3 recommendations. \n",
    "\n",
    "**Which answer shows the top 3 recommendations, in order?**\n",
    "\n",
    "*Hint: If make recommendations for user 1061, and 'Schilling' and everything else the same, the top recommendation should be Trattoria Italienne.*\n",
    "\n",
    "* Naples 45 Ristorante E Pizzeria, Obica Mozzarella Bar Pizza e Cucina, La Pecora Bianca - NoMad\n",
    "* **Il Mulino New York - Downtown, Bocca di Bacco, Felice 64 Wine Bar**\n",
    "* Becco, La Pecora Bianca - Midtown, Stella 34 Trattoria\n",
    "* La Pecora Bianca - NoMad, La Pecora Bianca - Midtown, Stella 34 Trattoria\n",
    "* Esca, Lincoln Ristorante, La Pecora Bianca - Midtown\n",
    "\n",
    "\n"
   ]
  },
  {
   "cell_type": "code",
   "execution_count": 21,
   "metadata": {},
   "outputs": [
    {
     "data": {
      "text/html": [
       "<div>\n",
       "<style scoped>\n",
       "    .dataframe tbody tr th:only-of-type {\n",
       "        vertical-align: middle;\n",
       "    }\n",
       "\n",
       "    .dataframe tbody tr th {\n",
       "        vertical-align: top;\n",
       "    }\n",
       "\n",
       "    .dataframe thead th {\n",
       "        text-align: right;\n",
       "    }\n",
       "</style>\n",
       "<table border=\"1\" class=\"dataframe tex2jax_ignore\">\n",
       "  <thead>\n",
       "    <tr style=\"text-align: right;\">\n",
       "      <th></th>\n",
       "      <th>restID</th>\n",
       "      <th>name</th>\n",
       "      <th>price_range</th>\n",
       "      <th>restaurant_type</th>\n",
       "      <th>ambiance</th>\n",
       "      <th>descriptors</th>\n",
       "      <th>soup</th>\n",
       "      <th>sim_score</th>\n",
       "      <th>colab_score</th>\n",
       "    </tr>\n",
       "  </thead>\n",
       "  <tbody>\n",
       "    <tr>\n",
       "      <th>275</th>\n",
       "      <td>275</td>\n",
       "      <td>Il Mulino New York - Downtown</td>\n",
       "      <td>High_price</td>\n",
       "      <td>Italian</td>\n",
       "      <td>exclusive classy</td>\n",
       "      <td>authentic unparalleled service.There Italian f...</td>\n",
       "      <td>Italian High_price exclusive classy authentic ...</td>\n",
       "      <td>0.266469</td>\n",
       "      <td>4.851620</td>\n",
       "    </tr>\n",
       "    <tr>\n",
       "      <th>79</th>\n",
       "      <td>79</td>\n",
       "      <td>Bocca di Bacco (Hell's Kitchen - 54th St.)</td>\n",
       "      <td>Budget_price</td>\n",
       "      <td>Italian</td>\n",
       "      <td>quaint homey informal kid_friendly</td>\n",
       "      <td>Italian</td>\n",
       "      <td>Italian Budget_price quaint homey informal kid...</td>\n",
       "      <td>0.277350</td>\n",
       "      <td>4.798847</td>\n",
       "    </tr>\n",
       "    <tr>\n",
       "      <th>179</th>\n",
       "      <td>179</td>\n",
       "      <td>Felice 64 Wine Bar</td>\n",
       "      <td>Average_price</td>\n",
       "      <td>Italian</td>\n",
       "      <td>airy rustic bustling adorable</td>\n",
       "      <td>relaxed linear rich Italian modern traditional...</td>\n",
       "      <td>Italian Average_price airy rustic bustling ado...</td>\n",
       "      <td>0.242091</td>\n",
       "      <td>4.749687</td>\n",
       "    </tr>\n",
       "  </tbody>\n",
       "</table>\n",
       "</div>"
      ],
      "text/plain": [
       "     restID                                        name    price_range  \\\n",
       "275     275               Il Mulino New York - Downtown     High_price   \n",
       "79       79  Bocca di Bacco (Hell's Kitchen - 54th St.)   Budget_price   \n",
       "179     179                          Felice 64 Wine Bar  Average_price   \n",
       "\n",
       "    restaurant_type                            ambiance  \\\n",
       "275         Italian                    exclusive classy   \n",
       "79          Italian  quaint homey informal kid_friendly   \n",
       "179         Italian       airy rustic bustling adorable   \n",
       "\n",
       "                                           descriptors  \\\n",
       "275  authentic unparalleled service.There Italian f...   \n",
       "79                                             Italian   \n",
       "179  relaxed linear rich Italian modern traditional...   \n",
       "\n",
       "                                                  soup  sim_score  colab_score  \n",
       "275  Italian High_price exclusive classy authentic ...   0.266469     4.851620  \n",
       "79   Italian Budget_price quaint homey informal kid...   0.277350     4.798847  \n",
       "179  Italian Average_price airy rustic bustling ado...   0.242091     4.749687  "
      ]
     },
     "execution_count": 21,
     "metadata": {},
     "output_type": "execute_result"
    }
   ],
   "source": [
    "lido = content_recommender(rest, 'Lido', 'name', sim, 25)\n",
    "hybrid_recommender(1235, lido, svd_algo, 'restID', 4.5, 3)"
   ]
  },
  {
   "cell_type": "markdown",
   "metadata": {},
   "source": [
    "# **Question 20** KNNWithMeans item-based collaborative filter (manually graded)<font color=\"magenta\">(4 points)</font>\n",
    "\n",
    "Train a <a href=\"https://surprise.readthedocs.io/en/stable/knn_inspired.html?highlight=knnwith#surprise.prediction_algorithms.knns.KNNWithMeans\">KNNWithMeans Surprise collaborative filter</a>. We ran a gridsearch already and learned that the best k for this is 3, and we get the best results using an item-based similarity measure. You should:\n",
    "\n",
    "* Set seeds of 14\n",
    "* Read in the data and set up your reader\n",
    "* Set up a data object\n",
    "* Build a full trainset\n",
    "* set up a KNNWithMeans algorithm using the following parameters:\n",
    "    * k of 3 \n",
    "    * set the <a href=\"https://surprise.readthedocs.io/en/stable/prediction_algorithms.html?highlight=user_based#similarity-measure-configuration\">sim_options 'user_based' to False</a> (this switches it to an item-based similarity measure, instead of a user-based).\n",
    "* fit the algorithm using the full trainset\n",
    "* predict the rating for **user 1000** and **restaurant 300**\n",
    "\n",
    "**Hint: the predicted rating for user 1000 and restaurant 300 should be 4.32**\n",
    "\n",
    "\n",
    "\n"
   ]
  },
  {
   "cell_type": "code",
   "execution_count": 22,
   "metadata": {},
   "outputs": [
    {
     "name": "stdout",
     "output_type": "stream",
     "text": [
      "Computing the msd similarity matrix...\n",
      "Done computing similarity matrix.\n"
     ]
    },
    {
     "data": {
      "text/plain": [
       "4.32"
      ]
     },
     "execution_count": 22,
     "metadata": {},
     "output_type": "execute_result"
    }
   ],
   "source": [
    "reader = Reader(rating_scale=(1,5)) # defaults to (0,5)\n",
    "\n",
    "#Create the dataset to be used for building the filter\n",
    "data = Dataset.load_from_df(ratings, reader)\n",
    "\n",
    "#build a trainset\n",
    "trainset = data.build_full_trainset()\n",
    "\n",
    "#build the algorithm with our best parameters\n",
    "knn_algo = KNNWithMeans(k=3, sim_options={'user_based':False})\n",
    "\n",
    "# set seed\n",
    "random.seed(our_seed)\n",
    "np.random.seed(our_seed)\n",
    "\n",
    "#fit to the data\n",
    "knn_algo.fit(trainset)\n",
    "\n",
    "#test\n",
    "round(knn_algo.predict(1000, 300).est, 2)"
   ]
  },
  {
   "cell_type": "markdown",
   "metadata": {},
   "source": [
    "## **Question 21** Hybrid with KNN <font color=\"magenta\">(2 points)</font>\n",
    "\n",
    "Use your hybrid function again with  **user 1235** and restaurant '**Lido**'. \n",
    "\n",
    "* Remember, you will need to call your content_recommender function first to get the similarity scores.\n",
    "* Pass the top 25 restaurants with the highest sim_scores from the content recommender to the collaborative recommender.\n",
    "* Use the KNN algorithm you just trained predict ratings. \n",
    "* The minimum allowed rating is 4.5. \n",
    "* Return the top 3 recommendations. \n",
    "\n",
    "\n",
    "**Hint: If you call your function with user 1001 and Feast, the top recommendation should be Tiny and the Bar Upstairs.**\n",
    "\n",
    "What are the top 3 restaurants, in order?\n",
    "\n",
    "* Bar Primi, Naples 45 Ristorante E Pizzeria, La Pecora Bianca - NoMad\n",
    "* Il Mulino New York - Uptown, Naples 45 Ristorante E Pizzeria, Bar Primi\n",
    "* .Tarallucci e Vino Upper West Side, Il Mulino New York - Uptown, La Pecora Bianca - NoMad\n",
    "* **Trattoria Italienne, Taralluci e Vino Union Square, Felice 64 Wine Bar**\n",
    "* La Pecora Bianca - Midtown, La Pecora Bianca - NoMad, Naples 45 Ristorante E Pizzeria\n"
   ]
  },
  {
   "cell_type": "code",
   "execution_count": 23,
   "metadata": {},
   "outputs": [
    {
     "data": {
      "text/html": [
       "<div>\n",
       "<style scoped>\n",
       "    .dataframe tbody tr th:only-of-type {\n",
       "        vertical-align: middle;\n",
       "    }\n",
       "\n",
       "    .dataframe tbody tr th {\n",
       "        vertical-align: top;\n",
       "    }\n",
       "\n",
       "    .dataframe thead th {\n",
       "        text-align: right;\n",
       "    }\n",
       "</style>\n",
       "<table border=\"1\" class=\"dataframe tex2jax_ignore\">\n",
       "  <thead>\n",
       "    <tr style=\"text-align: right;\">\n",
       "      <th></th>\n",
       "      <th>restID</th>\n",
       "      <th>name</th>\n",
       "      <th>price_range</th>\n",
       "      <th>restaurant_type</th>\n",
       "      <th>ambiance</th>\n",
       "      <th>descriptors</th>\n",
       "      <th>soup</th>\n",
       "      <th>sim_score</th>\n",
       "      <th>colab_score</th>\n",
       "    </tr>\n",
       "  </thead>\n",
       "  <tbody>\n",
       "    <tr>\n",
       "      <th>178</th>\n",
       "      <td>178</td>\n",
       "      <td>Trattoria Italienne</td>\n",
       "      <td>Budget_price</td>\n",
       "      <td>Italian</td>\n",
       "      <td>charming quaint homey</td>\n",
       "      <td>classic inspired approachable great large</td>\n",
       "      <td>Italian Budget_price charming quaint homey cla...</td>\n",
       "      <td>0.263117</td>\n",
       "      <td>5.0</td>\n",
       "    </tr>\n",
       "    <tr>\n",
       "      <th>219</th>\n",
       "      <td>219</td>\n",
       "      <td>.Tarallucci e Vino Union Square</td>\n",
       "      <td>Average_price</td>\n",
       "      <td>Italian</td>\n",
       "      <td>fashionable</td>\n",
       "      <td>famous Italian classic southern Italian authen...</td>\n",
       "      <td>Italian Average_price fashionable famous Itali...</td>\n",
       "      <td>0.245358</td>\n",
       "      <td>5.0</td>\n",
       "    </tr>\n",
       "    <tr>\n",
       "      <th>179</th>\n",
       "      <td>179</td>\n",
       "      <td>Felice 64 Wine Bar</td>\n",
       "      <td>Average_price</td>\n",
       "      <td>Italian</td>\n",
       "      <td>airy rustic bustling adorable</td>\n",
       "      <td>relaxed linear rich Italian modern traditional...</td>\n",
       "      <td>Italian Average_price airy rustic bustling ado...</td>\n",
       "      <td>0.242091</td>\n",
       "      <td>5.0</td>\n",
       "    </tr>\n",
       "  </tbody>\n",
       "</table>\n",
       "</div>"
      ],
      "text/plain": [
       "     restID                             name    price_range restaurant_type  \\\n",
       "178     178              Trattoria Italienne   Budget_price         Italian   \n",
       "219     219  .Tarallucci e Vino Union Square  Average_price         Italian   \n",
       "179     179               Felice 64 Wine Bar  Average_price         Italian   \n",
       "\n",
       "                          ambiance  \\\n",
       "178          charming quaint homey   \n",
       "219                    fashionable   \n",
       "179  airy rustic bustling adorable   \n",
       "\n",
       "                                           descriptors  \\\n",
       "178          classic inspired approachable great large   \n",
       "219  famous Italian classic southern Italian authen...   \n",
       "179  relaxed linear rich Italian modern traditional...   \n",
       "\n",
       "                                                  soup  sim_score  colab_score  \n",
       "178  Italian Budget_price charming quaint homey cla...   0.263117          5.0  \n",
       "219  Italian Average_price fashionable famous Itali...   0.245358          5.0  \n",
       "179  Italian Average_price airy rustic bustling ado...   0.242091          5.0  "
      ]
     },
     "execution_count": 23,
     "metadata": {},
     "output_type": "execute_result"
    }
   ],
   "source": [
    "lido = content_recommender(rest, 'Lido', 'name', sim, 25)\n",
    "hybrid_recommender(1235, lido, knn_algo, 'restID', 4.5, 3)"
   ]
  },
  {
   "cell_type": "code",
   "execution_count": 0,
   "metadata": {},
   "outputs": [],
   "source": []
  }
 ],
 "metadata": {
  "kernelspec": {
   "display_name": "Python 3",
   "language": "python",
   "name": "python3"
  },
  "language_info": {
   "codemirror_mode": {
    "name": "ipython",
    "version": 3
   },
   "file_extension": ".py",
   "mimetype": "text/x-python",
   "name": "python",
   "nbconvert_exporter": "python",
   "pygments_lexer": "ipython3",
   "version": "3.7.7"
  },
  "toc": {
   "base_numbering": 1,
   "nav_menu": {},
   "number_sections": true,
   "sideBar": true,
   "skip_h1_title": false,
   "title_cell": "Table of Contents",
   "title_sidebar": "Contents",
   "toc_cell": false,
   "toc_position": {
    "height": "calc(100% - 180px)",
    "left": "10px",
    "top": "150px",
    "width": "234.363px"
   },
   "toc_section_display": true,
   "toc_window_display": false
  },
  "varInspector": {
   "cols": {
    "lenName": 16,
    "lenType": 16,
    "lenVar": 40
   },
   "kernels_config": {
    "python": {
     "delete_cmd_postfix": "",
     "delete_cmd_prefix": "del ",
     "library": "var_list.py",
     "varRefreshCmd": "print(var_dic_list())"
    },
    "r": {
     "delete_cmd_postfix": ") ",
     "delete_cmd_prefix": "rm(",
     "library": "var_list.r",
     "varRefreshCmd": "cat(var_dic_list()) "
    }
   },
   "types_to_exclude": [
    "module",
    "function",
    "builtin_function_or_method",
    "instance",
    "_Feature"
   ],
   "window_display": false
  }
 },
 "nbformat": 4,
 "nbformat_minor": 4
}
