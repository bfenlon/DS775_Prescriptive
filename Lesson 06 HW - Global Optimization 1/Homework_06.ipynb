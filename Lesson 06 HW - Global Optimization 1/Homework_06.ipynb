{
 "cells": [
  {
   "cell_type": "code",
   "execution_count": 1,
   "metadata": {
    "code_folding": [
    ],
    "collapsed": false
   },
   "outputs": [
   ],
   "source": [
    "import numpy as np\n",
    "import matplotlib.pyplot as plt\n",
    "import seaborn as sns\n",
    "sns.set_style(\"darkgrid\")\n",
    "from scipy.optimize import minimize, dual_annealing\n",
    "import json\n",
    "from simanneal import Annealer\n",
    "from warnings import filterwarnings\n",
    "from skopt import gp_minimize"
   ]
  },
  {
   "cell_type": "markdown",
   "metadata": {
    "collapsed": false
   },
   "source": [
    "# Homework 6"
   ]
  },
  {
   "cell_type": "markdown",
   "metadata": {
    "collapsed": false
   },
   "source": [
    "## Question 1 <font color=\"magenta\">(1 point, manual)</font>\n",
    "\n",
    "Use the `simanneal` package to find a tour of the 48 state capitals that is less than 18,000 km in length and has no self-intersection (crossovers).  The global minimum for total distance is 17,357 km, but you don't need to find that.  Use the plotting code from Lesson 5 to show a picture of the tour that includes the distance. \n",
    "In the space below, include your picture of the tour that includes the distance.  Do not include code here, instead include it in Question 2.\n",
    "\n",
    "## Question 2 <font color=\"magenta\">(5 points, manual)</font>\n",
    "\n",
    "Include your code for using `simanneal` and plotting the tour in the space below.  Also make sure your code is in CoCalc and that it has been executed with output showing."
   ]
  },
  {
   "cell_type": "code",
   "execution_count": 2,
   "metadata": {
    "collapsed": false
   },
   "outputs": [
    {
     "name": "stderr",
     "output_type": "stream",
     "text": [
      " Temperature        Energy    Accept   Improve     Elapsed   Remaining\n",
      "\r     0.00000      83616.06                         0:00:00            \r"
     ]
    },
    {
     "name": "stderr",
     "output_type": "stream",
     "text": [
      "\r  3200.00000      68375.44    82.85%    41.10%     0:00:00     0:00:03\r\r"
     ]
    },
    {
     "name": "stderr",
     "output_type": "stream",
     "text": [
      "\r  4800.00000      70176.63    87.55%    43.85%     0:00:00     0:00:02\r\r"
     ]
    },
    {
     "name": "stderr",
     "output_type": "stream",
     "text": [
      "\r  7200.00000      63536.08    92.00%    46.55%     0:00:00     0:00:02\r\r"
     ]
    },
    {
     "name": "stderr",
     "output_type": "stream",
     "text": [
      "\r 11000.00000      73044.65    95.05%    46.05%     0:00:01     0:00:03\r\r"
     ]
    },
    {
     "name": "stderr",
     "output_type": "stream",
     "text": [
      "\r 16000.00000      77029.29    96.75%    48.00%     0:00:01     0:00:04\r\r"
     ]
    },
    {
     "name": "stderr",
     "output_type": "stream",
     "text": [
      "\r 24000.00000      82747.16    97.85%    48.85%     0:00:01     0:00:03\r\r"
     ]
    },
    {
     "name": "stderr",
     "output_type": "stream",
     "text": [
      "\r 36000.00000      77597.46    98.55%    48.00%     0:00:01     0:00:03\r\r"
     ]
    },
    {
     "name": "stderr",
     "output_type": "stream",
     "text": [
      "\r 24000.00000      77031.35    98.55%    48.65%     0:00:02     0:00:03\r\r"
     ]
    },
    {
     "name": "stderr",
     "output_type": "stream",
     "text": [
      "\r 16000.00000      69755.42    96.65%    48.30%     0:00:02     0:00:02\r\r"
     ]
    },
    {
     "name": "stderr",
     "output_type": "stream",
     "text": [
      "\r 11000.00000      76665.82    94.40%    47.65%     0:00:02     0:00:02\r\r"
     ]
    },
    {
     "name": "stderr",
     "output_type": "stream",
     "text": [
      "\r  7300.00000      81361.55    91.70%    45.35%     0:00:02     0:00:02\r\r"
     ]
    },
    {
     "name": "stderr",
     "output_type": "stream",
     "text": [
      "\r  4900.00000      75951.39    87.55%    43.00%     0:00:02     0:00:02\r\r"
     ]
    },
    {
     "name": "stderr",
     "output_type": "stream",
     "text": [
      "\r  3300.00000      67105.04    82.20%    40.60%     0:00:02     0:00:02\r\r"
     ]
    },
    {
     "name": "stderr",
     "output_type": "stream",
     "text": [
      "\r  2200.00000      58051.67    71.80%    36.20%     0:00:02     0:00:01\r\r"
     ]
    },
    {
     "name": "stderr",
     "output_type": "stream",
     "text": [
      "\r  1500.00000      53033.46    67.25%    34.00%     0:00:02     0:00:01\r\r"
     ]
    },
    {
     "name": "stderr",
     "output_type": "stream",
     "text": [
      "\r  1000.00000      47681.55    49.70%    24.15%     0:00:02     0:00:01\r\r"
     ]
    },
    {
     "name": "stderr",
     "output_type": "stream",
     "text": [
      "\r   670.00000      34476.96    35.95%    18.05%     0:00:02     0:00:01\r\r"
     ]
    },
    {
     "name": "stderr",
     "output_type": "stream",
     "text": [
      "\r   450.00000      34794.58    25.15%    11.70%     0:00:03     0:00:01\r\r"
     ]
    },
    {
     "name": "stderr",
     "output_type": "stream",
     "text": [
      "\r   300.00000      33434.57    17.90%     8.90%     0:00:03     0:00:01\r\r"
     ]
    },
    {
     "name": "stderr",
     "output_type": "stream",
     "text": [
      "\r   200.00000      24930.23     9.60%     4.80%     0:00:03     0:00:01\r\r"
     ]
    },
    {
     "name": "stderr",
     "output_type": "stream",
     "text": [
      "\r   130.00000      21209.75     5.60%     2.90%     0:00:03     0:00:00\r\r"
     ]
    },
    {
     "name": "stderr",
     "output_type": "stream",
     "text": [
      "\r    87.00000      20640.41     3.00%     1.50%     0:00:03     0:00:00\r\r"
     ]
    },
    {
     "name": "stderr",
     "output_type": "stream",
     "text": [
      "\r    58.00000      19546.66     2.20%     1.00%     0:00:03     0:00:00\r\r"
     ]
    },
    {
     "name": "stderr",
     "output_type": "stream",
     "text": [
      "\r    39.00000      18420.23     1.35%     0.70%     0:00:03     0:00:00\r\r"
     ]
    },
    {
     "name": "stderr",
     "output_type": "stream",
     "text": [
      "\r    26.00000      18389.26     0.75%     0.25%     0:00:03     0:00:00\r\r"
     ]
    },
    {
     "name": "stderr",
     "output_type": "stream",
     "text": [
      "\r    17.00000      18222.81     0.25%     0.10%     0:00:03     0:00:00\r\r"
     ]
    },
    {
     "name": "stderr",
     "output_type": "stream",
     "text": [
      "\r    11.00000      18222.81     0.25%     0.00%     0:00:04     0:00:00\r\r"
     ]
    },
    {
     "name": "stderr",
     "output_type": "stream",
     "text": [
      " Temperature        Energy    Accept   Improve     Elapsed   Remaining\n",
      "\r 36000.00000      18222.81                         0:00:00            \r"
     ]
    },
    {
     "name": "stderr",
     "output_type": "stream",
     "text": [
      "\r 33201.17109      85216.28    98.68%    49.05%     0:00:00     0:00:12\r\r"
     ]
    },
    {
     "name": "stderr",
     "output_type": "stream",
     "text": [
      "\r 30619.93782      79517.99    98.00%    46.89%     0:00:00     0:00:10\r\r"
     ]
    },
    {
     "name": "stderr",
     "output_type": "stream",
     "text": [
      "\r 28239.38317      86866.66    98.32%    49.79%     0:00:00     0:00:11\r\r"
     ]
    },
    {
     "name": "stderr",
     "output_type": "stream",
     "text": [
      "\r 26043.90534      76704.22    98.11%    48.42%     0:00:00     0:00:11\r\r"
     ]
    },
    {
     "name": "stderr",
     "output_type": "stream",
     "text": [
      "\r 24019.11547      87416.07    97.74%    48.84%     0:00:01     0:00:11\r\r"
     ]
    },
    {
     "name": "stderr",
     "output_type": "stream",
     "text": [
      "\r 22151.74339      74742.60    97.16%    48.95%     0:00:01     0:00:11\r\r"
     ]
    },
    {
     "name": "stderr",
     "output_type": "stream",
     "text": [
      "\r 20429.55062      90675.99    97.16%    46.79%     0:00:01     0:00:10\r\r"
     ]
    },
    {
     "name": "stderr",
     "output_type": "stream",
     "text": [
      "\r 18841.25015      71908.30    97.53%    48.26%     0:00:01     0:00:10\r\r"
     ]
    },
    {
     "name": "stderr",
     "output_type": "stream",
     "text": [
      "\r 17376.43249      76984.12    96.79%    46.63%     0:00:01     0:00:10\r\r"
     ]
    },
    {
     "name": "stderr",
     "output_type": "stream",
     "text": [
      "\r 16025.49744      73801.58    96.89%    47.37%     0:00:01     0:00:10\r\r"
     ]
    },
    {
     "name": "stderr",
     "output_type": "stream",
     "text": [
      "\r 14779.59118      81213.17    97.16%    48.42%     0:00:01     0:00:09\r\r"
     ]
    },
    {
     "name": "stderr",
     "output_type": "stream",
     "text": [
      "\r 13630.54820      75685.75    96.63%    46.95%     0:00:01     0:00:09\r\r"
     ]
    },
    {
     "name": "stderr",
     "output_type": "stream",
     "text": [
      "\r 12570.83786      74722.10    95.37%    47.58%     0:00:01     0:00:09\r\r"
     ]
    },
    {
     "name": "stderr",
     "output_type": "stream",
     "text": [
      "\r 11593.51496      81779.59    95.79%    45.95%     0:00:01     0:00:09\r\r"
     ]
    },
    {
     "name": "stderr",
     "output_type": "stream",
     "text": [
      "\r 10692.17426      75615.41    95.53%    47.84%     0:00:02     0:00:09\r\r"
     ]
    },
    {
     "name": "stderr",
     "output_type": "stream",
     "text": [
      "\r  9860.90853      86294.21    94.42%    48.00%     0:00:02     0:00:09\r\r"
     ]
    },
    {
     "name": "stderr",
     "output_type": "stream",
     "text": [
      "\r  9094.26975      69544.64    94.05%    46.42%     0:00:02     0:00:09\r\r"
     ]
    },
    {
     "name": "stderr",
     "output_type": "stream",
     "text": [
      "\r  8387.23350      70113.62    93.26%    45.42%     0:00:02     0:00:08\r\r"
     ]
    },
    {
     "name": "stderr",
     "output_type": "stream",
     "text": [
      "\r  7735.16596      75213.52    94.05%    46.58%     0:00:02     0:00:08\r\r"
     ]
    },
    {
     "name": "stderr",
     "output_type": "stream",
     "text": [
      "\r  7133.79356      74820.21    91.00%    45.63%     0:00:02     0:00:08\r\r"
     ]
    },
    {
     "name": "stderr",
     "output_type": "stream",
     "text": [
      "\r  6579.17502      82735.82    90.63%    44.68%     0:00:02     0:00:08\r\r"
     ]
    },
    {
     "name": "stderr",
     "output_type": "stream",
     "text": [
      "\r  6067.67543      75218.00    91.16%    45.21%     0:00:02     0:00:08\r\r"
     ]
    },
    {
     "name": "stderr",
     "output_type": "stream",
     "text": [
      "\r  5595.94250      66943.40    90.32%    45.21%     0:00:02     0:00:08\r\r"
     ]
    },
    {
     "name": "stderr",
     "output_type": "stream",
     "text": [
      "\r  5160.88456      73128.64    91.11%    45.26%     0:00:02     0:00:08\r\r"
     ]
    },
    {
     "name": "stderr",
     "output_type": "stream",
     "text": [
      "\r  4759.65031      60520.10    88.74%    44.74%     0:00:03     0:00:08\r\r"
     ]
    },
    {
     "name": "stderr",
     "output_type": "stream",
     "text": [
      "\r  4389.61012      71691.68    87.68%    42.63%     0:00:03     0:00:08\r\r"
     ]
    },
    {
     "name": "stderr",
     "output_type": "stream",
     "text": [
      "\r  4048.33880      80158.09    86.89%    43.53%     0:00:03     0:00:07\r\r"
     ]
    },
    {
     "name": "stderr",
     "output_type": "stream",
     "text": [
      "\r  3733.59969      62811.26    83.79%    40.89%     0:00:03     0:00:07\r\r"
     ]
    },
    {
     "name": "stderr",
     "output_type": "stream",
     "text": [
      "\r  3443.33006      62760.21    83.74%    42.00%     0:00:03     0:00:08\r\r"
     ]
    },
    {
     "name": "stderr",
     "output_type": "stream",
     "text": [
      "\r  3175.62751      70206.49    82.37%    40.11%     0:00:04     0:00:08\r\r"
     ]
    },
    {
     "name": "stderr",
     "output_type": "stream",
     "text": [
      "\r  2928.73757      73719.55    81.16%    40.84%     0:00:04     0:00:08\r\r"
     ]
    },
    {
     "name": "stderr",
     "output_type": "stream",
     "text": [
      "\r  2701.04214      69407.15    80.00%    40.16%     0:00:04     0:00:08\r\r"
     ]
    },
    {
     "name": "stderr",
     "output_type": "stream",
     "text": [
      "\r  2491.04895      61705.04    76.05%    37.95%     0:00:04     0:00:08\r\r"
     ]
    },
    {
     "name": "stderr",
     "output_type": "stream",
     "text": [
      "\r  2297.38173      67298.32    74.89%    37.37%     0:00:04     0:00:08\r\r"
     ]
    },
    {
     "name": "stderr",
     "output_type": "stream",
     "text": [
      "\r  2118.77122      63180.52    74.95%    37.00%     0:00:04     0:00:08\r\r"
     ]
    },
    {
     "name": "stderr",
     "output_type": "stream",
     "text": [
      "\r  1954.04683      68825.15    74.74%    37.42%     0:00:04     0:00:07\r\r"
     ]
    },
    {
     "name": "stderr",
     "output_type": "stream",
     "text": [
      "\r  1802.12897      60871.56    70.89%    35.63%     0:00:04     0:00:07\r\r"
     ]
    },
    {
     "name": "stderr",
     "output_type": "stream",
     "text": [
      "\r  1662.02201      62065.44    68.58%    34.42%     0:00:04     0:00:07\r\r"
     ]
    },
    {
     "name": "stderr",
     "output_type": "stream",
     "text": [
      "\r  1532.80770      58585.99    65.42%    31.47%     0:00:04     0:00:07\r\r"
     ]
    },
    {
     "name": "stderr",
     "output_type": "stream",
     "text": [
      "\r  1413.63918      55854.08    65.00%    32.37%     0:00:05     0:00:07\r\r"
     ]
    },
    {
     "name": "stderr",
     "output_type": "stream",
     "text": [
      "\r  1303.73546      65584.82    62.63%    30.95%     0:00:05     0:00:07\r\r"
     ]
    },
    {
     "name": "stderr",
     "output_type": "stream",
     "text": [
      "\r  1202.37622      59253.24    58.84%    29.84%     0:00:05     0:00:07\r\r"
     ]
    },
    {
     "name": "stderr",
     "output_type": "stream",
     "text": [
      "\r  1108.89718      56373.55    55.47%    26.42%     0:00:05     0:00:06\r\r"
     ]
    },
    {
     "name": "stderr",
     "output_type": "stream",
     "text": [
      "\r  1022.68570      55589.29    53.32%    26.79%     0:00:05     0:00:06\r\r"
     ]
    },
    {
     "name": "stderr",
     "output_type": "stream",
     "text": [
      "\r   943.17674      54210.14    50.84%    24.79%     0:00:05     0:00:06\r\r"
     ]
    },
    {
     "name": "stderr",
     "output_type": "stream",
     "text": [
      "\r   869.84923      52754.52    49.89%    24.26%     0:00:05     0:00:06\r\r"
     ]
    },
    {
     "name": "stderr",
     "output_type": "stream",
     "text": [
      "\r   802.22259      44523.77    45.47%    23.47%     0:00:05     0:00:06\r\r"
     ]
    },
    {
     "name": "stderr",
     "output_type": "stream",
     "text": [
      "\r   739.85360      43183.49    41.37%    20.16%     0:00:05     0:00:06\r\r"
     ]
    },
    {
     "name": "stderr",
     "output_type": "stream",
     "text": [
      "\r   682.33350      40318.96    36.89%    18.26%     0:00:05     0:00:06\r\r"
     ]
    },
    {
     "name": "stderr",
     "output_type": "stream",
     "text": [
      "\r   629.28531      48942.81    35.53%    17.47%     0:00:06     0:00:06\r\r"
     ]
    },
    {
     "name": "stderr",
     "output_type": "stream",
     "text": [
      "\r   580.36137      36335.82    33.42%    16.47%     0:00:06     0:00:05\r\r"
     ]
    },
    {
     "name": "stderr",
     "output_type": "stream",
     "text": [
      "\r   535.24103      34469.21    30.16%    15.37%     0:00:06     0:00:05\r\r"
     ]
    },
    {
     "name": "stderr",
     "output_type": "stream",
     "text": [
      "\r   493.62858      37205.85    26.53%    12.63%     0:00:06     0:00:05\r\r"
     ]
    },
    {
     "name": "stderr",
     "output_type": "stream",
     "text": [
      "\r   455.25131      36524.80    22.79%    11.32%     0:00:06     0:00:05\r\r"
     ]
    },
    {
     "name": "stderr",
     "output_type": "stream",
     "text": [
      "\r   419.85768      35976.15    25.37%    12.05%     0:00:06     0:00:05\r\r"
     ]
    },
    {
     "name": "stderr",
     "output_type": "stream",
     "text": [
      "\r   387.21574      31747.97    19.05%     9.95%     0:00:06     0:00:05\r\r"
     ]
    },
    {
     "name": "stderr",
     "output_type": "stream",
     "text": [
      "\r   357.11156      26885.13    16.63%     8.16%     0:00:06     0:00:05\r\r"
     ]
    },
    {
     "name": "stderr",
     "output_type": "stream",
     "text": [
      "\r   329.34783      30185.14    18.21%     8.89%     0:00:06     0:00:05\r\r"
     ]
    },
    {
     "name": "stderr",
     "output_type": "stream",
     "text": [
      "\r   303.74260      27169.16    16.16%     8.84%     0:00:06     0:00:05\r\r"
     ]
    },
    {
     "name": "stderr",
     "output_type": "stream",
     "text": [
      "\r   280.12806      25488.62    12.63%     6.32%     0:00:07     0:00:04\r\r"
     ]
    },
    {
     "name": "stderr",
     "output_type": "stream",
     "text": [
      "\r   258.34943      25874.30    12.11%     5.63%     0:00:07     0:00:04\r\r"
     ]
    },
    {
     "name": "stderr",
     "output_type": "stream",
     "text": [
      "\r   238.26399      25384.39    11.42%     5.58%     0:00:07     0:00:04\r\r"
     ]
    },
    {
     "name": "stderr",
     "output_type": "stream",
     "text": [
      "\r   219.74010      24265.10     9.37%     4.68%     0:00:07     0:00:04\r\r"
     ]
    },
    {
     "name": "stderr",
     "output_type": "stream",
     "text": [
      "\r   202.65635      22727.10     8.74%     4.37%     0:00:07     0:00:04\r\r"
     ]
    },
    {
     "name": "stderr",
     "output_type": "stream",
     "text": [
      "\r   186.90078      21165.52     7.37%     3.68%     0:00:07     0:00:04\r\r"
     ]
    },
    {
     "name": "stderr",
     "output_type": "stream",
     "text": [
      "\r   172.37014      22094.31     6.89%     3.47%     0:00:07     0:00:04\r\r"
     ]
    },
    {
     "name": "stderr",
     "output_type": "stream",
     "text": [
      "\r   158.96918      20232.78     5.58%     2.53%     0:00:07     0:00:04\r\r"
     ]
    },
    {
     "name": "stderr",
     "output_type": "stream",
     "text": [
      "\r   146.61008      20783.53     5.37%     2.32%     0:00:07     0:00:03\r\r"
     ]
    },
    {
     "name": "stderr",
     "output_type": "stream",
     "text": [
      "\r   135.21184      19110.22     5.05%     2.42%     0:00:08     0:00:03\r\r"
     ]
    },
    {
     "name": "stderr",
     "output_type": "stream",
     "text": [
      "\r   124.69976      20606.86     4.32%     1.79%     0:00:08     0:00:03\r\r"
     ]
    },
    {
     "name": "stderr",
     "output_type": "stream",
     "text": [
      "\r   115.00495      20131.87     3.47%     1.84%     0:00:08     0:00:03\r\r"
     ]
    },
    {
     "name": "stderr",
     "output_type": "stream",
     "text": [
      "\r   106.06386      18305.67     3.37%     1.74%     0:00:08     0:00:03\r\r"
     ]
    },
    {
     "name": "stderr",
     "output_type": "stream",
     "text": [
      "\r    97.81790      18946.82     2.21%     0.84%     0:00:09     0:00:03\r\r"
     ]
    },
    {
     "name": "stderr",
     "output_type": "stream",
     "text": [
      "\r    90.21302      18152.96     1.79%     0.84%     0:00:09     0:00:03\r\r"
     ]
    },
    {
     "name": "stderr",
     "output_type": "stream",
     "text": [
      "\r    83.19939      18476.89     2.42%     1.00%     0:00:09     0:00:03\r\r"
     ]
    },
    {
     "name": "stderr",
     "output_type": "stream",
     "text": [
      "\r    76.73103      19354.20     2.42%     1.00%     0:00:09     0:00:03\r\r"
     ]
    },
    {
     "name": "stderr",
     "output_type": "stream",
     "text": [
      "\r    70.76556      18906.38     1.53%     0.68%     0:00:09     0:00:03\r\r"
     ]
    },
    {
     "name": "stderr",
     "output_type": "stream",
     "text": [
      "\r    65.26387      18133.66     2.11%     1.05%     0:00:09     0:00:03\r\r"
     ]
    },
    {
     "name": "stderr",
     "output_type": "stream",
     "text": [
      "\r    60.18992      18110.74     1.53%     0.68%     0:00:09     0:00:02\r\r"
     ]
    },
    {
     "name": "stderr",
     "output_type": "stream",
     "text": [
      "\r    55.51044      17981.86     1.11%     0.37%     0:00:09     0:00:02\r\r"
     ]
    },
    {
     "name": "stderr",
     "output_type": "stream",
     "text": [
      "\r    51.19476      17952.09     1.74%     0.84%     0:00:09     0:00:02\r\r"
     ]
    },
    {
     "name": "stderr",
     "output_type": "stream",
     "text": [
      "\r    47.21461      17979.07     1.84%     0.79%     0:00:09     0:00:02\r\r"
     ]
    },
    {
     "name": "stderr",
     "output_type": "stream",
     "text": [
      "\r    43.54390      18005.44     1.11%     0.37%     0:00:10     0:00:02\r\r"
     ]
    },
    {
     "name": "stderr",
     "output_type": "stream",
     "text": [
      "\r    40.15857      17632.04     1.53%     0.58%     0:00:10     0:00:02\r\r"
     ]
    },
    {
     "name": "stderr",
     "output_type": "stream",
     "text": [
      "\r    37.03643      17665.87     0.63%     0.16%     0:00:10     0:00:02\r\r"
     ]
    },
    {
     "name": "stderr",
     "output_type": "stream",
     "text": [
      "\r    34.15703      17515.19     0.47%     0.21%     0:00:10     0:00:02\r\r"
     ]
    },
    {
     "name": "stderr",
     "output_type": "stream",
     "text": [
      "\r    31.50148      17625.18     0.47%     0.11%     0:00:10     0:00:01\r\r"
     ]
    },
    {
     "name": "stderr",
     "output_type": "stream",
     "text": [
      "\r    29.05239      17591.60     0.58%     0.21%     0:00:10     0:00:01\r\r"
     ]
    },
    {
     "name": "stderr",
     "output_type": "stream",
     "text": [
      "\r    26.79370      17657.44     0.47%     0.05%     0:00:10     0:00:01\r\r"
     ]
    },
    {
     "name": "stderr",
     "output_type": "stream",
     "text": [
      "\r    24.71062      17583.96     0.42%     0.21%     0:00:10     0:00:01\r\r"
     ]
    },
    {
     "name": "stderr",
     "output_type": "stream",
     "text": [
      "\r    22.78949      17738.18     0.47%     0.11%     0:00:10     0:00:01\r\r"
     ]
    },
    {
     "name": "stderr",
     "output_type": "stream",
     "text": [
      "\r    21.01771      17714.00     0.63%     0.16%     0:00:10     0:00:01\r\r"
     ]
    },
    {
     "name": "stderr",
     "output_type": "stream",
     "text": [
      "\r    19.38369      17548.53     0.58%     0.21%     0:00:11     0:00:01\r\r"
     ]
    },
    {
     "name": "stderr",
     "output_type": "stream",
     "text": [
      "\r    17.87670      17641.14     0.32%     0.00%     0:00:11     0:00:01\r\r"
     ]
    },
    {
     "name": "stderr",
     "output_type": "stream",
     "text": [
      "\r    16.48687      17570.01     0.79%     0.26%     0:00:11     0:00:01\r\r"
     ]
    },
    {
     "name": "stderr",
     "output_type": "stream",
     "text": [
      "\r    15.20509      17479.83     0.53%     0.21%     0:00:11     0:00:00\r\r"
     ]
    },
    {
     "name": "stderr",
     "output_type": "stream",
     "text": [
      "\r    14.02297      17479.83     0.42%     0.00%     0:00:11     0:00:00\r\r"
     ]
    },
    {
     "name": "stderr",
     "output_type": "stream",
     "text": [
      "\r    12.93275      17498.56     0.47%     0.00%     0:00:11     0:00:00\r\r"
     ]
    },
    {
     "name": "stderr",
     "output_type": "stream",
     "text": [
      "\r    11.92729      17510.85     0.32%     0.05%     0:00:12     0:00:00\r\r"
     ]
    },
    {
     "name": "stderr",
     "output_type": "stream",
     "text": [
      "\r    11.00000      17498.56     0.53%     0.16%     0:00:12     0:00:00\r\r"
     ]
    },
    {
     "data": {
      "image/png": "[encoded data removed]",
      "text/plain": [
       "<Figure size 648x432 with 1 Axes>"
      ]
     },
     "execution_count": 2,
     "metadata": {
      "image/png": {
       "height": 352,
       "width": 516
      }
     },
     "output_type": "execute_result"
    }
   ],
   "source": [
    "import numpy as np\n",
    "import json\n",
    "from simanneal import Annealer\n",
    "# read data\n",
    "with open(\"data/Caps48.json\", \"r\") as tsp_data:\n",
    "    data = json.load(tsp_data)\n",
    "\n",
    "def tour_distance(tour, dist_mat):\n",
    "    distance = dist_mat[tour[-1]][tour[0]]\n",
    "    for gene1, gene2 in zip(tour[0:-1], tour[1:]):\n",
    "        distance += dist_mat[gene1][gene2]\n",
    "    return distance/1000 # convert to kilometers\n",
    "\n",
    "\n",
    "def sub_tour_reversal(tour):\n",
    "    # reverse a random tour segment\n",
    "    n = len(tour)\n",
    "    i, j = np.sort(np.random.choice(n, 2, replace=False))\n",
    "    return (np.concatenate((tour[0:i], tour[j:-n + i - 1:-1], tour[j + 1:n])))\n",
    "\n",
    "\n",
    "# build the class\n",
    "class TravellingSalesmanProblem(Annealer):\n",
    "    # pass extra data to the constructor\n",
    "    def __init__(self, state, distance_matrix):\n",
    "        self.distance_matrix = distance_matrix\n",
    "        super(TravellingSalesmanProblem, self).__init__(state)  # important!\n",
    "\n",
    "    def move(self):\n",
    "        self.state = sub_tour_reversal(self.state)\n",
    "\n",
    "    def energy(self):\n",
    "        return tour_distance(self.state, self.distance_matrix)\n",
    "\n",
    "\n",
    "dist_matrix = data['DistanceMatrix']\n",
    "init_tour = np.random.permutation(np.arange(len(dist_matrix))).astype(int).tolist()\n",
    "\n",
    "tsp = TravellingSalesmanProblem(init_tour, dist_matrix)\n",
    "tsp.set_schedule(tsp.auto(minutes=.2)) #set approximate time to find results\n",
    "\n",
    "best_tour, best_dist = tsp.anneal()\n",
    "\n",
    "xy = np.array(data[\"Coordinates\"])\n",
    "\n",
    "def plot_tour(best_tour, xy_meters, best_dist, height, width):\n",
    "\n",
    "    meters_to_pxl = 0.0004374627441064968\n",
    "    intercept_x = 2.464\n",
    "    intercept_y = 1342.546\n",
    "    xy_pixels = np.zeros(xy_meters.shape)\n",
    "    xy_pixels[:,0] = meters_to_pxl * xy_meters[:,0] + intercept_x\n",
    "    xy_pixels[:,1] = -meters_to_pxl * xy_meters[:,1] + intercept_y\n",
    "\n",
    "    fig, ax = plt.subplots(1, 1, figsize=(height, width))\n",
    "    im = plt.imread('images/caps48.png')\n",
    "    implot = ax.imshow(im)\n",
    "    plt.setp(ax.get_xticklabels(), visible=False)\n",
    "    plt.setp(ax.get_yticklabels(), visible=False)\n",
    "    ax.tick_params(axis='both', which='both', length=0)\n",
    "\n",
    "    loop_tour = np.append(best_tour, best_tour[0])\n",
    "    ax.plot(xy_pixels[loop_tour, 0],\n",
    "            xy_pixels[loop_tour, 1],\n",
    "            c='b',\n",
    "            linewidth=1,\n",
    "            linestyle='-')\n",
    "    plt.title(f\"Best Distance {best_dist:.0f} km\")\n",
    "\n",
    "plot_tour(best_tour, xy, best_dist, 9, 6)"
   ]
  },
  {
   "cell_type": "markdown",
   "metadata": {
    "collapsed": false
   },
   "source": [
    "## Question 3 <font color=\"magenta\">(1 point, manual)</font>\n",
    "\n",
    "Use simulated annealing in the `simanneal` package to solve the knapsack problem introduced in Lesson 5 and Homework 5.  Your \"move\" function/method should use a \"hard constraint\" and reject any potential knapsack solutions with weight greater than 50:\n",
    "* copy `self.state` with `new_state = self.state.copy()`\n",
    "* make a move on `new_state` (toggle a random item like in HW 5)\n",
    "* if the total weight of `new_state` is $\\leq 50$ then `set self.state = new_state`\n",
    "* else don't change `self.state`.\n",
    "\n",
    "Your fitness function/method should return the negative total value of the items in the knapsack since `simanneal` is for minimizing functions, but here we want the maximum.  Use this exact code to set up the knapsack.  Do not change anything.\n",
    "\n",
    "**Note:  the move method doesn't return anything, it should simply modify self.state.**\n",
    "\n",
    "```\n",
    "# generate random weights and values for a knapsack problem\n",
    "# DO NOT CHANGE ANYTHING in this block of code\n",
    "import numpy as np\n",
    "num_items = 20\n",
    "np.random.seed(seed=123) \n",
    "values = np.random.randint(low=5, high=50, size=num_items)\n",
    "weights = np.random.randint(low=1, high=10, size=num_items)\n",
    "max_weight = 50\n",
    "np.random.seed() # use system clock to reset the seed so future random numbers will appear random\n",
    "```\n",
    "\n",
    "Simanneal should be able to find the global maximum value.\n",
    "Execute your code a few times and report the maximum (positive) total value for the items in the knapsack.  **Note:  simanneal is for *minimizing* functions.**\n",
    "\n",
    "**435**\n",
    "\n",
    "## Question 4 <font color=\"magenta\">(1 point, auto)</font>\n",
    "\n",
    "How many items are included in your optimized knapsack?\n",
    "\n",
    "**13**\n",
    "\n",
    "\n",
    "## Question 5 <font color=\"magenta\">(4 points, manual)</font>\n",
    "\n",
    "Include the complete code for your simanneal solution to the \"hard constraint\" knapsack problem in the cell below.  Your complete and executed code must be in CoCalc also."
   ]
  },
  {
   "cell_type": "code",
   "execution_count": 3,
   "metadata": {
    "collapsed": false,
    "scrolled": true
   },
   "outputs": [
    {
     "name": "stderr",
     "output_type": "stream",
     "text": [
      " Temperature        Energy    Accept   Improve     Elapsed   Remaining\n",
      "\r     0.00000       -245.00                         0:00:00            \r"
     ]
    },
    {
     "name": "stderr",
     "output_type": "stream",
     "text": [
      "\r    57.00000       -290.00    76.20%    37.20%     0:00:00     0:00:02\r\r"
     ]
    },
    {
     "name": "stderr",
     "output_type": "stream",
     "text": [
      "\r    86.00000       -334.00    84.45%    41.55%     0:00:00     0:00:02\r\r"
     ]
    },
    {
     "name": "stderr",
     "output_type": "stream",
     "text": [
      "\r   130.00000       -225.00    87.95%    43.20%     0:00:00     0:00:02\r\r"
     ]
    },
    {
     "name": "stderr",
     "output_type": "stream",
     "text": [
      "\r   200.00000       -290.00    93.60%    46.15%     0:00:00     0:00:02\r\r"
     ]
    },
    {
     "name": "stderr",
     "output_type": "stream",
     "text": [
      "\r   300.00000       -207.00    95.75%    48.00%     0:00:01     0:00:02\r\r"
     ]
    },
    {
     "name": "stderr",
     "output_type": "stream",
     "text": [
      "\r   450.00000       -248.00    96.30%    48.00%     0:00:01     0:00:02\r\r"
     ]
    },
    {
     "name": "stderr",
     "output_type": "stream",
     "text": [
      "\r   680.00000       -255.00    98.40%    48.25%     0:00:01     0:00:02\r\r"
     ]
    },
    {
     "name": "stderr",
     "output_type": "stream",
     "text": [
      "\r   450.00000       -226.00    96.55%    47.50%     0:00:01     0:00:02\r\r"
     ]
    },
    {
     "name": "stderr",
     "output_type": "stream",
     "text": [
      "\r   300.00000       -271.00    96.20%    47.45%     0:00:01     0:00:01\r\r"
     ]
    },
    {
     "name": "stderr",
     "output_type": "stream",
     "text": [
      "\r   200.00000       -202.00    92.85%    45.20%     0:00:01     0:00:01\r\r"
     ]
    },
    {
     "name": "stderr",
     "output_type": "stream",
     "text": [
      "\r   130.00000       -274.00    89.95%    44.60%     0:00:01     0:00:01\r\r"
     ]
    },
    {
     "name": "stderr",
     "output_type": "stream",
     "text": [
      "\r    87.00000       -317.00    81.75%    40.10%     0:00:01     0:00:01\r\r"
     ]
    },
    {
     "name": "stderr",
     "output_type": "stream",
     "text": [
      "\r    58.00000       -257.00    76.20%    38.05%     0:00:01     0:00:01\r\r"
     ]
    },
    {
     "name": "stderr",
     "output_type": "stream",
     "text": [
      "\r    39.00000       -337.00    65.40%    31.80%     0:00:01     0:00:01\r\r"
     ]
    },
    {
     "name": "stderr",
     "output_type": "stream",
     "text": [
      "\r    26.00000       -376.00    50.35%    23.95%     0:00:02     0:00:01\r\r"
     ]
    },
    {
     "name": "stderr",
     "output_type": "stream",
     "text": [
      "\r    17.00000       -370.00    35.35%    16.50%     0:00:02     0:00:01\r\r"
     ]
    },
    {
     "name": "stderr",
     "output_type": "stream",
     "text": [
      "\r    11.00000       -390.00    20.20%     9.55%     0:00:02     0:00:01\r\r"
     ]
    },
    {
     "name": "stderr",
     "output_type": "stream",
     "text": [
      "\r     7.30000       -430.00     8.60%     2.90%     0:00:02     0:00:01\r\r"
     ]
    },
    {
     "name": "stderr",
     "output_type": "stream",
     "text": [
      "\r     4.90000       -422.00     6.45%     2.35%     0:00:03     0:00:01\r\r"
     ]
    },
    {
     "name": "stderr",
     "output_type": "stream",
     "text": [
      "\r     3.30000       -416.00     2.90%     0.40%     0:00:03     0:00:01\r\r"
     ]
    },
    {
     "name": "stderr",
     "output_type": "stream",
     "text": [
      "\r     2.20000       -435.00     2.30%     0.30%     0:00:03     0:00:00\r\r"
     ]
    },
    {
     "name": "stderr",
     "output_type": "stream",
     "text": [
      "\r     1.50000       -435.00     1.70%     0.00%     0:00:03     0:00:00\r\r"
     ]
    },
    {
     "name": "stderr",
     "output_type": "stream",
     "text": [
      " Temperature        Energy    Accept   Improve     Elapsed   Remaining\n",
      "\r   680.00000       -435.00                         0:00:00            \r"
     ]
    },
    {
     "name": "stderr",
     "output_type": "stream",
     "text": [
      "\r   639.65343       -305.00    98.11%    48.33%     0:00:00     0:00:08\r\r"
     ]
    },
    {
     "name": "stderr",
     "output_type": "stream",
     "text": [
      "\r   601.70076       -251.00    98.11%    48.17%     0:00:00     0:00:07\r\r"
     ]
    },
    {
     "name": "stderr",
     "output_type": "stream",
     "text": [
      "\r   565.99994       -340.00    97.78%    48.50%     0:00:00     0:00:08\r\r"
     ]
    },
    {
     "name": "stderr",
     "output_type": "stream",
     "text": [
      "\r   532.41736       -348.00    98.00%    48.56%     0:00:00     0:00:09\r\r"
     ]
    },
    {
     "name": "stderr",
     "output_type": "stream",
     "text": [
      "\r   500.82734       -217.00    97.56%    47.72%     0:00:00     0:00:09\r\r"
     ]
    },
    {
     "name": "stderr",
     "output_type": "stream",
     "text": [
      "\r   471.11166       -279.00    97.50%    48.89%     0:00:01     0:00:08\r\r"
     ]
    },
    {
     "name": "stderr",
     "output_type": "stream",
     "text": [
      "\r   443.15911       -316.00    97.28%    48.06%     0:00:01     0:00:08\r\r"
     ]
    },
    {
     "name": "stderr",
     "output_type": "stream",
     "text": [
      "\r   416.86506       -309.00    96.83%    47.44%     0:00:01     0:00:08\r\r"
     ]
    },
    {
     "name": "stderr",
     "output_type": "stream",
     "text": [
      "\r   392.13113       -195.00    96.17%    47.33%     0:00:01     0:00:08\r\r"
     ]
    },
    {
     "name": "stderr",
     "output_type": "stream",
     "text": [
      "\r   368.86474       -258.00    96.00%    47.39%     0:00:01     0:00:08\r\r"
     ]
    },
    {
     "name": "stderr",
     "output_type": "stream",
     "text": [
      "\r   346.97882       -232.00    95.89%    47.06%     0:00:01     0:00:08\r\r"
     ]
    },
    {
     "name": "stderr",
     "output_type": "stream",
     "text": [
      "\r   326.39147       -289.00    95.78%    47.28%     0:00:01     0:00:08\r\r"
     ]
    },
    {
     "name": "stderr",
     "output_type": "stream",
     "text": [
      "\r   307.02562       -270.00    95.56%    47.67%     0:00:01     0:00:08\r\r"
     ]
    },
    {
     "name": "stderr",
     "output_type": "stream",
     "text": [
      "\r   288.80881       -315.00    94.56%    46.72%     0:00:01     0:00:08\r\r"
     ]
    },
    {
     "name": "stderr",
     "output_type": "stream",
     "text": [
      "\r   271.67287       -162.00    94.17%    47.06%     0:00:01     0:00:08\r\r"
     ]
    },
    {
     "name": "stderr",
     "output_type": "stream",
     "text": [
      "\r   255.55365       -196.00    95.56%    47.06%     0:00:01     0:00:08\r\r"
     ]
    },
    {
     "name": "stderr",
     "output_type": "stream",
     "text": [
      "\r   240.39084       -264.00    94.00%    46.39%     0:00:02     0:00:08\r\r"
     ]
    },
    {
     "name": "stderr",
     "output_type": "stream",
     "text": [
      "\r   226.12768       -257.00    94.39%    46.72%     0:00:02     0:00:08\r\r"
     ]
    },
    {
     "name": "stderr",
     "output_type": "stream",
     "text": [
      "\r   212.71081       -307.00    94.00%    47.00%     0:00:02     0:00:08\r\r"
     ]
    },
    {
     "name": "stderr",
     "output_type": "stream",
     "text": [
      "\r   200.09000       -213.00    94.22%    46.50%     0:00:02     0:00:08\r\r"
     ]
    },
    {
     "name": "stderr",
     "output_type": "stream",
     "text": [
      "\r   188.21802       -297.00    92.67%    45.67%     0:00:02     0:00:07\r\r"
     ]
    },
    {
     "name": "stderr",
     "output_type": "stream",
     "text": [
      "\r   177.05045       -248.00    92.89%    45.56%     0:00:02     0:00:07\r\r"
     ]
    },
    {
     "name": "stderr",
     "output_type": "stream",
     "text": [
      "\r   166.54548       -254.00    90.94%    44.39%     0:00:02     0:00:07\r\r"
     ]
    },
    {
     "name": "stderr",
     "output_type": "stream",
     "text": [
      "\r   156.66381       -293.00    90.94%    45.72%     0:00:02     0:00:07\r\r"
     ]
    },
    {
     "name": "stderr",
     "output_type": "stream",
     "text": [
      "\r   147.36844       -245.00    90.33%    45.39%     0:00:02     0:00:07\r\r"
     ]
    },
    {
     "name": "stderr",
     "output_type": "stream",
     "text": [
      "\r   138.62461       -180.00    90.56%    44.67%     0:00:02     0:00:07\r\r"
     ]
    },
    {
     "name": "stderr",
     "output_type": "stream",
     "text": [
      "\r   130.39957       -218.00    89.44%    43.78%     0:00:02     0:00:07\r\r"
     ]
    },
    {
     "name": "stderr",
     "output_type": "stream",
     "text": [
      "\r   122.66254       -296.00    89.50%    44.72%     0:00:03     0:00:07\r\r"
     ]
    },
    {
     "name": "stderr",
     "output_type": "stream",
     "text": [
      "\r   115.38459       -282.00    88.06%    43.89%     0:00:03     0:00:07\r\r"
     ]
    },
    {
     "name": "stderr",
     "output_type": "stream",
     "text": [
      "\r   108.53845       -370.00    87.44%    43.83%     0:00:03     0:00:06\r\r"
     ]
    },
    {
     "name": "stderr",
     "output_type": "stream",
     "text": [
      "\r   102.09852       -281.00    85.56%    41.78%     0:00:03     0:00:06\r\r"
     ]
    },
    {
     "name": "stderr",
     "output_type": "stream",
     "text": [
      "\r    96.04069       -272.00    85.83%    42.67%     0:00:03     0:00:06\r\r"
     ]
    },
    {
     "name": "stderr",
     "output_type": "stream",
     "text": [
      "\r    90.34229       -199.00    86.06%    41.94%     0:00:03     0:00:06\r\r"
     ]
    },
    {
     "name": "stderr",
     "output_type": "stream",
     "text": [
      "\r    84.98199       -295.00    84.39%    41.67%     0:00:03     0:00:06\r\r"
     ]
    },
    {
     "name": "stderr",
     "output_type": "stream",
     "text": [
      "\r    79.93974       -349.00    81.33%    40.33%     0:00:03     0:00:06\r\r"
     ]
    },
    {
     "name": "stderr",
     "output_type": "stream",
     "text": [
      "\r    75.19666       -275.00    80.56%    38.61%     0:00:03     0:00:06\r\r"
     ]
    },
    {
     "name": "stderr",
     "output_type": "stream",
     "text": [
      "\r    70.73500       -289.00    79.61%    38.33%     0:00:03     0:00:06\r\r"
     ]
    },
    {
     "name": "stderr",
     "output_type": "stream",
     "text": [
      "\r    66.53807       -359.00    77.83%    37.89%     0:00:03     0:00:06\r\r"
     ]
    },
    {
     "name": "stderr",
     "output_type": "stream",
     "text": [
      "\r    62.59016       -281.00    77.44%    37.83%     0:00:04     0:00:05\r\r"
     ]
    },
    {
     "name": "stderr",
     "output_type": "stream",
     "text": [
      "\r    58.87648       -298.00    75.56%    36.44%     0:00:04     0:00:05\r\r"
     ]
    },
    {
     "name": "stderr",
     "output_type": "stream",
     "text": [
      "\r    55.38315       -384.00    76.78%    37.39%     0:00:04     0:00:05\r\r"
     ]
    },
    {
     "name": "stderr",
     "output_type": "stream",
     "text": [
      "\r    52.09709       -294.00    72.72%    35.22%     0:00:04     0:00:05\r\r"
     ]
    },
    {
     "name": "stderr",
     "output_type": "stream",
     "text": [
      "\r    49.00601       -305.00    72.61%    35.28%     0:00:04     0:00:05\r\r"
     ]
    },
    {
     "name": "stderr",
     "output_type": "stream",
     "text": [
      "\r    46.09832       -347.00    69.17%    34.06%     0:00:04     0:00:05\r\r"
     ]
    },
    {
     "name": "stderr",
     "output_type": "stream",
     "text": [
      "\r    43.36316       -301.00    67.50%    32.89%     0:00:04     0:00:05\r\r"
     ]
    },
    {
     "name": "stderr",
     "output_type": "stream",
     "text": [
      "\r    40.79029       -245.00    66.00%    32.06%     0:00:04     0:00:05\r\r"
     ]
    },
    {
     "name": "stderr",
     "output_type": "stream",
     "text": [
      "\r    38.37007       -251.00    65.89%    32.00%     0:00:04     0:00:05\r\r"
     ]
    },
    {
     "name": "stderr",
     "output_type": "stream",
     "text": [
      "\r    36.09345       -238.00    63.22%    31.56%     0:00:04     0:00:05\r\r"
     ]
    },
    {
     "name": "stderr",
     "output_type": "stream",
     "text": [
      "\r    33.95191       -317.00    60.06%    29.28%     0:00:05     0:00:05\r\r"
     ]
    },
    {
     "name": "stderr",
     "output_type": "stream",
     "text": [
      "\r    31.93744       -287.00    60.22%    29.33%     0:00:05     0:00:05\r\r"
     ]
    },
    {
     "name": "stderr",
     "output_type": "stream",
     "text": [
      "\r    30.04249       -352.00    59.50%    29.28%     0:00:05     0:00:05\r\r"
     ]
    },
    {
     "name": "stderr",
     "output_type": "stream",
     "text": [
      "\r    28.25997       -256.00    55.22%    26.83%     0:00:06     0:00:05\r\r"
     ]
    },
    {
     "name": "stderr",
     "output_type": "stream",
     "text": [
      "\r    26.58322       -349.00    54.72%    26.50%     0:00:06     0:00:05\r\r"
     ]
    },
    {
     "name": "stderr",
     "output_type": "stream",
     "text": [
      "\r    25.00595       -360.00    50.61%    24.44%     0:00:06     0:00:05\r\r"
     ]
    },
    {
     "name": "stderr",
     "output_type": "stream",
     "text": [
      "\r    23.52227       -309.00    46.83%    22.22%     0:00:06     0:00:05\r\r"
     ]
    },
    {
     "name": "stderr",
     "output_type": "stream",
     "text": [
      "\r    22.12662       -388.00    45.06%    20.50%     0:00:06     0:00:05\r\r"
     ]
    },
    {
     "name": "stderr",
     "output_type": "stream",
     "text": [
      "\r    20.81377       -330.00    41.17%    20.33%     0:00:06     0:00:05\r\r"
     ]
    },
    {
     "name": "stderr",
     "output_type": "stream",
     "text": [
      "\r    19.57883       -368.00    39.61%    19.28%     0:00:06     0:00:05\r\r"
     ]
    },
    {
     "name": "stderr",
     "output_type": "stream",
     "text": [
      "\r    18.41715       -354.00    36.44%    17.28%     0:00:06     0:00:04\r\r"
     ]
    },
    {
     "name": "stderr",
     "output_type": "stream",
     "text": [
      "\r    17.32440       -323.00    35.00%    15.94%     0:00:07     0:00:04\r\r"
     ]
    },
    {
     "name": "stderr",
     "output_type": "stream",
     "text": [
      "\r    16.29649       -360.00    30.50%    13.83%     0:00:07     0:00:04\r\r"
     ]
    },
    {
     "name": "stderr",
     "output_type": "stream",
     "text": [
      "\r    15.32957       -370.00    29.00%    13.67%     0:00:07     0:00:04\r\r"
     ]
    },
    {
     "name": "stderr",
     "output_type": "stream",
     "text": [
      "\r    14.42002       -392.00    28.39%    13.33%     0:00:07     0:00:04\r\r"
     ]
    },
    {
     "name": "stderr",
     "output_type": "stream",
     "text": [
      "\r    13.56443       -355.00    25.67%    11.50%     0:00:07     0:00:04\r\r"
     ]
    },
    {
     "name": "stderr",
     "output_type": "stream",
     "text": [
      "\r    12.75961       -380.00    24.89%    11.50%     0:00:07     0:00:04\r\r"
     ]
    },
    {
     "name": "stderr",
     "output_type": "stream",
     "text": [
      "\r    12.00254       -422.00    22.22%    10.00%     0:00:07     0:00:04\r\r"
     ]
    },
    {
     "name": "stderr",
     "output_type": "stream",
     "text": [
      "\r    11.29039       -368.00    21.06%     9.33%     0:00:07     0:00:04\r\r"
     ]
    },
    {
     "name": "stderr",
     "output_type": "stream",
     "text": [
      "\r    10.62050       -410.00    17.89%     7.72%     0:00:08     0:00:04\r\r"
     ]
    },
    {
     "name": "stderr",
     "output_type": "stream",
     "text": [
      "\r     9.99035       -420.00    15.06%     5.94%     0:00:08     0:00:03\r\r"
     ]
    },
    {
     "name": "stderr",
     "output_type": "stream",
     "text": [
      "\r     9.39759       -423.00    14.28%     6.11%     0:00:08     0:00:03\r\r"
     ]
    },
    {
     "name": "stderr",
     "output_type": "stream",
     "text": [
      "\r     8.84000       -423.00    13.33%     5.17%     0:00:08     0:00:03\r\r"
     ]
    },
    {
     "name": "stderr",
     "output_type": "stream",
     "text": [
      "\r     8.31550       -397.00    11.61%     5.00%     0:00:08     0:00:03\r\r"
     ]
    },
    {
     "name": "stderr",
     "output_type": "stream",
     "text": [
      "\r     7.82211       -387.00    12.00%     5.11%     0:00:08     0:00:03\r\r"
     ]
    },
    {
     "name": "stderr",
     "output_type": "stream",
     "text": [
      "\r     7.35800       -420.00     9.39%     3.83%     0:00:08     0:00:03\r\r"
     ]
    },
    {
     "name": "stderr",
     "output_type": "stream",
     "text": [
      "\r     6.92143       -430.00     7.50%     2.72%     0:00:08     0:00:03\r\r"
     ]
    },
    {
     "name": "stderr",
     "output_type": "stream",
     "text": [
      "\r     6.51076       -428.00     7.00%     2.89%     0:00:09     0:00:03\r\r"
     ]
    },
    {
     "name": "stderr",
     "output_type": "stream",
     "text": [
      "\r     6.12445       -418.00     7.11%     2.11%     0:00:09     0:00:03\r\r"
     ]
    },
    {
     "name": "stderr",
     "output_type": "stream",
     "text": [
      "\r     5.76107       -431.00     6.78%     2.56%     0:00:09     0:00:02\r\r"
     ]
    },
    {
     "name": "stderr",
     "output_type": "stream",
     "text": [
      "\r     5.41925       -419.00     6.28%     2.00%     0:00:09     0:00:02\r\r"
     ]
    },
    {
     "name": "stderr",
     "output_type": "stream",
     "text": [
      "\r     5.09771       -424.00     5.00%     1.33%     0:00:09     0:00:02\r\r"
     ]
    },
    {
     "name": "stderr",
     "output_type": "stream",
     "text": [
      "\r     4.79524       -425.00     6.00%     1.83%     0:00:09     0:00:02\r\r"
     ]
    },
    {
     "name": "stderr",
     "output_type": "stream",
     "text": [
      "\r     4.51073       -423.00     4.22%     1.00%     0:00:09     0:00:02\r\r"
     ]
    },
    {
     "name": "stderr",
     "output_type": "stream",
     "text": [
      "\r     4.24309       -423.00     4.67%     1.22%     0:00:09     0:00:02\r\r"
     ]
    },
    {
     "name": "stderr",
     "output_type": "stream",
     "text": [
      "\r     3.99133       -430.00     5.56%     1.56%     0:00:10     0:00:02\r\r"
     ]
    },
    {
     "name": "stderr",
     "output_type": "stream",
     "text": [
      "\r     3.75452       -435.00     3.17%     0.78%     0:00:10     0:00:02\r\r"
     ]
    },
    {
     "name": "stderr",
     "output_type": "stream",
     "text": [
      "\r     3.53175       -430.00     4.67%     1.00%     0:00:10     0:00:02\r\r"
     ]
    },
    {
     "name": "stderr",
     "output_type": "stream",
     "text": [
      "\r     3.32220       -435.00     3.67%     0.72%     0:00:10     0:00:01\r\r"
     ]
    },
    {
     "name": "stderr",
     "output_type": "stream",
     "text": [
      "\r     3.12508       -435.00     4.06%     0.83%     0:00:11     0:00:01\r\r"
     ]
    },
    {
     "name": "stderr",
     "output_type": "stream",
     "text": [
      "\r     2.93966       -427.00     3.00%     0.61%     0:00:11     0:00:01\r\r"
     ]
    },
    {
     "name": "stderr",
     "output_type": "stream",
     "text": [
      "\r     2.76524       -431.00     3.78%     0.78%     0:00:11     0:00:01\r\r"
     ]
    },
    {
     "name": "stderr",
     "output_type": "stream",
     "text": [
      "\r     2.60117       -435.00     2.89%     0.44%     0:00:11     0:00:01\r\r"
     ]
    },
    {
     "name": "stderr",
     "output_type": "stream",
     "text": [
      "\r     2.44683       -431.00     2.22%     0.28%     0:00:11     0:00:01\r\r"
     ]
    },
    {
     "name": "stderr",
     "output_type": "stream",
     "text": [
      "\r     2.30166       -430.00     3.17%     0.28%     0:00:11     0:00:01\r\r"
     ]
    },
    {
     "name": "stderr",
     "output_type": "stream",
     "text": [
      "\r     2.16509       -435.00     1.94%     0.28%     0:00:12     0:00:01\r\r"
     ]
    },
    {
     "name": "stderr",
     "output_type": "stream",
     "text": [
      "\r     2.03663       -435.00     2.89%     0.22%     0:00:12     0:00:01\r\r"
     ]
    },
    {
     "name": "stderr",
     "output_type": "stream",
     "text": [
      "\r     1.91579       -435.00     2.06%     0.06%     0:00:12     0:00:00\r\r"
     ]
    },
    {
     "name": "stderr",
     "output_type": "stream",
     "text": [
      "\r     1.80212       -435.00     1.89%     0.00%     0:00:12     0:00:00\r\r"
     ]
    },
    {
     "name": "stderr",
     "output_type": "stream",
     "text": [
      "\r     1.69519       -435.00     2.39%     0.06%     0:00:12     0:00:00\r\r"
     ]
    },
    {
     "name": "stderr",
     "output_type": "stream",
     "text": [
      "\r     1.59461       -435.00     2.06%     0.06%     0:00:12     0:00:00\r\r"
     ]
    },
    {
     "name": "stderr",
     "output_type": "stream",
     "text": [
      "\r     1.50000       -435.00     2.11%     0.11%     0:00:12     0:00:00\r\r"
     ]
    },
    {
     "name": "stdout",
     "output_type": "stream",
     "text": [
      "The total weight of knapsack is 50, its value is 435, and it has 13 members\n"
     ]
    }
   ],
   "source": [
    "# generate random weights and values for a knapsack problem\n",
    "# DO NOT CHANGE ANYTHING in this block of code\n",
    "num_items = 20\n",
    "np.random.seed(seed=123) \n",
    "values = np.random.randint(low=5, high=50, size=num_items)\n",
    "weights = np.random.randint(low=1, high=10, size=num_items)\n",
    "max_weight = 50\n",
    "np.random.seed() # use system clock to reset the seed so future random numbers will appear random\n",
    "\n",
    "# the objective function\n",
    "def neg_sum(groups, values, num_groups):\n",
    "\treturn -sum(values[groups.astype(bool)])\n",
    "\n",
    "# the move function\n",
    "def change_group(groups, num_groups, debug=False):\n",
    "\tnew_groups = groups.copy()    \n",
    "\tswitch = np.random.randint(0, groups.shape[0])\n",
    "\tnew_group = np.random.randint(0,num_groups)\n",
    "\twhile groups[switch] == new_group:\n",
    "\t\tnew_group = np.random.randint(0,num_groups)\n",
    "\tnew_groups[switch] = new_group\n",
    "\tif debug:\n",
    "\t\tprint(f'The item at {switch} should change to {new_group}')\n",
    "\t\tprint(f'The initial groups are: {groups} and the changed groups are {new_groups}')\n",
    "\n",
    "\treturn new_groups\n",
    "\n",
    "def get_weight(groups, weights):\n",
    "\treturn sum(weights[groups.astype(bool)])\n",
    "\n",
    "class ValueBalancing(Annealer):\n",
    "    \n",
    "\tdef __init__(self, state, values, weights, num_groups, max_weight=50):\n",
    "\t\tself.values = values\n",
    "\t\tself.weights = weights\n",
    "\t\tself.num_groups = num_groups\n",
    "\t\tself.max_weight = max_weight\n",
    "\t\tsuper(ValueBalancing, self).__init__(state)\n",
    "\n",
    "\tdef move(self):\n",
    "\t\tnew_state = self.state.copy()\n",
    "\t\tnew_state = change_group(new_state, self.num_groups)\n",
    "\t\twhile get_weight(new_state, weights) > self.max_weight:\n",
    "\t\t\tnew_state = change_group(new_state, self.num_groups)\n",
    "\t\tself.state = new_state\n",
    "\n",
    "\tdef energy(self):\n",
    "\t\treturn neg_sum(self.state, self.values, self.num_groups)\n",
    "\n",
    "num_groups = 2\n",
    "group_init = np.random.randint(num_groups,size=num_items)\n",
    "\n",
    "obj = ValueBalancing(group_init, values, weights, num_groups)\n",
    "obj.set_schedule(obj.auto(minutes=.2))\n",
    "groups, fitness = obj.anneal()\n",
    "\n",
    "print(f'The total weight of knapsack is {sum(weights[groups.astype(bool)])}, its value is {-fitness}, and it has {sum(groups)} members')"
   ]
  },
  {
   "cell_type": "markdown",
   "metadata": {
    "collapsed": false
   },
   "source": [
    "## Question 6 <font color=\"magenta\">(1 point, auto)</font>\n",
    "\n",
    "Use `simanneal` to solve the knapsack problem again.  This time use a \"soft constraint\" approach.  This means all knapsacks can be considered, even those that are over 50 in total weight, so the move function should not reject any potential solutions.  Soft constraints are implemented by including a penalty in the objective function when the proposed solution doesn't satisfy the constraint.  To do this, you'll modify the function called by the energy() method:\n",
    "```\n",
    "def knapsack_value_penalty(x, values, weights, max_tot_weight):\n",
    "    # x is a vector of booleans of which items to include\n",
    "    tot_value = sum(values[x])\n",
    "    penalty = sum(values)*min( max_tot_weight - sum(weights[x]), 0) \n",
    "    return tot_value+penalty\n",
    "```\n",
    "The penalty here is negative when the total weight is too large so that the optimizer knows it hasn't found a good maximizing solution and will continue to look elsewhere.\n",
    "\n",
    "You should be able to find the global maximum with this approach.  What is the maximum total value of the knapsack?  If you've done everything correctly the answer should be the same as in Question 3.\n",
    "\n",
    "## Question 7 <font color=\"magenta\">(5 points, manual)</font>\n",
    "\n",
    "Include your complete code for the soft constraint approach to the knapsack problem in the space below.  Also make sure the code is in CoCalc and that it has been executed there.\n"
   ]
  },
  {
   "cell_type": "code",
   "execution_count": 4,
   "metadata": {
    "collapsed": false
   },
   "outputs": [
    {
     "name": "stderr",
     "output_type": "stream",
     "text": [
      " Temperature        Energy    Accept   Improve     Elapsed   Remaining\n",
      "\r     0.00000       -265.00                         0:00:00            \r"
     ]
    },
    {
     "name": "stderr",
     "output_type": "stream",
     "text": [
      "\r  4400.00000       3137.00    89.65%    45.10%     0:00:00     0:00:02\r\r"
     ]
    },
    {
     "name": "stderr",
     "output_type": "stream",
     "text": [
      "\r  6600.00000       3180.00    92.65%    46.30%     0:00:00     0:00:01\r\r"
     ]
    },
    {
     "name": "stderr",
     "output_type": "stream",
     "text": [
      "\r  9900.00000       1420.00    94.75%    47.35%     0:00:00     0:00:01\r\r"
     ]
    },
    {
     "name": "stderr",
     "output_type": "stream",
     "text": [
      "\r 15000.00000       -264.00    95.75%    47.25%     0:00:00     0:00:01\r\r"
     ]
    },
    {
     "name": "stderr",
     "output_type": "stream",
     "text": [
      "\r 22000.00000       -243.00    96.90%    48.45%     0:00:00     0:00:01\r\r"
     ]
    },
    {
     "name": "stderr",
     "output_type": "stream",
     "text": [
      "\r 33000.00000       -349.00    96.80%    48.85%     0:00:01     0:00:01\r\r"
     ]
    },
    {
     "name": "stderr",
     "output_type": "stream",
     "text": [
      "\r 50000.00000       -236.00    98.45%    49.20%     0:00:01     0:00:01\r\r"
     ]
    },
    {
     "name": "stderr",
     "output_type": "stream",
     "text": [
      "\r 33000.00000       2617.00    97.60%    48.20%     0:00:01     0:00:01\r\r"
     ]
    },
    {
     "name": "stderr",
     "output_type": "stream",
     "text": [
      "\r 22000.00000       -247.00    96.95%    48.25%     0:00:01     0:00:01\r\r"
     ]
    },
    {
     "name": "stderr",
     "output_type": "stream",
     "text": [
      "\r 15000.00000       9637.00    95.65%    47.55%     0:00:01     0:00:01\r\r"
     ]
    },
    {
     "name": "stderr",
     "output_type": "stream",
     "text": [
      "\r 10000.00000        814.00    93.55%    47.00%     0:00:01     0:00:01\r\r"
     ]
    },
    {
     "name": "stderr",
     "output_type": "stream",
     "text": [
      "\r  6700.00000       -294.00    93.10%    46.85%     0:00:01     0:00:01\r\r"
     ]
    },
    {
     "name": "stderr",
     "output_type": "stream",
     "text": [
      "\r  4500.00000       -321.00    90.15%    45.00%     0:00:01     0:00:01\r\r"
     ]
    },
    {
     "name": "stderr",
     "output_type": "stream",
     "text": [
      "\r  3000.00000       -252.00    87.10%    43.05%     0:00:01     0:00:01\r\r"
     ]
    },
    {
     "name": "stderr",
     "output_type": "stream",
     "text": [
      "\r  2000.00000       -239.00    86.60%    43.00%     0:00:01     0:00:01\r\r"
     ]
    },
    {
     "name": "stderr",
     "output_type": "stream",
     "text": [
      "\r  1300.00000       -250.00    85.15%    42.80%     0:00:01     0:00:01\r\r"
     ]
    },
    {
     "name": "stderr",
     "output_type": "stream",
     "text": [
      "\r   870.00000       -270.00    84.30%    42.00%     0:00:01     0:00:01\r\r"
     ]
    },
    {
     "name": "stderr",
     "output_type": "stream",
     "text": [
      "\r   580.00000       -259.00    80.50%    40.25%     0:00:01     0:00:00\r\r"
     ]
    },
    {
     "name": "stderr",
     "output_type": "stream",
     "text": [
      "\r   390.00000       -273.00    80.70%    40.35%     0:00:01     0:00:00\r\r"
     ]
    },
    {
     "name": "stderr",
     "output_type": "stream",
     "text": [
      "\r   260.00000       -342.00    77.90%    39.00%     0:00:02     0:00:00\r\r"
     ]
    },
    {
     "name": "stderr",
     "output_type": "stream",
     "text": [
      "\r   170.00000       -260.00    72.90%    36.40%     0:00:02     0:00:00\r\r"
     ]
    },
    {
     "name": "stderr",
     "output_type": "stream",
     "text": [
      "\r   110.00000       -231.00    66.60%    33.30%     0:00:02     0:00:00\r\r"
     ]
    },
    {
     "name": "stderr",
     "output_type": "stream",
     "text": [
      "\r    73.00000       -378.00    63.35%    31.75%     0:00:02     0:00:00\r\r"
     ]
    },
    {
     "name": "stderr",
     "output_type": "stream",
     "text": [
      "\r    49.00000       -317.00    52.20%    26.05%     0:00:02     0:00:00\r\r"
     ]
    },
    {
     "name": "stderr",
     "output_type": "stream",
     "text": [
      "\r    33.00000       -330.00    41.00%    20.55%     0:00:02     0:00:00\r\r"
     ]
    },
    {
     "name": "stderr",
     "output_type": "stream",
     "text": [
      "\r    22.00000       -331.00    30.55%    15.25%     0:00:02     0:00:00\r\r"
     ]
    },
    {
     "name": "stderr",
     "output_type": "stream",
     "text": [
      "\r    15.00000       -318.00    16.15%     8.05%     0:00:02     0:00:00\r\r"
     ]
    },
    {
     "name": "stderr",
     "output_type": "stream",
     "text": [
      "\r    10.00000       -339.00     6.60%     3.30%     0:00:02     0:00:00\r\r"
     ]
    },
    {
     "name": "stderr",
     "output_type": "stream",
     "text": [
      "\r     6.70000       -431.00     3.25%     1.70%     0:00:02     0:00:00\r\r"
     ]
    },
    {
     "name": "stderr",
     "output_type": "stream",
     "text": [
      "\r     4.50000       -431.00     0.30%     0.15%     0:00:02     0:00:00\r\r"
     ]
    },
    {
     "name": "stderr",
     "output_type": "stream",
     "text": [
      "\r     3.00000       -431.00     0.00%     0.00%     0:00:02    -1:59:59\r\r"
     ]
    },
    {
     "name": "stderr",
     "output_type": "stream",
     "text": [
      " Temperature        Energy    Accept   Improve     Elapsed   Remaining\n",
      "\r 50000.00000       -431.00                         0:00:00            \r"
     ]
    },
    {
     "name": "stderr",
     "output_type": "stream",
     "text": [
      "\r 45368.19666       -229.00    98.53%    49.66%     0:00:00     0:00:41\r\r"
     ]
    },
    {
     "name": "stderr",
     "output_type": "stream",
     "text": [
      "\r 41165.46536       -260.00    98.16%    49.16%     0:00:01     0:00:37\r\r"
     ]
    },
    {
     "name": "stderr",
     "output_type": "stream",
     "text": [
      "\r 37352.05856       -377.00    98.38%    48.97%     0:00:01     0:00:28\r\r"
     ]
    },
    {
     "name": "stderr",
     "output_type": "stream",
     "text": [
      "\r 33891.91077       -267.00    98.03%    48.88%     0:00:01     0:00:23\r\r"
     ]
    },
    {
     "name": "stderr",
     "output_type": "stream",
     "text": [
      "\r 30752.29746       -226.00    97.78%    49.31%     0:00:01     0:00:21\r\r"
     ]
    },
    {
     "name": "stderr",
     "output_type": "stream",
     "text": [
      "\r 27903.52558       -241.00    97.38%    49.22%     0:00:01     0:00:20\r\r"
     ]
    },
    {
     "name": "stderr",
     "output_type": "stream",
     "text": [
      "\r 25318.65272       -214.00    96.72%    48.72%     0:00:01     0:00:18\r\r"
     ]
    },
    {
     "name": "stderr",
     "output_type": "stream",
     "text": [
      "\r 22973.23231       -257.00    96.62%    48.53%     0:00:02     0:00:18\r\r"
     ]
    },
    {
     "name": "stderr",
     "output_type": "stream",
     "text": [
      "\r 20845.08243       -326.00    96.59%    47.81%     0:00:02     0:00:17\r\r"
     ]
    },
    {
     "name": "stderr",
     "output_type": "stream",
     "text": [
      "\r 18914.07598       -307.00    96.75%    48.06%     0:00:02     0:00:16\r\r"
     ]
    },
    {
     "name": "stderr",
     "output_type": "stream",
     "text": [
      "\r 17161.95038       3798.00    96.84%    48.34%     0:00:02     0:00:15\r\r"
     ]
    },
    {
     "name": "stderr",
     "output_type": "stream",
     "text": [
      "\r 15572.13479       1424.00    95.53%    47.47%     0:00:02     0:00:15\r\r"
     ]
    },
    {
     "name": "stderr",
     "output_type": "stream",
     "text": [
      "\r 14129.59348       3751.00    95.66%    47.97%     0:00:02     0:00:14\r\r"
     ]
    },
    {
     "name": "stderr",
     "output_type": "stream",
     "text": [
      "\r 12820.68351       3765.00    95.59%    48.41%     0:00:02     0:00:14\r\r"
     ]
    },
    {
     "name": "stderr",
     "output_type": "stream",
     "text": [
      "\r 11633.02582       -323.00    95.62%    47.41%     0:00:02     0:00:13\r\r"
     ]
    },
    {
     "name": "stderr",
     "output_type": "stream",
     "text": [
      "\r 10555.38806       -235.00    94.81%    47.25%     0:00:02     0:00:13\r\r"
     ]
    },
    {
     "name": "stderr",
     "output_type": "stream",
     "text": [
      "\r  9577.57843       -242.00    94.22%    47.34%     0:00:03     0:00:13\r\r"
     ]
    },
    {
     "name": "stderr",
     "output_type": "stream",
     "text": [
      "\r  8690.34923       -209.00    92.22%    46.53%     0:00:03     0:00:12\r\r"
     ]
    },
    {
     "name": "stderr",
     "output_type": "stream",
     "text": [
      "\r  7885.30946       -169.00    94.12%    47.03%     0:00:03     0:00:12\r\r"
     ]
    },
    {
     "name": "stderr",
     "output_type": "stream",
     "text": [
      "\r  7154.84541        243.00    93.03%    47.16%     0:00:03     0:00:12\r\r"
     ]
    },
    {
     "name": "stderr",
     "output_type": "stream",
     "text": [
      "\r  6492.04867       -211.00    93.06%    45.84%     0:00:03     0:00:12\r\r"
     ]
    },
    {
     "name": "stderr",
     "output_type": "stream",
     "text": [
      "\r  5890.65081        301.00    91.25%    45.81%     0:00:03     0:00:11\r\r"
     ]
    },
    {
     "name": "stderr",
     "output_type": "stream",
     "text": [
      "\r  5344.96409       9036.00    91.25%    45.38%     0:00:03     0:00:11\r\r"
     ]
    },
    {
     "name": "stderr",
     "output_type": "stream",
     "text": [
      "\r  4849.82764       3775.00    89.44%    45.19%     0:00:03     0:00:11\r\r"
     ]
    },
    {
     "name": "stderr",
     "output_type": "stream",
     "text": [
      "\r  4400.55868       -351.00    90.00%    44.78%     0:00:04     0:00:11\r\r"
     ]
    },
    {
     "name": "stderr",
     "output_type": "stream",
     "text": [
      "\r  3992.90824       -238.00    91.38%    45.88%     0:00:04     0:00:10\r\r"
     ]
    },
    {
     "name": "stderr",
     "output_type": "stream",
     "text": [
      "\r  3623.02092       -277.00    89.09%    44.34%     0:00:04     0:00:10\r\r"
     ]
    },
    {
     "name": "stderr",
     "output_type": "stream",
     "text": [
      "\r  3287.39851       -242.00    89.56%    45.34%     0:00:04     0:00:10\r\r"
     ]
    },
    {
     "name": "stderr",
     "output_type": "stream",
     "text": [
      "\r  2982.86685       -248.00    88.91%    44.53%     0:00:04     0:00:10\r\r"
     ]
    },
    {
     "name": "stderr",
     "output_type": "stream",
     "text": [
      "\r  2706.54579       -313.00    87.34%    44.00%     0:00:04     0:00:10\r\r"
     ]
    },
    {
     "name": "stderr",
     "output_type": "stream",
     "text": [
      "\r  2455.82204       -192.00    87.25%    43.62%     0:00:04     0:00:10\r\r"
     ]
    },
    {
     "name": "stderr",
     "output_type": "stream",
     "text": [
      "\r  2228.32434       -160.00    84.94%    42.72%     0:00:04     0:00:09\r\r"
     ]
    },
    {
     "name": "stderr",
     "output_type": "stream",
     "text": [
      "\r  2021.90114       -323.00    85.94%    42.88%     0:00:05     0:00:09\r\r"
     ]
    },
    {
     "name": "stderr",
     "output_type": "stream",
     "text": [
      "\r  1834.60017       -202.00    87.91%    43.44%     0:00:05     0:00:09\r\r"
     ]
    },
    {
     "name": "stderr",
     "output_type": "stream",
     "text": [
      "\r  1664.65003       -271.00    85.97%    42.72%     0:00:05     0:00:09\r\r"
     ]
    },
    {
     "name": "stderr",
     "output_type": "stream",
     "text": [
      "\r  1510.44340       -226.00    85.09%    42.69%     0:00:05     0:00:09\r\r"
     ]
    },
    {
     "name": "stderr",
     "output_type": "stream",
     "text": [
      "\r  1370.52186        287.00    83.97%    42.00%     0:00:06     0:00:10\r\r"
     ]
    },
    {
     "name": "stderr",
     "output_type": "stream",
     "text": [
      "\r  1243.56211       -242.00    84.09%    42.16%     0:00:06     0:00:09\r\r"
     ]
    },
    {
     "name": "stderr",
     "output_type": "stream",
     "text": [
      "\r  1128.36340       -209.00    84.72%    42.28%     0:00:06     0:00:09\r\r"
     ]
    },
    {
     "name": "stderr",
     "output_type": "stream",
     "text": [
      "\r  1023.83626       -147.00    83.34%    41.75%     0:00:06     0:00:09\r\r"
     ]
    },
    {
     "name": "stderr",
     "output_type": "stream",
     "text": [
      "\r   928.99209       -283.00    83.72%    41.91%     0:00:06     0:00:09\r\r"
     ]
    },
    {
     "name": "stderr",
     "output_type": "stream",
     "text": [
      "\r   842.93392       -306.00    81.69%    40.84%     0:00:06     0:00:09\r\r"
     ]
    },
    {
     "name": "stderr",
     "output_type": "stream",
     "text": [
      "\r   764.84784       -225.00    83.84%    41.78%     0:00:06     0:00:08\r\r"
     ]
    },
    {
     "name": "stderr",
     "output_type": "stream",
     "text": [
      "\r   693.99534       -189.00    83.22%    41.53%     0:00:06     0:00:08\r\r"
     ]
    },
    {
     "name": "stderr",
     "output_type": "stream",
     "text": [
      "\r   629.70634       -261.00    84.25%    42.16%     0:00:07     0:00:08\r\r"
     ]
    },
    {
     "name": "stderr",
     "output_type": "stream",
     "text": [
      "\r   571.37282       -301.00    81.91%    40.91%     0:00:07     0:00:08\r\r"
     ]
    },
    {
     "name": "stderr",
     "output_type": "stream",
     "text": [
      "\r   518.44309       -218.00    80.97%    40.50%     0:00:07     0:00:08\r\r"
     ]
    },
    {
     "name": "stderr",
     "output_type": "stream",
     "text": [
      "\r   470.41656       -268.00    80.78%    40.53%     0:00:07     0:00:08\r\r"
     ]
    },
    {
     "name": "stderr",
     "output_type": "stream",
     "text": [
      "\r   426.83902       -208.00    83.06%    41.53%     0:00:07     0:00:07\r\r"
     ]
    },
    {
     "name": "stderr",
     "output_type": "stream",
     "text": [
      "\r   387.29833       -263.00    79.53%    39.81%     0:00:07     0:00:07\r\r"
     ]
    },
    {
     "name": "stderr",
     "output_type": "stream",
     "text": [
      "\r   351.42054       -211.00    79.38%    39.72%     0:00:07     0:00:07\r\r"
     ]
    },
    {
     "name": "stderr",
     "output_type": "stream",
     "text": [
      "\r   318.86632       -251.00    79.12%    39.62%     0:00:08     0:00:07\r\r"
     ]
    },
    {
     "name": "stderr",
     "output_type": "stream",
     "text": [
      "\r   289.32780       -239.00    78.75%    39.31%     0:00:08     0:00:07\r\r"
     ]
    },
    {
     "name": "stderr",
     "output_type": "stream",
     "text": [
      "\r   262.52561       -296.00    77.88%    38.94%     0:00:08     0:00:07\r\r"
     ]
    },
    {
     "name": "stderr",
     "output_type": "stream",
     "text": [
      "\r   238.20627       -278.00    77.53%    38.75%     0:00:08     0:00:06\r\r"
     ]
    },
    {
     "name": "stderr",
     "output_type": "stream",
     "text": [
      "\r   216.13978       -308.00    78.22%    39.12%     0:00:08     0:00:06\r\r"
     ]
    },
    {
     "name": "stderr",
     "output_type": "stream",
     "text": [
      "\r   196.11744       -202.00    75.81%    37.88%     0:00:08     0:00:06\r\r"
     ]
    },
    {
     "name": "stderr",
     "output_type": "stream",
     "text": [
      "\r   177.94989       -227.00    75.44%    37.72%     0:00:08     0:00:06\r\r"
     ]
    },
    {
     "name": "stderr",
     "output_type": "stream",
     "text": [
      "\r   161.46531       -242.00    74.38%    37.19%     0:00:08     0:00:06\r\r"
     ]
    },
    {
     "name": "stderr",
     "output_type": "stream",
     "text": [
      "\r   146.50780       -261.00    71.25%    35.62%     0:00:08     0:00:06\r\r"
     ]
    },
    {
     "name": "stderr",
     "output_type": "stream",
     "text": [
      "\r   132.93590       -246.00    71.69%    35.84%     0:00:09     0:00:05\r\r"
     ]
    },
    {
     "name": "stderr",
     "output_type": "stream",
     "text": [
      "\r   120.62124       -258.00    70.09%    35.06%     0:00:09     0:00:05\r\r"
     ]
    },
    {
     "name": "stderr",
     "output_type": "stream",
     "text": [
      "\r   109.44736       -185.00    67.84%    33.91%     0:00:09     0:00:05\r\r"
     ]
    },
    {
     "name": "stderr",
     "output_type": "stream",
     "text": [
      "\r    99.30859       -280.00    66.69%    33.34%     0:00:09     0:00:05\r\r"
     ]
    },
    {
     "name": "stderr",
     "output_type": "stream",
     "text": [
      "\r    90.10903       -270.00    69.31%    34.66%     0:00:09     0:00:05\r\r"
     ]
    },
    {
     "name": "stderr",
     "output_type": "stream",
     "text": [
      "\r    81.76168       -311.00    63.69%    31.87%     0:00:09     0:00:05\r\r"
     ]
    },
    {
     "name": "stderr",
     "output_type": "stream",
     "text": [
      "\r    74.18760       -276.00    63.97%    31.97%     0:00:09     0:00:05\r\r"
     ]
    },
    {
     "name": "stderr",
     "output_type": "stream",
     "text": [
      "\r    67.31516       -284.00    61.56%    30.78%     0:00:09     0:00:04\r\r"
     ]
    },
    {
     "name": "stderr",
     "output_type": "stream",
     "text": [
      "\r    61.07934       -323.00    59.97%    30.00%     0:00:09     0:00:04\r\r"
     ]
    },
    {
     "name": "stderr",
     "output_type": "stream",
     "text": [
      "\r    55.42119       -356.00    56.25%    28.16%     0:00:09     0:00:04\r\r"
     ]
    },
    {
     "name": "stderr",
     "output_type": "stream",
     "text": [
      "\r    50.28719       -248.00    54.28%    27.09%     0:00:10     0:00:04\r\r"
     ]
    },
    {
     "name": "stderr",
     "output_type": "stream",
     "text": [
      "\r    45.62879       -402.00    51.03%    25.56%     0:00:10     0:00:04\r\r"
     ]
    },
    {
     "name": "stderr",
     "output_type": "stream",
     "text": [
      "\r    41.40191       -273.00    49.72%    24.81%     0:00:10     0:00:04\r\r"
     ]
    },
    {
     "name": "stderr",
     "output_type": "stream",
     "text": [
      "\r    37.56660       -303.00    45.28%    22.66%     0:00:10     0:00:03\r\r"
     ]
    },
    {
     "name": "stderr",
     "output_type": "stream",
     "text": [
      "\r    34.08658       -417.00    47.69%    23.88%     0:00:10     0:00:03\r\r"
     ]
    },
    {
     "name": "stderr",
     "output_type": "stream",
     "text": [
      "\r    30.92893       -314.00    40.81%    20.38%     0:00:10     0:00:03\r\r"
     ]
    },
    {
     "name": "stderr",
     "output_type": "stream",
     "text": [
      "\r    28.06380       -352.00    37.12%    18.56%     0:00:10     0:00:03\r\r"
     ]
    },
    {
     "name": "stderr",
     "output_type": "stream",
     "text": [
      "\r    25.46408       -286.00    35.09%    17.53%     0:00:10     0:00:03\r\r"
     ]
    },
    {
     "name": "stderr",
     "output_type": "stream",
     "text": [
      "\r    23.10519       -413.00    31.97%    16.03%     0:00:10     0:00:03\r\r"
     ]
    },
    {
     "name": "stderr",
     "output_type": "stream",
     "text": [
      "\r    20.96481       -381.00    28.66%    14.31%     0:00:11     0:00:03\r\r"
     ]
    },
    {
     "name": "stderr",
     "output_type": "stream",
     "text": [
      "\r    19.02272       -287.00    25.25%    12.59%     0:00:11     0:00:02\r\r"
     ]
    },
    {
     "name": "stderr",
     "output_type": "stream",
     "text": [
      "\r    17.26053       -384.00    20.00%    10.03%     0:00:11     0:00:02\r\r"
     ]
    },
    {
     "name": "stderr",
     "output_type": "stream",
     "text": [
      "\r    15.66158       -363.00    17.50%     8.75%     0:00:11     0:00:02\r\r"
     ]
    },
    {
     "name": "stderr",
     "output_type": "stream",
     "text": [
      "\r    14.21075       -361.00    16.31%     8.16%     0:00:12     0:00:02\r\r"
     ]
    },
    {
     "name": "stderr",
     "output_type": "stream",
     "text": [
      "\r    12.89432       -400.00    14.56%     7.31%     0:00:12     0:00:02\r\r"
     ]
    },
    {
     "name": "stderr",
     "output_type": "stream",
     "text": [
      "\r    11.69984       -339.00    12.41%     6.16%     0:00:12     0:00:02\r\r"
     ]
    },
    {
     "name": "stderr",
     "output_type": "stream",
     "text": [
      "\r    10.61602       -375.00    10.19%     5.09%     0:00:12     0:00:02\r\r"
     ]
    },
    {
     "name": "stderr",
     "output_type": "stream",
     "text": [
      "\r     9.63259       -391.00     7.03%     3.53%     0:00:12     0:00:02\r\r"
     ]
    },
    {
     "name": "stderr",
     "output_type": "stream",
     "text": [
      "\r     8.74027       -406.00     7.28%     3.66%     0:00:12     0:00:01\r\r"
     ]
    },
    {
     "name": "stderr",
     "output_type": "stream",
     "text": [
      "\r     7.93060       -397.00     5.22%     2.59%     0:00:12     0:00:01\r\r"
     ]
    },
    {
     "name": "stderr",
     "output_type": "stream",
     "text": [
      "\r     7.19594       -424.00     3.12%     1.59%     0:00:12     0:00:01\r\r"
     ]
    },
    {
     "name": "stderr",
     "output_type": "stream",
     "text": [
      "\r     6.52934       -412.00     4.03%     2.00%     0:00:12     0:00:01\r\r"
     ]
    },
    {
     "name": "stderr",
     "output_type": "stream",
     "text": [
      "\r     5.92449       -414.00     2.41%     1.22%     0:00:13     0:00:01\r\r"
     ]
    },
    {
     "name": "stderr",
     "output_type": "stream",
     "text": [
      "\r     5.37566       -419.00     1.50%     0.75%     0:00:13     0:00:01\r\r"
     ]
    },
    {
     "name": "stderr",
     "output_type": "stream",
     "text": [
      "\r     4.87768       -423.00     2.91%     1.44%     0:00:13     0:00:01\r\r"
     ]
    },
    {
     "name": "stderr",
     "output_type": "stream",
     "text": [
      "\r     4.42583       -430.00     1.78%     0.91%     0:00:13     0:00:01\r\r"
     ]
    },
    {
     "name": "stderr",
     "output_type": "stream",
     "text": [
      "\r     4.01584       -430.00     1.75%     0.88%     0:00:13     0:00:00\r\r"
     ]
    },
    {
     "name": "stderr",
     "output_type": "stream",
     "text": [
      "\r     3.64383       -430.00     1.31%     0.66%     0:00:13     0:00:00\r\r"
     ]
    },
    {
     "name": "stderr",
     "output_type": "stream",
     "text": [
      "\r     3.30628       -430.00     0.94%     0.47%     0:00:13     0:00:00\r\r"
     ]
    },
    {
     "name": "stderr",
     "output_type": "stream",
     "text": [
      "\r     3.00000       -424.00     0.84%     0.41%     0:00:13     0:00:00\r\r"
     ]
    },
    {
     "name": "stdout",
     "output_type": "stream",
     "text": [
      "The total weight of knapsack is 50, its value is 435, and it has 13 members\n"
     ]
    }
   ],
   "source": [
    "def knapsack_value_penalty(x, values, weights, max_tot_weight):\n",
    "    # x is a vector of booleans of which items to include\n",
    "    tot_value = sum(values[x])\n",
    "    penalty = sum(values)*min( max_tot_weight - sum(weights[x]), 0) \n",
    "    return -tot_value-penalty\n",
    "\n",
    "# the move function\n",
    "def change_group(groups, num_groups, debug=False):\n",
    "\tnew_groups = groups.copy()    \n",
    "\tswitch = np.random.randint(0, groups.shape[0])\n",
    "\tnew_group = np.random.randint(0,num_groups)\n",
    "\twhile groups[switch] == new_group:\n",
    "\t\tnew_group = np.random.randint(0,num_groups)\n",
    "\tnew_groups[switch] = new_group\n",
    "\tif debug:\n",
    "\t\tprint(f'The item at {switch} should change to {new_group}')\n",
    "\t\tprint(f'The initial groups are: {groups} and the changed groups are {new_groups}')\n",
    "\n",
    "\treturn new_groups\n",
    "\n",
    "def get_weight(groups, weights):\n",
    "\treturn sum(weights[groups.astype(bool)])\n",
    "\n",
    "class ValueBalancing(Annealer):\n",
    "    \n",
    "\tdef __init__(self, state, values, weights, num_groups, max_weight=50):\n",
    "\t\tself.values = values\n",
    "\t\tself.weights = weights\n",
    "\t\tself.num_groups = num_groups\n",
    "\t\tself.max_weight = max_weight\n",
    "\t\tsuper(ValueBalancing, self).__init__(state)\n",
    "\n",
    "\tdef move(self):\n",
    "\t\tself.state = change_group(self.state, self.num_groups)\n",
    "\n",
    "\tdef energy(self):\n",
    "\t\treturn knapsack_value_penalty(self.state.astype(bool), self.values, self.weights, self.max_weight)\n",
    "\n",
    "num_groups = 2\n",
    "group_init = np.random.randint(num_groups,size=num_items)\n",
    "\n",
    "obj = ValueBalancing(group_init, values, weights, num_groups)\n",
    "obj.set_schedule(obj.auto(minutes=.2))\n",
    "groups, fitness = obj.anneal()\n",
    "\n",
    "print(f'The total weight of knapsack is {sum(weights[groups.astype(bool)])}, its value is {-fitness}, and it has {sum(groups)} members')"
   ]
  },
  {
   "cell_type": "markdown",
   "metadata": {
    "collapsed": false
   },
   "source": [
    "## Questions 8 - 20 Text\n",
    "\n",
    "In the following you're going to minimize the ten-dimension Rastrigin\n",
    " function several different ways and compare the results.  The Rastrigin function was introduced in Lesson 5 and Homework 5.  Make sure using decision variables $x_1, x_2, \\ldots, x_{10}$ that are in one array / list / numpy array with 10 elements.  The bounds are $-5.12 \\leq x_i \\leq 5.12$ for each $i$.  The global minimum value is 0 and occurs when $x_1 = x_2 = \\ldots = x_{10} = 0$.  At the end you'll compare the efficiency of the optimization algorithms. \n",
    " \n",
    "Note, the Rastrigin function is a popular function for testing optimization algorithms.  While it doesn't come from an application, it is realistic to have an objective function with **MANY** local minima.  In fact, one of the challenges of deep learning is that the underlying objective function has many local minima (and has thousands or even billions of weights or decision variables to be tuned).\n",
    "\n",
    "The code in the next cell shows you how to setup the Rastrigin function with a global counter so that you can easily track how many function evaluations are made.  Set `func_count` to zero before the optimization and then print out the value of `func_count` after.\n",
    "\n",
    "**Note:  to make the Rastrigin function 10-dimensional, you have to evaluate the rastrigin() function on a numpy array of length 10.  Set the dimension by changing the length of the input array.**"
   ]
  },
  {
   "cell_type": "code",
   "execution_count": 5,
   "metadata": {
    "collapsed": false
   },
   "outputs": [
    {
     "name": "stdout",
     "output_type": "stream",
     "text": [
      "The Rastrigin function was evaluated 396 times\n",
      "According to minimize the number of iterations is 396.\n",
      "The minimum value found was: 102.4803\n",
      "This minvalue occurs at: [ 3.97978385  3.97978385 -3.97978387  2.98485569  1.98991223 -2.9848557\n",
      "  2.98485569  1.98991223 -1.98991224  3.97978385]\n"
     ]
    }
   ],
   "source": [
    "# rastrigin definition\n",
    "def rastrigin(x):\n",
    "    global func_count\n",
    "    func_count += 1\n",
    "    x = np.array(x) # force a numpy arrray here so that the math below works\n",
    "    # pass a single vector of length n (=dim) to evaluate Rastrigin\n",
    "    return sum(x**2 + 10 - 10 * np.cos(2 * np.pi * x))\n",
    "\n",
    "# as a demo we'll use scipy.optimize.minimize to find a local min and \n",
    "# see how we can retrieve the number of function evaluations required by\n",
    "# the optimization\n",
    "\n",
    "func_count = 0 # must set to zero before evaluation\n",
    "x0 = np.random.uniform(-5.12,5.12,size=10)\n",
    "res = minimize( rastrigin, x0)\n",
    "print(f'The Rastrigin function was evaluated {func_count} times')\n",
    "\n",
    "# not all optimization routines track the number of evaluations, but minimize does\n",
    "# like this\n",
    "\n",
    "print(f'According to minimize the number of iterations is {res.nfev}.')\n",
    "print(f'The minimum value found was: {res.fun:0.4f}')\n",
    "print(f'This minvalue occurs at: {res.x}')"
   ]
  },
  {
   "cell_type": "markdown",
   "metadata": {
    "collapsed": false
   },
   "source": [
    "## Question 8 <font color=\"magenta\">(1 point, auto)</font>\n",
    "\n",
    "Use the `simanneal` package as described in the lesson (with the \"bumpy\" function and in the self-assessment) to estimate the global minimum of the ten-dimensional Rastrigin function.  Use sigma = 2.  What's the lowest value of the objective function you are able to obtain?\n",
    "\n",
    "**45.93**\n",
    "\n",
    "## Question 9 <font color=\"magenta\">(1 point, auto)</font>\n",
    "\n",
    "How many times did `simanneal` evaluate the Rastrigin function to find the best answer you reported in Question 8?\n",
    "\n",
    "**306026**\n",
    "\n",
    "## Question 10 <font color=\"magenta\">(1 point manual)</font>\n",
    "\n",
    "Experiment with the value of sigma.  Larger sigma corresponds to larger random moves.  Explain how to adjust sigma to achieve lower estimates of the global minimum value (closer to zero).\n",
    "\n",
    "**The closer to zero sigma is, the better the estimation of the global minimum.**\n",
    "\n",
    "## Question 11 <font color=\"magenta\">(4 points, manual)</font>\n",
    "\n",
    "Include the complete code to minimize the ten-dimensional Rastrigin function with `simanneal`.  Make sure your code is in CoCalc and has been run there."
   ]
  },
  {
   "cell_type": "code",
   "execution_count": 6,
   "metadata": {
    "collapsed": false
   },
   "outputs": [
    {
     "name": "stderr",
     "output_type": "stream",
     "text": [
      " Temperature        Energy    Accept   Improve     Elapsed   Remaining\n",
      "\r     0.00000         97.60                         0:00:00            \r"
     ]
    },
    {
     "name": "stderr",
     "output_type": "stream",
     "text": [
      "\r   120.00000        254.44    88.30%    44.05%     0:00:00     0:00:02\r\r"
     ]
    },
    {
     "name": "stderr",
     "output_type": "stream",
     "text": [
      "\r   180.00000        219.72    91.75%    45.10%     0:00:00     0:00:02\r\r"
     ]
    },
    {
     "name": "stderr",
     "output_type": "stream",
     "text": [
      "\r   270.00000        183.20    95.35%    47.60%     0:00:00     0:00:02\r\r"
     ]
    },
    {
     "name": "stderr",
     "output_type": "stream",
     "text": [
      "\r   400.00000        228.51    96.40%    48.95%     0:00:00     0:00:02\r\r"
     ]
    },
    {
     "name": "stderr",
     "output_type": "stream",
     "text": [
      "\r   600.00000        204.27    97.80%    49.00%     0:00:01     0:00:02\r\r"
     ]
    },
    {
     "name": "stderr",
     "output_type": "stream",
     "text": [
      "\r   900.00000        248.41    98.75%    48.40%     0:00:01     0:00:02\r\r"
     ]
    },
    {
     "name": "stderr",
     "output_type": "stream",
     "text": [
      "\r   600.00000        252.05    97.85%    48.95%     0:00:01     0:00:02\r\r"
     ]
    },
    {
     "name": "stderr",
     "output_type": "stream",
     "text": [
      "\r   400.00000        179.22    96.40%    48.75%     0:00:01     0:00:01\r\r"
     ]
    },
    {
     "name": "stderr",
     "output_type": "stream",
     "text": [
      "\r   270.00000        221.11    94.30%    47.35%     0:00:01     0:00:01\r\r"
     ]
    },
    {
     "name": "stderr",
     "output_type": "stream",
     "text": [
      "\r   180.00000        168.10    92.25%    45.60%     0:00:01     0:00:01\r\r"
     ]
    },
    {
     "name": "stderr",
     "output_type": "stream",
     "text": [
      "\r   120.00000        202.84    88.15%    44.65%     0:00:01     0:00:01\r\r"
     ]
    },
    {
     "name": "stderr",
     "output_type": "stream",
     "text": [
      "\r    80.00000        191.14    81.15%    40.80%     0:00:01     0:00:01\r\r"
     ]
    },
    {
     "name": "stderr",
     "output_type": "stream",
     "text": [
      "\r    53.00000        218.73    74.60%    37.55%     0:00:01     0:00:01\r\r"
     ]
    },
    {
     "name": "stderr",
     "output_type": "stream",
     "text": [
      "\r    35.00000        134.81    60.05%    29.65%     0:00:01     0:00:01\r\r"
     ]
    },
    {
     "name": "stderr",
     "output_type": "stream",
     "text": [
      "\r    23.00000        191.52    42.20%    20.40%     0:00:01     0:00:01\r\r"
     ]
    },
    {
     "name": "stderr",
     "output_type": "stream",
     "text": [
      "\r    15.00000         92.48    15.90%     8.10%     0:00:02     0:00:01\r\r"
     ]
    },
    {
     "name": "stderr",
     "output_type": "stream",
     "text": [
      "\r    10.00000        114.34     7.65%     3.55%     0:00:02     0:00:01\r\r"
     ]
    },
    {
     "name": "stderr",
     "output_type": "stream",
     "text": [
      "\r     6.70000         87.35     3.55%     1.85%     0:00:02     0:00:01\r\r"
     ]
    },
    {
     "name": "stderr",
     "output_type": "stream",
     "text": [
      "\r     4.50000         77.95     0.50%     0.35%     0:00:02     0:00:00\r\r"
     ]
    },
    {
     "name": "stderr",
     "output_type": "stream",
     "text": [
      "\r     3.00000         70.37     0.25%     0.15%     0:00:02     0:00:00\r\r"
     ]
    },
    {
     "name": "stderr",
     "output_type": "stream",
     "text": [
      "\r     2.00000         65.17     0.15%     0.10%     0:00:02     0:00:00\r\r"
     ]
    },
    {
     "name": "stderr",
     "output_type": "stream",
     "text": [
      "\r     1.30000         65.17     0.00%     0.00%     0:00:02     0:00:00\r\r"
     ]
    },
    {
     "name": "stderr",
     "output_type": "stream",
     "text": [
      " Temperature        Energy    Accept   Improve     Elapsed   Remaining\n",
      "\r   900.00000         65.17                         0:00:00            \r"
     ]
    },
    {
     "name": "stderr",
     "output_type": "stream",
     "text": [
      "\r   843.02318        156.39    98.35%    49.35%     0:00:00     0:00:11\r\r"
     ]
    },
    {
     "name": "stderr",
     "output_type": "stream",
     "text": [
      "\r   789.65343        197.18    98.08%    48.81%     0:00:00     0:00:12\r\r"
     ]
    },
    {
     "name": "stderr",
     "output_type": "stream",
     "text": [
      "\r   739.66239        187.54    98.04%    49.31%     0:00:00     0:00:12\r\r"
     ]
    },
    {
     "name": "stderr",
     "output_type": "stream",
     "text": [
      "\r   692.83616        212.40    97.77%    49.65%     0:00:00     0:00:12\r\r"
     ]
    },
    {
     "name": "stderr",
     "output_type": "stream",
     "text": [
      "\r   648.97438        202.42    97.88%    48.46%     0:00:01     0:00:12\r\r"
     ]
    },
    {
     "name": "stderr",
     "output_type": "stream",
     "text": [
      "\r   607.88939        204.95    97.88%    48.38%     0:00:01     0:00:12\r\r"
     ]
    },
    {
     "name": "stderr",
     "output_type": "stream",
     "text": [
      "\r   569.40538        233.45    97.77%    48.46%     0:00:01     0:00:11\r\r"
     ]
    },
    {
     "name": "stderr",
     "output_type": "stream",
     "text": [
      "\r   533.35771        203.64    97.35%    48.65%     0:00:01     0:00:11\r\r"
     ]
    },
    {
     "name": "stderr",
     "output_type": "stream",
     "text": [
      "\r   499.59213        230.35    96.92%    46.96%     0:00:01     0:00:12\r\r"
     ]
    },
    {
     "name": "stderr",
     "output_type": "stream",
     "text": [
      "\r   467.96416        190.82    97.46%    48.92%     0:00:01     0:00:12\r\r"
     ]
    },
    {
     "name": "stderr",
     "output_type": "stream",
     "text": [
      "\r   438.33848        235.17    96.65%    48.85%     0:00:01     0:00:11\r\r"
     ]
    },
    {
     "name": "stderr",
     "output_type": "stream",
     "text": [
      "\r   410.58834        182.26    96.46%    48.85%     0:00:02     0:00:11\r\r"
     ]
    },
    {
     "name": "stderr",
     "output_type": "stream",
     "text": [
      "\r   384.59499        252.72    96.65%    47.77%     0:00:02     0:00:11\r\r"
     ]
    },
    {
     "name": "stderr",
     "output_type": "stream",
     "text": [
      "\r   360.24721        173.57    95.81%    47.88%     0:00:02     0:00:11\r\r"
     ]
    },
    {
     "name": "stderr",
     "output_type": "stream",
     "text": [
      "\r   337.44083        147.96    96.19%    48.65%     0:00:02     0:00:11\r\r"
     ]
    },
    {
     "name": "stderr",
     "output_type": "stream",
     "text": [
      "\r   316.07827        221.39    94.88%    46.46%     0:00:02     0:00:11\r\r"
     ]
    },
    {
     "name": "stderr",
     "output_type": "stream",
     "text": [
      "\r   296.06812        190.00    94.46%    46.81%     0:00:02     0:00:11\r\r"
     ]
    },
    {
     "name": "stderr",
     "output_type": "stream",
     "text": [
      "\r   277.32477        198.95    94.54%    48.12%     0:00:02     0:00:11\r\r"
     ]
    },
    {
     "name": "stderr",
     "output_type": "stream",
     "text": [
      "\r   259.76801        226.64    94.42%    46.54%     0:00:02     0:00:11\r\r"
     ]
    },
    {
     "name": "stderr",
     "output_type": "stream",
     "text": [
      "\r   243.32273        239.16    93.92%    46.31%     0:00:03     0:00:11\r\r"
     ]
    },
    {
     "name": "stderr",
     "output_type": "stream",
     "text": [
      "\r   227.91856        146.00    93.19%    47.19%     0:00:03     0:00:10\r\r"
     ]
    },
    {
     "name": "stderr",
     "output_type": "stream",
     "text": [
      "\r   213.48959        217.66    92.81%    45.96%     0:00:03     0:00:10\r\r"
     ]
    },
    {
     "name": "stderr",
     "output_type": "stream",
     "text": [
      "\r   199.97408        209.84    92.38%    46.42%     0:00:03     0:00:10\r\r"
     ]
    },
    {
     "name": "stderr",
     "output_type": "stream",
     "text": [
      "\r   187.31420        207.49    92.58%    46.62%     0:00:03     0:00:10\r\r"
     ]
    },
    {
     "name": "stderr",
     "output_type": "stream",
     "text": [
      "\r   175.45580        183.57    92.96%    45.92%     0:00:03     0:00:10\r\r"
     ]
    },
    {
     "name": "stderr",
     "output_type": "stream",
     "text": [
      "\r   164.34812        178.91    91.38%    45.77%     0:00:03     0:00:10\r\r"
     ]
    },
    {
     "name": "stderr",
     "output_type": "stream",
     "text": [
      "\r   153.94363        189.37    90.69%    44.96%     0:00:03     0:00:09\r\r"
     ]
    },
    {
     "name": "stderr",
     "output_type": "stream",
     "text": [
      "\r   144.19784        258.05    90.31%    45.62%     0:00:04     0:00:09\r\r"
     ]
    },
    {
     "name": "stderr",
     "output_type": "stream",
     "text": [
      "\r   135.06902        202.63    90.08%    44.50%     0:00:04     0:00:09\r\r"
     ]
    },
    {
     "name": "stderr",
     "output_type": "stream",
     "text": [
      "\r   126.51813        193.55    89.15%    44.15%     0:00:04     0:00:09\r\r"
     ]
    },
    {
     "name": "stderr",
     "output_type": "stream",
     "text": [
      "\r   118.50857        183.79    88.92%    44.81%     0:00:04     0:00:09\r\r"
     ]
    },
    {
     "name": "stderr",
     "output_type": "stream",
     "text": [
      "\r   111.00608        194.75    88.69%    44.81%     0:00:04     0:00:09\r\r"
     ]
    },
    {
     "name": "stderr",
     "output_type": "stream",
     "text": [
      "\r   103.97856        210.98    86.54%    42.85%     0:00:04     0:00:09\r\r"
     ]
    },
    {
     "name": "stderr",
     "output_type": "stream",
     "text": [
      "\r    97.39593        179.09    85.62%    42.42%     0:00:04     0:00:09\r\r"
     ]
    },
    {
     "name": "stderr",
     "output_type": "stream",
     "text": [
      "\r    91.23003        191.86    85.12%    42.92%     0:00:05     0:00:08\r\r"
     ]
    },
    {
     "name": "stderr",
     "output_type": "stream",
     "text": [
      "\r    85.45448        195.12    83.00%    41.04%     0:00:05     0:00:09\r\r"
     ]
    },
    {
     "name": "stderr",
     "output_type": "stream",
     "text": [
      "\r    80.04456        182.19    83.73%    41.85%     0:00:05     0:00:08\r\r"
     ]
    },
    {
     "name": "stderr",
     "output_type": "stream",
     "text": [
      "\r    74.97713        146.61    81.73%    41.42%     0:00:05     0:00:08\r\r"
     ]
    },
    {
     "name": "stderr",
     "output_type": "stream",
     "text": [
      "\r    70.23051        155.27    79.46%    39.54%     0:00:05     0:00:08\r\r"
     ]
    },
    {
     "name": "stderr",
     "output_type": "stream",
     "text": [
      "\r    65.78439        237.08    78.50%    39.81%     0:00:06     0:00:08\r\r"
     ]
    },
    {
     "name": "stderr",
     "output_type": "stream",
     "text": [
      "\r    61.61974        199.79    78.00%    39.23%     0:00:06     0:00:09\r\r"
     ]
    },
    {
     "name": "stderr",
     "output_type": "stream",
     "text": [
      "\r    57.71874        140.71    79.77%    39.62%     0:00:06     0:00:08\r\r"
     ]
    },
    {
     "name": "stderr",
     "output_type": "stream",
     "text": [
      "\r    54.06471        185.15    75.46%    38.00%     0:00:06     0:00:08\r\r"
     ]
    },
    {
     "name": "stderr",
     "output_type": "stream",
     "text": [
      "\r    50.64200        172.07    73.42%    36.08%     0:00:06     0:00:08\r\r"
     ]
    },
    {
     "name": "stderr",
     "output_type": "stream",
     "text": [
      "\r    47.43598        163.70    72.46%    36.23%     0:00:06     0:00:08\r\r"
     ]
    },
    {
     "name": "stderr",
     "output_type": "stream",
     "text": [
      "\r    44.43292        129.90    70.77%    35.69%     0:00:07     0:00:08\r\r"
     ]
    },
    {
     "name": "stderr",
     "output_type": "stream",
     "text": [
      "\r    41.61998        162.12    67.12%    33.27%     0:00:07     0:00:08\r\r"
     ]
    },
    {
     "name": "stderr",
     "output_type": "stream",
     "text": [
      "\r    38.98512        144.68    63.88%    32.58%     0:00:07     0:00:07\r\r"
     ]
    },
    {
     "name": "stderr",
     "output_type": "stream",
     "text": [
      "\r    36.51707        212.95    65.54%    32.54%     0:00:07     0:00:07\r\r"
     ]
    },
    {
     "name": "stderr",
     "output_type": "stream",
     "text": [
      "\r    34.20526        137.31    61.31%    31.81%     0:00:07     0:00:07\r\r"
     ]
    },
    {
     "name": "stderr",
     "output_type": "stream",
     "text": [
      "\r    32.03981        128.58    59.00%    30.12%     0:00:07     0:00:07\r\r"
     ]
    },
    {
     "name": "stderr",
     "output_type": "stream",
     "text": [
      "\r    30.01145        204.62    56.58%    28.38%     0:00:07     0:00:07\r\r"
     ]
    },
    {
     "name": "stderr",
     "output_type": "stream",
     "text": [
      "\r    28.11150        200.96    54.38%    27.08%     0:00:07     0:00:07\r\r"
     ]
    },
    {
     "name": "stderr",
     "output_type": "stream",
     "text": [
      "\r    26.33183        159.36    52.12%    25.42%     0:00:07     0:00:06\r\r"
     ]
    },
    {
     "name": "stderr",
     "output_type": "stream",
     "text": [
      "\r    24.66482        166.77    48.27%    24.42%     0:00:08     0:00:06\r\r"
     ]
    },
    {
     "name": "stderr",
     "output_type": "stream",
     "text": [
      "\r    23.10335        128.43    41.92%    21.88%     0:00:08     0:00:06\r\r"
     ]
    },
    {
     "name": "stderr",
     "output_type": "stream",
     "text": [
      "\r    21.64073        163.27    39.54%    19.58%     0:00:08     0:00:06\r\r"
     ]
    },
    {
     "name": "stderr",
     "output_type": "stream",
     "text": [
      "\r    20.27071        134.06    40.62%    20.96%     0:00:08     0:00:06\r\r"
     ]
    },
    {
     "name": "stderr",
     "output_type": "stream",
     "text": [
      "\r    18.98742        210.29    37.58%    18.88%     0:00:08     0:00:06\r\r"
     ]
    },
    {
     "name": "stderr",
     "output_type": "stream",
     "text": [
      "\r    17.78537        211.89    32.58%    16.12%     0:00:08     0:00:06\r\r"
     ]
    },
    {
     "name": "stderr",
     "output_type": "stream",
     "text": [
      "\r    16.65943        152.91    32.19%    16.19%     0:00:08     0:00:05\r\r"
     ]
    },
    {
     "name": "stderr",
     "output_type": "stream",
     "text": [
      "\r    15.60476        166.03    25.77%    12.88%     0:00:09     0:00:05\r\r"
     ]
    },
    {
     "name": "stderr",
     "output_type": "stream",
     "text": [
      "\r    14.61686        173.07    20.50%    10.23%     0:00:09     0:00:05\r\r"
     ]
    },
    {
     "name": "stderr",
     "output_type": "stream",
     "text": [
      "\r    13.69150         97.90    20.19%     9.65%     0:00:09     0:00:05\r\r"
     ]
    },
    {
     "name": "stderr",
     "output_type": "stream",
     "text": [
      "\r    12.82472        119.18    17.88%     8.96%     0:00:09     0:00:05\r\r"
     ]
    },
    {
     "name": "stderr",
     "output_type": "stream",
     "text": [
      "\r    12.01282        125.84    13.77%     6.46%     0:00:09     0:00:05\r\r"
     ]
    },
    {
     "name": "stderr",
     "output_type": "stream",
     "text": [
      "\r    11.25232        180.09    15.65%     8.04%     0:00:09     0:00:05\r\r"
     ]
    },
    {
     "name": "stderr",
     "output_type": "stream",
     "text": [
      "\r    10.53996        100.37    11.73%     5.85%     0:00:09     0:00:04\r\r"
     ]
    },
    {
     "name": "stderr",
     "output_type": "stream",
     "text": [
      "\r     9.87270         96.21    10.12%     4.92%     0:00:10     0:00:04\r\r"
     ]
    },
    {
     "name": "stderr",
     "output_type": "stream",
     "text": [
      "\r     9.24769        110.97     4.23%     2.19%     0:00:10     0:00:04\r\r"
     ]
    },
    {
     "name": "stderr",
     "output_type": "stream",
     "text": [
      "\r     8.66224        108.14     3.81%     1.96%     0:00:10     0:00:04\r\r"
     ]
    },
    {
     "name": "stderr",
     "output_type": "stream",
     "text": [
      "\r     8.11385        106.20     1.65%     0.77%     0:00:10     0:00:04\r\r"
     ]
    },
    {
     "name": "stderr",
     "output_type": "stream",
     "text": [
      "\r     7.60018         54.76     2.38%     1.27%     0:00:10     0:00:04\r\r"
     ]
    },
    {
     "name": "stderr",
     "output_type": "stream",
     "text": [
      "\r     7.11904         80.18     0.12%     0.04%     0:00:10     0:00:04\r\r"
     ]
    },
    {
     "name": "stderr",
     "output_type": "stream",
     "text": [
      "\r     6.66835         79.27     2.15%     1.23%     0:00:10     0:00:03\r\r"
     ]
    },
    {
     "name": "stderr",
     "output_type": "stream",
     "text": [
      "\r     6.24619         87.84     0.69%     0.35%     0:00:10     0:00:03\r\r"
     ]
    },
    {
     "name": "stderr",
     "output_type": "stream",
     "text": [
      "\r     5.85076         81.42     0.69%     0.38%     0:00:10     0:00:03\r\r"
     ]
    },
    {
     "name": "stderr",
     "output_type": "stream",
     "text": [
      "\r     5.48036         68.28     0.77%     0.54%     0:00:11     0:00:03\r\r"
     ]
    },
    {
     "name": "stderr",
     "output_type": "stream",
     "text": [
      "\r     5.13341         73.28     0.35%     0.23%     0:00:11     0:00:03\r\r"
     ]
    },
    {
     "name": "stderr",
     "output_type": "stream",
     "text": [
      "\r     4.80843         55.29     0.12%     0.12%     0:00:11     0:00:03\r\r"
     ]
    },
    {
     "name": "stderr",
     "output_type": "stream",
     "text": [
      "\r     4.50402         55.29     0.00%     0.00%     0:00:11     0:00:03\r\r"
     ]
    },
    {
     "name": "stderr",
     "output_type": "stream",
     "text": [
      "\r     4.21888         62.60     0.08%     0.00%     0:00:11     0:00:02\r\r"
     ]
    },
    {
     "name": "stderr",
     "output_type": "stream",
     "text": [
      "\r     3.95179         84.22     0.65%     0.35%     0:00:11     0:00:02\r\r"
     ]
    },
    {
     "name": "stderr",
     "output_type": "stream",
     "text": [
      "\r     3.70161         73.71     0.54%     0.23%     0:00:11     0:00:02\r\r"
     ]
    },
    {
     "name": "stderr",
     "output_type": "stream",
     "text": [
      "\r     3.46727         70.98     0.08%     0.04%     0:00:11     0:00:02\r\r"
     ]
    },
    {
     "name": "stderr",
     "output_type": "stream",
     "text": [
      "\r     3.24777         66.03     0.12%     0.08%     0:00:12     0:00:02\r\r"
     ]
    },
    {
     "name": "stderr",
     "output_type": "stream",
     "text": [
      "\r     3.04216         71.15     0.08%     0.00%     0:00:12     0:00:02\r\r"
     ]
    },
    {
     "name": "stderr",
     "output_type": "stream",
     "text": [
      "\r     2.84957         61.29     0.04%     0.04%     0:00:12     0:00:02\r\r"
     ]
    },
    {
     "name": "stderr",
     "output_type": "stream",
     "text": [
      "\r     2.66917         58.94     0.04%     0.04%     0:00:12     0:00:01\r\r"
     ]
    },
    {
     "name": "stderr",
     "output_type": "stream",
     "text": [
      "\r     2.50019         56.44     0.04%     0.04%     0:00:12     0:00:01\r\r"
     ]
    },
    {
     "name": "stderr",
     "output_type": "stream",
     "text": [
      "\r     2.34191         59.38     0.04%     0.00%     0:00:12     0:00:01\r\r"
     ]
    },
    {
     "name": "stderr",
     "output_type": "stream",
     "text": [
      "\r     2.19365         59.38     0.00%     0.00%     0:00:13     0:00:01\r\r"
     ]
    },
    {
     "name": "stderr",
     "output_type": "stream",
     "text": [
      "\r     2.05478         59.38     0.00%     0.00%     0:00:13     0:00:01\r\r"
     ]
    },
    {
     "name": "stderr",
     "output_type": "stream",
     "text": [
      "\r     1.92469         61.64     0.04%     0.00%     0:00:13     0:00:01\r\r"
     ]
    },
    {
     "name": "stderr",
     "output_type": "stream",
     "text": [
      "\r     1.80284         60.51     0.04%     0.04%     0:00:13     0:00:01\r\r"
     ]
    },
    {
     "name": "stderr",
     "output_type": "stream",
     "text": [
      "\r     1.68871         60.51     0.00%     0.00%     0:00:13     0:00:01\r\r"
     ]
    },
    {
     "name": "stderr",
     "output_type": "stream",
     "text": [
      "\r     1.58180         45.73     0.04%     0.04%     0:00:13     0:00:00\r\r"
     ]
    },
    {
     "name": "stderr",
     "output_type": "stream",
     "text": [
      "\r     1.48166         45.73     0.00%     0.00%     0:00:13     0:00:00\r\r"
     ]
    },
    {
     "name": "stderr",
     "output_type": "stream",
     "text": [
      "\r     1.38786         45.73     0.00%     0.00%     0:00:13     0:00:00\r\r"
     ]
    },
    {
     "name": "stderr",
     "output_type": "stream",
     "text": [
      "\r     1.30000         45.73     0.00%     0.00%     0:00:14     0:00:00\r\r"
     ]
    },
    {
     "name": "stdout",
     "output_type": "stream",
     "text": [
      "The lowest function value found by simulated annealing is 4.573e+01\n",
      "That value is achieved at [ 1.85799716 -0.86130791 -1.01152837 -0.19116248 -1.16049202  0.1325401\n",
      "  1.01857466 -0.88528808 -0.75803699 -0.89162763]\n",
      "\n",
      "The Rastrigin function was evaluated 306026 times\n"
     ]
    }
   ],
   "source": [
    "def gauss_move(n,sigma):\n",
    "    dim = len(n)\n",
    "    return n + np.random.normal(loc = 0, scale = sigma, size=dim)\n",
    "\n",
    "def clip_to_bounds(n,low,high):\n",
    "    return np.array( [min(high,max(low,v)) for v in n])\n",
    "\n",
    "class NonConvex(Annealer):\n",
    "    def __init__(self, state, sigma, low, high):\n",
    "        self.sigma = sigma\n",
    "        self.low = low\n",
    "        self.high = high\n",
    "        super(NonConvex, self).__init__(state)\n",
    "\n",
    "    def move(self):\n",
    "        self.state = gauss_move(self.state, self.sigma)\n",
    "        self.state = clip_to_bounds(self.state, self.low, self.high)\n",
    "\n",
    "    def energy(self):\n",
    "        return rastrigin(self.state)\n",
    "\n",
    "func_count = 0\n",
    "rastrigin_dim = 10\n",
    "init_state = np.random.uniform(low=-1,high=1,size=rastrigin_dim)\n",
    "sigma = 2\n",
    "low = -5.12\n",
    "high = 5.12\n",
    "\n",
    "problem = NonConvex( init_state, sigma, low, high )\n",
    "problem.set_schedule(problem.auto(minutes=.2))\n",
    "best_x, best_fun = problem.anneal()\n",
    "\n",
    "print(f\"The lowest function value found by simulated annealing is {best_fun:.3e}\")\n",
    "print(f\"That value is achieved at {best_x}\\n\")\n",
    "\n",
    "print(f'The Rastrigin function was evaluated {func_count} times')"
   ]
  },
  {
   "cell_type": "markdown",
   "metadata": {
    "collapsed": false
   },
   "source": [
    "## Question 12 <font color=\"magenta\">(1 point, auto)</font>\n",
    "\n",
    "Now include local search in your `simanneal` solution.  To do this, you'll want to keep the move method as above and modify the energy method to go like this:\n",
    "\n",
    "```\n",
    "energy method\n",
    "    initiate a local search of Rastrigin starting at self.state, incorporate the bounds and use `tol=0.1` or `tol=0.5` for faster (and less accurate) local search\n",
    "    set self.state to result.x from the local search\n",
    "    return result.fun (the best function value from the local search)\n",
    "```\n",
    "\n",
    "For the local search use minimize from scipy.optimize with tol = 0.5.  After your annealing is done one extra local search using the default tolerance value for `tol` so that your final answer is an accurate minimum.  Don't forget to include bounds in minimize() so that the local search doesn't move to an out-of-bounds solution.\n",
    "\n",
    "The auto scheduler in simanneal is very slow here since the function evaluations are pretty slow.  You should not use auto_schedule and instead add a manual temperature schedule like this:\n",
    "\n",
    "```python\n",
    "    rast.Tmax = 10000.0  # Max (starting) temperature\n",
    "    rast.Tmin = 0.1     # Min (ending) temperature\n",
    "    rast.steps = 5000   # Number of iterations\n",
    "```\n",
    "where `rast` is the name of your instance of the Annealer object.   \n",
    "\n",
    "Use `sigma = 2`.  What's the lowest value of the objective function you are able to obtain?\n",
    "\n",
    "**0.00**\n",
    "\n",
    "\n",
    "## Question 13  <font color=\"magenta\">(1 point, auto)</font>\n",
    "\n",
    "How many times did `simanneal` evaluate the Rastrigin function to find the best answer you reported in Question 12?\n",
    "\n",
    "**229724**\n",
    "\n",
    "\n",
    "## Question 14 <font color=\"magenta\">(5 points, manual)</font>\n",
    "\n",
    "Include the complete code to minimize the ten-dimensional Rastrigin function with `simanneal` and local search.  Make sure your code is in CoCalc and has been run there.\n"
   ]
  },
  {
   "cell_type": "code",
   "execution_count": 7,
   "metadata": {
    "collapsed": false
   },
   "outputs": [
    {
     "name": "stderr",
     "output_type": "stream",
     "text": [
      " Temperature        Energy    Accept   Improve     Elapsed   Remaining\n",
      "\r 10000.00000          9.97                         0:00:00            \r"
     ]
    },
    {
     "name": "stderr",
     "output_type": "stream",
     "text": [
      "\r  8912.50938          9.97   100.00%    56.00%     0:00:00     0:00:15\r\r"
     ]
    },
    {
     "name": "stderr",
     "output_type": "stream",
     "text": [
      "\r  7943.28235          9.96   100.00%    52.00%     0:00:00     0:00:13\r\r"
     ]
    },
    {
     "name": "stderr",
     "output_type": "stream",
     "text": [
      "\r  7079.45784          9.97   100.00%    40.00%     0:00:00     0:00:13\r\r"
     ]
    },
    {
     "name": "stderr",
     "output_type": "stream",
     "text": [
      "\r  6309.57344         10.00   100.00%    44.00%     0:00:01     0:00:13\r\r"
     ]
    },
    {
     "name": "stderr",
     "output_type": "stream",
     "text": [
      "\r  5623.41325          9.96   100.00%    52.00%     0:00:01     0:00:13\r\r"
     ]
    },
    {
     "name": "stderr",
     "output_type": "stream",
     "text": [
      "\r  5011.87234          9.96   100.00%    52.00%     0:00:01     0:00:12\r\r"
     ]
    },
    {
     "name": "stderr",
     "output_type": "stream",
     "text": [
      "\r  4466.83592          9.96   100.00%    48.00%     0:00:01     0:00:12\r\r"
     ]
    },
    {
     "name": "stderr",
     "output_type": "stream",
     "text": [
      "\r  3981.07171         10.00   100.00%    50.00%     0:00:01     0:00:12\r\r"
     ]
    },
    {
     "name": "stderr",
     "output_type": "stream",
     "text": [
      "\r  3548.13389          9.97   100.00%    44.00%     0:00:01     0:00:11\r\r"
     ]
    },
    {
     "name": "stderr",
     "output_type": "stream",
     "text": [
      "\r  3162.27766          9.97   100.00%    52.00%     0:00:01     0:00:11\r\r"
     ]
    },
    {
     "name": "stderr",
     "output_type": "stream",
     "text": [
      "\r  2818.38293          9.96   100.00%    54.00%     0:00:01     0:00:11\r\r"
     ]
    },
    {
     "name": "stderr",
     "output_type": "stream",
     "text": [
      "\r  2511.88643          9.96   100.00%    50.00%     0:00:01     0:00:11\r\r"
     ]
    },
    {
     "name": "stderr",
     "output_type": "stream",
     "text": [
      "\r  2238.72114          9.96   100.00%    44.00%     0:00:02     0:00:12\r\r"
     ]
    },
    {
     "name": "stderr",
     "output_type": "stream",
     "text": [
      "\r  1995.26231          9.96   100.00%    48.00%     0:00:02     0:00:13\r\r"
     ]
    },
    {
     "name": "stderr",
     "output_type": "stream",
     "text": [
      "\r  1778.27941          9.98   100.00%    56.00%     0:00:02     0:00:14\r\r"
     ]
    },
    {
     "name": "stderr",
     "output_type": "stream",
     "text": [
      "\r  1584.89319          9.96   100.00%    50.00%     0:00:03     0:00:13\r\r"
     ]
    },
    {
     "name": "stderr",
     "output_type": "stream",
     "text": [
      "\r  1412.53754          9.96   100.00%    52.00%     0:00:03     0:00:13\r\r"
     ]
    },
    {
     "name": "stderr",
     "output_type": "stream",
     "text": [
      "\r  1258.92541          1.98   100.00%    50.00%     0:00:03     0:00:13\r\r"
     ]
    },
    {
     "name": "stderr",
     "output_type": "stream",
     "text": [
      "\r  1122.01845          9.96   100.00%    48.00%     0:00:03     0:00:13\r\r"
     ]
    },
    {
     "name": "stderr",
     "output_type": "stream",
     "text": [
      "\r  1000.00000          9.96   100.00%    56.00%     0:00:03     0:00:12\r\r"
     ]
    },
    {
     "name": "stderr",
     "output_type": "stream",
     "text": [
      "\r   891.25094          9.96   100.00%    46.00%     0:00:03     0:00:12\r\r"
     ]
    },
    {
     "name": "stderr",
     "output_type": "stream",
     "text": [
      "\r   794.32823         11.07   100.00%    50.00%     0:00:03     0:00:12\r\r"
     ]
    },
    {
     "name": "stderr",
     "output_type": "stream",
     "text": [
      "\r   707.94578          9.97   100.00%    54.00%     0:00:03     0:00:11\r\r"
     ]
    },
    {
     "name": "stderr",
     "output_type": "stream",
     "text": [
      "\r   630.95734          9.96   100.00%    50.00%     0:00:04     0:00:11\r\r"
     ]
    },
    {
     "name": "stderr",
     "output_type": "stream",
     "text": [
      "\r   562.34133          9.96   100.00%    48.00%     0:00:04     0:00:11\r\r"
     ]
    },
    {
     "name": "stderr",
     "output_type": "stream",
     "text": [
      "\r   501.18723          9.96   100.00%    52.00%     0:00:04     0:00:11\r\r"
     ]
    },
    {
     "name": "stderr",
     "output_type": "stream",
     "text": [
      "\r   446.68359          9.96   100.00%    44.00%     0:00:04     0:00:11\r\r"
     ]
    },
    {
     "name": "stderr",
     "output_type": "stream",
     "text": [
      "\r   398.10717          9.96   100.00%    48.00%     0:00:04     0:00:10\r\r"
     ]
    },
    {
     "name": "stderr",
     "output_type": "stream",
     "text": [
      "\r   354.81339         10.00   100.00%    44.00%     0:00:04     0:00:10\r\r"
     ]
    },
    {
     "name": "stderr",
     "output_type": "stream",
     "text": [
      "\r   316.22777          9.96   100.00%    52.00%     0:00:04     0:00:10\r\r"
     ]
    },
    {
     "name": "stderr",
     "output_type": "stream",
     "text": [
      "\r   281.83829          9.97   100.00%    50.00%     0:00:05     0:00:10\r\r"
     ]
    },
    {
     "name": "stderr",
     "output_type": "stream",
     "text": [
      "\r   251.18864          9.96   100.00%    52.00%     0:00:05     0:00:10\r\r"
     ]
    },
    {
     "name": "stderr",
     "output_type": "stream",
     "text": [
      "\r   223.87211          9.96   100.00%    44.00%     0:00:05     0:00:10\r\r"
     ]
    },
    {
     "name": "stderr",
     "output_type": "stream",
     "text": [
      "\r   199.52623          9.97   100.00%    46.00%     0:00:05     0:00:10\r\r"
     ]
    },
    {
     "name": "stderr",
     "output_type": "stream",
     "text": [
      "\r   177.82794          9.96   100.00%    48.00%     0:00:05     0:00:10\r\r"
     ]
    },
    {
     "name": "stderr",
     "output_type": "stream",
     "text": [
      "\r   158.48932          9.96   100.00%    50.00%     0:00:05     0:00:09\r\r"
     ]
    },
    {
     "name": "stderr",
     "output_type": "stream",
     "text": [
      "\r   141.25375         10.00   100.00%    54.00%     0:00:05     0:00:09\r\r"
     ]
    },
    {
     "name": "stderr",
     "output_type": "stream",
     "text": [
      "\r   125.89254          9.96   100.00%    44.00%     0:00:06     0:00:09\r\r"
     ]
    },
    {
     "name": "stderr",
     "output_type": "stream",
     "text": [
      "\r   112.20185          9.96   100.00%    52.00%     0:00:06     0:00:09\r\r"
     ]
    },
    {
     "name": "stderr",
     "output_type": "stream",
     "text": [
      "\r   100.00000          9.96    96.00%    52.00%     0:00:06     0:00:09\r\r"
     ]
    },
    {
     "name": "stderr",
     "output_type": "stream",
     "text": [
      "\r    89.12509          9.96   100.00%    58.00%     0:00:06     0:00:09\r\r"
     ]
    },
    {
     "name": "stderr",
     "output_type": "stream",
     "text": [
      "\r    79.43282          9.96   100.00%    52.00%     0:00:06     0:00:09\r\r"
     ]
    },
    {
     "name": "stderr",
     "output_type": "stream",
     "text": [
      "\r    70.79458          9.96    98.00%    52.00%     0:00:06     0:00:08\r\r"
     ]
    },
    {
     "name": "stderr",
     "output_type": "stream",
     "text": [
      "\r    63.09573          9.95    96.00%    46.00%     0:00:06     0:00:08\r\r"
     ]
    },
    {
     "name": "stderr",
     "output_type": "stream",
     "text": [
      "\r    56.23413          9.96    98.00%    52.00%     0:00:07     0:00:08\r\r"
     ]
    },
    {
     "name": "stderr",
     "output_type": "stream",
     "text": [
      "\r    50.11872          9.97   100.00%    50.00%     0:00:07     0:00:08\r\r"
     ]
    },
    {
     "name": "stderr",
     "output_type": "stream",
     "text": [
      "\r    44.66836         10.00   100.00%    52.00%     0:00:07     0:00:08\r\r"
     ]
    },
    {
     "name": "stderr",
     "output_type": "stream",
     "text": [
      "\r    39.81072          9.96    98.00%    48.00%     0:00:07     0:00:08\r\r"
     ]
    },
    {
     "name": "stderr",
     "output_type": "stream",
     "text": [
      "\r    35.48134         10.00    88.00%    36.00%     0:00:07     0:00:07\r\r"
     ]
    },
    {
     "name": "stderr",
     "output_type": "stream",
     "text": [
      "\r    31.62278          9.97    98.00%    50.00%     0:00:07     0:00:07\r\r"
     ]
    },
    {
     "name": "stderr",
     "output_type": "stream",
     "text": [
      "\r    28.18383          9.96    96.00%    48.00%     0:00:07     0:00:07\r\r"
     ]
    },
    {
     "name": "stderr",
     "output_type": "stream",
     "text": [
      "\r    25.11886          9.96    98.00%    56.00%     0:00:08     0:00:07\r\r"
     ]
    },
    {
     "name": "stderr",
     "output_type": "stream",
     "text": [
      "\r    22.38721          9.97    96.00%    46.00%     0:00:08     0:00:07\r\r"
     ]
    },
    {
     "name": "stderr",
     "output_type": "stream",
     "text": [
      "\r    19.95262          9.97    98.00%    46.00%     0:00:08     0:00:07\r\r"
     ]
    },
    {
     "name": "stderr",
     "output_type": "stream",
     "text": [
      "\r    17.78279          9.96   100.00%    56.00%     0:00:08     0:00:07\r\r"
     ]
    },
    {
     "name": "stderr",
     "output_type": "stream",
     "text": [
      "\r    15.84893         10.00    94.00%    48.00%     0:00:09     0:00:07\r\r"
     ]
    },
    {
     "name": "stderr",
     "output_type": "stream",
     "text": [
      "\r    14.12538          9.96    96.00%    44.00%     0:00:09     0:00:07\r\r"
     ]
    },
    {
     "name": "stderr",
     "output_type": "stream",
     "text": [
      "\r    12.58925          9.96   100.00%    50.00%     0:00:09     0:00:06\r\r"
     ]
    },
    {
     "name": "stderr",
     "output_type": "stream",
     "text": [
      "\r    11.22018          9.97    90.00%    48.00%     0:00:09     0:00:06\r\r"
     ]
    },
    {
     "name": "stderr",
     "output_type": "stream",
     "text": [
      "\r    10.00000          9.97    96.00%    46.00%     0:00:09     0:00:06\r\r"
     ]
    },
    {
     "name": "stderr",
     "output_type": "stream",
     "text": [
      "\r     8.91251          0.00    96.00%    54.00%     0:00:09     0:00:06\r\r"
     ]
    },
    {
     "name": "stderr",
     "output_type": "stream",
     "text": [
      "\r     7.94328          9.96    98.00%    48.00%     0:00:09     0:00:06\r\r"
     ]
    },
    {
     "name": "stderr",
     "output_type": "stream",
     "text": [
      "\r     7.07946          9.96    88.00%    44.00%     0:00:10     0:00:06\r\r"
     ]
    },
    {
     "name": "stderr",
     "output_type": "stream",
     "text": [
      "\r     6.30957          9.96    82.00%    42.00%     0:00:10     0:00:05\r\r"
     ]
    },
    {
     "name": "stderr",
     "output_type": "stream",
     "text": [
      "\r     5.62341          9.96    92.00%    44.00%     0:00:10     0:00:05\r\r"
     ]
    },
    {
     "name": "stderr",
     "output_type": "stream",
     "text": [
      "\r     5.01187          9.98    80.00%    36.00%     0:00:10     0:00:05\r\r"
     ]
    },
    {
     "name": "stderr",
     "output_type": "stream",
     "text": [
      "\r     4.46684          9.96    86.00%    48.00%     0:00:10     0:00:05\r\r"
     ]
    },
    {
     "name": "stderr",
     "output_type": "stream",
     "text": [
      "\r     3.98107          9.96    80.00%    38.00%     0:00:10     0:00:05\r\r"
     ]
    },
    {
     "name": "stderr",
     "output_type": "stream",
     "text": [
      "\r     3.54813          9.96    94.00%    54.00%     0:00:10     0:00:05\r\r"
     ]
    },
    {
     "name": "stderr",
     "output_type": "stream",
     "text": [
      "\r     3.16228          9.96    94.00%    42.00%     0:00:10     0:00:04\r\r"
     ]
    },
    {
     "name": "stderr",
     "output_type": "stream",
     "text": [
      "\r     2.81838          0.00    46.00%    20.00%     0:00:10     0:00:04\r\r"
     ]
    },
    {
     "name": "stderr",
     "output_type": "stream",
     "text": [
      "\r     2.51189          9.96    32.00%    14.00%     0:00:11     0:00:04\r\r"
     ]
    },
    {
     "name": "stderr",
     "output_type": "stream",
     "text": [
      "\r     2.23872          0.00    64.00%    32.00%     0:00:11     0:00:04\r\r"
     ]
    },
    {
     "name": "stderr",
     "output_type": "stream",
     "text": [
      "\r     1.99526          0.00     0.00%     0.00%     0:00:11     0:00:04\r\r"
     ]
    },
    {
     "name": "stderr",
     "output_type": "stream",
     "text": [
      "\r     1.77828          0.00     6.00%     2.00%     0:00:11     0:00:04\r\r"
     ]
    },
    {
     "name": "stderr",
     "output_type": "stream",
     "text": [
      "\r     1.58489          0.00     0.00%     0.00%     0:00:11     0:00:03\r\r"
     ]
    },
    {
     "name": "stderr",
     "output_type": "stream",
     "text": [
      "\r     1.41254          0.00     2.00%     2.00%     0:00:11     0:00:03\r\r"
     ]
    },
    {
     "name": "stderr",
     "output_type": "stream",
     "text": [
      "\r     1.25893          0.00     0.00%     0.00%     0:00:11     0:00:03\r\r"
     ]
    },
    {
     "name": "stderr",
     "output_type": "stream",
     "text": [
      "\r     1.12202          1.34     2.00%     0.00%     0:00:11     0:00:03\r\r"
     ]
    },
    {
     "name": "stderr",
     "output_type": "stream",
     "text": [
      "\r     1.00000          1.96     2.00%     0.00%     0:00:11     0:00:03\r\r"
     ]
    },
    {
     "name": "stderr",
     "output_type": "stream",
     "text": [
      "\r     0.89125          1.96     0.00%     0.00%     0:00:11     0:00:03\r\r"
     ]
    },
    {
     "name": "stderr",
     "output_type": "stream",
     "text": [
      "\r     0.79433          5.09     2.00%     0.00%     0:00:12     0:00:03\r\r"
     ]
    },
    {
     "name": "stderr",
     "output_type": "stream",
     "text": [
      "\r     0.70795          5.09     0.00%     0.00%     0:00:12     0:00:02\r\r"
     ]
    },
    {
     "name": "stderr",
     "output_type": "stream",
     "text": [
      "\r     0.63096          1.97     2.00%     2.00%     0:00:12     0:00:02\r\r"
     ]
    },
    {
     "name": "stderr",
     "output_type": "stream",
     "text": [
      "\r     0.56234          1.97     0.00%     0.00%     0:00:12     0:00:02\r\r"
     ]
    },
    {
     "name": "stderr",
     "output_type": "stream",
     "text": [
      "\r     0.50119          1.97     0.00%     0.00%     0:00:12     0:00:02\r\r"
     ]
    },
    {
     "name": "stderr",
     "output_type": "stream",
     "text": [
      "\r     0.44668          0.00     4.00%     4.00%     0:00:12     0:00:02\r\r"
     ]
    },
    {
     "name": "stderr",
     "output_type": "stream",
     "text": [
      "\r     0.39811          0.00     6.00%     2.00%     0:00:12     0:00:02\r\r"
     ]
    },
    {
     "name": "stderr",
     "output_type": "stream",
     "text": [
      "\r     0.35481          0.00     0.00%     0.00%     0:00:12     0:00:02\r\r"
     ]
    },
    {
     "name": "stderr",
     "output_type": "stream",
     "text": [
      "\r     0.31623          0.00     0.00%     0.00%     0:00:13     0:00:01\r\r"
     ]
    },
    {
     "name": "stderr",
     "output_type": "stream",
     "text": [
      "\r     0.28184          0.00     4.00%     2.00%     0:00:13     0:00:01\r\r"
     ]
    },
    {
     "name": "stderr",
     "output_type": "stream",
     "text": [
      "\r     0.25119          0.00     2.00%     2.00%     0:00:13     0:00:01\r\r"
     ]
    },
    {
     "name": "stderr",
     "output_type": "stream",
     "text": [
      "\r     0.22387          0.00     0.00%     0.00%     0:00:13     0:00:01\r\r"
     ]
    },
    {
     "name": "stderr",
     "output_type": "stream",
     "text": [
      "\r     0.19953          0.00     0.00%     0.00%     0:00:13     0:00:01\r\r"
     ]
    },
    {
     "name": "stderr",
     "output_type": "stream",
     "text": [
      "\r     0.17783          0.00     0.00%     0.00%     0:00:13     0:00:01\r\r"
     ]
    },
    {
     "name": "stderr",
     "output_type": "stream",
     "text": [
      "\r     0.15849          0.00     0.00%     0.00%     0:00:14     0:00:01\r\r"
     ]
    },
    {
     "name": "stderr",
     "output_type": "stream",
     "text": [
      "\r     0.14125          0.00     0.00%     0.00%     0:00:14     0:00:00\r\r"
     ]
    },
    {
     "name": "stderr",
     "output_type": "stream",
     "text": [
      "\r     0.12589          0.00     6.00%     2.00%     0:00:14     0:00:00\r\r"
     ]
    },
    {
     "name": "stderr",
     "output_type": "stream",
     "text": [
      "\r     0.11220          0.00     0.00%     0.00%     0:00:14     0:00:00\r\r"
     ]
    },
    {
     "name": "stderr",
     "output_type": "stream",
     "text": [
      "\r     0.10000          0.00     0.00%     0.00%     0:00:14     0:00:00\r\r"
     ]
    },
    {
     "name": "stdout",
     "output_type": "stream",
     "text": [
      "The lowest function value found by simulated annealing is 2.389e-03\n",
      "That value is achieved at [ 0.00109734 -0.00109734 -0.00109734  0.00109734 -0.00109734 -0.00109734\n",
      " -0.00109734 -0.00109734 -0.00109734 -0.00109734]\n",
      "\n",
      "\n",
      "After refining the result from simulated annealing with local search.\n",
      "The lowest function value found by local search is 8.882e-14\n",
      "That value is achieved when x = [-9.28408826e-09 -5.72010731e-09 -5.72010731e-09 -9.28408828e-09\n",
      " -5.72010730e-09 -5.72010731e-09 -5.72010732e-09 -5.72010732e-09\n",
      " -5.72010732e-09 -5.72010732e-09]\n",
      "\n",
      "The Rastrigin function was evaluated 229724 times\n"
     ]
    }
   ],
   "source": [
    "def rastrigin(x):\n",
    "    global func_count\n",
    "    func_count += 1\n",
    "    x = np.array(x) # force a numpy arrray here so that the math below works\n",
    "    # pass a single vector of length n (=dim) to evaluate Rastrigin\n",
    "    return sum(x**2 + 10 - 10 * np.cos(2 * np.pi * x))\n",
    "\n",
    "def gauss_move(n,sigma):\n",
    "\tdim = len(n)\n",
    "\treturn n + np.random.normal(loc = 0, scale = sigma, size=dim)\n",
    "\n",
    "def clip_to_bounds(n,low,high):\n",
    "\treturn np.array( [min(high,max(low,v)) for v in n])\n",
    "\n",
    "class NonConvexLocal(Annealer):\n",
    "\tdef __init__(self, state, sigma, low, high):\n",
    "\t\tself.sigma = sigma\n",
    "\t\tself.low = low\n",
    "\t\tself.high = high\n",
    "\t\tsuper(NonConvexLocal, self).__init__(state)\n",
    "\n",
    "\tdef move(self):\n",
    "\t\tself.state = gauss_move(self.state, self.sigma)\n",
    "\t\tself.state = clip_to_bounds(self.state, self.low, self.high)\n",
    "\n",
    "\tdef energy(self):\n",
    "\t\tlocal = minimize(rastrigin, self.state, bounds=[(self.low,self.high)]*len(self.state), tol=.5)\n",
    "\t\tself.state = local.x\n",
    "\t\treturn local.fun\n",
    "\n",
    "func_count = 0\n",
    "rastrigin_dim = 10\n",
    "init_state = np.random.uniform(low=-1,high=1,size=rastrigin_dim)\n",
    "sigma = 2\n",
    "low = -1\n",
    "high = 1\n",
    "\n",
    "rast = NonConvexLocal( init_state, sigma, low, high )\n",
    "rast.Tmax = 10000.0  # Max (starting) temperature\n",
    "rast.Tmin = 0.1     # Min (ending) temperature\n",
    "rast.steps = 5000   # Number of iterations\n",
    "best_x, best_fun = rast.anneal()\n",
    "\n",
    "print(f\"The lowest function value found by simulated annealing is {best_fun:.3e}\")\n",
    "print(f\"That value is achieved at {best_x}\\n\")\n",
    "# refine with local search\n",
    "from scipy.optimize import minimize\n",
    "\n",
    "result = minimize(rastrigin,best_x)\n",
    "print(\"\\nAfter refining the result from simulated annealing with local search.\")\n",
    "print(f\"The lowest function value found by local search is {result.fun:.3e}\")\n",
    "print(f\"That value is achieved when x = {result.x}\\n\")\n",
    "\n",
    "print(f'The Rastrigin function was evaluated {func_count} times')"
   ]
  },
  {
   "cell_type": "markdown",
   "metadata": {
    "collapsed": false
   },
   "source": [
    "## Question 15 <font color=\"magenta\">(1 point, auto)</font>\n",
    "\n",
    "Now use the `gp_minimize` function to approximate the global minimum value of the ten-dimensional Rastrigin function.\n",
    "\n",
    "What's the lowest value of the objective function you are able to obtain?\n",
    "\n",
    "**128.81**\n",
    "\n",
    "## Question 16 <font color=\"magenta\">(1 point, auto)</font>\n",
    "\n",
    "How many times did `gp_minimize` evaluate the Rastrigin funciton to find the best answer you reported in Question 14?\n",
    "\n",
    "**40**\n",
    "\n",
    "## Question 17 <font color=\"magenta\">(5 points, manual)</font>\n",
    "\n",
    "Include the complete code to minimize the ten-dimensional Rastrigin function with `gp_minimize`.  Use Expected Improvement for the acquisition function and set `ncalls = 40` (this will be slow as there is a lot of overhead for Bayesian Optimization). Make sure your code is in CoCalc and has been run there.  (Hint:  to make a list of 10 tuples for the bounds, you could do this `[(-5.12,5.12)]*10`.)"
   ]
  },
  {
   "cell_type": "code",
   "execution_count": 8,
   "metadata": {
    "collapsed": false
   },
   "outputs": [
    {
     "name": "stdout",
     "output_type": "stream",
     "text": [
      "The Rastrigin function was evaluated 40 times\n",
      "\n",
      "The minimum value of the Rastrigin is 128.8082 and occurs at x=[-2.754697459119269, 2.909201636057584, -2.8856023867854512, -2.6554748255980276, -2.1561281580361946, -0.3799625132903106, 0.8168101705142261, -1.5362458844913802, -0.7796252239097443, 2.008686488221091]\n"
     ]
    }
   ],
   "source": [
    "rastrigin_dim = 10\n",
    "func_count = 0\n",
    "\n",
    "def rastrigin(x):\n",
    "    global func_count\n",
    "    func_count += 1\n",
    "    x = np.array(x) # force a numpy arrray here so that the math below works\n",
    "    # pass a single vector of length n (=dim) to evaluate Rastrigin\n",
    "    return sum(x**2 + 10 - 10 * np.cos(2 * np.pi * x))\n",
    "\n",
    "result = gp_minimize(rastrigin,                  # the function to minimize\n",
    "                  [(-5.12,5.12)]*rastrigin_dim,      # the bounds on each dimension of x\n",
    "                  acq_func=\"EI\",      # the acquisition function\n",
    "                  kappa = 10,\n",
    "                  n_calls=40,         # the number of evaluations of the objective function\n",
    "                  n_random_starts=5,  # the number of random initialization points\n",
    "                  random_state=42)\n",
    "\n",
    "print(f'The Rastrigin function was evaluated {func_count} times\\n')\n",
    "print(f'The minimum value of the Rastrigin is {result.fun:0.4f} and occurs at x={result.x}')"
   ]
  },
  {
   "cell_type": "markdown",
   "metadata": {
    "collapsed": false
   },
   "source": [
    "## Question 18 <font color=\"magenta\">(1 point, auto)</font>\n",
    "\n",
    "Use `dual_annealing` from `scipy.optimize` to approximate the global minimum value of the ten-dimensional Rastrigin function.\n",
    "\n",
    "What's the lowest value of the objective function you are able to obtain?  Round your answer to two decimal places, e.g. 0.53 or 9.74.  Notice that 4.2e-14 is 0.00 to two decimal places.\n",
    "\n",
    "## Question 19 <font color=\"magenta\">(1 point, auto)</font>\n",
    "\n",
    "How many times did `dual_annealing` evaluate the Rastrigin funciton to find the best answer you reported in Question 18?\n",
    "\n",
    "## Question 20 <font color=\"magenta\">(5 points, manual)</font>\n",
    "\n",
    "Include the complete code to minimize the ten-dimensional Rastrigin function with `dual_annealing`.  Make sure your code is in CoCalc and has been run there.\n"
   ]
  },
  {
   "cell_type": "code",
   "execution_count": 9,
   "metadata": {
    "collapsed": false
   },
   "outputs": [
    {
     "name": "stdout",
     "output_type": "stream",
     "text": [
      "The minimum value is 3.730349362740526e-14 and occurs at x = [-5.02543140e-09 -4.92493217e-09 -4.81569787e-09 -5.02376224e-09\n",
      " -5.00249569e-09 -4.84497504e-09 -5.10561166e-09 -5.02505983e-09\n",
      " -4.73746940e-09 -4.91553234e-09]\n",
      "\n",
      "21013 evaluations of the rastrigin function were needed.\n"
     ]
    }
   ],
   "source": [
    "rastrigin_dim = 10\n",
    "\n",
    "bounds = [(-5.12, 5.12)]*rastrigin_dim\n",
    "res = dual_annealing(rastrigin, bounds)\n",
    "\n",
    "print(f'The minimum value is {res.fun} and occurs at x = {res.x}')\n",
    "\n",
    "print(f'\\n{res.nfev} evaluations of the rastrigin function were needed.')"
   ]
  },
  {
   "cell_type": "markdown",
   "metadata": {
    "collapsed": false
   },
   "source": [
    "## Question 21 <font color=\"magenta\">(4 points, manual)</font>\n",
    "\n",
    "Write a brief comparison of the four methods used to minimize the 10D Rastrigin problem.  Which worked best in terms of finding the global minimum.  Which was most efficient?  Which was easiest to use?  Note:  pay attention to scientific notation.  5.01900952e-09 is the the same as 0.000000005102900952.  You very likely have some numbers which are effectively zero in your results."
   ]
  }
 ],
 "metadata": {
  "kernelspec": {
   "display_name": "Python 3 (system-wide)",
   "language": "python",
   "metadata": {
    "cocalc": {
     "description": "Python 3 programming language",
     "priority": 100,
     "url": "https://www.python.org/"
    }
   },
   "name": "python3",
   "resource_dir": "/ext/jupyter/kernels/python3"
  },
  "language_info": {
   "codemirror_mode": {
    "name": "ipython",
    "version": 3
   },
   "file_extension": ".py",
   "mimetype": "text/x-python",
   "name": "python",
   "nbconvert_exporter": "python",
   "pygments_lexer": "ipython3",
   "version": "3.8.10"
  },
  "toc": {
   "base_numbering": 1,
   "nav_menu": {
   },
   "number_sections": true,
   "sideBar": true,
   "skip_h1_title": false,
   "title_cell": "Table of Contents",
   "title_sidebar": "Contents",
   "toc_cell": false,
   "toc_position": {
   },
   "toc_section_display": true,
   "toc_window_display": false
  },
  "varInspector": {
   "cols": {
    "lenName": 16,
    "lenType": 16,
    "lenVar": 40
   },
   "kernels_config": {
    "python": {
     "delete_cmd_postfix": "",
     "delete_cmd_prefix": "del ",
     "library": "var_list.py",
     "varRefreshCmd": "print(var_dic_list())"
    },
    "r": {
     "delete_cmd_postfix": ") ",
     "delete_cmd_prefix": "rm(",
     "library": "var_list.r",
     "varRefreshCmd": "cat(var_dic_list()) "
    }
   },
   "types_to_exclude": [
    "module",
    "function",
    "builtin_function_or_method",
    "instance",
    "_Feature"
   ],
   "window_display": false
  }
 },
 "nbformat": 4,
 "nbformat_minor": 4
}