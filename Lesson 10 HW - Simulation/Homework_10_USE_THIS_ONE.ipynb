{
 "cells": [
  {
   "cell_type": "markdown",
   "metadata": {
    "collapsed": false
   },
   "source": [
    "<font size=18>Lesson 10 Homework - Simulation</font>"
   ]
  },
  {
   "cell_type": "markdown",
   "metadata": {
    "collapsed": false
   },
   "source": [
    "## **Question 1** - Textbook Problem 20.1-2 (Manually Graded) <font color=\"magenta\">(5 points)</font>\n",
    "\n",
    "The weather can be considered a stochastic system, because it evolves in a probabilistic manner from one day to the next. Suppose for a certain location that this probabilistic series satisfies the following description:\n",
    "\n",
    "The probability of rain tomorrow is 0.6 if it is raining today. The probability of its being clear (no rain) tomorrow is 0.8 if it is clear today.\n",
    "\n",
    "We've modified the problem a bit from the text book:  use uniformly distributed random numbers to simulate a sequence of 1000 days starting from a clear day.  Your code should output the the approximate probability of a rainy day based on your simulation results.\n",
    "\n",
    "**Hints:**\n",
    "* use a for loop\n",
    "* start with a clear day\n",
    "* inside the for loop, if today is clear and rand() < .8, then tomorrow is clear, otherwise tomorrow is rainy\n",
    "* count the number of rainy days/simulation size to estimate the probability of rain\n",
    "* round to 2 digits to compare your answer to the answer choices\n",
    "* even with a random seed, there could be some variance. Choose the closest answer to what you got.  \n",
    "* You can increase the number of simulated days to be more certain of your answer."
   ]
  },
  {
   "cell_type": "code",
   "execution_count": 1,
   "metadata": {
    "collapsed": false,
    "scrolled": true
   },
   "outputs": [
    {
     "name": "stdout",
     "output_type": "stream",
     "text": [
      "0.32\n"
     ]
    }
   ],
   "source": [
    "import numpy as np\n",
    "\n",
    "clear = True\n",
    "rainy = 0\n",
    "\n",
    "# retain this seed\n",
    "np.random.seed(10)\n",
    "\n",
    "for day in range(1000):\n",
    "\tprob = np.random.uniform()\n",
    "\tif not clear:\n",
    "\t\tif prob < .6:\n",
    "\t\t\trainy += 1\n",
    "\t\t\tcontinue\n",
    "\t\telse:\n",
    "\t\t\tclear = True\n",
    "\telse:\n",
    "\t\tif prob < .8:\n",
    "\t\t\tcontinue\n",
    "\t\telse:\n",
    "\t\t\tclear = False\n",
    "\t\t\trainy += 1\n",
    "\n",
    "print(round(rainy/1000, 2))"
   ]
  },
  {
   "cell_type": "markdown",
   "metadata": {
    "collapsed": false
   },
   "source": [
    "## **Question 2** <font color=\"magenta\">(2 points)</font>\n",
    "\n",
    "What is the approximate probability of rain?\n",
    "\n",
    "* .78\n",
    "* .33\n",
    "* .59\n",
    "* .01\n",
    "* .99"
   ]
  },
  {
   "cell_type": "markdown",
   "metadata": {
    "collapsed": false
   },
   "source": [
    "## **Question 3** - Textbook Problem 20.6-7 (Manually Graded) <font color=\"magenta\">(5 points)</font>\n",
    "\n",
    "Now that Jennifer is in middle school, her parents have decided that they really must start saving for her college education. They have \\$10,000 to invest right now. Furthermore, they plan to save another \\$4,000 each year until Jennifer starts college five years from now. They plan to split their investment evenly between a stock fund and a bond fund. Historically, the stock fund has had an average annual return of 8 percent with a standard deviation of 6 percent. The bond fund has had an average annual return of 4 percent with a standard deviation of 3 percent. (Assume a normal distribution for both.)\n",
    "\n",
    "Assume that the initial investment (\\$10,000) is made right now (year 0) and is split evenly between the two funds (i.e., \\$5,000 in each fund). The returns of each fund are allowed to accumulate (i.e., are reinvested) in the same fund and no redistribution will be done before Jennifer starts college. Furthermore, four additional investments of \\$4,000 will be made and split evenly between both funds (\\$2,000 each) at the end of year 1, year 2, year 3, and year 4, plus another \\$4,000 of savings will be available at the end of year 5, just in time for Jennifer to begin college. Use a 1000-trial simulation to answer questions 4-7.\n",
    "\n",
    "**Hints:**\n",
    "* Generate new interest rates randomly each year.\n",
    "* Store the total amount after each simulation (stocks + bonds).\n",
    "* To determine probability of the fund being at least 35k, count the number of times the fund reached 35k or more and divide by sim size.\n",
    "* Don't forget to add the \\$2000 to each of the stocks and bonds at the end of year 5.\n",
    "* Easiest implementation is a for loop. \n",
    "* Remember to round at the end, as per each question's instructions.\n",
    "* You can increase the number of simulated days to be more certain of your answer.\n",
    "* To check your work, you could set the interest rate for the stocks to a constant 0.08 and see if you get \\$19,079.84 at the end of the 5th year as demonstrated by this code snippet:\n",
    "\n",
    "```python\n",
    "A = 5000 # initial investment\n",
    "r = .08 # annual interest rate\n",
    "n = 5 # number of years\n",
    "I = 2000 # additional investment at end of year year\n",
    "print(\"end of year, amount\")\n",
    "for i in range(n):\n",
    "    A = (1+r)*A + I\n",
    "    print(i+1,A)\n",
    "```"
   ]
  },
  {
   "cell_type": "code",
   "execution_count": 2,
   "metadata": {
    "collapsed": false
   },
   "outputs": [
    {
     "name": "stdout",
     "output_type": "stream",
     "text": [
      "0.722\n",
      "36073.853082579626\n",
      "1737.5304369243768\n"
     ]
    }
   ],
   "source": [
    "sim_size = 1000\n",
    "cutoff = 35000\n",
    "n = 5 # number of years\n",
    "I = 2000 # additional investment at end of each year\n",
    "\n",
    "np.random.seed(777)  # Retain this seed\n",
    "\n",
    "A = []\n",
    "tracker = 0\n",
    "\n",
    "for s in range(sim_size):\n",
    "\t# two accounts with different interest rates require 2 variables\n",
    "\tA_s = 5000\n",
    "\tA_b = 5000\n",
    "\tr_s = .08 # annual interest rates\n",
    "\tr_b = .04\n",
    "\t\n",
    "\tfor i in range(n):\n",
    "\t\tA_s = (1+r_s)*A_s + I\n",
    "\t\tA_b = (1+r_b)*A_b + I\n",
    "\n",
    "\t\t# generate new interest rates\n",
    "\t\tr_s = np.random.normal(loc=.08, scale=.06)\n",
    "\t\tr_b = np.random.normal(loc=.04, scale=.03)\n",
    "\n",
    "\tA.append(A_s+A_b)\n",
    "\tif (A_s+A_b) > cutoff:\n",
    "\t\ttracker += 1\n",
    "\n",
    "print(tracker/sim_size)\n",
    "print(np.mean(A))\n",
    "print(np.std(A))"
   ]
  },
  {
   "cell_type": "markdown",
   "metadata": {
    "collapsed": false
   },
   "source": [
    "## **Question 4** <font color=\"magenta\">(2 points)</font>\n",
    "\n",
    "What will be the expected value (mean) of the college fund at the end of year 5, rounded to the nearest 1000?\n",
    "\n",
    "\n",
    "## **Question 5** <font color=\"magenta\">(2 points)</font>\n",
    "What will be the standard deviation of the college fund at the end of year 5, rounded to the nearest 1000?\n",
    "\n",
    "\n",
    "\n",
    "## **Question 6** <font color=\"magenta\">(2 points)</font>\n",
    "What is the probability that the college fund at the end of year 5 will be at least \\$35,000?\n",
    "\n",
    "* .7\n",
    "* .5\n",
    "* .3\n",
    "* .9\n",
    "* .1\n",
    "\n",
    "## **Question 7** <font color=\"magenta\">(2 points)</font>\n",
    "What is the probability that the college fund at the end of year 5 will be at least \\$40,000, rounded to two digits?\n",
    "\n",
    "* .55\n",
    "* .09\n",
    "* .01\n",
    "* .35\n",
    "* .77\n"
   ]
  },
  {
   "cell_type": "markdown",
   "metadata": {
    "collapsed": false
   },
   "source": [
    "## **Question 8** - Textbook Problem 20.6-9 (Manually Graded) <font color=\"magenta\">(5 points)</font>\n",
    "\n",
    "Road Pavers, Inc. \\(RPI\\) is considering bidding on a county road construction project. RPI has estimated that the cost of this particular project would be $5 million. In addition, the cost of putting together a bid is estimated to be $50,000. The county also will receive four other bids on the project from competitors of RPI. Past experience with these competitors suggests that each competitor’s bid is most likely to be 20 percent over the project cost of $5 million, but could be as low as 5 percent over or as much as 40 percent over this cost. Assume a triangular distribution for each of these bids.\n",
    "\n",
    "Suppose that RPI bids \\$5.7 million on the project. Write a function that takes in RPI's bid and the simulation size and returns an array of profits.\n",
    "\n",
    "Run your function with a simulation size of 1,000 trials. (You should _call_ your function once. It should simulate profits 1000 times and return an array of profits.\n",
    "\n",
    "**Hints:**\n",
    "\n",
    "* RPI's bid is constant, but that constant changes for some of the questions\n",
    "* Generate 4 bids from triangular dist with low = 5 * 1.05, mode = 5 * 1.2, high = 5 * 1.4.\n",
    "* Compare RPI's bid to the lowest (min) of the 4 competitor bids.\n",
    "* If RPI bid < smallest bid then RPI wins and their profit is RPI bid - (5 + .05).\n",
    "* If RPI loses their profit is -.05.\n",
    "* Each round of the simulation track their profit, or tracks wins and losses.\n",
    "* Compute statistics.\n",
    "* You can increase the number of simulated days to be more certain of your answer.\n",
    "\n"
   ]
  },
  {
   "cell_type": "code",
   "execution_count": 3,
   "metadata": {
    "collapsed": false,
    "scrolled": true
   },
   "outputs": [
    {
     "name": "stdout",
     "output_type": "stream",
     "text": [
      "RPI average profit: 298600.0\n",
      "Probability RPI wins: 0.498\n"
     ]
    }
   ],
   "source": [
    "def find_profits(bid, ssize):\n",
    "\t'''\n",
    "\tParameters:\n",
    "\tbid - the amount RPI is bidding\n",
    "\tssize - the simulation size (1000 for your final solution - start smaller until you have a working function)\n",
    "\n",
    "\tReturns:\n",
    "\tA numpy array of profits\n",
    "\t'''\n",
    "\tnp.random.seed(88) #retain this seed\n",
    "\t\n",
    "\ttotal_cost = 5\n",
    "\tprob_cost = -.05\n",
    "\trpi_profits = []\n",
    "\trpi_wins = 0\n",
    "\t\n",
    "\tfor i in range(ssize):\n",
    "\t\tcomp_bids = np.random.triangular(left=5*1.05, mode=5*1.2, right=5*1.4, size=4)\n",
    "\t\tmin_comp_bid = comp_bids.min()\n",
    "\t\tif bid < min_comp_bid:\n",
    "\t\t\trpi_profits.append(bid - total_cost + prob_cost)\n",
    "\t\t\trpi_wins += 1\n",
    "\t\telse:\n",
    "\t\t\trpi_profits.append(prob_cost)\n",
    "\t\t\t\n",
    "\treturn(rpi_profits, rpi_wins)\n",
    "\t\n",
    "rpi_profits, n_wins = find_profits(5.7, 1000)\n",
    "print(f'RPI average profit: {round(np.mean(rpi_profits)*1000000, 2)}')\n",
    "print(f'Probability RPI wins: {n_wins/1000}')"
   ]
  },
  {
   "cell_type": "markdown",
   "metadata": {
    "collapsed": false
   },
   "source": [
    "## **Question 9** <font color=\"magenta\">(2 points)</font>\n",
    "\n",
    "What is the probability that RPI will win the bid, rounded to the nearest single digit? \n",
    "\n",
    "* .1\n",
    "* .3\n",
    "* .5\n",
    "* .7\n",
    "* .9\n",
    "\n",
    "## **Question 10** <font color=\"magenta\">(2 points)</font>\n",
    "\n",
    "Into which range would RPI's average profit fall?\n",
    "\n",
    "* 150,000 - 199,99\n",
    "* 200,000 - 229,999\n",
    "* 230,000 - 269,999\n",
    "* 270,000 - 315,999\n",
    "* 316,000 - 329,999\n",
    "\n"
   ]
  },
  {
   "cell_type": "markdown",
   "metadata": {
    "collapsed": false
   },
   "source": [
    "## **Question 11**  <font color=\"magenta\">(2 points)</font>\n",
    "\n",
    "Generate a parameter analysis report to consider eight equally spaced bids between \\$5.3 million and \\$6 million in order to forecast RPI’s mean profit for each bid. Which of these bid ranges maximizes RPI’s mean profit?\n",
    "\n",
    "**Hints:**\n",
    "* Repeat the steps from question 8, with each of the possible bids passed in to your function.\n",
    "* Find average profit for each possible bid.\n",
    "* For which of the bids is average profit maximized?\n",
    "\n",
    "\n",
    "**Answer Options:**\n",
    "* 5.3 or 5.4\n",
    "* 5.5 or 5.6\n",
    "* 5.7 or 5.8\n",
    "* 5.9 or 6.0\n"
   ]
  },
  {
   "cell_type": "code",
   "execution_count": 4,
   "metadata": {
    "collapsed": false
   },
   "outputs": [
    {
     "data": {
      "text/html": [
       "<div>\n",
       "<style scoped>\n",
       "    .dataframe tbody tr th:only-of-type {\n",
       "        vertical-align: middle;\n",
       "    }\n",
       "\n",
       "    .dataframe tbody tr th {\n",
       "        vertical-align: top;\n",
       "    }\n",
       "\n",
       "    .dataframe thead th {\n",
       "        text-align: right;\n",
       "    }\n",
       "</style>\n",
       "<table border=\"1\" class=\"dataframe\">\n",
       "  <thead>\n",
       "    <tr style=\"text-align: right;\">\n",
       "      <th></th>\n",
       "      <th>Bid</th>\n",
       "      <th>AvgProfit</th>\n",
       "      <th>WinRatio</th>\n",
       "      <th>Pctl_05</th>\n",
       "      <th>Pctl_95</th>\n",
       "    </tr>\n",
       "  </thead>\n",
       "  <tbody>\n",
       "    <tr>\n",
       "      <th>0</th>\n",
       "      <td>5.3</td>\n",
       "      <td>0.25</td>\n",
       "      <td>0.986</td>\n",
       "      <td>0.25</td>\n",
       "      <td>0.25</td>\n",
       "    </tr>\n",
       "    <tr>\n",
       "      <th>1</th>\n",
       "      <td>5.4</td>\n",
       "      <td>0.32</td>\n",
       "      <td>0.923</td>\n",
       "      <td>-0.05</td>\n",
       "      <td>0.35</td>\n",
       "    </tr>\n",
       "    <tr>\n",
       "      <th>2</th>\n",
       "      <td>5.5</td>\n",
       "      <td>0.35</td>\n",
       "      <td>0.798</td>\n",
       "      <td>-0.05</td>\n",
       "      <td>0.45</td>\n",
       "    </tr>\n",
       "    <tr>\n",
       "      <th>3</th>\n",
       "      <td>5.6</td>\n",
       "      <td>0.35</td>\n",
       "      <td>0.664</td>\n",
       "      <td>-0.05</td>\n",
       "      <td>0.55</td>\n",
       "    </tr>\n",
       "    <tr>\n",
       "      <th>4</th>\n",
       "      <td>5.7</td>\n",
       "      <td>0.30</td>\n",
       "      <td>0.498</td>\n",
       "      <td>-0.05</td>\n",
       "      <td>0.65</td>\n",
       "    </tr>\n",
       "    <tr>\n",
       "      <th>5</th>\n",
       "      <td>5.8</td>\n",
       "      <td>0.22</td>\n",
       "      <td>0.343</td>\n",
       "      <td>-0.05</td>\n",
       "      <td>0.75</td>\n",
       "    </tr>\n",
       "    <tr>\n",
       "      <th>6</th>\n",
       "      <td>5.9</td>\n",
       "      <td>0.15</td>\n",
       "      <td>0.225</td>\n",
       "      <td>-0.05</td>\n",
       "      <td>0.85</td>\n",
       "    </tr>\n",
       "    <tr>\n",
       "      <th>7</th>\n",
       "      <td>6.0</td>\n",
       "      <td>0.06</td>\n",
       "      <td>0.108</td>\n",
       "      <td>-0.05</td>\n",
       "      <td>0.95</td>\n",
       "    </tr>\n",
       "  </tbody>\n",
       "</table>\n",
       "</div>"
      ],
      "text/plain": [
       "   Bid  AvgProfit  WinRatio  Pctl_05  Pctl_95\n",
       "0  5.3       0.25     0.986     0.25     0.25\n",
       "1  5.4       0.32     0.923    -0.05     0.35\n",
       "2  5.5       0.35     0.798    -0.05     0.45\n",
       "3  5.6       0.35     0.664    -0.05     0.55\n",
       "4  5.7       0.30     0.498    -0.05     0.65\n",
       "5  5.8       0.22     0.343    -0.05     0.75\n",
       "6  5.9       0.15     0.225    -0.05     0.85\n",
       "7  6.0       0.06     0.108    -0.05     0.95"
      ]
     },
     "execution_count": 4,
     "metadata": {
     },
     "output_type": "execute_result"
    }
   ],
   "source": [
    "import pandas as pd\n",
    "\n",
    "bids = np.linspace(5.3, 6, 8)\n",
    "ssize = 1000\n",
    "results = pd.DataFrame(columns=['AvgProfit', 'WinRatio'], index=bids)\n",
    "\n",
    "np.random.seed(88) #retain this seed\n",
    "\n",
    "for i in bids:\n",
    "\trpi_profits, n_wins = find_profits(i, ssize)\n",
    "\tresults.loc[i, 'AvgProfit'] = round(np.mean(rpi_profits), 2)\n",
    "\tresults.loc[i, 'WinRatio'] = n_wins/ssize\n",
    "\tresults.loc[i, 'Pctl_05'], results.loc[i, 'Pctl_95'] = np.quantile(rpi_profits, [.05, .95])\n",
    "\t\n",
    "results = results.rename_axis('Bid').reset_index().astype(float)\n",
    "results"
   ]
  },
  {
   "cell_type": "markdown",
   "metadata": {
    "collapsed": false
   },
   "source": [
    "## **Question 12** (Manually Graded) <font color=\"magenta\">(2 points)</font>\n",
    "\n",
    "Generate a trend chart for the eight bids considered in Question 11.\n",
    "\n",
    "Submit both your code and your trend chart.\n",
    "\n",
    "**Hints:**\n",
    "* Graph horizontal bid amount and vertical mean profit\n",
    "* Remember to add trend lines\n"
   ]
  },
  {
   "cell_type": "code",
   "execution_count": 5,
   "metadata": {
    "collapsed": false
   },
   "outputs": [
    {
     "data": {
      "text/plain": [
       "<matplotlib.collections.PolyCollection at 0x7f49a9512d60>"
      ]
     },
     "execution_count": 5,
     "metadata": {
     },
     "output_type": "execute_result"
    },
    {
     "data": {
      "image/png": "[encoded data removed]",
      "text/plain": [
       "<Figure size 432x360 with 1 Axes>"
      ]
     },
     "execution_count": 5,
     "metadata": {
      "image/png": {
       "height": 334,
       "width": 388
      },
      "needs_background": "light"
     },
     "output_type": "execute_result"
    }
   ],
   "source": [
    "import matplotlib.pyplot as plt\n",
    "\n",
    "fig, ax = plt.subplots(figsize=(6, 5))\n",
    "ax.plot('Bid','AvgProfit',data=results, linestyle='-', marker='o')\n",
    "plt.xlabel('Bid Amount, millions', fontsize=12)\n",
    "plt.ylabel('Mean Profit, millions', fontsize=12)\n",
    "plt.title(\"Trend Chart\")\n",
    "ax.fill_between('Bid','Pctl_05','Pctl_95',data=results,color=\"#b9cfe7\", edgecolor=\"#b9cfe7\")"
   ]
  },
  {
   "cell_type": "markdown",
   "metadata": {
    "collapsed": false
   },
   "source": [
    "## **Question 13**  (Manually Graded) <font color=\"magenta\">(4 points)</font>\n",
    "\n",
    "Perform an automated search to find the bid that maximizes RPI’s mean profit. You should consider bids in the range of 5.3 to 6 million. (Use one of the optimization tools we've studied.)\n"
   ]
  },
  {
   "cell_type": "code",
   "execution_count": 6,
   "metadata": {
    "collapsed": false
   },
   "outputs": [
    {
     "name": "stdout",
     "output_type": "stream",
     "text": [
      "The maximum average profit is approximately 357179.96\n",
      "The optimal bid is approximately 5.555 million\n"
     ]
    }
   ],
   "source": [
    "from scipy.optimize import minimize_scalar\n",
    "\n",
    "def neg_mean_profit(bid):\n",
    "\trpi_profits = find_profits(bid, 1000)[0]\n",
    "\treturn(-np.mean(rpi_profits)) # simulate stats and return just mean\n",
    "\n",
    "result = minimize_scalar(neg_mean_profit, bounds=[5.3,6], method='bounded')\n",
    "\n",
    "# summarize results\n",
    "print(f'The maximum average profit is approximately {-result[\"fun\"]*1000000:.2f}')\n",
    "print(f\"The optimal bid is approximately {result['x']:.3f} million\")"
   ]
  },
  {
   "cell_type": "markdown",
   "metadata": {
    "collapsed": false
   },
   "source": [
    "## Sausage Making \\- Simulation with Optimization\n",
    "\n"
   ]
  },
  {
   "cell_type": "markdown",
   "metadata": {
    "collapsed": false
   },
   "source": [
    "We're going to revisit the Sausage Factory problem from Lessons 1 and 2, but this time, we'  \n",
    "re going to introduce uncertainty.\n",
    "\n",
    "In Lesson 2, we optimized the cost of our sausage making, by altering the ingredients in each sausage type to meet minimum requirements and fulfill a demand of 350 economy sausages and 500 premium sausages a week.\n",
    "\n",
    "In reality, our demand fluctuates week to week. \n",
    "\n",
    "The basic set up of the problem is the same.\n",
    "\n",
    "We're going to make sausages by blending pork, wheat, and starch.  Our objective is to minimize the cost of making the sausages.  The table below shows the ingredients available, the cost, and the amount of each ingredient available from our supplier:\n",
    "\n",
    "Ingredient | Cost ($/kg) | Amount (kg)\n",
    "-----------|------|--------------\n",
    "Pork       | 4.32 | 7 kg\n",
    "Wheat      | 2.46 | 20.0\n",
    "Starch     | 1.86 | 17\n",
    "\n",
    "We want to make 2 types of sausage:\n",
    "\n",
    "* Economy ( > 40\\% pork )\n",
    "* Premium ( > 60\\% pork )\n",
    "\n",
    "Each sausage is 50 grams (0.05 kg).  \n",
    "\n",
    "According to government regulations, the most starch we can use in our sausages is 25\\% by weight.\n",
    "\n"
   ]
  },
  {
   "cell_type": "markdown",
   "metadata": {
    "collapsed": false
   },
   "source": [
    "**New Information:**"
   ]
  },
  {
   "cell_type": "markdown",
   "metadata": {
    "collapsed": false
   },
   "source": [
    "The price for pre-purchased pork is \\$3.10, for a discount of \\$1.22 per kg. We will be fairly conservative in our estimates of pre-purchase, and we are setting our minimum pork used to our pre-purchased amount, so we will only need to calculate the total discount in our objective, not a penalty for buying full-priced pork at \\$4.32 per kg.  \n",
    "\n",
    "While our demand fluctuates, we know that our demand for economy sausages is between 325 and 375 each week and our demand for premium sausage is between 450 and 550 each week. Demand appears to be uniformly distributed (use `np.random.randint`).\n",
    "\n",
    "***This is a prescriptive analytics problem!  You are prescribing the amount of pork to buy under contract to minimize future cost in an uncertain future.***"
   ]
  },
  {
   "cell_type": "markdown",
   "metadata": {
    "collapsed": false
   },
   "source": [
    "## **Question 14** (Manually Graded) <font color=\"magenta\">(4 points)</font>\n",
    "\n",
    "Write a function that takes in the amount of discount pork we will pre-purchase as a variable (x). \n",
    "\n",
    "Inside the function, write a 1000 iteration loop that solves the optimization problem with random variables for demand and x as your stand in for the minimum amount of discount pork produced. Track the amount of full-price pork used and the cost of each iteration and return both from your function.  \n",
    "\n",
    "You may base your Pyomo model on either the concrete or abstract formulations in Lesson 1 and Lesson 2 presentations, respectively.\n",
    "\n",
    "After you've written your function, test it using 20 as the amount of discount pork purchased. Plot histograms of the Kilograms of Full-Price Pork purchased and the cost.\n",
    "\n",
    "Submit both your code and the two histograms in Canvas.\n",
    "\n",
    "**Hints:**\n",
    "* You need to write the LP in terms of this variable x\n",
    "* Put the whole LP inside a function\n",
    "* Account for the discount by subtracting 1.22*x from the objective\n",
    "* x is like the 23 kg in the original model\n",
    "* x + 7 is the max amount of pork you can use\n",
    "* Inside the function you have a loop around the LP that repeats the solution 1000 times, each time with diff. random demands.\n",
    "* Track the kg of full-priced pork, and the minimized cost.\n",
    "* Return the kg of full-priced pork and the minimized cost as numpy arrays."
   ]
  },
  {
   "cell_type": "code",
   "execution_count": 7,
   "metadata": {
    "collapsed": false
   },
   "outputs": [
    {
     "data": {
      "image/png": "[encoded data removed]",
      "text/plain": [
       "<Figure size 864x504 with 2 Axes>"
      ]
     },
     "execution_count": 7,
     "metadata": {
      "image/png": {
       "height": 440,
       "width": 725
      },
      "needs_background": "light"
     },
     "output_type": "execute_result"
    }
   ],
   "source": [
    "from pyomo.environ import *\n",
    "\n",
    "def get_pork_cost(x):\n",
    "\t'''\n",
    "\tParameters:\n",
    "\tx - the amount of discount pork purchased\n",
    "\n",
    "\tReturns:\n",
    "\tfinalCost: An array of the optimized costs\n",
    "\tfullPricePorkUsed: An array of the total full-price pork used\n",
    "\t'''\n",
    "\tnp.random.seed(814) #retain this seed\n",
    "\tssize = 1000\n",
    "\tvar_economy_demand = np.random.randint(low=325, high=376, size=ssize)\n",
    "\tvar_premium_demand = np.random.randint(low=450, high=550, size=ssize)\n",
    "\t\n",
    "\t\n",
    "\ttypes = ['economy','premium']\n",
    "\tingredients = ['pork', 'wheat', 'starch']\n",
    "\n",
    "\tcost = dict( zip( ingredients, [4.32, 2.46, 1.86] ) )\n",
    "\n",
    "\tkg_per_sausage = 0.05\n",
    "\n",
    "\tmnpi = [[.4,.6],[0,0],[0,0]] # min proportions\n",
    "\tmin_prop_ing = { ingredients[i]:{ types[j]:mnpi[i][j] for j in range(len(types)) } for i in range(len(ingredients)) }\n",
    "\tmxpi = [[1,1],[1,1],[.25,.25]] # max proportions\n",
    "\tmax_prop_ing = { ingredients[i]:{ types[j]:mxpi[i][j] for j in range(len(types)) } for i in range(len(ingredients)) }\n",
    "\n",
    "\tmax_ingredient = dict( zip( ingredients, [x+7, 20, 17] ) )\n",
    "\tmin_ingredient = dict( zip( ingredients, [x,  0,  0] ) )\n",
    "\n",
    "\tfull_price_pork = []\n",
    "\tmin_cost = []\n",
    "\t\n",
    "\tfor s in range(ssize):\n",
    "\t\t# generate demand\n",
    "\n",
    "\t\tnumber_each_type = dict( zip( types, [var_economy_demand[s], var_premium_demand[s]] ) )\n",
    "\n",
    "\t\t### Pyomo Model ###\n",
    "\n",
    "\t\t# Concrete Model\n",
    "\t\tM = ConcreteModel(name = \"Sausages\")\n",
    "\n",
    "\t\t# Decision Variables\n",
    "\t\tM.amount = Var(ingredients, types, domain = NonNegativeReals)\n",
    "\n",
    "\t\t# Objective\n",
    "\t\tM.cost = Objective( expr = sum( cost[i] * sum(M.amount[i,t] for t in types) \n",
    "\t\t\t\t\t\t\t\t\t   for i in ingredients)-1.22*x, sense = minimize )\n",
    "\n",
    "\t\tM.tot_sausages_ct = ConstraintList()\n",
    "\t\tfor t in types:\n",
    "\t\t\tM.tot_sausages_ct.add( sum( M.amount[i,t] for i in ingredients ) \n",
    "\t\t\t\t\t\t\t\t == kg_per_sausage * number_each_type[t] )\n",
    "\n",
    "\t\tM.min_prop_ct = ConstraintList()\n",
    "\t\tfor i in ingredients:\n",
    "\t\t\tfor t in types:\n",
    "\t\t\t\tM.min_prop_ct.add( M.amount[i,t] >= min_prop_ing[i][t] *\n",
    "\t\t\t\t\t\t\t\t sum( M.amount[k,t] for k in ingredients ) )\n",
    "\n",
    "\t\tM.max_prop_ct = ConstraintList()\n",
    "\t\tfor i in ingredients:\n",
    "\t\t\tfor t in types:\n",
    "\t\t\t\tM.max_prop_ct.add( M.amount[i,t] <= max_prop_ing[i][t] * \n",
    "\t\t\t\t\t\t\t\t sum( M.amount[k, t] for k in ingredients ) )\n",
    "\n",
    "\t\tM.max_ingredient_ct = ConstraintList()\n",
    "\t\tfor i in ingredients:\n",
    "\t\t\tM.max_ingredient_ct.add( sum( M.amount[ i, t] for t in types ) <= \n",
    "\t\t\t\t\t\t\t\t   max_ingredient[i] )\n",
    "\n",
    "\t\tM.min_ingredient_ct = ConstraintList()\n",
    "\t\tfor i in ingredients:\n",
    "\t\t\tM.min_ingredient_ct.add( sum( M.amount[ i, t] for t in types ) >=\n",
    "\t\t\t\t\t\t\t\t   min_ingredient[i] )\n",
    "\n",
    "\t\t### Solution ###\n",
    "\t\tsolver = SolverFactory('glpk')\n",
    "\t\tsolver.solve(M)\n",
    "\n",
    "\t\tfull_price_pork.append(sum([M.amount['pork',t]() for t in types])-x)\n",
    "\t\tmin_cost.append(M.cost())\n",
    "\t\t\n",
    "\treturn(np.array(min_cost), np.array(full_price_pork))\n",
    "\t\n",
    "min_cost, full_price_pork = get_pork_cost(20)\n",
    "\n",
    "# make histograms for cost and kilograms of pork\n",
    "data = np.array([min_cost, full_price_pork])\n",
    "x_axes = ['Avg. Cost', 'Full Price Pork (Kg)']\n",
    "titles = ['Average Cost', 'Amount of Extra Pork']\n",
    "y_axes = ['Frequency']*2\n",
    "\n",
    "f,a = plt.subplots(1, 2)\n",
    "a = a.ravel()\n",
    "\n",
    "for idx,ax in enumerate(a):\n",
    "\tax.hist(data[idx])\n",
    "\tax.set_title(titles[idx])\n",
    "\tax.set_xlabel(x_axes[idx])\n",
    "\tax.set_ylabel(y_axes[idx])"
   ]
  },
  {
   "cell_type": "markdown",
   "metadata": {
    "collapsed": false
   },
   "source": [
    "Notice that the final cost and the amount of full-price pork purchased have distributions that fairly closely match each other. That's because full-price pork is the most expensive component of our sausages. The more full-price pork we use, the more expensive our product is. We'd like to optimize the amount of full-price pork we use.\n",
    "\n",
    "## **Question 15** <font color=\"magenta\">(2 points)</font>\n",
    "\n",
    "Which range does the average optimized cost fall into, when pre-purchasing 20kgs of pork?\n",
    "\n",
    "* 80-99\n",
    "* 100-125\n",
    "* 126-150\n",
    "* 151-170\n",
    "\n"
   ]
  },
  {
   "cell_type": "code",
   "execution_count": 8,
   "metadata": {
    "collapsed": false
   },
   "outputs": [
    {
     "name": "stdout",
     "output_type": "stream",
     "text": [
      "Minimum average cost: 102.48380000000003\n",
      "Maximum average cost: 126.4109\n"
     ]
    }
   ],
   "source": [
    "print(f'Minimum average cost: {np.min(min_cost)}\\nMaximum average cost: {np.max(min_cost)}')"
   ]
  },
  {
   "cell_type": "markdown",
   "metadata": {
    "collapsed": false
   },
   "source": [
    "## **Question 16** (Manually Graded) <font color=\"magenta\">(5 points)</font>\n",
    "\n",
    "Write a loop to call your function for all the values of pre-order quantities between and including 17 and 28.\n",
    "\n",
    "Store the values of:\n",
    "\n",
    "* pre-order quantities\n",
    "* the mean, 5th percentile and 95th percentile of the cost.\n",
    "\n",
    "After your loop, print the values in a dataframe and generate a trend chart showing the mean cost versus the RPI bid amount.  Your trend chart should should include trend lines as in the lesson.\n",
    "\n",
    "*Note: This may take a while to run.*\n",
    "\n",
    "**Hints:**\n",
    "\n",
    "* You want to find the best amount to pre-purchase.\n",
    "* Use a loop to check x = 17, 18, 19, ... 28.\n",
    "* Make a table including x and the other quantities listed above."
   ]
  },
  {
   "cell_type": "code",
   "execution_count": 9,
   "metadata": {
    "collapsed": false
   },
   "outputs": [
    {
     "data": {
      "text/html": [
       "<div>\n",
       "<style scoped>\n",
       "    .dataframe tbody tr th:only-of-type {\n",
       "        vertical-align: middle;\n",
       "    }\n",
       "\n",
       "    .dataframe tbody tr th {\n",
       "        vertical-align: top;\n",
       "    }\n",
       "\n",
       "    .dataframe thead th {\n",
       "        text-align: right;\n",
       "    }\n",
       "</style>\n",
       "<table border=\"1\" class=\"dataframe\">\n",
       "  <thead>\n",
       "    <tr style=\"text-align: right;\">\n",
       "      <th></th>\n",
       "      <th>Qty</th>\n",
       "      <th>AvgCost</th>\n",
       "      <th>Pctl_05</th>\n",
       "      <th>Pctl_95</th>\n",
       "    </tr>\n",
       "  </thead>\n",
       "  <tbody>\n",
       "    <tr>\n",
       "      <th>0</th>\n",
       "      <td>17</td>\n",
       "      <td>118.028607</td>\n",
       "      <td>109.49837</td>\n",
       "      <td>126.46619</td>\n",
       "    </tr>\n",
       "    <tr>\n",
       "      <th>1</th>\n",
       "      <td>18</td>\n",
       "      <td>116.808607</td>\n",
       "      <td>108.27837</td>\n",
       "      <td>125.24619</td>\n",
       "    </tr>\n",
       "    <tr>\n",
       "      <th>2</th>\n",
       "      <td>19</td>\n",
       "      <td>115.588607</td>\n",
       "      <td>107.05837</td>\n",
       "      <td>124.02619</td>\n",
       "    </tr>\n",
       "    <tr>\n",
       "      <th>3</th>\n",
       "      <td>20</td>\n",
       "      <td>114.368607</td>\n",
       "      <td>105.83837</td>\n",
       "      <td>122.80619</td>\n",
       "    </tr>\n",
       "    <tr>\n",
       "      <th>4</th>\n",
       "      <td>21</td>\n",
       "      <td>113.263648</td>\n",
       "      <td>105.49350</td>\n",
       "      <td>121.58619</td>\n",
       "    </tr>\n",
       "    <tr>\n",
       "      <th>5</th>\n",
       "      <td>22</td>\n",
       "      <td>112.690890</td>\n",
       "      <td>106.13350</td>\n",
       "      <td>120.36619</td>\n",
       "    </tr>\n",
       "    <tr>\n",
       "      <th>6</th>\n",
       "      <td>23</td>\n",
       "      <td>112.755146</td>\n",
       "      <td>106.77350</td>\n",
       "      <td>119.14619</td>\n",
       "    </tr>\n",
       "    <tr>\n",
       "      <th>7</th>\n",
       "      <td>24</td>\n",
       "      <td>113.310237</td>\n",
       "      <td>107.41350</td>\n",
       "      <td>119.19450</td>\n",
       "    </tr>\n",
       "    <tr>\n",
       "      <th>8</th>\n",
       "      <td>25</td>\n",
       "      <td>113.950237</td>\n",
       "      <td>108.05350</td>\n",
       "      <td>119.83450</td>\n",
       "    </tr>\n",
       "    <tr>\n",
       "      <th>9</th>\n",
       "      <td>26</td>\n",
       "      <td>114.590237</td>\n",
       "      <td>108.69350</td>\n",
       "      <td>120.47450</td>\n",
       "    </tr>\n",
       "    <tr>\n",
       "      <th>10</th>\n",
       "      <td>27</td>\n",
       "      <td>115.230237</td>\n",
       "      <td>109.33350</td>\n",
       "      <td>121.11450</td>\n",
       "    </tr>\n",
       "    <tr>\n",
       "      <th>11</th>\n",
       "      <td>28</td>\n",
       "      <td>115.870237</td>\n",
       "      <td>109.97350</td>\n",
       "      <td>121.75450</td>\n",
       "    </tr>\n",
       "  </tbody>\n",
       "</table>\n",
       "</div>"
      ],
      "text/plain": [
       "    Qty     AvgCost    Pctl_05    Pctl_95\n",
       "0    17  118.028607  109.49837  126.46619\n",
       "1    18  116.808607  108.27837  125.24619\n",
       "2    19  115.588607  107.05837  124.02619\n",
       "3    20  114.368607  105.83837  122.80619\n",
       "4    21  113.263648  105.49350  121.58619\n",
       "5    22  112.690890  106.13350  120.36619\n",
       "6    23  112.755146  106.77350  119.14619\n",
       "7    24  113.310237  107.41350  119.19450\n",
       "8    25  113.950237  108.05350  119.83450\n",
       "9    26  114.590237  108.69350  120.47450\n",
       "10   27  115.230237  109.33350  121.11450\n",
       "11   28  115.870237  109.97350  121.75450"
      ]
     },
     "execution_count": 9,
     "metadata": {
     },
     "output_type": "execute_result"
    }
   ],
   "source": [
    "results = []\n",
    "\n",
    "for i in range(17, 29):\n",
    "\tmin_cost, full_price_pork = get_pork_cost(i)\n",
    "\tmean_cost = np.mean(min_cost)\n",
    "\tlow, high = np.quantile(min_cost, [.05, .95])\n",
    "\tresults.append([i, mean_cost, low, high])\n",
    "\n",
    "results = pd.DataFrame(results)\n",
    "results.columns = ['Qty', 'AvgCost', 'Pctl_05', 'Pctl_95']\n",
    "results"
   ]
  },
  {
   "cell_type": "code",
   "execution_count": 10,
   "metadata": {
    "collapsed": false
   },
   "outputs": [
    {
     "data": {
      "text/plain": [
       "<matplotlib.collections.PolyCollection at 0x7f49a40c4850>"
      ]
     },
     "execution_count": 10,
     "metadata": {
     },
     "output_type": "execute_result"
    },
    {
     "data": {
      "image/png": "[encoded data removed]",
      "text/plain": [
       "<Figure size 432x360 with 1 Axes>"
      ]
     },
     "execution_count": 10,
     "metadata": {
      "image/png": {
       "height": 334,
       "width": 391
      },
      "needs_background": "light"
     },
     "output_type": "execute_result"
    }
   ],
   "source": [
    "fig, ax = plt.subplots(figsize=(6, 5))\n",
    "ax.plot('Qty','AvgCost',data=results, linestyle='-', marker='o')\n",
    "plt.xlabel('Quantity (Kg)', fontsize=12)\n",
    "plt.ylabel('Mean Cost', fontsize=12)\n",
    "plt.title(\"Trend Chart\")\n",
    "ax.fill_between('Qty','Pctl_05','Pctl_95',data=results,color=\"#b9cfe7\", edgecolor=\"#b9cfe7\")"
   ]
  },
  {
   "cell_type": "markdown",
   "metadata": {
    "collapsed": false
   },
   "source": [
    "## **Question 17** (Manually Graded) <font color=\"magenta\">(2 points)</font>\n",
    "\n",
    "Based on your dataframe and trend chart, what is the optimal amount of pork to pre-purchase. Why?\n",
    "\n"
   ]
  },
  {
   "cell_type": "code",
   "execution_count": 0,
   "metadata": {
    "collapsed": false
   },
   "outputs": [
   ],
   "source": [
   ]
  }
 ],
 "metadata": {
  "kernelspec": {
   "display_name": "Python 3 (system-wide)",
   "language": "python",
   "metadata": {
    "cocalc": {
     "description": "Python 3 programming language",
     "priority": 100,
     "url": "https://www.python.org/"
    }
   },
   "name": "python3",
   "resource_dir": "/ext/jupyter/kernels/python3"
  },
  "language_info": {
   "codemirror_mode": {
    "name": "ipython",
    "version": 3
   },
   "file_extension": ".py",
   "mimetype": "text/x-python",
   "name": "python",
   "nbconvert_exporter": "python",
   "pygments_lexer": "ipython3",
   "version": "3.8.10"
  },
  "toc": {
   "base_numbering": 1,
   "nav_menu": {
   },
   "number_sections": true,
   "sideBar": true,
   "skip_h1_title": false,
   "title_cell": "Table of Contents",
   "title_sidebar": "Contents",
   "toc_cell": false,
   "toc_position": {
    "height": "calc(100% - 180px)",
    "left": "10px",
    "top": "150px",
    "width": "258.906px"
   },
   "toc_section_display": true,
   "toc_window_display": true
  },
  "varInspector": {
   "cols": {
    "lenName": 16,
    "lenType": 16,
    "lenVar": 40
   },
   "kernels_config": {
    "python": {
     "delete_cmd_postfix": "",
     "delete_cmd_prefix": "del ",
     "library": "var_list.py",
     "varRefreshCmd": "print(var_dic_list())"
    },
    "r": {
     "delete_cmd_postfix": ") ",
     "delete_cmd_prefix": "rm(",
     "library": "var_list.r",
     "varRefreshCmd": "cat(var_dic_list()) "
    }
   },
   "types_to_exclude": [
    "module",
    "function",
    "builtin_function_or_method",
    "instance",
    "_Feature"
   ],
   "window_display": false
  }
 },
 "nbformat": 4,
 "nbformat_minor": 4
}