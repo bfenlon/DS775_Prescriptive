{
 "cells": [
  {
   "cell_type": "code",
   "execution_count": 1,
   "metadata": {
    "code_folding": [
     0
    ],
    "collapsed": false
   },
   "outputs": [
   ],
   "source": [
    "# execute to import notebook styling for tables and width etc.\n",
    "from IPython.core.display import HTML\n",
    "\n",
    "import statsmodels.api as sm\n",
    "import pandas as pd\n",
    "import copy\n",
    "from pyomo.environ import *\n",
    "import warnings\n",
    "warnings.filterwarnings('ignore')"
   ]
  },
  {
   "cell_type": "markdown",
   "metadata": {
    "collapsed": false
   },
   "source": [
    "<font size=18>Lesson 4: Homework - Combining Predictive and Prescriptive Analytics</font>"
   ]
  },
  {
   "cell_type": "markdown",
   "metadata": {
    "collapsed": false
   },
   "source": [
    "# **Question 1** Why must your linear regression equations be fit through the origin? <font color=\"magenta\">(2 points)</font>\n",
    "\n",
    "* It is not feasible to have zero passengers, therefore the line must originate away from (0,0).\n",
    "* The multiple regressions run through the origin, i.e (0,0), due to the additivity assumption of linear programming.\n",
    "* **The regression equations are all fit through the origin (no intercept term) so that we maintain proportionality without an additive constant in our objective function and to simplify the construction of the constraints.**\n",
    "* If the intercept is not constant then the certainty assumption is violated. We must fit through the origin to make it certain. "
   ]
  },
  {
   "cell_type": "markdown",
   "metadata": {
    "collapsed": false
   },
   "source": [
    "# Problem Set up\n",
    "*Note: this information is not included in the Canvas quiz.*\n",
    "\n",
    "The file *Airfares.xlsx* contains real data that were collected between Q3-1996 and Q2-1997.  A csv file of the data is also provided (called *Airfares.csv*).\n",
    "\n",
    "We're copying the instructions from the presentation file here for ease of use.\n",
    "\n",
    "The following problem takes place in the United States in the late 1990s, when many major US cities were facing issues with airport congestion, partly as a result of the 1978 deregulation of airlines. Both fares and routes were freed from regulation, and low-fare carriers such as Southwest (SW) began competing on existing routes and starting non-stop service on routes that previously lacked it.  Building new airports is not generally feasible, but sometimes decommissioned military bases or smaller municipal airports can be reconfigured as regional or larger commercial airports.  There are numerous players and interests involved in the issue (airlines, city, state, and federal authorities, civic groups, the military, airport operators), and an aviation consulting firm is seeking advisory contracts with these players.\n",
    "\n",
    "A consulting firm wishes to determine the maximum average fare (FARE) as a function of three variables: COUPON, HI, and DISTANCE.  COUPON, HI, and DISTANCE are things that an airline could control, when determining where to locate new routes.\n",
    "\n",
    "Moreover, they need to impose constraints on \n",
    "- the number of passengers on that route (PAX) $\\leq 20000$\n",
    "- the starting city’s average personal income (S_INCOME) $\\leq 30000$\n",
    "- the ending city’s average personal income (E_INCOME) $\\geq 30000$\n",
    "\n",
    "For additional constraints:\n",
    "* restrict COUPON to no more than 1.5\n",
    "* limit HI to between 4000 and 8000, inclusive\n",
    "* consider only routes with DISTANCE between 500 and 1000 miles, inclusive.\n",
    "\n",
    "However, the variables PAX, S_INCOME, and E_INCOME are not decision variables so the firm must first model these variables using COUPON, HI, and DISTANCE as predictors using linear regression (predictive analytics).  They'll also use linear regression to model a linear relation between FARE and COUPON, HI, and DISTANCE.  Armed with these predictive models the firm will build a linear program (prescriptive analytics) to maximize the average fare.\n",
    "\n",
    "Suppose you are in the aviation consulting firm and you want to maximize airfares for the particular set circumstances described below. The file *Airfares.xlsx* contains real data that were collected between Q3-1996 and Q2-1997. The first sheet contains variable descriptions, while the second sheet contains the data.  A csv file of the data is also provided (called *Airfares.csv*).\n",
    "\n",
    "*NOTE: This problem scenario is developed from pp. 170-171 in Data Mining for Business Analytics: Concepts, Techniques, and Applications in R, by Shmueli, Bruce, Yahav, Patel, and Lichtendahl, Wiley, 2017)*\n",
    "\n",
    "## Part 1: The Predictive Models\n",
    "Since each of these models uses the same predictors and the only thing that varies is the response variable, write a function that takes in the dataframe, a list of predictors and a response variable string which:\n",
    "* runs the linear regression based on the \n",
    "* returns the model\n",
    "* prints the regression equation.\n",
    "\n",
    "Use a non-repetitive approach to run multiple linear regression **through the origin** using the average number of coupons (COUPON) for that route, the Herfindel Index (HI), and the distance between the two endpoint airports in miles (DISTANCE) as predictors. You'll build 4 multiple linear regression models, one for each of the following response variables:\n",
    "\n",
    "- the average fare (FARE)\n",
    "- the number of passengers on that route (PAX)\n",
    "- the starting city’s average personal income (S_INCOME)\n",
    "- the ending city’s average personal income (E_INCOME)\n",
    "\n",
    "For each of the models, you'll need to:\n",
    "\n",
    "* print the resulting linear equation. For instance: $FARE = X_1COUPON + X_2HI + X_3DISTANCE$ with the $X_n$ coefficients filled in.\n",
    "* print the $R^2$ for each model. (Hint, it's stored in a variable that can be accessed by calling .rsquared on whatever variable you created when you fit the model.)\n",
    "* store the data in such a way that you can use the coefficients directly in the linear program.\n",
    "\n",
    "To solve this, start by completing the regModel() function below.  Then call the regModel function 4 times to produce the coefficients for each model.  You should store the coefficients in such a way that you can access them easily to build the linear programs that are needed later (we suggest you store all the coefficients in one data structure).  Here is a template for the function\n",
    "\n",
    "```python\n",
    "def regModel(df, X, Y):\n",
    "    \"\"\"\n",
    "    find linear regression coefficients for Y ~ X using the data in df\n",
    "\n",
    "    Parameters:\n",
    "    df (pandas data frame): contains the response and predictor variables\n",
    "    Y (str): a string matching the column name of the response variable\n",
    "    X (list of str): column names of the predictor variables\n",
    "\n",
    "    Returns:\n",
    "    (list of floats or similar): linear regression model coefficients for each predictor variable\n",
    "\n",
    "   \"\"\"\n",
    "   # find model\n",
    "   \n",
    "   # print output\n",
    "   \n",
    "   # return coefs\n",
    "```\n",
    "\n",
    "For example this code:\n",
    "\n",
    "```python\n",
    "airfares = pd.read_csv(\"data/Airfares.csv\")\n",
    "predictors = ['COUPON', 'HI', 'DISTANCE']\n",
    "\n",
    "coef = regModel( airfares, predictors, 'FARE')\n",
    "\n",
    "print('\\nThe coefficients of the regression model are:')\n",
    "print(coef)\n",
    "```\n",
    "\n",
    "Would produce output similar to this:\n",
    "\n",
    "```\n",
    "Model is: FARE = 22.5900 COUPON + 0.0118 HI + 0.0833 DISTANCE (R^2 = 0.91)\n",
    "\n",
    "The coefficients of the regression model are:\n",
    "COUPON      22.590019\n",
    "HI           0.011798\n",
    "DISTANCE     0.083336\n",
    "```"
   ]
  },
  {
   "cell_type": "markdown",
   "metadata": {
    "collapsed": false
   },
   "source": [
    "# **Question 2** - Your regModel() function (manually graded) <font color=\"magenta\">(5 points)</font>\n",
    "\n",
    "In the following cell, write your **non-repetitive** code and run your 4 linear regressions.\n"
   ]
  },
  {
   "cell_type": "code",
   "execution_count": 20,
   "metadata": {
    "collapsed": false
   },
   "outputs": [
    {
     "name": "stdout",
     "output_type": "stream",
     "text": [
      "Model is: FARE = 22.5900 COUPON + 0.0118 HI + 0.0833 DISTANCE (R^2 = 0.91)\n",
      "\n",
      "The coefficients of the regression model are:\n",
      "COUPON      22.590019\n",
      "HI           0.011798\n",
      "DISTANCE     0.083336\n",
      "dtype: float64\n",
      "\n",
      "Model is: PAX = 10819.3285 COUPON + 0.2482 HI + -2.2980 DISTANCE (R^2 = 0.42)\n",
      "\n",
      "The coefficients of the regression model are:\n",
      "COUPON      10819.328522\n",
      "HI              0.248183\n",
      "DISTANCE       -2.298017\n",
      "dtype: float64\n",
      "\n",
      "Model is: S_INCOME = 20909.1914 COUPON + 1.1146 HI + -2.8310 DISTANCE (R^2 = 0.97)\n",
      "\n",
      "The coefficients of the regression model are:\n",
      "COUPON      20909.191409\n",
      "HI              1.114583\n",
      "DISTANCE       -2.830983\n",
      "dtype: float64\n",
      "\n",
      "Model is: E_INCOME = 18330.3710 COUPON + 1.4069 HI + -1.0198 DISTANCE (R^2 = 0.96)\n",
      "\n",
      "The coefficients of the regression model are:\n",
      "COUPON      18330.370962\n",
      "HI              1.406882\n",
      "DISTANCE       -1.019802\n",
      "dtype: float64\n"
     ]
    }
   ],
   "source": [
    "import statsmodels.api as sm\n",
    "\n",
    "airfares = pd.read_csv('data/Airfares.csv')\n",
    "predictors = ['COUPON', 'HI', 'DISTANCE']\n",
    "\n",
    "def regModel(df, X, Y):\n",
    "\t\n",
    "\t# define regression variables\n",
    "\tx = df[X]\n",
    "\ty = df[Y]\n",
    "\t\n",
    "\t# fit the model\n",
    "\tmodel = sm.OLS(y, x).fit()\n",
    "\t\n",
    "\t# save the coefficients\n",
    "\tcoefs = model.params\n",
    "\t\n",
    "\tprint(f\"Model is: {Y} = {coefs['COUPON']:2.4f} COUPON + {coefs['HI']:2.4f} HI + {coefs['DISTANCE']:2.4f} DISTANCE (R^2 = {model.rsquared:.2f})\")\n",
    "\treturn(coefs)\n",
    "\n",
    "coef_fare = regModel(airfares, predictors, 'FARE')\n",
    "print('\\nThe coefficients of the regression model are:')\n",
    "print(coef_fare)\n",
    "print()\n",
    "\n",
    "coef_pax = regModel(airfares, predictors, 'PAX')\n",
    "print('\\nThe coefficients of the regression model are:')\n",
    "print(coef_pax)\n",
    "print()\n",
    "\n",
    "coef_s_in = regModel(airfares, predictors, 'S_INCOME')\n",
    "print('\\nThe coefficients of the regression model are:')\n",
    "print(coef_s_in)\n",
    "print()\n",
    "\n",
    "coef_e_in = regModel(airfares, predictors, 'E_INCOME')\n",
    "print('\\nThe coefficients of the regression model are:')\n",
    "print(coef_e_in)"
   ]
  },
  {
   "cell_type": "markdown",
   "metadata": {
    "collapsed": false
   },
   "source": [
    "# **Question 3** <font color=\"magenta\">(2 points)</font>\n",
    "In the model that predicts FARE, what is the coefficient for COUPON, rounded to 2 digits? \n",
    "\n",
    "<font color=\"red\">Answer here</font>\n",
    "\n",
    "# **Question 4** <font color=\"magenta\">(2 points)</font>\n",
    "In the model that predicts PAX, what is the coefficient for HI, rounded to 2 digits? \n",
    "\n",
    "<font color=\"red\">Answer here</font>\n",
    "\n",
    "# **Question 5** <font color=\"magenta\">(2 points)</font>\n",
    "In the model that predicts S_INCOME, what is the coefficient for DISTANCE, rounded to 2 digits? \n",
    "\n",
    "<font color=\"red\">Answer here</font>\n",
    "\n",
    "# **Question 6** <font color=\"magenta\">(2 points)</font>\n",
    "Match the models with their $R^2$ values: \n",
    "\n",
    "A. FARE\n",
    "* .97\n",
    "* .96\n",
    "* .91\n",
    "* .42\n",
    "* .87\n",
    "\n",
    "B. PAX\n",
    "* .97\n",
    "* .96\n",
    "* .91\n",
    "* .42\n",
    "* .87\n",
    "\n",
    "C. S_INCOME\n",
    "* .97\n",
    "* .96\n",
    "* .91\n",
    "* .42\n",
    "* .87\n",
    "\n",
    "D. E_INCOME\n",
    "* .97\n",
    "* .96\n",
    "* .91\n",
    "* .42\n",
    "* .87\n",
    "\n"
   ]
  },
  {
   "cell_type": "markdown",
   "metadata": {
    "collapsed": false
   },
   "source": [
    "# Optimal LP Solution"
   ]
  },
  {
   "cell_type": "markdown",
   "metadata": {
    "collapsed": false
   },
   "source": [
    "# **Question 7** Generate the linear program (manually graded) <font color=\"magenta\">8 points</font>\n",
    "\n",
    "Generate a linear program to find the optimal maximum value of FARE, given the constraints noted in the introduction and the results of your linear regression modeling. Be sure to use the values directly from your linear regression without rounding. Do not hard-code the coefficient values. Access them directly from your saved models, as demonstrated in the lesson.\n",
    "\n",
    "For full credit, you must use an abstract approach.  To make it easier to group the constraints, you can rewrite the E_INCOME constraint so that it uses $\\leq$ instead of $\\geq$.  A simple way to do this is to multiply both sides of the inequality by (-1).  For example\n",
    "$$ 2x - 3y \\geq 5 $$\n",
    "becomes \n",
    "$$ -2x + 3y \\leq -5.$$"
   ]
  },
  {
   "cell_type": "code",
   "execution_count": 18,
   "metadata": {
    "collapsed": false
   },
   "outputs": [
    {
     "name": "stdout",
     "output_type": "stream",
     "text": [
      "Maximum fare is $203.55\n",
      "\n",
      "Optimal value of COUPON is 1.1437\n",
      "Optimal value of HI is 8000.0000\n",
      "Optimal value of DISTANCE is 1000.0000\n"
     ]
    }
   ],
   "source": [
    "from pyomo.environ import *\n",
    "import pandas as pd\n",
    "\n",
    "predicts = ['COUPON', 'HI', 'DISTANCE']\n",
    "pred_bounds = dict(zip(predicts, [(0, 1.5), (4000, 8000), (500, 1000)]))\n",
    "\n",
    "def bounds_rule(model, predict):\n",
    "\treturn(pred_bounds[predict])\n",
    "\n",
    "responses = ['PAX', 'S_INCOME', 'E_INCOME']\n",
    "regr_coef = pd.DataFrame([coef_pax, coef_s_in, -coef_e_in],\n",
    "\t\t\t\t\t\tindex=responses)\n",
    "rhs_response = [20000, 30000, -30000]\n",
    "\n",
    "response_dict = dict(zip(responses, rhs_response))\n",
    "\n",
    "# construct model\n",
    "model = ConcreteModel(name='FlightPath')\n",
    "\n",
    "model.route_vars = Var(predicts, domain=NonNegativeReals, bounds=bounds_rule)\n",
    "\n",
    "model.fare = Objective(expr=sum(coef_fare[p] * model.route_vars[p] for p in predicts), sense=maximize)\n",
    "\n",
    "model.response_ct = ConstraintList()\n",
    "for r in responses:\n",
    "\tmodel.response_ct.add(sum(regr_coef.loc[r,p] * model.route_vars[p] for p in predicts) <= response_dict[r])\n",
    "\t\n",
    "# solve\n",
    "solver = SolverFactory('glpk')\n",
    "solver.solve(model)\n",
    "\n",
    "print(f'Maximum fare is ${model.fare():.2f}\\n')\n",
    "for p in predicts:\n",
    "\tprint(f'Optimal value of {p} is {model.route_vars[p]():2.4f}')"
   ]
  },
  {
   "cell_type": "markdown",
   "metadata": {
    "collapsed": false
   },
   "source": [
    "# **Question 8** <font color=\"magenta\">(2 points)</font>\n",
    "What is the maximum airfare, rounded to 2 digits. (Do not input the dollar sign.)\n",
    "\n",
    "<font color=\"red\">Answer here</font>\n",
    "\n",
    "# **Question 9** <font color=\"magenta\">(2 points)</font>\n",
    "What is the optimal value for **COUPON**, rounded to 2 digits. \n",
    "\n",
    "<font color=\"red\">Answer here</font>\n",
    "\n",
    "# **Question 10** <font color=\"magenta\">(2 points)</font>\n",
    "What is the optimal value for **HI**, rounded to 2 digits. \n",
    "\n",
    "<font color=\"red\">Answer here</font>\n",
    "\n",
    "# **Question 11** <font color=\"magenta\">(2 points)</font>\n",
    "What is the optimal value for **DISTANCE**, rounded to 2 digits. \n",
    "\n",
    "<font color=\"red\">Answer here</font>"
   ]
  },
  {
   "cell_type": "markdown",
   "metadata": {
    "collapsed": false
   },
   "source": [
    "# Sensitivity Analysis"
   ]
  },
  {
   "cell_type": "markdown",
   "metadata": {
    "collapsed": false
   },
   "source": [
    "Run your linear program multiple times, modifying your resource constraints to determine which constraints are binding. You'll be making the following changes. (Remember to always reset your variables back to the baseline after each change.)\n",
    "\n",
    "Increment the following constraints by one (setting them back before incrementing the next one):\n",
    "* S_INCOME (from 30000 to 30001)\n",
    "* E_INCOME (from 30000 to 30001)\n",
    "* PAX (from 20000 to 20001)\n",
    "* COUPON (from 1.5 to 2.5)\n",
    "* HI (from 8000 to 8001)\n",
    "* DISTANCE (from 1000 to 1001)\n",
    "\n",
    "This means you'll need to run your linear program 6 different times, tracking any changes to maximum fare. Use your results to answer the questions below."
   ]
  },
  {
   "cell_type": "code",
   "execution_count": 15,
   "metadata": {
    "collapsed": false
   },
   "outputs": [
    {
     "name": "stdout",
     "output_type": "stream",
     "text": [
      "Original maximum fare is $203.55\n",
      "\n"
     ]
    },
    {
     "name": "stdout",
     "output_type": "stream",
     "text": [
      "New maximum fare from changing S_INCOME is $203.56\n"
     ]
    },
    {
     "name": "stdout",
     "output_type": "stream",
     "text": [
      "New maximum fare from changing E_INCOME is $203.55\n"
     ]
    },
    {
     "name": "stdout",
     "output_type": "stream",
     "text": [
      "New maximum fare from changing PAX is $203.55\n"
     ]
    },
    {
     "name": "stdout",
     "output_type": "stream",
     "text": [
      "New maximum fare from changing COUPON is $203.55\n"
     ]
    },
    {
     "name": "stdout",
     "output_type": "stream",
     "text": [
      "New maximum fare from changing HI is $203.56\n"
     ]
    },
    {
     "name": "stdout",
     "output_type": "stream",
     "text": [
      "New maximum fare from changing DISTANCE is $203.64\n"
     ]
    }
   ],
   "source": [
    "from pyomo.environ import *\n",
    "import pandas as pd\n",
    "\n",
    "vars_change = {'null':0, 'S_INCOME':30001, 'E_INCOME':-30001, 'PAX':20001, 'COUPON':2.5, 'HI':8001, 'DISTANCE':1001}\n",
    "\n",
    "def sensitivity(var, new_upper_limit):\n",
    "\n",
    "\tpredicts = ['COUPON', 'HI', 'DISTANCE']\n",
    "\tpred_bounds = dict(zip(predicts, [(0, 1.5), (4000, 8000), (500, 1000)]))\n",
    "\n",
    "\tif var in ['COUPON', 'HI', 'DISTANCE']:\n",
    "\t\tpred_bounds[var] = (pred_bounds[var][0], new_upper_limit)\n",
    "\t\n",
    "\tdef bounds_rule(model, predict):\n",
    "\t\treturn(pred_bounds[predict])\n",
    "\n",
    "\tresponses = ['PAX', 'S_INCOME', 'E_INCOME']\n",
    "\tregr_coef = pd.DataFrame([coef_pax, coef_s_in, -coef_e_in],\n",
    "\t\t\t\t\t\t\tindex=responses)\n",
    "\trhs_response = [20000, 30000, -30000]\n",
    "\n",
    "\tresponse_dict = dict(zip(responses, rhs_response))\n",
    "\t\n",
    "\tif var in ['PAX', 'S_INCOME', 'E_INCOME']:\n",
    "\t\tresponse_dict[var] = new_upper_limit\n",
    "\n",
    "\t# construct model\n",
    "\tmodel = ConcreteModel(name='FlightPath')\n",
    "\n",
    "\tmodel.route_vars = Var(predicts, domain=NonNegativeReals, bounds=bounds_rule)\n",
    "\n",
    "\tmodel.fare = Objective(expr=sum(coef_fare[p] * model.route_vars[p] for p in predicts), sense=maximize)\n",
    "\n",
    "\tmodel.response_ct = ConstraintList()\n",
    "\tfor r in responses:\n",
    "\t\tmodel.response_ct.add(sum(regr_coef.loc[r,p] * model.route_vars[p] for p in predicts) <= response_dict[r])\n",
    "\n",
    "\t# solve\n",
    "\tsolver = SolverFactory('glpk')\n",
    "\tsolver.solve(model)\n",
    "\n",
    "\tif var == 'null':\n",
    "\t\tprint(f'Original maximum fare is ${model.fare():.2f}\\n')\n",
    "\telse:\n",
    "\t\tprint(f'New maximum fare from changing {var} is ${model.fare():.2f}')\n",
    "\t\t\n",
    "\t\t\n",
    "for c in vars_change:\n",
    "\tsensitivity(c, vars_change[c])"
   ]
  },
  {
   "cell_type": "markdown",
   "metadata": {
    "collapsed": false
   },
   "source": [
    "# **Question 12** <font color=\"magenta\">(3 points)</font>\n",
    "Which of the following are binding constraints? Check all the apply. \n",
    "\n",
    "* **S_INCOME**\n",
    "* E_INCOME\n",
    "* PAX\n",
    "* COUPON\n",
    "* **HI**\n",
    "* **DISTANCE**\n",
    "\n",
    "\n",
    "# **Question 13** <font color=\"magenta\">(2 points)</font>\n",
    "What is the shadow price for **S_INCOME** (rounded to 2 digits)?\n",
    "\n",
    "* .00\n",
    "* **.01**\n",
    "* .09\n",
    "* 1.00\n",
    "* 1.01\n",
    "\n",
    "# **Question 14** <font color=\"magenta\">(2 points)</font>\n",
    "What is the shadow price for **COUPON** (rounded to 2 digits)?\n",
    "\n",
    "* **.00**\n",
    "* .01\n",
    "* .09\n",
    "* 1.00\n",
    "* 1.01\n",
    "\n",
    "# **Question 15** <font color=\"magenta\">(2 points)</font>\n",
    "What is the shadow price for **DISTANCE** (rounded to 2 digits)?\n",
    "\n",
    "* .00\n",
    "* .01\n",
    "* **.09**\n",
    "* 1.00\n",
    "* 1.01\n"
   ]
  },
  {
   "cell_type": "markdown",
   "metadata": {
    "collapsed": false
   },
   "source": [
    "# **Question 16 (Manually graded)** <font color=\"magenta\">(5 points)</font>\n",
    "\n",
    "Briefly summarize the main conclusion of this project, state what you see as any limitations of the methods used here, and suggest other possible methods of addressing the maximizing of airfare in this problem scenario. To get full credit, you should address any limitations you see in the regression models and provide at least one recommendation for improvement."
   ]
  },
  {
   "cell_type": "markdown",
   "metadata": {
    "collapsed": false
   },
   "source": [
    "<font color=\"green\">Add your answer</font>"
   ]
  },
  {
   "cell_type": "markdown",
   "metadata": {
    "collapsed": false
   },
   "source": [
    "# **Question 17** (Manually graded) <font color=\"magenta\">(5 points)</font>\n",
    "\n",
    "Show the mathematical formulation for the linear programming problem used in this project.\n",
    "You can either use LaTeX and markdown or take a clean, cropped picture of neatly handwritten equations and upload it. (Note: both the equation editor and the image upload are hidden behind the 3 vertical dot \"more\" menu in Canvas.)\n",
    "\n"
   ]
  },
  {
   "cell_type": "markdown",
   "metadata": {
    "collapsed": false
   },
   "source": [
    "<font color=\"green\">Add your answer</font>"
   ]
  }
 ],
 "metadata": {
  "kernelspec": {
   "display_name": "Python 3 (system-wide)",
   "language": "python",
   "metadata": {
    "cocalc": {
     "description": "Python 3 programming language",
     "priority": 100,
     "url": "https://www.python.org/"
    }
   },
   "name": "python3",
   "resource_dir": "/ext/jupyter/kernels/python3"
  },
  "language_info": {
   "codemirror_mode": {
    "name": "ipython",
    "version": 3
   },
   "file_extension": ".py",
   "mimetype": "text/x-python",
   "name": "python",
   "nbconvert_exporter": "python",
   "pygments_lexer": "ipython3",
   "version": "3.8.10"
  },
  "toc": {
   "base_numbering": 1,
   "nav_menu": {
   },
   "number_sections": true,
   "sideBar": true,
   "skip_h1_title": false,
   "title_cell": "Table of Contents",
   "title_sidebar": "Contents",
   "toc_cell": false,
   "toc_position": {
   },
   "toc_section_display": true,
   "toc_window_display": false
  },
  "varInspector": {
   "cols": {
    "lenName": 16,
    "lenType": 16,
    "lenVar": 40
   },
   "kernels_config": {
    "python": {
     "delete_cmd_postfix": "",
     "delete_cmd_prefix": "del ",
     "library": "var_list.py",
     "varRefreshCmd": "print(var_dic_list())"
    },
    "r": {
     "delete_cmd_postfix": ") ",
     "delete_cmd_prefix": "rm(",
     "library": "var_list.r",
     "varRefreshCmd": "cat(var_dic_list()) "
    }
   },
   "types_to_exclude": [
    "module",
    "function",
    "builtin_function_or_method",
    "instance",
    "_Feature"
   ],
   "window_display": false
  }
 },
 "nbformat": 4,
 "nbformat_minor": 4
}