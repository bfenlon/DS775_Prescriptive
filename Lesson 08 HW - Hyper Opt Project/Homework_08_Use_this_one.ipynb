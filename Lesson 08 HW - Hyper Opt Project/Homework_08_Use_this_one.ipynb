{
 "cells": [
  {
   "cell_type": "code",
   "execution_count": 1,
   "metadata": {},
   "outputs": [],
   "source": [
    "import numpy as np\n",
    "import pandas as pd\n",
    "from sklearn.model_selection import train_test_split\n",
    "from sklearn.ensemble import ExtraTreesRegressor\n",
    "from sklearn.model_selection import GridSearchCV\n",
    "from sklearn.model_selection import RandomizedSearchCV\n",
    "from scipy.stats import uniform, randint\n",
    "from skopt import BayesSearchCV\n",
    "from skopt.space import Real, Categorical, Integer\n",
    "from sklearn.metrics import confusion_matrix\n",
    "from sklearn.metrics import classification_report\n",
    "from sklearn.linear_model import LogisticRegression\n",
    "import xgboost as xgb\n",
    "from tpot import TPOTClassifier\n",
    "from tpot import TPOTRegressor"
   ]
  },
  {
   "cell_type": "markdown",
   "metadata": {},
   "source": [
    "# Lesson 08 Homework - Hyperparameter Optimization (Project)"
   ]
  },
  {
   "cell_type": "markdown",
   "metadata": {},
   "source": [
    "**Note: This introduction is not included in the Canvas quiz.**\n",
    "\n",
    "For this project you're going to apply hyperparameter optimization to both a regression and a classification problem. It looks like a lot to do below, but it's mostly a matter of modifying code from the presentation. \n",
    "\n",
    "## Objective\n",
    "\n",
    "For each of the models in parts 1 and 2 below, apply the following 4 tuning methods from the presentation: GridSearchCV, RandomSearchCV, BayesSearchCV, and TPOT.\n",
    "* **For TPOT**: In Part 1 you will only do hyperparameter optimization for ExtraTreesRegressor. In Part 2 you will do **both** hyperparameter optimization and also run TPOT and let it choose the model. See the presentation for examples of both.\n",
    "\n",
    "## Specific Quiz Questions\n",
    "\n",
    "Follow along and use the required parameters and random seeds so that you can correctly answer the quiz questions.\n",
    "\n",
    "### Regarding data\n",
    "\n",
    "* To answer the multiple choice quiz questions, you'll need to use the data we have chosen. \n",
    "* We encourage you to try these out on your own data, too, to deepen your learning.\n",
    " "
   ]
  },
  {
   "cell_type": "markdown",
   "metadata": {},
   "source": [
    "# **Part 1** - Optimize Extra Trees Regressor"
   ]
  },
  {
   "cell_type": "markdown",
   "metadata": {},
   "source": [
    "### Find optimized hyperparameters for an extra trees regression model. \n",
    "\n",
    "In the lesson, our TPOT AutoML code suggested that a viable algorithm to explore would be the `ExtraTreesRegressor`. For part 1 of your homework, you'll use sklearn's ExtraTreesRegressor and attempt to optimize the hyperparameters.\n",
    "\n",
    "You must use the diamonds data used in the presentation.  **You do not need to include the TPOT general search for this problem** (use TPOT to optimize ExtraTreesRegressor, but don't run TPOT to choose a model). Here are ranges for a subset of the hyperparameters:\n",
    "\n",
    "Hyperparameter |Type | Default Value | Typical Range\n",
    "---- | ---- | ---- | ----\n",
    "n_estimators | discrete / integer | 100 | 10 to 150\n",
    "min_samples_split | discrete / integer | 2 | 2 to 20\n",
    "min_samples_leaf | discrete / integer | 1 | 1 to 10\n",
    "max_features | discrete/integer | auto | 1 to 30\n",
    "bootstrap | discrete / boolean | False | True, False (use this order where possible)\n",
    "\n",
    "\n",
    "Note: there other hyperparameters that could be added, but we will focus on these for the project. Consult the \n",
    "<a href=\"https://scikit-learn.org/stable/modules/generated/sklearn.ensemble.ExtraTreesRegressor.html\">documentation for sklearn ExtraTreesRegressor</a> to see all of the available hyperparameters.\n"
   ]
  },
  {
   "cell_type": "markdown",
   "metadata": {},
   "source": [
    "## **Question 1: Setup** <font color=\"magenta\">(1 points)</font>\n",
    "\n",
    "* Load the diamonds dataset (diamonds_transformed.csv in the data directory). \n",
    "* Set up your X and y variables. \n",
    "* Split into 80% training data and 20% testing data. \n",
    "* **Use random_state = 123**\n",
    "\n",
    "How many rows are in your training data?\n",
    "\n"
   ]
  },
  {
   "cell_type": "code",
   "execution_count": 2,
   "metadata": {},
   "outputs": [],
   "source": [
    "dmd = pd.read_csv('data/diamonds_transformed.csv')\n",
    "X, y = dmd[dmd.columns.drop('Price')], dmd['Price']\n",
    "X_train, X_test, y_train, y_test = train_test_split(X, y, test_size=0.2, random_state=123)"
   ]
  },
  {
   "cell_type": "markdown",
   "metadata": {},
   "source": [
    "## **Question 2** <font color=\"magenta\">(1 points)</font>\n",
    "In the following cell, we provide you with the same `my_regression_results` function we used in the lesson. Create an `ExtraTreesRegressor` model using **random_state=123**. Fit your model. Use the `my_regression_results` function to get the Root Mean Squared Error on the test data.\n",
    "\n",
    "What is the RMSE (Root Mean Squared Error) using the default hyperparameters?\n",
    "\n",
    "* 1875.57\n",
    "* 2056.87\n",
    "* 9688.00\n",
    "* 1833.88\n",
    "* **2053.20**\n"
   ]
  },
  {
   "cell_type": "code",
   "execution_count": 3,
   "metadata": {},
   "outputs": [],
   "source": [
    "#function to easily assess different models (not included in Canvas Quiz)\n",
    "def my_regression_results(model):\n",
    "    score_test = model.score(X_test,y_test)\n",
    "    print('Model r-squared score from test data: {:0.4f}'.format(score_test))\n",
    "\n",
    "    y_pred = model.predict(X_test)\n",
    "    %matplotlib inline\n",
    "    import matplotlib.pyplot as plt\n",
    "    plt.plot(y_test,y_pred,'k.')\n",
    "    plt.xlabel('Test Values')\n",
    "    plt.ylabel('Predicted Values');\n",
    "\n",
    "    from sklearn.metrics import mean_squared_error\n",
    "    mse = mean_squared_error(y_test,y_pred)\n",
    "    rmse = np.sqrt(mse)\n",
    "    print('Mean squared error on test data: {:0.2f}'.format(mse))\n",
    "    print('Root mean squared error on test data: {:0.2f}'.format(rmse))\n",
    "    return (round(rmse, 2))"
   ]
  },
  {
   "cell_type": "code",
   "execution_count": 4,
   "metadata": {},
   "outputs": [
    {
     "name": "stdout",
     "output_type": "stream",
     "text": [
      "Model r-squared score from test data: 0.9609\n",
      "Mean squared error on test data: 4215635.99\n",
      "Root mean squared error on test data: 2053.20\n"
     ]
    },
    {
     "data": {
      "text/plain": [
       "2053.2"
      ]
     },
     "execution_count": 4,
     "metadata": {},
     "output_type": "execute_result"
    },
    {
     "data": {
      "image/png": "[encoded data removed]",
      "text/plain": [
       "<Figure size 432x288 with 1 Axes>"
      ]
     },
     "execution_count": 4,
     "metadata": {
      "needs_background": "light"
     },
     "output_type": "execute_result"
    }
   ],
   "source": [
    "ex_trees = ExtraTreesRegressor(random_state=123)\n",
    "ex_trees.fit(X_train, y_train)\n",
    "my_regression_results(ex_trees)"
   ]
  },
  {
   "cell_type": "markdown",
   "metadata": {},
   "source": [
    "## **Question 3** (Manually Graded) <font color=\"magenta\">(2 points)</font>\n",
    "\n",
    "Modify the `track_results` function to work with the Extra Trees Regressor hyperparameters. Enter your results based on the default hyperparameters and display the dataframe of results.\n",
    "\n",
    "In the Canvas quiz, copy your code and provide a screenshot of the output.\n"
   ]
  },
  {
   "cell_type": "code",
   "execution_count": 5,
   "metadata": {},
   "outputs": [
    {
     "data": {
      "text/html": [
       "<div>\n",
       "<style scoped>\n",
       "    .dataframe tbody tr th:only-of-type {\n",
       "        vertical-align: middle;\n",
       "    }\n",
       "\n",
       "    .dataframe tbody tr th {\n",
       "        vertical-align: top;\n",
       "    }\n",
       "\n",
       "    .dataframe thead th {\n",
       "        text-align: right;\n",
       "    }\n",
       "</style>\n",
       "<table border=\"1\" class=\"dataframe\">\n",
       "  <thead>\n",
       "    <tr style=\"text-align: right;\">\n",
       "      <th></th>\n",
       "      <th>Approach</th>\n",
       "      <th>bootstrap</th>\n",
       "      <th>max_features</th>\n",
       "      <th>min_samples_leaf</th>\n",
       "      <th>min_samples_split</th>\n",
       "      <th>n_estimators</th>\n",
       "      <th>Fits</th>\n",
       "      <th>RMSE</th>\n",
       "    </tr>\n",
       "  </thead>\n",
       "  <tbody>\n",
       "    <tr>\n",
       "      <th>0</th>\n",
       "      <td>Default ExtraTreesRegressor</td>\n",
       "      <td>False</td>\n",
       "      <td>auto</td>\n",
       "      <td>1</td>\n",
       "      <td>2</td>\n",
       "      <td>100</td>\n",
       "      <td>1</td>\n",
       "      <td>2053.2</td>\n",
       "    </tr>\n",
       "  </tbody>\n",
       "</table>\n",
       "</div>"
      ],
      "text/plain": [
       "                      Approach  bootstrap max_features  min_samples_leaf  \\\n",
       "0  Default ExtraTreesRegressor      False         auto                 1   \n",
       "\n",
       "   min_samples_split  n_estimators  Fits    RMSE  \n",
       "0                  2           100     1  2053.2  "
      ]
     },
     "execution_count": 5,
     "metadata": {},
     "output_type": "execute_result"
    }
   ],
   "source": [
    "def track_results(approachName, params, rmse, fits, current, show=True):\n",
    "    current['Approach'].append(approachName)\n",
    "    current['RMSE'].append(rmse)\n",
    "    current['Fits'].append(fits)\n",
    "    for k in params.keys():\n",
    "        current[k].append(params[k])\n",
    "    if show:\n",
    "        df = pd.DataFrame(current)\n",
    "        df = df.sort_values('RMSE', ascending=True)\n",
    "        display(df)\n",
    "    return(current)\n",
    "\n",
    "par = ex_trees.get_params()\n",
    "par_to_keep =  ['bootstrap', 'max_features','min_samples_leaf', 'min_samples_split', 'n_estimators']\n",
    "\n",
    "setup = {'Approach': [],\n",
    "         'bootstrap': [],\n",
    "         'max_features': [],\n",
    "         'min_samples_leaf': [],\n",
    "         'min_samples_split': [],\n",
    "         'n_estimators': [],\n",
    "         'Fits': [],\n",
    "         'RMSE': []\n",
    "        }\n",
    "\n",
    "defaults = {k:par[k] for k in par_to_keep}\n",
    "\n",
    "current = track_results('Default ExtraTreesRegressor', defaults, 2053.20, 1, setup)"
   ]
  },
  {
   "cell_type": "markdown",
   "metadata": {},
   "source": [
    "## ExtraTreesRegressor Grid Search \n",
    "\n",
    "Perform a cross-validated grid search using the following values for your hyperparameter search space.\n",
    "\n",
    "* n_estimators: [50, 100, 150]\n",
    "* max_features: [1, 15, 30]\n",
    "* min_samples_split: [2, 8]\n",
    "* min_samples_leaf: [1, 15]\n",
    "* bootstrap: [True, False]\n",
    "\n",
    "Use the following setting in your grid search:\n",
    "* cv=5\n",
    "\n",
    "*Note: this took about 16 minutes to run on CoCalc*\n",
    "\n",
    "Be sure to track your results using your `track_results` function.\n",
    "\n",
    "### **Question 4:** <font color=\"magenta\">(2 points)</font>\n",
    "**What is the RMSE of your optimized grid search, rounded to 2 digits?**\n",
    "\n",
    "\n",
    "\n",
    "\n",
    "### **Question 5:** <font color=\"magenta\">(2 points)</font>\n",
    "**What is the optimal value of max_features chosen by the grid search?**\n",
    "\n",
    "* 1\n",
    "* **15**\n",
    "* 30\n"
   ]
  },
  {
   "cell_type": "code",
   "execution_count": 6,
   "metadata": {},
   "outputs": [
    {
     "name": "stdout",
     "output_type": "stream",
     "text": [
      "Fitting 5 folds for each of 72 candidates, totalling 360 fits\n"
     ]
    },
    {
     "data": {
      "text/plain": [
       "GridSearchCV(cv=5, estimator=ExtraTreesRegressor(random_state=123), n_jobs=1,\n",
       "             param_grid={'bootstrap': [True, False],\n",
       "                         'max_features': [1, 15, 30],\n",
       "                         'min_samples_leaf': [1, 15],\n",
       "                         'min_samples_split': [2, 8],\n",
       "                         'n_estimators': [50, 100, 150]},\n",
       "             return_train_score=True, verbose=1)"
      ]
     },
     "execution_count": 6,
     "metadata": {},
     "output_type": "execute_result"
    }
   ],
   "source": [
    "#use this seed\n",
    "np.random.seed(123)\n",
    "\n",
    "params = {\n",
    "        'n_estimators': [50, 100, 150],\n",
    "        'max_features': [1, 15, 30],\n",
    "        'min_samples_split': [2, 8],\n",
    "        'min_samples_leaf': [1, 15],\n",
    "        'bootstrap': [True, False]\n",
    "        }\n",
    "\n",
    "grid_search = GridSearchCV(ex_trees,\n",
    "                           param_grid=params,\n",
    "                           cv=5,\n",
    "                           verbose=1,\n",
    "                           n_jobs=1,\n",
    "                           return_train_score=True)\n",
    "\n",
    "grid_search.fit(X_train, y_train)"
   ]
  },
  {
   "cell_type": "code",
   "execution_count": 7,
   "metadata": {},
   "outputs": [
    {
     "name": "stdout",
     "output_type": "stream",
     "text": [
      "{'bootstrap': False, 'max_features': 15, 'min_samples_leaf': 1, 'min_samples_split': 2, 'n_estimators': 150}\n",
      "Model r-squared score from test data: 0.9634\n",
      "Mean squared error on test data: 3945481.66\n",
      "Root mean squared error on test data: 1986.32\n"
     ]
    },
    {
     "data": {
      "text/plain": [
       "1986.32"
      ]
     },
     "execution_count": 7,
     "metadata": {},
     "output_type": "execute_result"
    },
    {
     "data": {
      "image/png": "[encoded data removed]",
      "text/plain": [
       "<Figure size 432x288 with 1 Axes>"
      ]
     },
     "execution_count": 7,
     "metadata": {
      "needs_background": "light"
     },
     "output_type": "execute_result"
    }
   ],
   "source": [
    "print(grid_search.best_params_)\n",
    "my_regression_results(grid_search)"
   ]
  },
  {
   "cell_type": "code",
   "execution_count": 8,
   "metadata": {},
   "outputs": [
    {
     "data": {
      "text/html": [
       "<div>\n",
       "<style scoped>\n",
       "    .dataframe tbody tr th:only-of-type {\n",
       "        vertical-align: middle;\n",
       "    }\n",
       "\n",
       "    .dataframe tbody tr th {\n",
       "        vertical-align: top;\n",
       "    }\n",
       "\n",
       "    .dataframe thead th {\n",
       "        text-align: right;\n",
       "    }\n",
       "</style>\n",
       "<table border=\"1\" class=\"dataframe\">\n",
       "  <thead>\n",
       "    <tr style=\"text-align: right;\">\n",
       "      <th></th>\n",
       "      <th>Approach</th>\n",
       "      <th>bootstrap</th>\n",
       "      <th>max_features</th>\n",
       "      <th>min_samples_leaf</th>\n",
       "      <th>min_samples_split</th>\n",
       "      <th>n_estimators</th>\n",
       "      <th>Fits</th>\n",
       "      <th>RMSE</th>\n",
       "    </tr>\n",
       "  </thead>\n",
       "  <tbody>\n",
       "    <tr>\n",
       "      <th>1</th>\n",
       "      <td>GridSearch ExtraTreesRegressor</td>\n",
       "      <td>False</td>\n",
       "      <td>15</td>\n",
       "      <td>1</td>\n",
       "      <td>2</td>\n",
       "      <td>150</td>\n",
       "      <td>360</td>\n",
       "      <td>1986.32</td>\n",
       "    </tr>\n",
       "    <tr>\n",
       "      <th>0</th>\n",
       "      <td>Default ExtraTreesRegressor</td>\n",
       "      <td>False</td>\n",
       "      <td>auto</td>\n",
       "      <td>1</td>\n",
       "      <td>2</td>\n",
       "      <td>100</td>\n",
       "      <td>1</td>\n",
       "      <td>2053.20</td>\n",
       "    </tr>\n",
       "  </tbody>\n",
       "</table>\n",
       "</div>"
      ],
      "text/plain": [
       "                         Approach  bootstrap max_features  min_samples_leaf  \\\n",
       "1  GridSearch ExtraTreesRegressor      False           15                 1   \n",
       "0     Default ExtraTreesRegressor      False         auto                 1   \n",
       "\n",
       "   min_samples_split  n_estimators  Fits     RMSE  \n",
       "1                  2           150   360  1986.32  \n",
       "0                  2           100     1  2053.20  "
      ]
     },
     "execution_count": 8,
     "metadata": {},
     "output_type": "execute_result"
    }
   ],
   "source": [
    "current = track_results('GridSearch ExtraTreesRegressor', grid_search.best_params_, 1986.32, 360, current)"
   ]
  },
  {
   "cell_type": "markdown",
   "metadata": {},
   "source": [
    "## Randomized Search\n",
    "\n",
    "Use the following values to set up your randomized search space:\n",
    "* n_estimators: random integers between 10 and 150\n",
    "* min_samples_split: random integers between 2 and 20\n",
    "* min_samples_leaf: random integers between 1 and 20\n",
    "* max_features:  random integers between 1 and 30\n",
    "* bootstrap: True or False (in that order)\n",
    "\n",
    "Use the following settings for your randomized search:\n",
    "\n",
    "* n_iter of 25\n",
    "* cv of 5\n",
    "* random_state of 123\n",
    "\n",
    "\n",
    "### **Question 6** <font color=\"magenta\">(2 points)</font>\n",
    "**What is the RMSE of your randomized search, rounded to 2 digits?**\n",
    "\n",
    "\n",
    "\n",
    "\n",
    "\n",
    "### **Question 7** <font color=\"magenta\">(2 points)</font>\n",
    "**What is the max_features chosen by your random search?**\n",
    "\n",
    "* 5\n",
    "* 7\n",
    "* 9\n",
    "* 11\n",
    "* 13"
   ]
  },
  {
   "cell_type": "code",
   "execution_count": 9,
   "metadata": {},
   "outputs": [
    {
     "name": "stdout",
     "output_type": "stream",
     "text": [
      "Fitting 5 folds for each of 25 candidates, totalling 125 fits\n"
     ]
    },
    {
     "data": {
      "text/plain": [
       "RandomizedSearchCV(cv=5, estimator=ExtraTreesRegressor(random_state=123),\n",
       "                   n_iter=25, n_jobs=1,\n",
       "                   param_distributions={'bootstrap': [True, False],\n",
       "                                        'max_features': <scipy.stats._distn_infrastructure.rv_frozen object at 0x7f96b8b27bd0>,\n",
       "                                        'min_samples_leaf': <scipy.stats._distn_infrastructure.rv_frozen object at 0x7f96eba36450>,\n",
       "                                        'min_samples_split': <scipy.stats._distn_infrastructure.rv_frozen object at 0x7f96eba36210>,\n",
       "                                        'n_estimators': <scipy.stats._distn_infrastructure.rv_frozen object at 0x7f96eba36190>},\n",
       "                   random_state=123, return_train_score=True, verbose=1)"
      ]
     },
     "execution_count": 9,
     "metadata": {},
     "output_type": "execute_result"
    }
   ],
   "source": [
    "params = {\n",
    "        'n_estimators': randint(10, 150),\n",
    "        'max_features': randint(1, 30),\n",
    "        'min_samples_split': randint(2, 20),\n",
    "        'min_samples_leaf': randint(1, 20),\n",
    "        'bootstrap': [True, False]\n",
    "        }\n",
    "\n",
    "random_search = RandomizedSearchCV(\n",
    "    ex_trees,\n",
    "    param_distributions=params,\n",
    "    random_state=123,\n",
    "    n_iter=25,\n",
    "    cv=5,\n",
    "    verbose=1,\n",
    "    n_jobs=1,\n",
    "    return_train_score=True)\n",
    "\n",
    "random_search.fit(X_train, y_train)"
   ]
  },
  {
   "cell_type": "code",
   "execution_count": 10,
   "metadata": {},
   "outputs": [
    {
     "name": "stdout",
     "output_type": "stream",
     "text": [
      "Model r-squared score from test data: 0.9634\n",
      "Mean squared error on test data: 3945481.66\n",
      "Root mean squared error on test data: 1986.32\n"
     ]
    },
    {
     "data": {
      "text/plain": [
       "1986.32"
      ]
     },
     "execution_count": 10,
     "metadata": {},
     "output_type": "execute_result"
    },
    {
     "data": {
      "image/png": "[encoded data removed]",
      "text/plain": [
       "<Figure size 432x288 with 1 Axes>"
      ]
     },
     "execution_count": 10,
     "metadata": {
      "needs_background": "light"
     },
     "output_type": "execute_result"
    }
   ],
   "source": [
    "my_regression_results(grid_search)"
   ]
  },
  {
   "cell_type": "code",
   "execution_count": 11,
   "metadata": {},
   "outputs": [
    {
     "data": {
      "text/html": [
       "<div>\n",
       "<style scoped>\n",
       "    .dataframe tbody tr th:only-of-type {\n",
       "        vertical-align: middle;\n",
       "    }\n",
       "\n",
       "    .dataframe tbody tr th {\n",
       "        vertical-align: top;\n",
       "    }\n",
       "\n",
       "    .dataframe thead th {\n",
       "        text-align: right;\n",
       "    }\n",
       "</style>\n",
       "<table border=\"1\" class=\"dataframe\">\n",
       "  <thead>\n",
       "    <tr style=\"text-align: right;\">\n",
       "      <th></th>\n",
       "      <th>Approach</th>\n",
       "      <th>bootstrap</th>\n",
       "      <th>max_features</th>\n",
       "      <th>min_samples_leaf</th>\n",
       "      <th>min_samples_split</th>\n",
       "      <th>n_estimators</th>\n",
       "      <th>Fits</th>\n",
       "      <th>RMSE</th>\n",
       "    </tr>\n",
       "  </thead>\n",
       "  <tbody>\n",
       "    <tr>\n",
       "      <th>1</th>\n",
       "      <td>GridSearch ExtraTreesRegressor</td>\n",
       "      <td>False</td>\n",
       "      <td>15</td>\n",
       "      <td>1</td>\n",
       "      <td>2</td>\n",
       "      <td>150</td>\n",
       "      <td>360</td>\n",
       "      <td>1986.32</td>\n",
       "    </tr>\n",
       "    <tr>\n",
       "      <th>2</th>\n",
       "      <td>RandomSearch ExtraTreesRegressor</td>\n",
       "      <td>False</td>\n",
       "      <td>11</td>\n",
       "      <td>2</td>\n",
       "      <td>2</td>\n",
       "      <td>123</td>\n",
       "      <td>125</td>\n",
       "      <td>1986.32</td>\n",
       "    </tr>\n",
       "    <tr>\n",
       "      <th>0</th>\n",
       "      <td>Default ExtraTreesRegressor</td>\n",
       "      <td>False</td>\n",
       "      <td>auto</td>\n",
       "      <td>1</td>\n",
       "      <td>2</td>\n",
       "      <td>100</td>\n",
       "      <td>1</td>\n",
       "      <td>2053.20</td>\n",
       "    </tr>\n",
       "  </tbody>\n",
       "</table>\n",
       "</div>"
      ],
      "text/plain": [
       "                           Approach  bootstrap max_features  min_samples_leaf  \\\n",
       "1    GridSearch ExtraTreesRegressor      False           15                 1   \n",
       "2  RandomSearch ExtraTreesRegressor      False           11                 2   \n",
       "0       Default ExtraTreesRegressor      False         auto                 1   \n",
       "\n",
       "   min_samples_split  n_estimators  Fits     RMSE  \n",
       "1                  2           150   360  1986.32  \n",
       "2                  2           123   125  1986.32  \n",
       "0                  2           100     1  2053.20  "
      ]
     },
     "execution_count": 11,
     "metadata": {},
     "output_type": "execute_result"
    }
   ],
   "source": [
    "current = track_results('RandomSearch ExtraTreesRegressor', random_search.best_params_, 1986.32, 125, current)"
   ]
  },
  {
   "cell_type": "markdown",
   "metadata": {},
   "source": [
    "#### Bayesian Optimization\n",
    "\n",
    "For your Bayesian Optimization, we'll use the same ranges we used in random search. You won't need to wrap any of your integer ranges in Integer(), but you will need to use `Categorical([True, False])` for your bootstrap parameter.\n",
    "\n",
    "Use the following values to set up your search space:\n",
    "* n_estimators: integers between 10 and 150\n",
    "* min_samples_split: integers between 2 and 20\n",
    "* min_samples_leaf: integers between 1 and 10\n",
    "* max_features:  integers between 1 and 30\n",
    "* bootstrap: Categorical of True, False (in that order)\n",
    "\n",
    "Use the following settings for your search:\n",
    "\n",
    "* n_iter of 25\n",
    "* cv of 5\n",
    "* random_state of 123\n",
    "\n",
    "### **Question 8** <font color=\"magenta\">(2 points)</font>\n",
    "**What is the RMSE of your Bayesian search, rounded to 2 digits?**\n",
    "\n",
    "\n",
    "\n",
    "\n",
    "### **Question 9** <font color=\"magenta\">(2 points)</font>\n",
    "**What is the value of min_samples_leaf chosen by your Bayesian search?**\n",
    "\n",
    "* 1\n",
    "* 3\n",
    "* 5\n",
    "* 7\n",
    "* 9\n",
    "\n",
    "\n"
   ]
  },
  {
   "cell_type": "code",
   "execution_count": 12,
   "metadata": {},
   "outputs": [
    {
     "name": "stdout",
     "output_type": "stream",
     "text": [
      "Fitting 5 folds for each of 1 candidates, totalling 5 fits\n",
      "Fitting 5 folds for each of 1 candidates, totalling 5 fits\n",
      "Fitting 5 folds for each of 1 candidates, totalling 5 fits\n",
      "Fitting 5 folds for each of 1 candidates, totalling 5 fits\n",
      "Fitting 5 folds for each of 1 candidates, totalling 5 fits\n",
      "Fitting 5 folds for each of 1 candidates, totalling 5 fits\n",
      "Fitting 5 folds for each of 1 candidates, totalling 5 fits\n",
      "Fitting 5 folds for each of 1 candidates, totalling 5 fits\n",
      "Fitting 5 folds for each of 1 candidates, totalling 5 fits\n",
      "Fitting 5 folds for each of 1 candidates, totalling 5 fits\n",
      "Fitting 5 folds for each of 1 candidates, totalling 5 fits\n",
      "Fitting 5 folds for each of 1 candidates, totalling 5 fits\n",
      "Fitting 5 folds for each of 1 candidates, totalling 5 fits\n",
      "Fitting 5 folds for each of 1 candidates, totalling 5 fits\n",
      "Fitting 5 folds for each of 1 candidates, totalling 5 fits\n",
      "Fitting 5 folds for each of 1 candidates, totalling 5 fits\n",
      "Fitting 5 folds for each of 1 candidates, totalling 5 fits\n",
      "Fitting 5 folds for each of 1 candidates, totalling 5 fits\n",
      "Fitting 5 folds for each of 1 candidates, totalling 5 fits\n",
      "Fitting 5 folds for each of 1 candidates, totalling 5 fits\n",
      "Fitting 5 folds for each of 1 candidates, totalling 5 fits\n",
      "Fitting 5 folds for each of 1 candidates, totalling 5 fits\n",
      "Fitting 5 folds for each of 1 candidates, totalling 5 fits\n",
      "Fitting 5 folds for each of 1 candidates, totalling 5 fits\n",
      "Fitting 5 folds for each of 1 candidates, totalling 5 fits\n"
     ]
    },
    {
     "data": {
      "text/plain": [
       "BayesSearchCV(cv=5, estimator=ExtraTreesRegressor(random_state=123), n_iter=25,\n",
       "              random_state=123, return_train_score=True,\n",
       "              search_spaces={'bootstrap': Categorical(categories=(True, False), prior=None),\n",
       "                             'max_features': (1, 30),\n",
       "                             'min_samples_leaf': (1, 20),\n",
       "                             'min_samples_split': (2, 20),\n",
       "                             'n_estimators': (10, 150)},\n",
       "              verbose=1)"
      ]
     },
     "execution_count": 12,
     "metadata": {},
     "output_type": "execute_result"
    }
   ],
   "source": [
    "params = {\n",
    "        'n_estimators': (10, 150),\n",
    "        'max_features': (1, 30),\n",
    "        'min_samples_split': (2, 20),\n",
    "        'min_samples_leaf': (1, 20),\n",
    "        'bootstrap': Categorical([True, False])\n",
    "        }\n",
    "\n",
    "bayes_search = BayesSearchCV(\n",
    "    ex_trees,\n",
    "    search_spaces=params,\n",
    "    random_state=123,\n",
    "    n_iter=25,\n",
    "    cv=5,\n",
    "    verbose=1,\n",
    "    n_jobs=1,\n",
    "    return_train_score=True)\n",
    "\n",
    "bayes_search.fit(X_train, y_train)"
   ]
  },
  {
   "cell_type": "code",
   "execution_count": 13,
   "metadata": {},
   "outputs": [
    {
     "name": "stdout",
     "output_type": "stream",
     "text": [
      "125\n",
      "Model r-squared score from test data: 0.9642\n",
      "Mean squared error on test data: 3860641.95\n",
      "Root mean squared error on test data: 1964.85\n"
     ]
    },
    {
     "data": {
      "text/plain": [
       "1964.85"
      ]
     },
     "execution_count": 13,
     "metadata": {},
     "output_type": "execute_result"
    },
    {
     "data": {
      "image/png": "[encoded data removed]",
      "text/plain": [
       "<Figure size 432x288 with 1 Axes>"
      ]
     },
     "execution_count": 13,
     "metadata": {
      "needs_background": "light"
     },
     "output_type": "execute_result"
    }
   ],
   "source": [
    "print(bayes_search.total_iterations)\n",
    "my_regression_results(bayes_search)"
   ]
  },
  {
   "cell_type": "code",
   "execution_count": 14,
   "metadata": {},
   "outputs": [
    {
     "data": {
      "text/html": [
       "<div>\n",
       "<style scoped>\n",
       "    .dataframe tbody tr th:only-of-type {\n",
       "        vertical-align: middle;\n",
       "    }\n",
       "\n",
       "    .dataframe tbody tr th {\n",
       "        vertical-align: top;\n",
       "    }\n",
       "\n",
       "    .dataframe thead th {\n",
       "        text-align: right;\n",
       "    }\n",
       "</style>\n",
       "<table border=\"1\" class=\"dataframe\">\n",
       "  <thead>\n",
       "    <tr style=\"text-align: right;\">\n",
       "      <th></th>\n",
       "      <th>Approach</th>\n",
       "      <th>bootstrap</th>\n",
       "      <th>max_features</th>\n",
       "      <th>min_samples_leaf</th>\n",
       "      <th>min_samples_split</th>\n",
       "      <th>n_estimators</th>\n",
       "      <th>Fits</th>\n",
       "      <th>RMSE</th>\n",
       "    </tr>\n",
       "  </thead>\n",
       "  <tbody>\n",
       "    <tr>\n",
       "      <th>3</th>\n",
       "      <td>BayesSearch ExtraTreesRegressor</td>\n",
       "      <td>False</td>\n",
       "      <td>18</td>\n",
       "      <td>1</td>\n",
       "      <td>2</td>\n",
       "      <td>133</td>\n",
       "      <td>125</td>\n",
       "      <td>1964.85</td>\n",
       "    </tr>\n",
       "    <tr>\n",
       "      <th>1</th>\n",
       "      <td>GridSearch ExtraTreesRegressor</td>\n",
       "      <td>False</td>\n",
       "      <td>15</td>\n",
       "      <td>1</td>\n",
       "      <td>2</td>\n",
       "      <td>150</td>\n",
       "      <td>360</td>\n",
       "      <td>1986.32</td>\n",
       "    </tr>\n",
       "    <tr>\n",
       "      <th>2</th>\n",
       "      <td>RandomSearch ExtraTreesRegressor</td>\n",
       "      <td>False</td>\n",
       "      <td>11</td>\n",
       "      <td>2</td>\n",
       "      <td>2</td>\n",
       "      <td>123</td>\n",
       "      <td>125</td>\n",
       "      <td>1986.32</td>\n",
       "    </tr>\n",
       "    <tr>\n",
       "      <th>0</th>\n",
       "      <td>Default ExtraTreesRegressor</td>\n",
       "      <td>False</td>\n",
       "      <td>auto</td>\n",
       "      <td>1</td>\n",
       "      <td>2</td>\n",
       "      <td>100</td>\n",
       "      <td>1</td>\n",
       "      <td>2053.20</td>\n",
       "    </tr>\n",
       "  </tbody>\n",
       "</table>\n",
       "</div>"
      ],
      "text/plain": [
       "                           Approach  bootstrap max_features  min_samples_leaf  \\\n",
       "3   BayesSearch ExtraTreesRegressor      False           18                 1   \n",
       "1    GridSearch ExtraTreesRegressor      False           15                 1   \n",
       "2  RandomSearch ExtraTreesRegressor      False           11                 2   \n",
       "0       Default ExtraTreesRegressor      False         auto                 1   \n",
       "\n",
       "   min_samples_split  n_estimators  Fits     RMSE  \n",
       "3                  2           133   125  1964.85  \n",
       "1                  2           150   360  1986.32  \n",
       "2                  2           123   125  1986.32  \n",
       "0                  2           100     1  2053.20  "
      ]
     },
     "execution_count": 14,
     "metadata": {},
     "output_type": "execute_result"
    }
   ],
   "source": [
    "current = track_results('BayesSearch ExtraTreesRegressor', bayes_search.best_params_, 1964.85, 125, current)"
   ]
  },
  {
   "cell_type": "markdown",
   "metadata": {},
   "source": [
    "#### TPOT\n",
    "\n",
    "For TPOT, you'll use the following search config values:\n",
    "\n",
    "* n_estimators: each of the following integers - 10, 20, 30, 40, 50, 60, 70, 80, 90, 100, 110, 120, 130, 140, 150\n",
    "* min_samples_split: all integers between 2 and 20 (inclusive of 20)\n",
    "* 'min_samples_leaf': all integers between 1 and 20 (inclusive of 20)\n",
    "* 'max_features': all integers between 1 and 30 (inclusive of 30)\n",
    "* 'bootstrap': either zero or 1 ([0,1] in that order)\n",
    "\n",
    "Use 5 generations and a population size of 10 and a cv of 3. Use random state of 123. (Note, this is not nearly enough generations or big enough population to truly find the best hyperparameters. But, we also don't want you to have to sit and watch it chug through for an hour.)  We'll include stacked models here, so do not use `template='Regressor'` in your configuration dictionary.\n",
    "\n",
    "**Hint** the ExtraTreesRegressor is from the sklearn.ensemble package.\n",
    "\n",
    "\n",
    "### **Question 10** <font color=\"magenta\">(2 points)</font>\n",
    "**What is the RMSE of your TPOT search, rounded to 2 digits?**\n",
    "\n",
    "\n",
    "\n",
    "\n",
    "### **Question 11** <font color=\"magenta\">(2 points)</font>\n",
    "**What is the value of n_estimators chosen by your TPOT search?**. More than one value may be possible since models can be nested or stacked.  Check all possible values for n_estimator that occur in your TPOT pipeline.  Report the results of the \"inner\" model in your tracking results data frame.\n",
    "\n",
    "* 60\n",
    "* 70\n",
    "* 80\n",
    "* **90**\n",
    "* 110\n",
    "\n"
   ]
  },
  {
   "cell_type": "code",
   "execution_count": 15,
   "metadata": {},
   "outputs": [
    {
     "data": {
      "application/vnd.jupyter.widget-view+json": {
       "model_id": "",
       "version_major": 2,
       "version_minor": 0
      },
      "text/plain": [
       "HBox(children=(FloatProgress(value=0.0, description='Optimization Progress', max=60.0, style=ProgressStyle(des…"
      ]
     },
     "execution_count": 15,
     "metadata": {},
     "output_type": "execute_result"
    },
    {
     "name": "stdout",
     "output_type": "stream",
     "text": [
      "\n",
      "Generation 1 - Current best internal CV score: 0.9532305765586867\n",
      "\n",
      "Generation 2 - Current best internal CV score: 0.9629588119514606\n",
      "\n",
      "Generation 3 - Current best internal CV score: 0.9629588119514606\n",
      "\n",
      "Generation 4 - Current best internal CV score: 0.9629588119514606\n",
      "\n",
      "Generation 5 - Current best internal CV score: 0.9652311185911997\n",
      "\n",
      "Best pipeline: ExtraTreesRegressor(ExtraTreesRegressor(input_matrix, bootstrap=1, max_features=18, min_samples_leaf=11, min_samples_split=12, n_estimators=90), bootstrap=0, max_features=28, min_samples_leaf=2, min_samples_split=18, n_estimators=110)\n"
     ]
    },
    {
     "data": {
      "text/plain": [
       "TPOTRegressor(config_dict={'sklearn.ensemble.ExtraTreesRegressor': {'bootstrap': [0,\n",
       "                                                                                  1],\n",
       "                                                                    'max_features': range(1, 31),\n",
       "                                                                    'min_samples_leaf': range(1, 21),\n",
       "                                                                    'min_samples_split': range(2, 21),\n",
       "                                                                    'n_estimators': array([ 10,  20,  30,  40,  50,  60,  70,  80,  90, 100, 110, 120, 130,\n",
       "       140, 150])}},\n",
       "              cv=3, generations=5, population_size=10, random_state=123,\n",
       "              scoring='r2', verbosity=2)"
      ]
     },
     "execution_count": 15,
     "metadata": {},
     "output_type": "execute_result"
    }
   ],
   "source": [
    "tpot_config = {\n",
    "    'sklearn.ensemble.ExtraTreesRegressor': {\n",
    "        'n_estimators': np.arange(10, 151, 10),\n",
    "        'max_features': range(1, 31),\n",
    "        'min_samples_split': range(2, 21),\n",
    "        'min_samples_leaf': range(1, 21),\n",
    "        'bootstrap': [0, 1]\n",
    "    }\n",
    "}\n",
    "\n",
    "tpot = TPOTRegressor(scoring = 'r2',\n",
    "                     generations=5,\n",
    "                     population_size=10,\n",
    "                     verbosity=2,\n",
    "                     config_dict=tpot_config,\n",
    "                     cv=3,\n",
    "                     random_state=123)\n",
    "\n",
    "tpot.fit(X_train, y_train)"
   ]
  },
  {
   "cell_type": "markdown",
   "metadata": {},
   "source": [
    "## Question 12 (Manually Graded) <font color=\"magenta\">(2 points)</font>\n",
    "\n",
    "Take a screenshot of your final results dataframe from the `track_results` function and upload it. Briefly comment on the results."
   ]
  },
  {
   "cell_type": "code",
   "execution_count": 16,
   "metadata": {},
   "outputs": [
    {
     "name": "stdout",
     "output_type": "stream",
     "text": [
      "Model r-squared score from test data: 0.9681\n",
      "Mean squared error on test data: 3443303.67\n",
      "Root mean squared error on test data: 1855.61\n"
     ]
    },
    {
     "name": "stderr",
     "output_type": "stream",
     "text": [
      "/Users/bryce/anaconda3/lib/python3.7/site-packages/sklearn/base.py:446: UserWarning: X does not have valid feature names, but ExtraTreesRegressor was fitted with feature names\n",
      "  \"X does not have valid feature names, but\"\n",
      "/Users/bryce/anaconda3/lib/python3.7/site-packages/sklearn/base.py:446: UserWarning: X does not have valid feature names, but ExtraTreesRegressor was fitted with feature names\n",
      "  \"X does not have valid feature names, but\"\n"
     ]
    },
    {
     "data": {
      "text/plain": [
       "1855.61"
      ]
     },
     "execution_count": 16,
     "metadata": {},
     "output_type": "execute_result"
    },
    {
     "data": {
      "image/png": "[encoded data removed]",
      "text/plain": [
       "<Figure size 432x288 with 1 Axes>"
      ]
     },
     "execution_count": 16,
     "metadata": {
      "needs_background": "light"
     },
     "output_type": "execute_result"
    }
   ],
   "source": [
    "my_regression_results(tpot)"
   ]
  },
  {
   "cell_type": "code",
   "execution_count": 17,
   "metadata": {},
   "outputs": [
    {
     "data": {
      "text/html": [
       "<div>\n",
       "<style scoped>\n",
       "    .dataframe tbody tr th:only-of-type {\n",
       "        vertical-align: middle;\n",
       "    }\n",
       "\n",
       "    .dataframe tbody tr th {\n",
       "        vertical-align: top;\n",
       "    }\n",
       "\n",
       "    .dataframe thead th {\n",
       "        text-align: right;\n",
       "    }\n",
       "</style>\n",
       "<table border=\"1\" class=\"dataframe\">\n",
       "  <thead>\n",
       "    <tr style=\"text-align: right;\">\n",
       "      <th></th>\n",
       "      <th>Approach</th>\n",
       "      <th>bootstrap</th>\n",
       "      <th>max_features</th>\n",
       "      <th>min_samples_leaf</th>\n",
       "      <th>min_samples_split</th>\n",
       "      <th>n_estimators</th>\n",
       "      <th>Fits</th>\n",
       "      <th>RMSE</th>\n",
       "    </tr>\n",
       "  </thead>\n",
       "  <tbody>\n",
       "    <tr>\n",
       "      <th>4</th>\n",
       "      <td>TPOT ExtraTreesRegressor</td>\n",
       "      <td>True</td>\n",
       "      <td>18</td>\n",
       "      <td>11</td>\n",
       "      <td>12</td>\n",
       "      <td>90</td>\n",
       "      <td>180</td>\n",
       "      <td>1855.61</td>\n",
       "    </tr>\n",
       "    <tr>\n",
       "      <th>3</th>\n",
       "      <td>BayesSearch ExtraTreesRegressor</td>\n",
       "      <td>False</td>\n",
       "      <td>18</td>\n",
       "      <td>1</td>\n",
       "      <td>2</td>\n",
       "      <td>133</td>\n",
       "      <td>125</td>\n",
       "      <td>1964.85</td>\n",
       "    </tr>\n",
       "    <tr>\n",
       "      <th>1</th>\n",
       "      <td>GridSearch ExtraTreesRegressor</td>\n",
       "      <td>False</td>\n",
       "      <td>15</td>\n",
       "      <td>1</td>\n",
       "      <td>2</td>\n",
       "      <td>150</td>\n",
       "      <td>360</td>\n",
       "      <td>1986.32</td>\n",
       "    </tr>\n",
       "    <tr>\n",
       "      <th>2</th>\n",
       "      <td>RandomSearch ExtraTreesRegressor</td>\n",
       "      <td>False</td>\n",
       "      <td>11</td>\n",
       "      <td>2</td>\n",
       "      <td>2</td>\n",
       "      <td>123</td>\n",
       "      <td>125</td>\n",
       "      <td>1986.32</td>\n",
       "    </tr>\n",
       "    <tr>\n",
       "      <th>0</th>\n",
       "      <td>Default ExtraTreesRegressor</td>\n",
       "      <td>False</td>\n",
       "      <td>auto</td>\n",
       "      <td>1</td>\n",
       "      <td>2</td>\n",
       "      <td>100</td>\n",
       "      <td>1</td>\n",
       "      <td>2053.20</td>\n",
       "    </tr>\n",
       "  </tbody>\n",
       "</table>\n",
       "</div>"
      ],
      "text/plain": [
       "                           Approach  bootstrap max_features  min_samples_leaf  \\\n",
       "4          TPOT ExtraTreesRegressor       True           18                11   \n",
       "3   BayesSearch ExtraTreesRegressor      False           18                 1   \n",
       "1    GridSearch ExtraTreesRegressor      False           15                 1   \n",
       "2  RandomSearch ExtraTreesRegressor      False           11                 2   \n",
       "0       Default ExtraTreesRegressor      False         auto                 1   \n",
       "\n",
       "   min_samples_split  n_estimators  Fits     RMSE  \n",
       "4                 12            90   180  1855.61  \n",
       "3                  2           133   125  1964.85  \n",
       "1                  2           150   360  1986.32  \n",
       "2                  2           123   125  1986.32  \n",
       "0                  2           100     1  2053.20  "
      ]
     },
     "execution_count": 17,
     "metadata": {},
     "output_type": "execute_result"
    }
   ],
   "source": [
    "tpot_best_params = {'bootstrap':True, 'max_features':18, 'min_samples_leaf':11, 'min_samples_split':12, 'n_estimators':90}\n",
    "current = track_results('TPOT ExtraTreesRegressor', tpot_best_params, 1855.61, 180, current)"
   ]
  },
  {
   "cell_type": "markdown",
   "metadata": {},
   "source": [
    "<font color=\"green\">Don't forget to comment on your results. Comments should include some information about which method you'd choose and why. Keep in mind that the best method to use depends on how long it take to fit the model.  For a very expensive model (e.g. a large neural network) we might choose Bayesian Optimization, but for a cheap model we can probably afford to do an exhaustive grid search.</font>\n",
    "\n",
    "In this case, and in light of the final results, I would go with the obvious choice of using the TPOT model. This is based on two lines of reasoning. The first is that considering the overhead for grid search, and the length of time necessary to find meaningful results with random search (and discounting the default as well), the choice really boils down to Bayes search and genetic algorithms. The second consideration is more along the lines of Occam's razor, and between Bayes and genetic optimization, TPOT won out by finding the most simple model. It has less \"trees\" in the random forest, and is therefore the best choice for a parsimonious, easier to understand model."
   ]
  },
  {
   "cell_type": "markdown",
   "metadata": {},
   "source": [
    "# **Part Two** - Loan Classification"
   ]
  },
  {
   "cell_type": "markdown",
   "metadata": {},
   "source": [
    "In part two, we'll explore optimizing hyperparameters for loan classification.\n",
    "\n",
    "### Notes:\n",
    "\n",
    "#### About the data\n",
    "The first cell below loads a subset of the loans default data from DS705 and your job is to predict whether a loan defaults or not.  The `status_bad` column is the target column and a 1 indicates a loan that defaulted.  We have selected a subset of the original data that includes 2000 each of good and bad loans.  The data has already been cleaned and encoded.\n",
    "\n",
    "#### This is classification, not regression\n",
    "The score for each model will be accuracy and not RMSE.  Your summary table should include accuracy, sensitivity, and precision for each optimized model applied to the test data.  (<a href=\"https://classeval.wordpress.com/introduction/basic-evaluation-measures/\">Here is a nice overview of metrics for binary classification data</a>) that includes definitions of accuracy and such.\n",
    "\n",
    "### Load the Data\n",
    "In the following cell, we load the data for you and split it into train and test dataframes. Do not change anything in this cell. (Cell not included in Canvas Quiz.)"
   ]
  },
  {
   "cell_type": "code",
   "execution_count": 18,
   "metadata": {},
   "outputs": [],
   "source": [
    "# Do not change this cell for loading and preparing the data\n",
    "import pandas as pd\n",
    "import numpy as np\n",
    "\n",
    "X = pd.read_csv('./data/loans_subset.csv')\n",
    "\n",
    "# split into predictors and target\n",
    "# convert to numpy arrays for xgboost, OK for other models too\n",
    "y = np.array(X['status_Bad']) # 1 for bad loan, 0 for good loan\n",
    "X = np.array(X.drop(columns = ['status_Bad']))\n",
    "\n",
    "# split into test and training data\n",
    "from sklearn.model_selection import train_test_split\n",
    "X_train, X_test, y_train, y_test = train_test_split(X, y, test_size=0.1, random_state=0)"
   ]
  },
  {
   "cell_type": "markdown",
   "metadata": {},
   "source": [
    "## **Question 13** - Display Results Function (Manually graded)<font color=\"magenta\">(2 points)</font>\n",
    "\n",
    "In the next cell, we've demonstrated using the LogisticRegression model to perform classification and generate a confusion matrix.\n",
    "\n",
    "**Hint:** You can read more about the <a href=\"https://scikit-learn.org/stable/modules/generated/sklearn.metrics.confusion_matrix.html\">confusion_matrix function</a> and a <a href=\"https://scikit-learn.org/stable/modules/generated/sklearn.metrics.classification_report.html\">classification report function</a> in the Scikit-learn documentation. Both are also demonstrated in the extras folder of this lesson."
   ]
  },
  {
   "cell_type": "code",
   "execution_count": 19,
   "metadata": {},
   "outputs": [
    {
     "name": "stdout",
     "output_type": "stream",
     "text": [
      "The accuracy is 0.565\n"
     ]
    },
    {
     "data": {
      "text/html": [
       "<div>\n",
       "<style scoped>\n",
       "    .dataframe tbody tr th:only-of-type {\n",
       "        vertical-align: middle;\n",
       "    }\n",
       "\n",
       "    .dataframe tbody tr th {\n",
       "        vertical-align: top;\n",
       "    }\n",
       "\n",
       "    .dataframe thead th {\n",
       "        text-align: right;\n",
       "    }\n",
       "</style>\n",
       "<table border=\"1\" class=\"dataframe\">\n",
       "  <thead>\n",
       "    <tr style=\"text-align: right;\">\n",
       "      <th></th>\n",
       "      <th>pred:bad</th>\n",
       "      <th>pred:good</th>\n",
       "    </tr>\n",
       "  </thead>\n",
       "  <tbody>\n",
       "    <tr>\n",
       "      <th>true:bad</th>\n",
       "      <td>110</td>\n",
       "      <td>87</td>\n",
       "    </tr>\n",
       "    <tr>\n",
       "      <th>true:good</th>\n",
       "      <td>87</td>\n",
       "      <td>116</td>\n",
       "    </tr>\n",
       "  </tbody>\n",
       "</table>\n",
       "</div>"
      ],
      "text/plain": [
       "           pred:bad  pred:good\n",
       "true:bad        110         87\n",
       "true:good        87        116"
      ]
     },
     "execution_count": 19,
     "metadata": {},
     "output_type": "execute_result"
    }
   ],
   "source": [
    "# we do need to go higher than the default iterations for the solver to get convergence\n",
    "# and the explicity declaration of the solver avoids a warning message, otherwise\n",
    "# the parameters are defaults.\n",
    "logreg_model = LogisticRegression(solver='lbfgs',max_iter=1000)\n",
    "\n",
    "#fit the model\n",
    "logreg_model.fit(X_train, y_train)\n",
    "\n",
    "# Use score method to get accuracy of model\n",
    "score = logreg_model.score(X_test, y_test) # this is accuracy\n",
    "print(f'The accuracy is {score}')\n",
    "\n",
    "# obtaining the confusion matrix and making it look nice\n",
    "y_pred = logreg_model.predict(X_test)\n",
    "\n",
    "# must put true before predictions in confusion matrix function\n",
    "cmtx = pd.DataFrame(\n",
    "    confusion_matrix(y_test, y_pred, labels=[1,0]), \n",
    "    index=['true:bad', 'true:good'], \n",
    "    columns=['pred:bad','pred:good']\n",
    ")\n",
    "display(cmtx)"
   ]
  },
  {
   "cell_type": "markdown",
   "metadata": {},
   "source": [
    "Based on the example above write a function called `my_classifier_results` modeled after `my_regression_results` that applies a model to the test data and prints out the accuracy, sensitivity, precision, and the confusion matrix and returns the accuracy, sensitivity and precision.  There is no need to make a plot.\n",
    "\n",
    "Call your function using the logistic regression model we just demonstrated. (Note that your confusion matrix and accuracy should match what is shown above.) Upload the code and a screenshot of the output.\n",
    "\n",
    "\n"
   ]
  },
  {
   "cell_type": "code",
   "execution_count": 20,
   "metadata": {},
   "outputs": [
    {
     "name": "stdout",
     "output_type": "stream",
     "text": [
      "Accuracy: 0.565\n",
      "Sensitivity: 0.571\n",
      "Precision: 0.571\n"
     ]
    },
    {
     "data": {
      "text/html": [
       "<div>\n",
       "<style scoped>\n",
       "    .dataframe tbody tr th:only-of-type {\n",
       "        vertical-align: middle;\n",
       "    }\n",
       "\n",
       "    .dataframe tbody tr th {\n",
       "        vertical-align: top;\n",
       "    }\n",
       "\n",
       "    .dataframe thead th {\n",
       "        text-align: right;\n",
       "    }\n",
       "</style>\n",
       "<table border=\"1\" class=\"dataframe\">\n",
       "  <thead>\n",
       "    <tr style=\"text-align: right;\">\n",
       "      <th></th>\n",
       "      <th>pred:bad</th>\n",
       "      <th>pred:good</th>\n",
       "    </tr>\n",
       "  </thead>\n",
       "  <tbody>\n",
       "    <tr>\n",
       "      <th>true:bad</th>\n",
       "      <td>110</td>\n",
       "      <td>87</td>\n",
       "    </tr>\n",
       "    <tr>\n",
       "      <th>true:good</th>\n",
       "      <td>87</td>\n",
       "      <td>116</td>\n",
       "    </tr>\n",
       "  </tbody>\n",
       "</table>\n",
       "</div>"
      ],
      "text/plain": [
       "           pred:bad  pred:good\n",
       "true:bad        110         87\n",
       "true:good        87        116"
      ]
     },
     "execution_count": 20,
     "metadata": {},
     "output_type": "execute_result"
    }
   ],
   "source": [
    "# Solution for 13\n",
    "def my_classifier_results(model):\n",
    "    y_pred = model.predict(X_test)\n",
    "\n",
    "    report = classification_report(y_test, y_pred, output_dict=True)\n",
    "    acc = report['accuracy']\n",
    "    sens = report['0']['recall']\n",
    "    prec = report['0']['precision']\n",
    "    print(f'Accuracy: {acc}\\nSensitivity: {sens:0.3f}\\nPrecision: {prec:0.3f}')\n",
    "    \n",
    "    cmtx = pd.DataFrame(\n",
    "        confusion_matrix(y_test, y_pred, labels=[1,0]), \n",
    "        index=['true:bad', 'true:good'], \n",
    "        columns=['pred:bad','pred:good']\n",
    "        )\n",
    "    display(cmtx)\n",
    "    return(acc, sens, prec)\n",
    "\n",
    "acc, sens, prec = my_classifier_results(logreg_model)"
   ]
  },
  {
   "cell_type": "markdown",
   "metadata": {},
   "source": [
    "### XGBoost Classifier\n",
    "The algorithm that we will use to tune hyperparameters is the XGBClassifier algorithm from XGBoost. We've included the hyperparameters we'll tune and their defaults below:\n",
    "\n",
    "Hyperparameter | Type | Default Value | Typical Range\n",
    "---- | ---- | ---- | ----\n",
    "n_estimators | discrete / integer | 100 | 50 to 150\n",
    "max_depth | discrete / integer | 3| 1 to 10\n",
    "min_child_weight | discrete / integer | 1 | 1 to 20\n",
    "learning_rate | continuous / float | 0.1 | 0.001 to 1\n",
    "subsample | continuous / float | 1 | 0.05 to 1\n",
    "reg_lambda | continuous / float | 1 | 0 to 5\n",
    "reg_alpha  | continuous / float | 0 | 0 to 5\n",
    "\n",
    "### **Question 14** - <font color=\"magenta\">(2 points)</font>\n",
    "Generate the Default XBGClassifer Model. Note, you'll need to pass in objective = 'binary:logistic' when you instantiate the XGBClassifier.\n",
    "\n",
    "What is the accuracy of the default model, rounded to 3 digits?\n",
    "\n",
    "\n",
    "\n"
   ]
  },
  {
   "cell_type": "code",
   "execution_count": 21,
   "metadata": {},
   "outputs": [
    {
     "name": "stdout",
     "output_type": "stream",
     "text": [
      "Accuracy: 0.635\n",
      "Sensitivity: 0.655\n",
      "Precision: 0.636\n"
     ]
    },
    {
     "data": {
      "text/html": [
       "<div>\n",
       "<style scoped>\n",
       "    .dataframe tbody tr th:only-of-type {\n",
       "        vertical-align: middle;\n",
       "    }\n",
       "\n",
       "    .dataframe tbody tr th {\n",
       "        vertical-align: top;\n",
       "    }\n",
       "\n",
       "    .dataframe thead th {\n",
       "        text-align: right;\n",
       "    }\n",
       "</style>\n",
       "<table border=\"1\" class=\"dataframe\">\n",
       "  <thead>\n",
       "    <tr style=\"text-align: right;\">\n",
       "      <th></th>\n",
       "      <th>pred:bad</th>\n",
       "      <th>pred:good</th>\n",
       "    </tr>\n",
       "  </thead>\n",
       "  <tbody>\n",
       "    <tr>\n",
       "      <th>true:bad</th>\n",
       "      <td>121</td>\n",
       "      <td>76</td>\n",
       "    </tr>\n",
       "    <tr>\n",
       "      <th>true:good</th>\n",
       "      <td>70</td>\n",
       "      <td>133</td>\n",
       "    </tr>\n",
       "  </tbody>\n",
       "</table>\n",
       "</div>"
      ],
      "text/plain": [
       "           pred:bad  pred:good\n",
       "true:bad        121         76\n",
       "true:good        70        133"
      ]
     },
     "execution_count": 21,
     "metadata": {},
     "output_type": "execute_result"
    }
   ],
   "source": [
    "xgb_class = xgb.XGBClassifier(objective='binary:logistic', eval_metric='error', use_label_encoder=False)\n",
    "xgb_class.fit(X_train, y_train)\n",
    "acc, sens, prec = my_classifier_results(xgb_class)"
   ]
  },
  {
   "cell_type": "markdown",
   "metadata": {},
   "source": [
    "## Tracking Results Function\n",
    "\n",
    "Create a `track_results_classifier` function based on the `track_results` function. You'll be tracking each of the XGBClassifier hyperparameters as well as the name of the optimization approach, accuracy, precision, recall, and number of fits.\n",
    "\n",
    "Add the results from your default XGBClassifier model to the tracker.\n",
    "\n",
    "(Note: this is not graded here, but the output will be graded as part of the summary.)"
   ]
  },
  {
   "cell_type": "code",
   "execution_count": 22,
   "metadata": {},
   "outputs": [
    {
     "data": {
      "text/html": [
       "<div>\n",
       "<style scoped>\n",
       "    .dataframe tbody tr th:only-of-type {\n",
       "        vertical-align: middle;\n",
       "    }\n",
       "\n",
       "    .dataframe tbody tr th {\n",
       "        vertical-align: top;\n",
       "    }\n",
       "\n",
       "    .dataframe thead th {\n",
       "        text-align: right;\n",
       "    }\n",
       "</style>\n",
       "<table border=\"1\" class=\"dataframe\">\n",
       "  <thead>\n",
       "    <tr style=\"text-align: right;\">\n",
       "      <th></th>\n",
       "      <th>Approach</th>\n",
       "      <th>learning_rate</th>\n",
       "      <th>max_depth</th>\n",
       "      <th>min_child_weight</th>\n",
       "      <th>n_estimators</th>\n",
       "      <th>reg_alpha</th>\n",
       "      <th>reg_lambda</th>\n",
       "      <th>subsample</th>\n",
       "      <th>Fits</th>\n",
       "      <th>Accuracy</th>\n",
       "      <th>Precision</th>\n",
       "      <th>Sensitivity</th>\n",
       "    </tr>\n",
       "  </thead>\n",
       "  <tbody>\n",
       "    <tr>\n",
       "      <th>0</th>\n",
       "      <td>Default XGBClassifier</td>\n",
       "      <td>0.3</td>\n",
       "      <td>6</td>\n",
       "      <td>1</td>\n",
       "      <td>100</td>\n",
       "      <td>0</td>\n",
       "      <td>1</td>\n",
       "      <td>1</td>\n",
       "      <td>1</td>\n",
       "      <td>0.635</td>\n",
       "      <td>0.636</td>\n",
       "      <td>0.655</td>\n",
       "    </tr>\n",
       "  </tbody>\n",
       "</table>\n",
       "</div>"
      ],
      "text/plain": [
       "                Approach  learning_rate  max_depth  min_child_weight  \\\n",
       "0  Default XGBClassifier            0.3          6                 1   \n",
       "\n",
       "   n_estimators  reg_alpha  reg_lambda  subsample  Fits  Accuracy  Precision  \\\n",
       "0           100          0           1          1     1     0.635      0.636   \n",
       "\n",
       "   Sensitivity  \n",
       "0        0.655  "
      ]
     },
     "execution_count": 22,
     "metadata": {},
     "output_type": "execute_result"
    }
   ],
   "source": [
    "#a function to track the results of our different hyperparameter optimization approaches\n",
    "def track_results_classifier(approachName, params, accuracy, recall, precision, fits, current, show=True):\n",
    "    current['Approach'].append(approachName)\n",
    "    current['Accuracy'].append(accuracy)\n",
    "    current['Sensitivity'].append(round(recall, 3))\n",
    "    current['Precision'].append(round(precision, 3))\n",
    "    current['Fits'].append(fits)\n",
    "    for k in params.keys():\n",
    "        current[k].append(params[k])\n",
    "    if show:\n",
    "        df = pd.DataFrame(current)\n",
    "        df = df.sort_values('Accuracy', ascending=False)\n",
    "        display(df)\n",
    "    return(current)\n",
    "\n",
    "setup = {'Approach': [],\n",
    "         'learning_rate': [],\n",
    "         'max_depth': [],\n",
    "         'min_child_weight': [],\n",
    "         'n_estimators': [],\n",
    "         'reg_alpha': [],\n",
    "         'reg_lambda': [],\n",
    "         'subsample': [],\n",
    "         'Fits': [],\n",
    "         'Accuracy': [],\n",
    "         'Precision': [],\n",
    "         'Sensitivity': []\n",
    "        } \n",
    "\n",
    "defaults = {\n",
    "    'learning_rate': 0.300000012,\n",
    "         'max_depth': 6,\n",
    "         'min_child_weight': 1,\n",
    "         'n_estimators': 100,\n",
    "         'reg_alpha': 0,\n",
    "         'reg_lambda': 1,\n",
    "         'subsample': 1,\n",
    "}\n",
    "\n",
    "current = track_results_classifier('Default XGBClassifier', defaults, acc, sens, prec, 1, setup, True)"
   ]
  },
  {
   "cell_type": "markdown",
   "metadata": {},
   "source": [
    "## Grid Search for XGBClassifier\n",
    "Perform a grid search using the following parameters:\n",
    "\n",
    "* learning_rate: [0.01, 0.1],\n",
    "* max_depth: [3, 6],\n",
    "* n_estimators: [10, 100],\n",
    "* subsample: [0.5, 1],\n",
    "* min_child_weight: [1, 20],\n",
    "* reg_lambda: [1, 3],\n",
    "* reg_alpha: [0, 1]\n",
    "\n",
    "Use the following setting in your GridSearch:\n",
    "\n",
    "* cv = 3\n",
    "\n",
    "Set the np.random.seed to 123 (done for you in the cell below).\n",
    "\n",
    "*Note: This is a smaller than optimal grid, but we don't want you to have to wait forever to process. On CoCalc, this took about 10 minutes to run.\n",
    "\n",
    "## **Question 15** <font color=\"magenta\">(2 points)</font>\n",
    "\n",
    "What is the **accuracy** for your Grid Search, rounded to 3 digits?\n",
    "\n",
    "\n",
    "\n",
    "## **Question 16** <font color=\"magenta\">(2 points)</font>\n",
    "\n",
    "How many **fits** did your Grid Search do?\n",
    "\n",
    "* 384\n",
    "* 398\n",
    "* 279\n",
    "* 400\n",
    "* 375\n"
   ]
  },
  {
   "cell_type": "code",
   "execution_count": 23,
   "metadata": {},
   "outputs": [
    {
     "name": "stdout",
     "output_type": "stream",
     "text": [
      "Fitting 3 folds for each of 128 candidates, totalling 384 fits\n"
     ]
    },
    {
     "data": {
      "text/plain": [
       "GridSearchCV(cv=3,\n",
       "             estimator=XGBClassifier(base_score=0.5, booster='gbtree',\n",
       "                                     colsample_bylevel=1, colsample_bynode=1,\n",
       "                                     colsample_bytree=1,\n",
       "                                     enable_categorical=False,\n",
       "                                     eval_metric='error', gamma=0, gpu_id=-1,\n",
       "                                     importance_type=None,\n",
       "                                     interaction_constraints='',\n",
       "                                     learning_rate=0.300000012,\n",
       "                                     max_delta_step=0, max_depth=6,\n",
       "                                     min_child_weight=1, missing=nan,\n",
       "                                     monotone_constraints=...\n",
       "                                     random_state=0, reg_alpha=0, reg_lambda=1,\n",
       "                                     scale_pos_weight=1, subsample=1,\n",
       "                                     tree_method='exact',\n",
       "                                     use_label_encoder=False,\n",
       "                                     validate_parameters=1, verbosity=None),\n",
       "             n_jobs=1,\n",
       "             param_grid={'learning_rate': [0.01, 0.1], 'max_depth': [3, 6],\n",
       "                         'min_child_weight': [1, 20], 'n_estimators': [10, 100],\n",
       "                         'reg_alpha': [0, 1], 'reg_lambda': [1, 3],\n",
       "                         'subsample': [0.5, 1]},\n",
       "             return_train_score=True, verbose=1)"
      ]
     },
     "execution_count": 23,
     "metadata": {},
     "output_type": "execute_result"
    }
   ],
   "source": [
    "#Keep this random seed\n",
    "np.random.seed(123)\n",
    "\n",
    "params = {\n",
    "    \"learning_rate\": [0.01, 0.1],\n",
    "    \"max_depth\": [3, 6],\n",
    "    \"n_estimators\": [10,100],\n",
    "    \"subsample\": [0.5, 1],\n",
    "    \"min_child_weight\": [1, 20],\n",
    "    \"reg_lambda\": [1, 3],\n",
    "    \"reg_alpha\": [0, 1]\n",
    "}\n",
    "\n",
    "# setup the grid search\n",
    "grid_search = GridSearchCV(xgb_class,\n",
    "                           param_grid=params,\n",
    "                           cv=3,\n",
    "                           verbose=1,\n",
    "                           n_jobs=1,\n",
    "                           return_train_score=True)\n",
    "\n",
    "grid_search.fit(X_train, y_train)"
   ]
  },
  {
   "cell_type": "code",
   "execution_count": 24,
   "metadata": {},
   "outputs": [
    {
     "name": "stdout",
     "output_type": "stream",
     "text": [
      "Accuracy: 0.675\n",
      "Sensitivity: 0.655\n",
      "Precision: 0.689\n"
     ]
    },
    {
     "data": {
      "text/html": [
       "<div>\n",
       "<style scoped>\n",
       "    .dataframe tbody tr th:only-of-type {\n",
       "        vertical-align: middle;\n",
       "    }\n",
       "\n",
       "    .dataframe tbody tr th {\n",
       "        vertical-align: top;\n",
       "    }\n",
       "\n",
       "    .dataframe thead th {\n",
       "        text-align: right;\n",
       "    }\n",
       "</style>\n",
       "<table border=\"1\" class=\"dataframe\">\n",
       "  <thead>\n",
       "    <tr style=\"text-align: right;\">\n",
       "      <th></th>\n",
       "      <th>pred:bad</th>\n",
       "      <th>pred:good</th>\n",
       "    </tr>\n",
       "  </thead>\n",
       "  <tbody>\n",
       "    <tr>\n",
       "      <th>true:bad</th>\n",
       "      <td>137</td>\n",
       "      <td>60</td>\n",
       "    </tr>\n",
       "    <tr>\n",
       "      <th>true:good</th>\n",
       "      <td>70</td>\n",
       "      <td>133</td>\n",
       "    </tr>\n",
       "  </tbody>\n",
       "</table>\n",
       "</div>"
      ],
      "text/plain": [
       "           pred:bad  pred:good\n",
       "true:bad        137         60\n",
       "true:good        70        133"
      ]
     },
     "execution_count": 24,
     "metadata": {},
     "output_type": "execute_result"
    },
    {
     "data": {
      "text/html": [
       "<div>\n",
       "<style scoped>\n",
       "    .dataframe tbody tr th:only-of-type {\n",
       "        vertical-align: middle;\n",
       "    }\n",
       "\n",
       "    .dataframe tbody tr th {\n",
       "        vertical-align: top;\n",
       "    }\n",
       "\n",
       "    .dataframe thead th {\n",
       "        text-align: right;\n",
       "    }\n",
       "</style>\n",
       "<table border=\"1\" class=\"dataframe\">\n",
       "  <thead>\n",
       "    <tr style=\"text-align: right;\">\n",
       "      <th></th>\n",
       "      <th>Approach</th>\n",
       "      <th>learning_rate</th>\n",
       "      <th>max_depth</th>\n",
       "      <th>min_child_weight</th>\n",
       "      <th>n_estimators</th>\n",
       "      <th>reg_alpha</th>\n",
       "      <th>reg_lambda</th>\n",
       "      <th>subsample</th>\n",
       "      <th>Fits</th>\n",
       "      <th>Accuracy</th>\n",
       "      <th>Precision</th>\n",
       "      <th>Sensitivity</th>\n",
       "    </tr>\n",
       "  </thead>\n",
       "  <tbody>\n",
       "    <tr>\n",
       "      <th>1</th>\n",
       "      <td>GridSearch XGBClassifier</td>\n",
       "      <td>0.1</td>\n",
       "      <td>6</td>\n",
       "      <td>20</td>\n",
       "      <td>10</td>\n",
       "      <td>1</td>\n",
       "      <td>1</td>\n",
       "      <td>0.5</td>\n",
       "      <td>384</td>\n",
       "      <td>0.675</td>\n",
       "      <td>0.689</td>\n",
       "      <td>0.655</td>\n",
       "    </tr>\n",
       "    <tr>\n",
       "      <th>0</th>\n",
       "      <td>Default XGBClassifier</td>\n",
       "      <td>0.3</td>\n",
       "      <td>6</td>\n",
       "      <td>1</td>\n",
       "      <td>100</td>\n",
       "      <td>0</td>\n",
       "      <td>1</td>\n",
       "      <td>1.0</td>\n",
       "      <td>1</td>\n",
       "      <td>0.635</td>\n",
       "      <td>0.636</td>\n",
       "      <td>0.655</td>\n",
       "    </tr>\n",
       "  </tbody>\n",
       "</table>\n",
       "</div>"
      ],
      "text/plain": [
       "                   Approach  learning_rate  max_depth  min_child_weight  \\\n",
       "1  GridSearch XGBClassifier            0.1          6                20   \n",
       "0     Default XGBClassifier            0.3          6                 1   \n",
       "\n",
       "   n_estimators  reg_alpha  reg_lambda  subsample  Fits  Accuracy  Precision  \\\n",
       "1            10          1           1        0.5   384     0.675      0.689   \n",
       "0           100          0           1        1.0     1     0.635      0.636   \n",
       "\n",
       "   Sensitivity  \n",
       "1        0.655  \n",
       "0        0.655  "
      ]
     },
     "execution_count": 24,
     "metadata": {},
     "output_type": "execute_result"
    }
   ],
   "source": [
    "acc, sens, prec = my_classifier_results(grid_search)\n",
    "current = track_results_classifier('GridSearch XGBClassifier', grid_search.best_params_, acc, sens, prec, 384, current, True)"
   ]
  },
  {
   "cell_type": "markdown",
   "metadata": {},
   "source": [
    "### Random Search\n",
    "Use the following parameters to generate a random search:\n",
    "\n",
    "* learning_rate: any value from the list [0.001, 0.01, 0.1, 0.5, 1.]\n",
    "* max_depth: any random integer between 1 and 10\n",
    "* n_estimators: any random integer between 50 and 150\n",
    "* subsample: uniform(0.05, 0.95)\n",
    "* min_child_weight: any random integer between 1 and 20\n",
    "* reg_alpha: uniform(0, 5)\n",
    "* reg_lambda: uniform(0, 5)\n",
    "\n",
    "Use the following settings in your random search:\n",
    "\n",
    "* random_state = 123\n",
    "* n_iter = 25\n",
    "* cv = 3\n",
    "\n",
    "## **Question 17** <font color=\"magenta\">(2 points)</font>\n",
    "\n",
    "What is the **accuracy** for your Random Search, rounded to 3 digits?\n",
    "\n",
    "\n",
    "\n",
    "## **Question 18** <font color=\"magenta\">(2 points)</font>\n",
    "\n",
    "What is the **learning_rate** chosen by your Random Search?\n",
    "\n",
    "* .001\n",
    "* .01\n",
    "* .1\n",
    "* .5\n",
    "* .1\n"
   ]
  },
  {
   "cell_type": "code",
   "execution_count": 25,
   "metadata": {},
   "outputs": [
    {
     "name": "stdout",
     "output_type": "stream",
     "text": [
      "Fitting 3 folds for each of 25 candidates, totalling 75 fits\n"
     ]
    },
    {
     "data": {
      "text/plain": [
       "RandomizedSearchCV(cv=3,\n",
       "                   estimator=XGBClassifier(base_score=0.5, booster='gbtree',\n",
       "                                           colsample_bylevel=1,\n",
       "                                           colsample_bynode=1,\n",
       "                                           colsample_bytree=1,\n",
       "                                           enable_categorical=False,\n",
       "                                           eval_metric='error', gamma=0,\n",
       "                                           gpu_id=-1, importance_type=None,\n",
       "                                           interaction_constraints='',\n",
       "                                           learning_rate=0.300000012,\n",
       "                                           max_delta_step=0, max_depth=6,\n",
       "                                           min_child_weight=1, missing=nan,\n",
       "                                           monotone_constr...\n",
       "                                        'n_estimators': <scipy.stats._distn_infrastructure.rv_frozen object at 0x7f96f93c1690>,\n",
       "                                        'reg_alpha': <scipy.stats._distn_infrastructure.rv_frozen object at 0x7f96f93c12d0>,\n",
       "                                        'reg_lambda': <scipy.stats._distn_infrastructure.rv_frozen object at 0x7f96f93e5510>,\n",
       "                                        'subsample': <scipy.stats._distn_infrastructure.rv_frozen object at 0x7f96d94eabd0>},\n",
       "                   random_state=123, return_train_score=True, verbose=1)"
      ]
     },
     "execution_count": 25,
     "metadata": {},
     "output_type": "execute_result"
    }
   ],
   "source": [
    "params = {\n",
    "    \"learning_rate\": [0.001, 0.01, 0.1, 0.5, 1],\n",
    "    \"max_depth\": randint(1,10),\n",
    "    \"n_estimators\": randint(50,150),\n",
    "    \"subsample\": uniform(0.05, 0.95),\n",
    "    \"min_child_weight\": randint(1, 20),\n",
    "    \"reg_lambda\": uniform(0, 5),\n",
    "    \"reg_alpha\": uniform(0, 5)\n",
    "}\n",
    "\n",
    "random_search = RandomizedSearchCV(\n",
    "    xgb_class,\n",
    "    param_distributions=params,\n",
    "    random_state=123,\n",
    "    n_iter=25,\n",
    "    cv=3,\n",
    "    verbose=1,\n",
    "    n_jobs=1,\n",
    "    return_train_score=True)\n",
    "\n",
    "random_search.fit(X_train, y_train)"
   ]
  },
  {
   "cell_type": "code",
   "execution_count": 26,
   "metadata": {},
   "outputs": [
    {
     "name": "stdout",
     "output_type": "stream",
     "text": [
      "Accuracy: 0.65\n",
      "Sensitivity: 0.650\n",
      "Precision: 0.657\n"
     ]
    },
    {
     "data": {
      "text/html": [
       "<div>\n",
       "<style scoped>\n",
       "    .dataframe tbody tr th:only-of-type {\n",
       "        vertical-align: middle;\n",
       "    }\n",
       "\n",
       "    .dataframe tbody tr th {\n",
       "        vertical-align: top;\n",
       "    }\n",
       "\n",
       "    .dataframe thead th {\n",
       "        text-align: right;\n",
       "    }\n",
       "</style>\n",
       "<table border=\"1\" class=\"dataframe\">\n",
       "  <thead>\n",
       "    <tr style=\"text-align: right;\">\n",
       "      <th></th>\n",
       "      <th>pred:bad</th>\n",
       "      <th>pred:good</th>\n",
       "    </tr>\n",
       "  </thead>\n",
       "  <tbody>\n",
       "    <tr>\n",
       "      <th>true:bad</th>\n",
       "      <td>128</td>\n",
       "      <td>69</td>\n",
       "    </tr>\n",
       "    <tr>\n",
       "      <th>true:good</th>\n",
       "      <td>71</td>\n",
       "      <td>132</td>\n",
       "    </tr>\n",
       "  </tbody>\n",
       "</table>\n",
       "</div>"
      ],
      "text/plain": [
       "           pred:bad  pred:good\n",
       "true:bad        128         69\n",
       "true:good        71        132"
      ]
     },
     "execution_count": 26,
     "metadata": {},
     "output_type": "execute_result"
    },
    {
     "data": {
      "text/html": [
       "<div>\n",
       "<style scoped>\n",
       "    .dataframe tbody tr th:only-of-type {\n",
       "        vertical-align: middle;\n",
       "    }\n",
       "\n",
       "    .dataframe tbody tr th {\n",
       "        vertical-align: top;\n",
       "    }\n",
       "\n",
       "    .dataframe thead th {\n",
       "        text-align: right;\n",
       "    }\n",
       "</style>\n",
       "<table border=\"1\" class=\"dataframe\">\n",
       "  <thead>\n",
       "    <tr style=\"text-align: right;\">\n",
       "      <th></th>\n",
       "      <th>Approach</th>\n",
       "      <th>learning_rate</th>\n",
       "      <th>max_depth</th>\n",
       "      <th>min_child_weight</th>\n",
       "      <th>n_estimators</th>\n",
       "      <th>reg_alpha</th>\n",
       "      <th>reg_lambda</th>\n",
       "      <th>subsample</th>\n",
       "      <th>Fits</th>\n",
       "      <th>Accuracy</th>\n",
       "      <th>Precision</th>\n",
       "      <th>Sensitivity</th>\n",
       "    </tr>\n",
       "  </thead>\n",
       "  <tbody>\n",
       "    <tr>\n",
       "      <th>1</th>\n",
       "      <td>GridSearch XGBClassifier</td>\n",
       "      <td>0.1</td>\n",
       "      <td>6</td>\n",
       "      <td>20</td>\n",
       "      <td>10</td>\n",
       "      <td>1.000000</td>\n",
       "      <td>1.000000</td>\n",
       "      <td>0.500000</td>\n",
       "      <td>384</td>\n",
       "      <td>0.675</td>\n",
       "      <td>0.689</td>\n",
       "      <td>0.655</td>\n",
       "    </tr>\n",
       "    <tr>\n",
       "      <th>2</th>\n",
       "      <td>RandomSearch XGBClassifier</td>\n",
       "      <td>0.5</td>\n",
       "      <td>1</td>\n",
       "      <td>7</td>\n",
       "      <td>64</td>\n",
       "      <td>2.486544</td>\n",
       "      <td>3.416315</td>\n",
       "      <td>0.920864</td>\n",
       "      <td>75</td>\n",
       "      <td>0.650</td>\n",
       "      <td>0.657</td>\n",
       "      <td>0.650</td>\n",
       "    </tr>\n",
       "    <tr>\n",
       "      <th>0</th>\n",
       "      <td>Default XGBClassifier</td>\n",
       "      <td>0.3</td>\n",
       "      <td>6</td>\n",
       "      <td>1</td>\n",
       "      <td>100</td>\n",
       "      <td>0.000000</td>\n",
       "      <td>1.000000</td>\n",
       "      <td>1.000000</td>\n",
       "      <td>1</td>\n",
       "      <td>0.635</td>\n",
       "      <td>0.636</td>\n",
       "      <td>0.655</td>\n",
       "    </tr>\n",
       "  </tbody>\n",
       "</table>\n",
       "</div>"
      ],
      "text/plain": [
       "                     Approach  learning_rate  max_depth  min_child_weight  \\\n",
       "1    GridSearch XGBClassifier            0.1          6                20   \n",
       "2  RandomSearch XGBClassifier            0.5          1                 7   \n",
       "0       Default XGBClassifier            0.3          6                 1   \n",
       "\n",
       "   n_estimators  reg_alpha  reg_lambda  subsample  Fits  Accuracy  Precision  \\\n",
       "1            10   1.000000    1.000000   0.500000   384     0.675      0.689   \n",
       "2            64   2.486544    3.416315   0.920864    75     0.650      0.657   \n",
       "0           100   0.000000    1.000000   1.000000     1     0.635      0.636   \n",
       "\n",
       "   Sensitivity  \n",
       "1        0.655  \n",
       "2        0.650  \n",
       "0        0.655  "
      ]
     },
     "execution_count": 26,
     "metadata": {},
     "output_type": "execute_result"
    }
   ],
   "source": [
    "acc, sens, prec = my_classifier_results(random_search)\n",
    "current = track_results_classifier('RandomSearch XGBClassifier', random_search.best_params_, acc, sens, prec, 75, current, True)"
   ]
  },
  {
   "cell_type": "markdown",
   "metadata": {},
   "source": [
    "### Bayesian Optimization\n",
    "\n",
    "For your Bayesian Optimization, use the following parameters:\n",
    "* learning_rate: Any of the following values - [0.001, 0.01, 0.1, 0.5, 1.]) (Hint: you'll need to use categorical for this one)\n",
    "* max_depth: Any integer between 1 and 10\n",
    "* n_estimators: Any integer between 10 and 150\n",
    "* subsample: Any float between 0.05 and .95\n",
    "* min_child_weight: Any integer between 1 and 20\n",
    "* reg_alpha: Any integer between 0 and 5\n",
    "* reg_lambda: Any integer between 0 and 5\n",
    "\n",
    "For your call to BayesSearchCV use the following:\n",
    "* random_state = 123\n",
    "* n_inter = 15\n",
    "* cv = 3\n",
    "\n",
    "## **Question 19** <font color=\"magenta\">(2 points)</font>\n",
    "\n",
    "What is the **accuracy** for your Bayes Search, rounded to 3 decimal places?\n",
    "\n",
    "\n",
    "\n",
    "## **Question 20** <font color=\"magenta\">(2 points)</font>\n",
    "\n",
    "What is the **precision** for your Bayes Search, rounded to 3 decimal places?\n"
   ]
  },
  {
   "cell_type": "code",
   "execution_count": 27,
   "metadata": {},
   "outputs": [
    {
     "name": "stdout",
     "output_type": "stream",
     "text": [
      "Fitting 3 folds for each of 1 candidates, totalling 3 fits\n",
      "Fitting 3 folds for each of 1 candidates, totalling 3 fits\n",
      "Fitting 3 folds for each of 1 candidates, totalling 3 fits\n",
      "Fitting 3 folds for each of 1 candidates, totalling 3 fits\n",
      "Fitting 3 folds for each of 1 candidates, totalling 3 fits\n",
      "Fitting 3 folds for each of 1 candidates, totalling 3 fits\n",
      "Fitting 3 folds for each of 1 candidates, totalling 3 fits\n",
      "Fitting 3 folds for each of 1 candidates, totalling 3 fits\n",
      "Fitting 3 folds for each of 1 candidates, totalling 3 fits\n",
      "Fitting 3 folds for each of 1 candidates, totalling 3 fits\n",
      "Fitting 3 folds for each of 1 candidates, totalling 3 fits\n",
      "Fitting 3 folds for each of 1 candidates, totalling 3 fits\n",
      "Fitting 3 folds for each of 1 candidates, totalling 3 fits\n",
      "Fitting 3 folds for each of 1 candidates, totalling 3 fits\n",
      "Fitting 3 folds for each of 1 candidates, totalling 3 fits\n"
     ]
    },
    {
     "data": {
      "text/plain": [
       "BayesSearchCV(cv=3,\n",
       "              estimator=XGBClassifier(base_score=0.5, booster='gbtree',\n",
       "                                      colsample_bylevel=1, colsample_bynode=1,\n",
       "                                      colsample_bytree=1,\n",
       "                                      enable_categorical=False,\n",
       "                                      eval_metric='error', gamma=0, gpu_id=-1,\n",
       "                                      importance_type=None,\n",
       "                                      interaction_constraints='',\n",
       "                                      learning_rate=0.300000012,\n",
       "                                      max_delta_step=0, max_depth=6,\n",
       "                                      min_child_weight=1, missing=nan,\n",
       "                                      monotone_constraints...\n",
       "                                      validate_parameters=1, verbosity=None),\n",
       "              n_iter=15, random_state=123, return_train_score=True,\n",
       "              search_spaces={'learning_rate': Categorical(categories=(0.001, 0.01, 0.1, 0.5, 1), prior=None),\n",
       "                             'max_depth': (1, 10), 'min_child_weight': (1, 20),\n",
       "                             'n_estimators': (10, 150), 'reg_alpha': (0, 5),\n",
       "                             'reg_lambda': (0, 5),\n",
       "                             'subsample': Real(low=0.05, high=0.95, prior='uniform', transform='normalize')},\n",
       "              verbose=1)"
      ]
     },
     "execution_count": 27,
     "metadata": {},
     "output_type": "execute_result"
    }
   ],
   "source": [
    "params = {\n",
    "    \"learning_rate\": Categorical([0.001, 0.01, 0.1, 0.5, 1]),\n",
    "    \"max_depth\": (1,10),\n",
    "    \"n_estimators\": (10,150),\n",
    "    \"subsample\": Real(0.05, 0.95),\n",
    "    \"min_child_weight\": (1, 20),\n",
    "    \"reg_lambda\": (0, 5),\n",
    "    \"reg_alpha\": (0, 5)\n",
    "}\n",
    "\n",
    "bayes_search = BayesSearchCV(\n",
    "    xgb_class,   \n",
    "    search_spaces=params,\n",
    "    random_state=123,\n",
    "    n_iter=15,\n",
    "    cv=3,\n",
    "    verbose=1,\n",
    "    n_jobs=1,\n",
    "    return_train_score=True)\n",
    "\n",
    "bayes_search.fit(X_train, y_train)"
   ]
  },
  {
   "cell_type": "code",
   "execution_count": 28,
   "metadata": {},
   "outputs": [
    {
     "name": "stdout",
     "output_type": "stream",
     "text": [
      "Accuracy: 0.655\n",
      "Sensitivity: 0.626\n",
      "Precision: 0.672\n"
     ]
    },
    {
     "data": {
      "text/html": [
       "<div>\n",
       "<style scoped>\n",
       "    .dataframe tbody tr th:only-of-type {\n",
       "        vertical-align: middle;\n",
       "    }\n",
       "\n",
       "    .dataframe tbody tr th {\n",
       "        vertical-align: top;\n",
       "    }\n",
       "\n",
       "    .dataframe thead th {\n",
       "        text-align: right;\n",
       "    }\n",
       "</style>\n",
       "<table border=\"1\" class=\"dataframe\">\n",
       "  <thead>\n",
       "    <tr style=\"text-align: right;\">\n",
       "      <th></th>\n",
       "      <th>pred:bad</th>\n",
       "      <th>pred:good</th>\n",
       "    </tr>\n",
       "  </thead>\n",
       "  <tbody>\n",
       "    <tr>\n",
       "      <th>true:bad</th>\n",
       "      <td>135</td>\n",
       "      <td>62</td>\n",
       "    </tr>\n",
       "    <tr>\n",
       "      <th>true:good</th>\n",
       "      <td>76</td>\n",
       "      <td>127</td>\n",
       "    </tr>\n",
       "  </tbody>\n",
       "</table>\n",
       "</div>"
      ],
      "text/plain": [
       "           pred:bad  pred:good\n",
       "true:bad        135         62\n",
       "true:good        76        127"
      ]
     },
     "execution_count": 28,
     "metadata": {},
     "output_type": "execute_result"
    },
    {
     "data": {
      "text/html": [
       "<div>\n",
       "<style scoped>\n",
       "    .dataframe tbody tr th:only-of-type {\n",
       "        vertical-align: middle;\n",
       "    }\n",
       "\n",
       "    .dataframe tbody tr th {\n",
       "        vertical-align: top;\n",
       "    }\n",
       "\n",
       "    .dataframe thead th {\n",
       "        text-align: right;\n",
       "    }\n",
       "</style>\n",
       "<table border=\"1\" class=\"dataframe\">\n",
       "  <thead>\n",
       "    <tr style=\"text-align: right;\">\n",
       "      <th></th>\n",
       "      <th>Approach</th>\n",
       "      <th>learning_rate</th>\n",
       "      <th>max_depth</th>\n",
       "      <th>min_child_weight</th>\n",
       "      <th>n_estimators</th>\n",
       "      <th>reg_alpha</th>\n",
       "      <th>reg_lambda</th>\n",
       "      <th>subsample</th>\n",
       "      <th>Fits</th>\n",
       "      <th>Accuracy</th>\n",
       "      <th>Precision</th>\n",
       "      <th>Sensitivity</th>\n",
       "    </tr>\n",
       "  </thead>\n",
       "  <tbody>\n",
       "    <tr>\n",
       "      <th>1</th>\n",
       "      <td>GridSearch XGBClassifier</td>\n",
       "      <td>0.10</td>\n",
       "      <td>6</td>\n",
       "      <td>20</td>\n",
       "      <td>10</td>\n",
       "      <td>1.000000</td>\n",
       "      <td>1.000000</td>\n",
       "      <td>0.500000</td>\n",
       "      <td>384</td>\n",
       "      <td>0.675</td>\n",
       "      <td>0.689</td>\n",
       "      <td>0.655</td>\n",
       "    </tr>\n",
       "    <tr>\n",
       "      <th>3</th>\n",
       "      <td>BayesSearch XGBClassifier</td>\n",
       "      <td>0.01</td>\n",
       "      <td>5</td>\n",
       "      <td>2</td>\n",
       "      <td>104</td>\n",
       "      <td>2.000000</td>\n",
       "      <td>2.000000</td>\n",
       "      <td>0.274392</td>\n",
       "      <td>105</td>\n",
       "      <td>0.655</td>\n",
       "      <td>0.672</td>\n",
       "      <td>0.626</td>\n",
       "    </tr>\n",
       "    <tr>\n",
       "      <th>2</th>\n",
       "      <td>RandomSearch XGBClassifier</td>\n",
       "      <td>0.50</td>\n",
       "      <td>1</td>\n",
       "      <td>7</td>\n",
       "      <td>64</td>\n",
       "      <td>2.486544</td>\n",
       "      <td>3.416315</td>\n",
       "      <td>0.920864</td>\n",
       "      <td>75</td>\n",
       "      <td>0.650</td>\n",
       "      <td>0.657</td>\n",
       "      <td>0.650</td>\n",
       "    </tr>\n",
       "    <tr>\n",
       "      <th>0</th>\n",
       "      <td>Default XGBClassifier</td>\n",
       "      <td>0.30</td>\n",
       "      <td>6</td>\n",
       "      <td>1</td>\n",
       "      <td>100</td>\n",
       "      <td>0.000000</td>\n",
       "      <td>1.000000</td>\n",
       "      <td>1.000000</td>\n",
       "      <td>1</td>\n",
       "      <td>0.635</td>\n",
       "      <td>0.636</td>\n",
       "      <td>0.655</td>\n",
       "    </tr>\n",
       "  </tbody>\n",
       "</table>\n",
       "</div>"
      ],
      "text/plain": [
       "                     Approach  learning_rate  max_depth  min_child_weight  \\\n",
       "1    GridSearch XGBClassifier           0.10          6                20   \n",
       "3   BayesSearch XGBClassifier           0.01          5                 2   \n",
       "2  RandomSearch XGBClassifier           0.50          1                 7   \n",
       "0       Default XGBClassifier           0.30          6                 1   \n",
       "\n",
       "   n_estimators  reg_alpha  reg_lambda  subsample  Fits  Accuracy  Precision  \\\n",
       "1            10   1.000000    1.000000   0.500000   384     0.675      0.689   \n",
       "3           104   2.000000    2.000000   0.274392   105     0.655      0.672   \n",
       "2            64   2.486544    3.416315   0.920864    75     0.650      0.657   \n",
       "0           100   0.000000    1.000000   1.000000     1     0.635      0.636   \n",
       "\n",
       "   Sensitivity  \n",
       "1        0.655  \n",
       "3        0.626  \n",
       "2        0.650  \n",
       "0        0.655  "
      ]
     },
     "execution_count": 28,
     "metadata": {},
     "output_type": "execute_result"
    }
   ],
   "source": [
    "acc, sens, prec = my_classifier_results(bayes_search)\n",
    "current = track_results_classifier('BayesSearch XGBClassifier', bayes_search.best_params_, acc, sens, prec, bayes_search.total_iterations, current, True)"
   ]
  },
  {
   "cell_type": "markdown",
   "metadata": {},
   "source": [
    "### Genetic Algorithm from TPOT\n",
    "First, you'll tune the parameters specifically for the XGBClassifier using TPOTClassifier. This will be very similar to what we did in the lesson, except there we used TPOTRegressor. Use the following parameters in your configuration:\n",
    "\n",
    "* n_estimators: allow the values in the following list [50, 75, 100]\n",
    "* max_depth: allow all values between 1 and 10, inclusive (remember, range does not include the highest number)\n",
    "* learning_rate: use the values in the following list - [1e-3, 1e-2, 1e-1, 0.5, 1.],\n",
    "* subsample: <a href=\"https://numpy.org/doc/stable/reference/generated/numpy.arange.html\">evenly spaced values</a> between .05 and 1, using a step of .05 (remember that you'll need to account for the stop number not being included)\n",
    "* min_child_weight: allow all values between 1 and 20, inclusive\n",
    "* reg_alpha: allow all values between 1 and 5, inclusive\n",
    "* reg_lambda: allow all values between 1 and 5, inclusive\n",
    "* objective: set it to ['binary:logistic']\n",
    "\n",
    "For the TPOTClassifier function use the following settings:\n",
    "\n",
    "* generations=5\n",
    "* population_size=20\n",
    "* cv=3\n",
    "* random_state=123\n",
    "\n",
    "## **Question 21** <font color=\"magenta\">(2 points)</font>\n",
    "\n",
    "What is the **accuracy** for your TPOT Search, rounded to 3 digits?\n",
    "\n",
    "\n",
    "\n",
    "## **Question 22** <font color=\"magenta\">(2 points)</font>\n",
    "\n",
    "What is the **n_estimators** chosen by your TPOT search?\n",
    "\n",
    "* 50\n",
    "* 75\n",
    "* 100\n",
    "\n"
   ]
  },
  {
   "cell_type": "code",
   "execution_count": 29,
   "metadata": {},
   "outputs": [
    {
     "data": {
      "application/vnd.jupyter.widget-view+json": {
       "model_id": "",
       "version_major": 2,
       "version_minor": 0
      },
      "text/plain": [
       "HBox(children=(FloatProgress(value=0.0, description='Optimization Progress', max=120.0, style=ProgressStyle(de…"
      ]
     },
     "execution_count": 29,
     "metadata": {},
     "output_type": "execute_result"
    },
    {
     "name": "stdout",
     "output_type": "stream",
     "text": [
      "\n",
      "Generation 1 - Current best internal CV score: 0.6583333333333332\n",
      "\n",
      "Generation 2 - Current best internal CV score: 0.6597222222222222\n",
      "\n",
      "Generation 3 - Current best internal CV score: 0.6597222222222222\n",
      "\n",
      "Generation 4 - Current best internal CV score: 0.6597222222222222\n",
      "\n",
      "Generation 5 - Current best internal CV score: 0.6597222222222222\n",
      "\n",
      "Best pipeline: XGBClassifier(input_matrix, eval_metric=error, learning_rate=0.001, max_depth=4, min_child_weight=3, n_estimators=75, nthread=2, objective=binary:logistic, reg_alpha=1.0, reg_lambda=2.75, subsample=0.15000000000000002)\n"
     ]
    },
    {
     "data": {
      "text/plain": [
       "TPOTClassifier(config_dict={'xgboost.XGBClassifier': {'eval_metric': ['error'],\n",
       "                                                      'learning_rate': [0.001,\n",
       "                                                                        0.01,\n",
       "                                                                        0.1,\n",
       "                                                                        0.5,\n",
       "                                                                        1],\n",
       "                                                      'max_depth': range(1, 11),\n",
       "                                                      'min_child_weight': range(1, 21),\n",
       "                                                      'n_estimators': [50, 75,\n",
       "                                                                       100],\n",
       "                                                      'nthread': [2],\n",
       "                                                      'objective': ['binary:logistic'],\n",
       "                                                      'reg_alpha': array([1.  , 1.25, 1.5 , 1.75, 2.  , 2.25, 2.5 , 2.75, 3.  , 3.25, 3.5 ,\n",
       "       3.75, 4.  , 4.25, 4.5 , 4.75, 5.  ]),\n",
       "                                                      'reg_lambda': array([1.  , 1.25, 1.5 , 1.75, 2.  , 2.25, 2.5 , 2.75, 3.  , 3.25, 3.5 ,\n",
       "       3.75, 4.  , 4.25, 4.5 , 4.75, 5.  ]),\n",
       "                                                      'subsample': array([0.05, 0.1 , 0.15, 0.2 , 0.25, 0.3 , 0.35, 0.4 , 0.45, 0.5 , 0.55,\n",
       "       0.6 , 0.65, 0.7 , 0.75, 0.8 , 0.85, 0.9 , 0.95, 1.  ])}},\n",
       "               cv=3, generations=5, population_size=20, random_state=123,\n",
       "               scoring='accuracy', template='Classifier', verbosity=2)"
      ]
     },
     "execution_count": 29,
     "metadata": {},
     "output_type": "execute_result"
    }
   ],
   "source": [
    "tpot_config = {\n",
    "    'xgboost.XGBClassifier': {\n",
    "        'n_estimators': [50,75,100],\n",
    "        'max_depth': range(1, 11),\n",
    "        'learning_rate': [1e-3, 1e-2, 1e-1, 0.5, 1],\n",
    "        'subsample': np.arange(0.05, 1.01, 0.05),\n",
    "        'min_child_weight': range(1, 21),\n",
    "        'reg_alpha': np.arange(1.0,5.25,.25),\n",
    "        'reg_lambda': np.arange(1.0,5.25,.25),\n",
    "        'nthread': [2],\n",
    "        'objective': ['binary:logistic'],\n",
    "        'eval_metric': ['error']\n",
    "    }\n",
    "}\n",
    "\n",
    "tpot = TPOTClassifier(scoring = 'accuracy',\n",
    "                     generations=5,\n",
    "                     population_size=20,\n",
    "                     verbosity=2,\n",
    "                     config_dict=tpot_config,\n",
    "                     cv=3,\n",
    "                     template='Classifier',\n",
    "                     random_state=123)\n",
    "\n",
    "tpot.fit(X_train, y_train)"
   ]
  },
  {
   "cell_type": "code",
   "execution_count": 30,
   "metadata": {},
   "outputs": [
    {
     "name": "stdout",
     "output_type": "stream",
     "text": [
      "Accuracy: 0.6475\n",
      "Sensitivity: 0.591\n",
      "Precision: 0.674\n"
     ]
    },
    {
     "data": {
      "text/html": [
       "<div>\n",
       "<style scoped>\n",
       "    .dataframe tbody tr th:only-of-type {\n",
       "        vertical-align: middle;\n",
       "    }\n",
       "\n",
       "    .dataframe tbody tr th {\n",
       "        vertical-align: top;\n",
       "    }\n",
       "\n",
       "    .dataframe thead th {\n",
       "        text-align: right;\n",
       "    }\n",
       "</style>\n",
       "<table border=\"1\" class=\"dataframe\">\n",
       "  <thead>\n",
       "    <tr style=\"text-align: right;\">\n",
       "      <th></th>\n",
       "      <th>pred:bad</th>\n",
       "      <th>pred:good</th>\n",
       "    </tr>\n",
       "  </thead>\n",
       "  <tbody>\n",
       "    <tr>\n",
       "      <th>true:bad</th>\n",
       "      <td>139</td>\n",
       "      <td>58</td>\n",
       "    </tr>\n",
       "    <tr>\n",
       "      <th>true:good</th>\n",
       "      <td>83</td>\n",
       "      <td>120</td>\n",
       "    </tr>\n",
       "  </tbody>\n",
       "</table>\n",
       "</div>"
      ],
      "text/plain": [
       "           pred:bad  pred:good\n",
       "true:bad        139         58\n",
       "true:good        83        120"
      ]
     },
     "execution_count": 30,
     "metadata": {},
     "output_type": "execute_result"
    },
    {
     "data": {
      "text/html": [
       "<div>\n",
       "<style scoped>\n",
       "    .dataframe tbody tr th:only-of-type {\n",
       "        vertical-align: middle;\n",
       "    }\n",
       "\n",
       "    .dataframe tbody tr th {\n",
       "        vertical-align: top;\n",
       "    }\n",
       "\n",
       "    .dataframe thead th {\n",
       "        text-align: right;\n",
       "    }\n",
       "</style>\n",
       "<table border=\"1\" class=\"dataframe\">\n",
       "  <thead>\n",
       "    <tr style=\"text-align: right;\">\n",
       "      <th></th>\n",
       "      <th>Approach</th>\n",
       "      <th>learning_rate</th>\n",
       "      <th>max_depth</th>\n",
       "      <th>min_child_weight</th>\n",
       "      <th>n_estimators</th>\n",
       "      <th>reg_alpha</th>\n",
       "      <th>reg_lambda</th>\n",
       "      <th>subsample</th>\n",
       "      <th>Fits</th>\n",
       "      <th>Accuracy</th>\n",
       "      <th>Precision</th>\n",
       "      <th>Sensitivity</th>\n",
       "    </tr>\n",
       "  </thead>\n",
       "  <tbody>\n",
       "    <tr>\n",
       "      <th>1</th>\n",
       "      <td>GridSearch XGBClassifier</td>\n",
       "      <td>0.100</td>\n",
       "      <td>6</td>\n",
       "      <td>20</td>\n",
       "      <td>10</td>\n",
       "      <td>1.000000</td>\n",
       "      <td>1.000000</td>\n",
       "      <td>0.500000</td>\n",
       "      <td>384</td>\n",
       "      <td>0.6750</td>\n",
       "      <td>0.689</td>\n",
       "      <td>0.655</td>\n",
       "    </tr>\n",
       "    <tr>\n",
       "      <th>3</th>\n",
       "      <td>BayesSearch XGBClassifier</td>\n",
       "      <td>0.010</td>\n",
       "      <td>5</td>\n",
       "      <td>2</td>\n",
       "      <td>104</td>\n",
       "      <td>2.000000</td>\n",
       "      <td>2.000000</td>\n",
       "      <td>0.274392</td>\n",
       "      <td>105</td>\n",
       "      <td>0.6550</td>\n",
       "      <td>0.672</td>\n",
       "      <td>0.626</td>\n",
       "    </tr>\n",
       "    <tr>\n",
       "      <th>2</th>\n",
       "      <td>RandomSearch XGBClassifier</td>\n",
       "      <td>0.500</td>\n",
       "      <td>1</td>\n",
       "      <td>7</td>\n",
       "      <td>64</td>\n",
       "      <td>2.486544</td>\n",
       "      <td>3.416315</td>\n",
       "      <td>0.920864</td>\n",
       "      <td>75</td>\n",
       "      <td>0.6500</td>\n",
       "      <td>0.657</td>\n",
       "      <td>0.650</td>\n",
       "    </tr>\n",
       "    <tr>\n",
       "      <th>4</th>\n",
       "      <td>TPOT XGBClassifier</td>\n",
       "      <td>0.001</td>\n",
       "      <td>4</td>\n",
       "      <td>3</td>\n",
       "      <td>75</td>\n",
       "      <td>1.000000</td>\n",
       "      <td>2.750000</td>\n",
       "      <td>0.150000</td>\n",
       "      <td>360</td>\n",
       "      <td>0.6475</td>\n",
       "      <td>0.674</td>\n",
       "      <td>0.591</td>\n",
       "    </tr>\n",
       "    <tr>\n",
       "      <th>0</th>\n",
       "      <td>Default XGBClassifier</td>\n",
       "      <td>0.300</td>\n",
       "      <td>6</td>\n",
       "      <td>1</td>\n",
       "      <td>100</td>\n",
       "      <td>0.000000</td>\n",
       "      <td>1.000000</td>\n",
       "      <td>1.000000</td>\n",
       "      <td>1</td>\n",
       "      <td>0.6350</td>\n",
       "      <td>0.636</td>\n",
       "      <td>0.655</td>\n",
       "    </tr>\n",
       "  </tbody>\n",
       "</table>\n",
       "</div>"
      ],
      "text/plain": [
       "                     Approach  learning_rate  max_depth  min_child_weight  \\\n",
       "1    GridSearch XGBClassifier          0.100          6                20   \n",
       "3   BayesSearch XGBClassifier          0.010          5                 2   \n",
       "2  RandomSearch XGBClassifier          0.500          1                 7   \n",
       "4          TPOT XGBClassifier          0.001          4                 3   \n",
       "0       Default XGBClassifier          0.300          6                 1   \n",
       "\n",
       "   n_estimators  reg_alpha  reg_lambda  subsample  Fits  Accuracy  Precision  \\\n",
       "1            10   1.000000    1.000000   0.500000   384    0.6750      0.689   \n",
       "3           104   2.000000    2.000000   0.274392   105    0.6550      0.672   \n",
       "2            64   2.486544    3.416315   0.920864    75    0.6500      0.657   \n",
       "4            75   1.000000    2.750000   0.150000   360    0.6475      0.674   \n",
       "0           100   0.000000    1.000000   1.000000     1    0.6350      0.636   \n",
       "\n",
       "   Sensitivity  \n",
       "1        0.655  \n",
       "3        0.626  \n",
       "2        0.650  \n",
       "4        0.591  \n",
       "0        0.655  "
      ]
     },
     "execution_count": 30,
     "metadata": {},
     "output_type": "execute_result"
    }
   ],
   "source": [
    "tpot_best_params = {'learning_rate':0.001, 'max_depth':4, 'min_child_weight':3, 'n_estimators':75,   'reg_alpha':1.0, 'reg_lambda':2.75, 'subsample':0.15000000000000002}\n",
    "acc, sens, prec = my_classifier_results(tpot)\n",
    "current = track_results_classifier('TPOT XGBClassifier', tpot_best_params, acc, sens, prec, 360, current, True)"
   ]
  },
  {
   "cell_type": "markdown",
   "metadata": {},
   "source": [
    "### AutoML with TPOT\n",
    "\n",
    "Now that you've used TPOT to tune hyperparameters just for a single defined model (XGBoost), we're going to have you use TPOT to search for any algorithm. We refer to this as AutoML, for automated machine learning. We'll allow TPOT to find stacked models, so the hyperparameters being tuned won't be the same as the ones we've been tuning. When you store your results in your track results, you can just add 'n/a' for each of the hyperparameters.\n",
    "\n",
    "For AutoML with TPOT, we'd like you to use the following configuration:\n",
    "\n",
    "* generations=5\n",
    "* population_size=30\n",
    "* cv=3\n",
    "* scoring='accuracy'\n",
    "* random_state=123\n",
    "* config_dict='TPOT light'\n",
    "\n",
    "Note, we are using the 'TPOT light' configuration for speed here.  Only models that are quick to run are included.  If time was't an issue, then you would want to use the regular configuration, but we're trying to keep things simple for the homework, so stick with TPOT light.\n",
    "\n",
    "Remember, you're using the TPOTClassifier, not the TPOTRegressor as you used in the lesson.\n",
    "\n",
    "## **Question 23** <font color=\"magenta\">(2 points)</font>\n",
    "\n",
    "What is the **accuracy** for your TPOT AutoML Search, rounded to 3 digits?\n",
    "\n",
    "\n",
    "## **Question 24** <font color=\"magenta\">(2 points)</font>\n",
    "\n",
    "Which of these pipelines did TPOT choose?\n",
    "\n",
    "* BernoulliNB, MultinomialNB, DecisionTreeClassifier and MaxABsScaler\n",
    "* BernouliNB, CombineDFs, and VarianceThreshold\n",
    "* BernoulliNB and SelectPercentile\n",
    "* LogisticRegression, MaxAbsScalar\n",
    "* LogisticRegression, SelectFwe, and MinMaxScaler\n"
   ]
  },
  {
   "cell_type": "code",
   "execution_count": 32,
   "metadata": {},
   "outputs": [
    {
     "data": {
      "application/vnd.jupyter.widget-view+json": {
       "model_id": "",
       "version_major": 2,
       "version_minor": 0
      },
      "text/plain": [
       "HBox(children=(FloatProgress(value=0.0, description='Optimization Progress', max=180.0, style=ProgressStyle(de…"
      ]
     },
     "execution_count": 32,
     "metadata": {},
     "output_type": "execute_result"
    },
    {
     "name": "stdout",
     "output_type": "stream",
     "text": [
      "\n",
      "Generation 1 - Current best internal CV score: 0.6591666666666667\n",
      "\n",
      "Generation 2 - Current best internal CV score: 0.6627777777777778\n",
      "\n",
      "Generation 3 - Current best internal CV score: 0.6627777777777778\n",
      "\n",
      "Generation 4 - Current best internal CV score: 0.6627777777777778\n",
      "\n",
      "Generation 5 - Current best internal CV score: 0.6627777777777778\n",
      "\n",
      "Best pipeline: LogisticRegression(MaxAbsScaler(input_matrix), C=0.5, dual=False, penalty=l2)\n",
      "0.64\n"
     ]
    }
   ],
   "source": [
    "tpot = TPOTClassifier(scoring = 'accuracy',\n",
    "                     generations=5,\n",
    "                     population_size=30,\n",
    "                     verbosity=2,\n",
    "                     cv=3,\n",
    "                     random_state=123,\n",
    "                     config_dict='TPOT light')\n",
    "tpot.fit(X_train, y_train)\n",
    "print(tpot.score(X_test, y_test))"
   ]
  },
  {
   "cell_type": "code",
   "execution_count": 33,
   "metadata": {},
   "outputs": [
    {
     "name": "stdout",
     "output_type": "stream",
     "text": [
      "Accuracy: 0.64\n",
      "Sensitivity: 0.635\n",
      "Precision: 0.648\n"
     ]
    },
    {
     "data": {
      "text/html": [
       "<div>\n",
       "<style scoped>\n",
       "    .dataframe tbody tr th:only-of-type {\n",
       "        vertical-align: middle;\n",
       "    }\n",
       "\n",
       "    .dataframe tbody tr th {\n",
       "        vertical-align: top;\n",
       "    }\n",
       "\n",
       "    .dataframe thead th {\n",
       "        text-align: right;\n",
       "    }\n",
       "</style>\n",
       "<table border=\"1\" class=\"dataframe\">\n",
       "  <thead>\n",
       "    <tr style=\"text-align: right;\">\n",
       "      <th></th>\n",
       "      <th>pred:bad</th>\n",
       "      <th>pred:good</th>\n",
       "    </tr>\n",
       "  </thead>\n",
       "  <tbody>\n",
       "    <tr>\n",
       "      <th>true:bad</th>\n",
       "      <td>127</td>\n",
       "      <td>70</td>\n",
       "    </tr>\n",
       "    <tr>\n",
       "      <th>true:good</th>\n",
       "      <td>74</td>\n",
       "      <td>129</td>\n",
       "    </tr>\n",
       "  </tbody>\n",
       "</table>\n",
       "</div>"
      ],
      "text/plain": [
       "           pred:bad  pred:good\n",
       "true:bad        127         70\n",
       "true:good        74        129"
      ]
     },
     "execution_count": 33,
     "metadata": {},
     "output_type": "execute_result"
    },
    {
     "data": {
      "text/html": [
       "<div>\n",
       "<style scoped>\n",
       "    .dataframe tbody tr th:only-of-type {\n",
       "        vertical-align: middle;\n",
       "    }\n",
       "\n",
       "    .dataframe tbody tr th {\n",
       "        vertical-align: top;\n",
       "    }\n",
       "\n",
       "    .dataframe thead th {\n",
       "        text-align: right;\n",
       "    }\n",
       "</style>\n",
       "<table border=\"1\" class=\"dataframe\">\n",
       "  <thead>\n",
       "    <tr style=\"text-align: right;\">\n",
       "      <th></th>\n",
       "      <th>Approach</th>\n",
       "      <th>learning_rate</th>\n",
       "      <th>max_depth</th>\n",
       "      <th>min_child_weight</th>\n",
       "      <th>n_estimators</th>\n",
       "      <th>reg_alpha</th>\n",
       "      <th>reg_lambda</th>\n",
       "      <th>subsample</th>\n",
       "      <th>Fits</th>\n",
       "      <th>Accuracy</th>\n",
       "      <th>Precision</th>\n",
       "      <th>Sensitivity</th>\n",
       "    </tr>\n",
       "  </thead>\n",
       "  <tbody>\n",
       "    <tr>\n",
       "      <th>1</th>\n",
       "      <td>GridSearch XGBClassifier</td>\n",
       "      <td>0.1</td>\n",
       "      <td>6</td>\n",
       "      <td>20</td>\n",
       "      <td>10</td>\n",
       "      <td>1</td>\n",
       "      <td>1</td>\n",
       "      <td>0.5</td>\n",
       "      <td>384</td>\n",
       "      <td>0.6750</td>\n",
       "      <td>0.689</td>\n",
       "      <td>0.655</td>\n",
       "    </tr>\n",
       "    <tr>\n",
       "      <th>3</th>\n",
       "      <td>BayesSearch XGBClassifier</td>\n",
       "      <td>0.01</td>\n",
       "      <td>5</td>\n",
       "      <td>2</td>\n",
       "      <td>104</td>\n",
       "      <td>2</td>\n",
       "      <td>2</td>\n",
       "      <td>0.274392</td>\n",
       "      <td>105</td>\n",
       "      <td>0.6550</td>\n",
       "      <td>0.672</td>\n",
       "      <td>0.626</td>\n",
       "    </tr>\n",
       "    <tr>\n",
       "      <th>2</th>\n",
       "      <td>RandomSearch XGBClassifier</td>\n",
       "      <td>0.5</td>\n",
       "      <td>1</td>\n",
       "      <td>7</td>\n",
       "      <td>64</td>\n",
       "      <td>2.486544</td>\n",
       "      <td>3.416315</td>\n",
       "      <td>0.920864</td>\n",
       "      <td>75</td>\n",
       "      <td>0.6500</td>\n",
       "      <td>0.657</td>\n",
       "      <td>0.650</td>\n",
       "    </tr>\n",
       "    <tr>\n",
       "      <th>4</th>\n",
       "      <td>TPOT XGBClassifier</td>\n",
       "      <td>0.001</td>\n",
       "      <td>4</td>\n",
       "      <td>3</td>\n",
       "      <td>75</td>\n",
       "      <td>1.0</td>\n",
       "      <td>2.75</td>\n",
       "      <td>0.15</td>\n",
       "      <td>360</td>\n",
       "      <td>0.6475</td>\n",
       "      <td>0.674</td>\n",
       "      <td>0.591</td>\n",
       "    </tr>\n",
       "    <tr>\n",
       "      <th>5</th>\n",
       "      <td>AutoML</td>\n",
       "      <td>N/A</td>\n",
       "      <td>N/A</td>\n",
       "      <td>N/A</td>\n",
       "      <td>N/A</td>\n",
       "      <td>N/A</td>\n",
       "      <td>N/A</td>\n",
       "      <td>N/A</td>\n",
       "      <td>540</td>\n",
       "      <td>0.6400</td>\n",
       "      <td>0.648</td>\n",
       "      <td>0.635</td>\n",
       "    </tr>\n",
       "    <tr>\n",
       "      <th>0</th>\n",
       "      <td>Default XGBClassifier</td>\n",
       "      <td>0.3</td>\n",
       "      <td>6</td>\n",
       "      <td>1</td>\n",
       "      <td>100</td>\n",
       "      <td>0</td>\n",
       "      <td>1</td>\n",
       "      <td>1</td>\n",
       "      <td>1</td>\n",
       "      <td>0.6350</td>\n",
       "      <td>0.636</td>\n",
       "      <td>0.655</td>\n",
       "    </tr>\n",
       "  </tbody>\n",
       "</table>\n",
       "</div>"
      ],
      "text/plain": [
       "                     Approach learning_rate max_depth min_child_weight  \\\n",
       "1    GridSearch XGBClassifier           0.1         6               20   \n",
       "3   BayesSearch XGBClassifier          0.01         5                2   \n",
       "2  RandomSearch XGBClassifier           0.5         1                7   \n",
       "4          TPOT XGBClassifier         0.001         4                3   \n",
       "5                      AutoML           N/A       N/A              N/A   \n",
       "0       Default XGBClassifier           0.3         6                1   \n",
       "\n",
       "  n_estimators reg_alpha reg_lambda subsample  Fits  Accuracy  Precision  \\\n",
       "1           10         1          1       0.5   384    0.6750      0.689   \n",
       "3          104         2          2  0.274392   105    0.6550      0.672   \n",
       "2           64  2.486544   3.416315  0.920864    75    0.6500      0.657   \n",
       "4           75       1.0       2.75      0.15   360    0.6475      0.674   \n",
       "5          N/A       N/A        N/A       N/A   540    0.6400      0.648   \n",
       "0          100         0          1         1     1    0.6350      0.636   \n",
       "\n",
       "   Sensitivity  \n",
       "1        0.655  \n",
       "3        0.626  \n",
       "2        0.650  \n",
       "4        0.591  \n",
       "5        0.635  \n",
       "0        0.655  "
      ]
     },
     "execution_count": 33,
     "metadata": {},
     "output_type": "execute_result"
    }
   ],
   "source": [
    "tpot_best_params = {'learning_rate':'N/A', 'max_depth':'N/A', 'min_child_weight':'N/A', 'n_estimators':'N/A',   'reg_alpha':'N/A', 'reg_lambda':'N/A', 'subsample':'N/A'}\n",
    "acc, sens, prec = my_classifier_results(tpot)\n",
    "current = track_results_classifier('AutoML', tpot_best_params, acc, sens, prec, 540, current, True)"
   ]
  },
  {
   "cell_type": "markdown",
   "metadata": {},
   "source": [
    "## **Question 25** - Summary (Manually Graded) <font color=\"magenta\">(4 points)</font>\n",
    "\n",
    "Take a screen shot of your results tracking table and upload it. It should have the columns for the approach used, the hyperparameters chosen, the fits, the accuracy, the sensitivity, and the precision. Answer the following questions:\n",
    "\n",
    "If the bank just wants to have the most accurate predictions, which hyperparameter optimization approach would they choose?\n",
    "\n",
    "If the bank isn't as concerned about misclassifying some truly good loans as they are interested in correctly predicting truly bad loans.  Which model should they use?  Why?\n",
    "\n",
    "Why did TPOT fail to find the best hyperparameters? Why did grid search fail to find parameters at least as good as the default?"
   ]
  },
  {
   "cell_type": "markdown",
   "metadata": {},
   "source": [
    "<font color=\"green\">Be sure to answer each question and don't forget your results dataframe screenshot.</font>"
   ]
  }
 ],
 "metadata": {
  "kernelspec": {
   "display_name": "Python 3",
   "language": "python",
   "name": "python3"
  },
  "language_info": {
   "codemirror_mode": {
    "name": "ipython",
    "version": 3
   },
   "file_extension": ".py",
   "mimetype": "text/x-python",
   "name": "python",
   "nbconvert_exporter": "python",
   "pygments_lexer": "ipython3",
   "version": "3.7.7"
  },
  "toc": {
   "base_numbering": 1,
   "nav_menu": {},
   "number_sections": true,
   "sideBar": true,
   "skip_h1_title": false,
   "title_cell": "Table of Contents",
   "title_sidebar": "Contents",
   "toc_cell": false,
   "toc_position": {},
   "toc_section_display": true,
   "toc_window_display": false
  }
 },
 "nbformat": 4,
 "nbformat_minor": 4
}
