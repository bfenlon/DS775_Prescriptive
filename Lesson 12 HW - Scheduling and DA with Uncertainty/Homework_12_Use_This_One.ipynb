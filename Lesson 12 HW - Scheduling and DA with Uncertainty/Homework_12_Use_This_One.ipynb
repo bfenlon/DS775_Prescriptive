{
 "cells": [
  {
   "cell_type": "code",
   "execution_count": 2,
   "metadata": {
    "collapsed": false
   },
   "outputs": [
   ],
   "source": [
    "import numpy as np\n",
    "import pandas as pd\n",
    "from pyomo.environ import *"
   ]
  },
  {
   "cell_type": "markdown",
   "metadata": {
    "collapsed": false
   },
   "source": [
    "<font size=18>Lesson 12 - Scheduling and Decision Analysis with Uncertainty</font>"
   ]
  },
  {
   "cell_type": "markdown",
   "metadata": {
    "collapsed": false
   },
   "source": [
    "# General Questions\n",
    "\n",
    "## Question 1: Practice fetching values from a triangular distribution. <font color=\"magenta\">(2 points)</font>\n",
    "Given the triplet (8, 20, 50) that corresponds to the left, mode, and right sides of the triangle, fetch 10 random samples from a triangular distribution. Use a numpy random seed of 121. Use either a loop or a vector approach. \n",
    "\n",
    "What is the last number in the draw?\n",
    "\n",
    "* 18\n",
    "* 20\n",
    "* 50\n",
    "* **43**\n",
    "* 19\n",
    "* 26\n"
   ]
  },
  {
   "cell_type": "code",
   "execution_count": 3,
   "metadata": {
    "collapsed": false
   },
   "outputs": [
    {
     "data": {
      "text/plain": [
       "array([15.49071007, 18.30664143, 18.83573227, 16.75100319, 35.37209701,\n",
       "       22.68660517, 26.34193913, 32.09358124, 19.19124108, 43.71596014])"
      ]
     },
     "execution_count": 3,
     "metadata": {
     },
     "output_type": "execute_result"
    }
   ],
   "source": [
    "np.random.seed(121)\n",
    "\n",
    "tri = np.random.triangular(8, 20, 50, size=10)\n",
    "tri"
   ]
  },
  {
   "cell_type": "markdown",
   "metadata": {
    "collapsed": false
   },
   "source": [
    "## Question 2: Practice Fetching Values from an Exponential Distribution. <font color=\"magenta\">(2 points)</font>\n",
    "\n",
    "Using a numpy random seed of 121, fetch 10 values from an exponential distribution with a scale of 100. What is the last number in the draw, rounded to 2 digits?\n",
    "\n",
    "* **346.28**\n",
    "* 11.80\n",
    "* 177.30\n",
    "* 81.15\n",
    "* 28.57\n",
    "* 16.48\n"
   ]
  },
  {
   "cell_type": "code",
   "execution_count": 4,
   "metadata": {
    "collapsed": false
   },
   "outputs": [
    {
     "data": {
      "text/plain": [
       "array([ 11.80302477,  23.66944192,  26.5219571 ,  16.48092647,\n",
       "       177.30052637,  52.41125299,  81.14592057, 136.85485229,\n",
       "        28.56837445, 346.28408745])"
      ]
     },
     "execution_count": 4,
     "metadata": {
     },
     "output_type": "execute_result"
    }
   ],
   "source": [
    "np.random.seed(121)\n",
    "\n",
    "exp = np.random.exponential(100, size=10)\n",
    "exp"
   ]
  },
  {
   "cell_type": "markdown",
   "metadata": {
    "collapsed": false
   },
   "source": [
    "# Reliable Construction Scheduling, with Uncertainty\n",
    "\n",
    "<font color=\"red\">This intro is not included in Canvas</font>\n",
    "\n",
    "Reliable Construction wants to determine when each activity should start in a construction schedule in order to minimize the overall time it takes to construct a large commercial building. From past projects, they know that the time each task takes tends to follow a triangular distribution, where their optimistic estimate is the left (low) side of the triangle, their most likely estimate is the middle (mode) of the triangle, and their pessimistic estimate is the right (high) side of the triangle. Use these estimates and the solution to this problem from Lesson 3 to construct and solve a single Pyomo model to determine the optimal schedule that takes the minimal amount of time. \n",
    "\n",
    "* Use a numpy random seed of *121* at the beginning of your code cell. (If you write a function, put it inside, but at the beginning of the function.)\n",
    "* Be sure to use int() or .astype('int') in your code to round down to integers.\n",
    "\n",
    "**Note: We strongly encourage you to read all the instructions and use functions to modularize your code. Our solutions involve three functions - one to run the simulations (with any number of iterations, and with or without artifacts), one to figure profit, and one to figure probability. If you use a function, be sure to set your seed inside your function, so that it is set each time you call the function.**\n",
    "\n",
    "| Activity  | Description  | Immediate Predecessors  | Optimistic Estimate  | Most Likely Estimate  |  Pessimistic Estimate |\n",
    "|---|---|---|---|---|---|\n",
    "| A  | Excavate  |  -- |   7 |  14 |  21 |\n",
    "| B  | Lay the Foundation  | A  |14  | 21  | 56  |\n",
    "| C  |  Put up the rough wall |  B | 42 |  63 |  126 |\n",
    "| D  |  Put up the roof | C  |  28  | 35  |  70 |\n",
    "| E  |  Install the exterior plumbing | C  | 7  | 28  |  35 |\n",
    "| F  |  Install the interior plumbing | E  | 28  | 35  |  70 |\n",
    "| G  |  Put up the exterior siding | D  | 35  | 42  | 77  |\n",
    "| H  |  Do the exterior painting | E,G  |35  | 56  | 119  |\n",
    "| I  |  Do the electrical work | C  |21  | 49  | 63  |\n",
    "| J  |  Put up the wallboard |  F,I |  21 |  63 |  63 |\n",
    "| K  |  Install the flooring |  J | 21 |  28 | 28  |\n",
    "| L  |  Do the interior painting |  J | 19  |  35 | 42  |\n",
    "| M  |  Install the exterior fixtures | H  | 7 | 14  | 21  |\n",
    "| N  |  Install the interior fixtures | K,L | 35 | 35  | 63  |\n",
    "\n",
    "## Question 3: What is the minimum number of days that Reliable Construction will take? <font color=\"magenta\">(2 points)</font>\n",
    "\n",
    "* 301 days\n",
    "* 323 days\n",
    "* 400 days\n",
    "* **308 days**\n",
    "* 289 days\n"
   ]
  },
  {
   "cell_type": "code",
   "execution_count": 78,
   "metadata": {
    "collapsed": false
   },
   "outputs": [
   ],
   "source": [
    "# Your code here\n",
    "#hint - this is how we set up our function\n",
    "from pyomo.environ import *\n",
    "\n",
    "def construct_schedule(simSize=1, artifacts=False, debug=False):\n",
    "\tnp.random.seed(121)\n",
    "    #yourcodehere\n",
    "\n",
    "\tpred_dict = {\n",
    "\t\t'B':['A'],\n",
    "\t\t'C':['B'],\n",
    "\t\t'D':['C'],\n",
    "\t\t'E':['C'],\n",
    "\t\t'F':['E'],\n",
    "\t\t'G':['D'],\n",
    "\t\t'H':['E','G'],\n",
    "\t\t'I':['C'],\n",
    "\t\t'J':['F','I'],\n",
    "\t\t'K':['J'],\n",
    "\t\t'L':['J'],\n",
    "\t\t'M':['H'],\n",
    "\t\t'N':['K','L'],\n",
    "\t\t'final':['A','B','C','D','E','F','G','H','I','J','K','L','M','N']\n",
    "\t}\n",
    "\n",
    "\tdescriptions = ['excavation', 'laying foundation', 'rough wall',\n",
    "\t\t\t\t   'roofing', 'exterior plumbing', 'interior plumbing',\n",
    "\t\t\t\t   'exterior siding', 'exterior painting', 'electrical work', 'wallboard', 'flooring',\n",
    "\t\t\t\t   'interior painting', 'exterior fixtures', 'interior fixtures', 'final']\n",
    "\ttasks = ['A', *pred_dict]\n",
    "\ttask_dict = dict(zip(tasks, descriptions))\n",
    "\tall_durations = [(7,14,21), \n",
    "\t\t\t (14,21,56), \n",
    "\t\t\t (42,63,126),\n",
    "\t\t\t (28,35,70),\n",
    "\t\t\t (7,28,35),\n",
    "\t\t\t (28,35,70),\n",
    "\t\t\t (35,42,77),\n",
    "\t\t\t (35,56,119),\n",
    "\t\t\t (21,49,63),\n",
    "\t\t\t (21,63,63),\n",
    "\t\t\t (21,28,28),\n",
    "\t\t\t (19,35,42),\n",
    "\t\t\t (7,14,21),\n",
    "\t\t\t (35,35,63),\n",
    "\t\t\t 0]\n",
    "\t\n",
    "\t# Track results\n",
    "\tresults = []\n",
    "\t\n",
    "\tfor s in range(simSize):\n",
    "\t\tdurations = []\n",
    "\t\tfor d in range(len(all_durations)-1):\n",
    "\t\t\tleft, mode, right = all_durations[d]\n",
    "\t\t\tif (d == 0) and (artifacts):\n",
    "\t\t\t\tleft, mode, right = (14, 29, 386)\n",
    "\t\t\ttri = np.random.triangular(left, mode, right)\n",
    "\t\t\tdurations.append(int(tri))\n",
    "\t\tdurations.append(all_durations[-1])\n",
    "\t\n",
    "\t\ttask_duration_dict = dict(zip(tasks, durations))\n",
    "\n",
    "\t\t#Model\n",
    "\t\tM = ConcreteModel(name = \"Schedule\")\n",
    "\n",
    "\t\tM.start = Var(tasks, domain = NonNegativeReals)\n",
    "\n",
    "\t\tM.length = Objective( expr = M.start['final'], sense = minimize )\n",
    "\n",
    "\t\tM.pred_ct = ConstraintList()\n",
    "\t\tfor after in pred_dict.keys():\n",
    "\t\t\tfor before in pred_dict[after]:\n",
    "\t\t\t\tM.pred_ct.add( M.start[after] - task_duration_dict[before] >= M.start[before])\n",
    "\n",
    "\t\t### Solution ###\n",
    "\t\tsolver = SolverFactory('glpk')\n",
    "\t\tsolver.solve(M)\n",
    "\t\t\n",
    "\t\tresults.append(M.length())\n",
    "\n",
    "\t# Return as a numpy array of integers\n",
    "\treturn(np.array(results).astype(int))\n"
   ]
  },
  {
   "cell_type": "code",
   "execution_count": 79,
   "metadata": {
    "collapsed": false
   },
   "outputs": [
    {
     "data": {
      "text/plain": [
       "array([308])"
      ]
     },
     "execution_count": 79,
     "metadata": {
     },
     "output_type": "execute_result"
    }
   ],
   "source": [
    "construct_schedule()"
   ]
  },
  {
   "cell_type": "markdown",
   "metadata": {
    "collapsed": false
   },
   "source": [
    "# Building a Larger Simulation\n",
    "A single simulation doesn't really tell us much. We really need to run the simulation multiple times in order to get a good estimate of the minimum amount of days it might take. Use a loop or vector approach to run 1000 iterations of the Pyomo model. For each iteration, track the optimal (minimum) number of days it will take to complete the project. You should have a 1000 number numpy array when you are done.\n",
    "\n",
    "**Hint: The first value in your array should match the value found in Question 3.**\n",
    "\n",
    "## Question 4: What is the average number of days it will take, rounded down to the nearest integer. <font color=\"magenta\">(2 points)</font>\n",
    "\n",
    "**Hint: use .astype(\"int\"), not np.round() on the array of results from your simulation.**\n",
    "\n",
    "* **316**\n",
    "* 308\n",
    "* 324\n",
    "* 313\n",
    "* 298\n"
   ]
  },
  {
   "cell_type": "code",
   "execution_count": 19,
   "metadata": {
    "collapsed": false
   },
   "outputs": [
    {
     "data": {
      "text/plain": [
       "316"
      ]
     },
     "execution_count": 19,
     "metadata": {
     },
     "output_type": "execute_result"
    }
   ],
   "source": [
    "results = construct_schedule(1000)\n",
    "np.mean(results).astype(int)"
   ]
  },
  {
   "cell_type": "markdown",
   "metadata": {
    "collapsed": false
   },
   "source": [
    "# Considering Profit\n",
    "<font color=\"red\">Note: This intro not included in Canvas.</font>\n",
    "\n",
    "Reliable is interested in estimating their total profit on this contract. Their base profit is \\$5.4 million dollars. But there is a bonus for completing the project early, and a daily penalty for finishing the project late.\n",
    "\n",
    "Consider these factors.\n",
    "\n",
    "* The base amount that Reliable will earn is \\$5.4 million.\n",
    "* If Reliable completes the project in 280 days or less, they will get a bonus of \\$150,000 (\\$.15 million).\n",
    "* If Reliable misses the deadline of 329 days, there will be a \\$25,000 (\\$.025 million) penalty for each day over 329.\n",
    "\n",
    "Use your results from your 1000 iteration simulation to calculate the average profit."
   ]
  },
  {
   "cell_type": "markdown",
   "metadata": {
    "collapsed": false
   },
   "source": [
    "## Question 5: What is the average profit in millions, rounded to 2 digits? <font color=\"magenta\">(2 points)</font>\n",
    "\n",
    "* 5.12\n",
    "* **5.28**\n",
    "* 6.0\n",
    "* 5.12\n",
    "* 5.21"
   ]
  },
  {
   "cell_type": "code",
   "execution_count": 69,
   "metadata": {
    "collapsed": false
   },
   "outputs": [
   ],
   "source": [
    "def fetchProfit(totalDays, artifacts=False):\n",
    "\t'''\n",
    "\tParameters:\n",
    "\ttotalDays - a numpy array of the total days it took for the construction project on each iteration of the simulation\n",
    "\tartifacts - a flag to determine if we're simulating artifacts or not\n",
    "\t'''\n",
    "\tbase = 5.4\n",
    "\t\n",
    "\t# bonus if project done in 280 days or less\n",
    "\tbonus = .15\n",
    "\t\n",
    "\t# daily penalty for every day over 329 days\n",
    "\tdaily_penalty = -.025\n",
    "\t\n",
    "\tprofit = np.where(totalDays<=280, base+bonus, totalDays)\n",
    "\tprofit = np.where((profit>280) & (profit<=329), base, profit)\n",
    "\tprofit = np.where(profit>329, ((profit-329)*daily_penalty)+base, profit)\n",
    "\t\n",
    "\tif artifacts:\n",
    "\t\tadditional_costs = np.random.exponential(scale=.1, size=len(totalDays))\n",
    "\t\tprofit = profit-additional_costs\n",
    "\t\n",
    "\treturn(profit)"
   ]
  },
  {
   "cell_type": "code",
   "execution_count": 35,
   "metadata": {
    "collapsed": false
   },
   "outputs": [
    {
     "data": {
      "text/plain": [
       "5.278175000000001"
      ]
     },
     "execution_count": 35,
     "metadata": {
     },
     "output_type": "execute_result"
    }
   ],
   "source": [
    "profits = fetchProfit(results)\n",
    "np.mean(profits)"
   ]
  },
  {
   "cell_type": "markdown",
   "metadata": {
    "collapsed": false
   },
   "source": [
    "## Question 6: What is the probability that Reliable Company will finish the bid in less than 280 days? Choose the closest answer. <font color=\"magenta\">(2 points)</font>\n",
    "\n",
    "* .290\n",
    "* .643\n",
    "* .192\n",
    "* **.067**\n",
    "* .218\n",
    "\n",
    "## Question 7: What is the probability that Reliable Company will finish the bid in more than 280 days, but less than or equal to 329 days? Choose the closest answer.<font color=\"magenta\">(2 points)</font>\n",
    "\n",
    "* .290\n",
    "* **.643**\n",
    "* .192\n",
    "* .067\n",
    "* .218\n",
    "\n",
    "## Question 8: What is the probability that Reliable Company will finish the bid in more than 329 days? Choose the closest answer.<font color=\"magenta\">(2 points)</font>\n",
    "\n",
    "* **.290**\n",
    "* .643\n",
    "* .192\n",
    "* .067\n",
    "* .218\n"
   ]
  },
  {
   "cell_type": "code",
   "execution_count": 46,
   "metadata": {
    "collapsed": false
   },
   "outputs": [
    {
     "name": "stdout",
     "output_type": "stream",
     "text": [
      "Probability of bonus: 0.067\n",
      "Probability of base return: 0.643\n",
      "Probability of incurring penalty for at least one day: 0.29\n"
     ]
    }
   ],
   "source": [
    "def findProbs(totalDays):\n",
    "\tsimSize = len(totalDays)\n",
    "\t\n",
    "\tbonus_prob = len(np.where(totalDays<=280)[0])/simSize\n",
    "\tbase_prob = len(np.where((totalDays>280) & (totalDays<=329))[0])/simSize\n",
    "\tpenalty_prob = len(np.where(totalDays>329)[0])/simSize\n",
    "\t\n",
    "\tprint(f'Probability of bonus: {bonus_prob}\\nProbability of base return: {base_prob}\\nProbability of incurring penalty for at least one day: {penalty_prob}')\n",
    "\t\n",
    "findProbs(results)"
   ]
  },
  {
   "cell_type": "markdown",
   "metadata": {
    "collapsed": false
   },
   "source": [
    "# Add artifacts and include random cost\n",
    "<font color=\"red\">Note: This intro not included in Canvas</font>\n",
    "\n",
    "From past experience, we know that special artifacts are sometimes found in the area where Reliable Construction is planning this building project.  When special artifacts are found, the excavation phase takes considerably longer and the entire project costs more - sometimes much more. They're never quite sure how much longer it will take, but it averages around an extra 15 days, and takes at least an extra 7 days. They've seen some sites where relocating the special artifacts took as much as 365 extra days (yes - a whole year)! These extra days follow a triangular distribution. **Hint: the extra days ONLY impact the excavation task**\n",
    "\n",
    "In addition, there are usually unanticipated costs that include fines and other things.  The accounting departments suggest that we model those costs with an exponential distribution with mean (scale) \\\\$100,000.\n",
    "\n",
    "Run a second 1000-iteration simulation in which artifacts are always found.\n",
    "\n",
    "## Question 9: What is the average minimum number of days (rounded down) the project takes when artifacts are found? <font color=\"magenta\">(2 points)</font>\n",
    "\n",
    "* 400\n",
    "* 428\n",
    "* 475\n",
    "* **448**\n",
    "* 399\n"
   ]
  },
  {
   "cell_type": "code",
   "execution_count": 49,
   "metadata": {
    "collapsed": false
   },
   "outputs": [
    {
     "data": {
      "text/plain": [
       "448"
      ]
     },
     "execution_count": 49,
     "metadata": {
     },
     "output_type": "execute_result"
    }
   ],
   "source": [
    "artifact_results = construct_schedule(1000, artifacts=True)\n",
    "np.mean(artifact_results).astype(int)"
   ]
  },
  {
   "cell_type": "markdown",
   "metadata": {
    "collapsed": false
   },
   "source": [
    "## Question 10: What is the average profit in millions when artifacts are found, rounded to 2 digits? <font color=\"magenta\">(2 points)</font>\n",
    "\n",
    "* **2.29**\n",
    "* 3.00\n",
    "* 2.13\n",
    "* 2.87\n",
    "* 2.65"
   ]
  },
  {
   "cell_type": "code",
   "execution_count": 76,
   "metadata": {
    "collapsed": false
   },
   "outputs": [
    {
     "data": {
      "text/plain": [
       "2.290260059039988"
      ]
     },
     "execution_count": 76,
     "metadata": {
     },
     "output_type": "execute_result"
    }
   ],
   "source": [
    "artifact_profits = fetchProfit(artifact_results, artifacts=True)\n",
    "np.mean(artifact_profits)"
   ]
  },
  {
   "cell_type": "markdown",
   "metadata": {
    "collapsed": false
   },
   "source": [
    "## Question 11: What is the probability that Reliable Company will finish the bid in less than 280 days when artifacts are found? <font color=\"magenta\">(2 points)</font>\n",
    "\n",
    "* **.002**\n",
    "* .927\n",
    "* .320\n",
    "* .508\n",
    "* .071\n",
    "\n",
    "## Question 12: What is the probability that Reliable Company will finish the bid in more than 280 days, but less than or equal to 329 days when artifacts are found? <font color=\"magenta\">(2 points)</font>\n",
    "\n",
    "* .002\n",
    "* .927\n",
    "* .320\n",
    "* .508\n",
    "* **.071**\n",
    "\n",
    "## Question 13: What is the probability that Reliable Company will finish the bid in more than 329 days when artifacts are found? <font color=\"magenta\">(2 points)</font>\n",
    "\n",
    "* .002\n",
    "* **.927**\n",
    "* .320\n",
    "* .508\n",
    "* .071\n",
    "\n"
   ]
  },
  {
   "cell_type": "code",
   "execution_count": 77,
   "metadata": {
    "collapsed": false
   },
   "outputs": [
    {
     "name": "stdout",
     "output_type": "stream",
     "text": [
      "Probability of bonus: 0.002\n",
      "Probability of base return: 0.071\n",
      "Probability of incurring penalty for at least one day: 0.927\n"
     ]
    }
   ],
   "source": [
    "findProbs(artifact_results)"
   ]
  },
  {
   "cell_type": "markdown",
   "metadata": {
    "collapsed": false
   },
   "source": [
    "## Question 14 (Manually graded) <font color=\"magenta\">(2 points)</font>\n",
    "\n",
    "Clearly dealing with artifacts can be very costly for Reliable Construction.  It is known from past experience that about 30% of building sites in this area contain special artifacts.  Fortunately, they can purchase an insurance policy - a quite expensive insurance policy. The insurance policy costs \\$500000 (\\$.5 million), but it covers all fines and penalities for delays in the event that special artifacts are found that require remediation. Effectively, this means that Reliable could expect the same profit they would get without insurance (minus the cost of the policy).\n",
    "\n",
    "Given the estimated profit without artifacts, the estimated profit with artifacts, the cost of insurance, the 30% likelihood of finding artifacts, create a payoff table and determine what decision Reliable should make. Their decision should use as much information as is available.  You should use round the simulated costs to nearest \\$100,000 and use units of millions of dollars so that, for example, \\$8,675,309 is 8.7 million dollars.\n",
    "\n",
    "Provide appropriate evidence for the best decision such as a payoff table or picture of a suitable (small) decision tree.\n",
    "\n",
    "\n",
    "\n",
    "\n",
    "## Question 15: What is the expected payoff? <font color=\"magenta\">(2 points)</font>\n",
    "\n",
    "* 4.3\n",
    "* 5.2\n",
    "* **4.8**\n",
    "* 5.3\n",
    "* 2.5\n",
    "\n",
    "## Question 16: Should Reliable Construction purchase insurance? <font color=\"magenta\">(2 points)</font>\n",
    "\n",
    "* No\n",
    "* **Yes**\n",
    "* It is impossible to tell from this analysis."
   ]
  },
  {
   "cell_type": "markdown",
   "metadata": {
    "collapsed": false
   },
   "source": [
    "# Posterior Probabilities and Full Decision Tree\n",
    "\n",
    "Reliable has been contacted by an archeological consulting firm. They assess sites and predict whether special artifacts are present. They have a pretty solid track record of being right when artifacts are present - they get it right about 86% of the time. Their track record is less great when they there are no artifacts. They're right about 72% of the time.\n",
    "\n",
    "Find the posterior probabilities for this decision tree, given the this prior information.\n",
    "\n",
    "## Question 17: What is the posterior probability of artifacts, given artifacts were predicted? <font color=\"magenta\">(2 points)</font>\n",
    "\n",
    "* .077\n",
    "* .432\n",
    "* **.568**\n",
    "* .923\n",
    "\n",
    "## Question 18: What is the posterior probability of no artifacts, given no artifacts were predicted? <font color=\"magenta\">(2 points)</font>\n",
    "\n",
    "* .077\n",
    "* .432\n",
    "* .568\n",
    "* **.923**"
   ]
  },
  {
   "cell_type": "markdown",
   "metadata": {
    "collapsed": false
   },
   "source": [
    "<font color=\"green\">Be prepared to share a decision tree or some other mechanism of determining posterior probabilities, if asked.</font>"
   ]
  },
  {
   "cell_type": "markdown",
   "metadata": {
    "collapsed": false
   },
   "source": [
    "## Question 19: Create a Full Decision Tree (Manually graded) <font color=\"magenta\">(6 points)</font>\n",
    "\n",
    "The consulting fee for the site in question is \\$50,000 (\\$.05 million). \n",
    "\n",
    "Construct a decision tree to help Reliable decide if they should hire the consulting firm or not and if they should buy insurance or not.  Again, you should round the simulated costs to nearest $100,000 and use units of millions of dollars (e.g. 3.8 million dollars) in your decision tree.\n",
    "\n",
    "Include a picture of the tree exported from Silver Decisions.\n"
   ]
  },
  {
   "cell_type": "markdown",
   "metadata": {
    "collapsed": false
   },
   "source": [
    "## Question 20: What is the best course of action for Reliable? <font color=\"magenta\">(2 points)</font>\n",
    "\n",
    "* Don't hire firm. Buy insurance.\n",
    "* Don't hire firm. Don't by insurance.\n",
    "* Hire firm. Don't buy insurance no matter what they predict.\n",
    "* Hire firm. Buy insurance no matter what they predict.\n",
    "* **Hire firm. Buy insurance if they predict artifacts. Don't buy insurance if they don't predict artifacts.**\n",
    "\n",
    "## Question 21: What is the expected payoff? <font color=\"magenta\">(2 points)</font>\n",
    "\n",
    "* \\$6 million\n",
    "* **\\$4.9 million** (though silver decisions shows $4.66 million, this is the closest)\n",
    "* \\$5 million\n",
    "* \\$2.5 million\n",
    "* \\$4.2 million\n",
    "\n",
    "## Question 22 (Manually graded) <font color=\"magenta\">(4 points)</font>\n",
    "\n",
    "How confident are you in your decision? What could you do to increase your confidence? \n",
    "\n"
   ]
  }
 ],
 "metadata": {
  "kernelspec": {
   "display_name": "Python 3 (system-wide)",
   "language": "python",
   "metadata": {
    "cocalc": {
     "description": "Python 3 programming language",
     "priority": 100,
     "url": "https://www.python.org/"
    }
   },
   "name": "python3",
   "resource_dir": "/ext/jupyter/kernels/python3"
  },
  "language_info": {
   "codemirror_mode": {
    "name": "ipython",
    "version": 3
   },
   "file_extension": ".py",
   "mimetype": "text/x-python",
   "name": "python",
   "nbconvert_exporter": "python",
   "pygments_lexer": "ipython3",
   "version": "3.8.10"
  },
  "toc": {
   "base_numbering": 1,
   "nav_menu": {
   },
   "number_sections": true,
   "sideBar": true,
   "skip_h1_title": false,
   "title_cell": "Table of Contents",
   "title_sidebar": "Contents",
   "toc_cell": false,
   "toc_position": {
   },
   "toc_section_display": true,
   "toc_window_display": false
  },
  "varInspector": {
   "cols": {
    "lenName": 16,
    "lenType": 16,
    "lenVar": 40
   },
   "kernels_config": {
    "python": {
     "delete_cmd_postfix": "",
     "delete_cmd_prefix": "del ",
     "library": "var_list.py",
     "varRefreshCmd": "print(var_dic_list())"
    },
    "r": {
     "delete_cmd_postfix": ") ",
     "delete_cmd_prefix": "rm(",
     "library": "var_list.r",
     "varRefreshCmd": "cat(var_dic_list()) "
    }
   },
   "types_to_exclude": [
    "module",
    "function",
    "builtin_function_or_method",
    "instance",
    "_Feature"
   ],
   "window_display": false
  }
 },
 "nbformat": 4,
 "nbformat_minor": 4
}